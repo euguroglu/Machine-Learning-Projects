{
 "cells": [
  {
   "cell_type": "code",
   "execution_count": 1,
   "id": "necessary-anthony",
   "metadata": {},
   "outputs": [
    {
     "data": {
      "text/plain": [
       "'2.3.0'"
      ]
     },
     "execution_count": 1,
     "metadata": {},
     "output_type": "execute_result"
    }
   ],
   "source": [
    "import tensorflow as tf\n",
    "tf.version.VERSION"
   ]
  },
  {
   "cell_type": "code",
   "execution_count": 2,
   "id": "asian-stone",
   "metadata": {
    "scrolled": true
   },
   "outputs": [],
   "source": [
    "from tensorflow.keras.applications import VGG16\n",
    "from tensorflow.keras.models import Sequential\n",
    "from tensorflow.keras.layers import Dense, Dropout, Activation, Flatten\n",
    "from tensorflow.keras.layers import Conv2D, MaxPooling2D, ZeroPadding2D\n",
    "from keras.layers.normalization import BatchNormalization\n",
    "from tensorflow.keras.models import Model\n",
    "import pandas as pd"
   ]
  },
  {
   "cell_type": "code",
   "execution_count": 3,
   "id": "novel-delicious",
   "metadata": {},
   "outputs": [
    {
     "data": {
      "text/plain": [
       "[name: \"/device:CPU:0\"\n",
       " device_type: \"CPU\"\n",
       " memory_limit: 268435456\n",
       " locality {\n",
       " }\n",
       " incarnation: 14568666558976158284,\n",
       " name: \"/device:XLA_CPU:0\"\n",
       " device_type: \"XLA_CPU\"\n",
       " memory_limit: 17179869184\n",
       " locality {\n",
       " }\n",
       " incarnation: 8386821039229121899\n",
       " physical_device_desc: \"device: XLA_CPU device\",\n",
       " name: \"/device:GPU:0\"\n",
       " device_type: \"GPU\"\n",
       " memory_limit: 6535095513\n",
       " locality {\n",
       "   bus_id: 1\n",
       "   links {\n",
       "   }\n",
       " }\n",
       " incarnation: 15698207642549563591\n",
       " physical_device_desc: \"device: 0, name: GeForce RTX 2060 SUPER, pci bus id: 0000:29:00.0, compute capability: 7.5\",\n",
       " name: \"/device:XLA_GPU:0\"\n",
       " device_type: \"XLA_GPU\"\n",
       " memory_limit: 17179869184\n",
       " locality {\n",
       " }\n",
       " incarnation: 5078380158067232663\n",
       " physical_device_desc: \"device: XLA_GPU device\"]"
      ]
     },
     "execution_count": 3,
     "metadata": {},
     "output_type": "execute_result"
    }
   ],
   "source": [
    "from tensorflow.python.client import device_lib\n",
    "device_lib.list_local_devices()"
   ]
  },
  {
   "cell_type": "code",
   "execution_count": 4,
   "id": "intensive-slovenia",
   "metadata": {},
   "outputs": [],
   "source": [
    "from tensorflow.keras.applications.efficientnet import EfficientNetB6, preprocess_input\n",
    "img_rows = 512\n",
    "img_cols = 512\n",
    "base_model = EfficientNetB6(include_top=False, weights='imagenet',input_shape=(img_rows,img_cols,3))"
   ]
  },
  {
   "cell_type": "code",
   "execution_count": 5,
   "id": "silver-delay",
   "metadata": {},
   "outputs": [
    {
     "ename": "NameError",
     "evalue": "name 'vgg16' is not defined",
     "output_type": "error",
     "traceback": [
      "\u001b[1;31m---------------------------------------------------------------------------\u001b[0m",
      "\u001b[1;31mNameError\u001b[0m                                 Traceback (most recent call last)",
      "\u001b[1;32m<ipython-input-5-665b015f9628>\u001b[0m in \u001b[0;36m<module>\u001b[1;34m\u001b[0m\n\u001b[1;32m----> 1\u001b[1;33m \u001b[1;32mfor\u001b[0m \u001b[0mi\u001b[0m\u001b[1;33m,\u001b[0m\u001b[0mlayer\u001b[0m \u001b[1;32min\u001b[0m \u001b[0menumerate\u001b[0m\u001b[1;33m(\u001b[0m\u001b[0mvgg16\u001b[0m\u001b[1;33m.\u001b[0m\u001b[0mlayers\u001b[0m\u001b[1;33m)\u001b[0m\u001b[1;33m:\u001b[0m\u001b[1;33m\u001b[0m\u001b[1;33m\u001b[0m\u001b[0m\n\u001b[0m\u001b[0;32m      2\u001b[0m     \u001b[0mprint\u001b[0m\u001b[1;33m(\u001b[0m\u001b[0mstr\u001b[0m\u001b[1;33m(\u001b[0m\u001b[0mi\u001b[0m\u001b[1;33m)\u001b[0m\u001b[1;33m+\u001b[0m\u001b[1;34m\" \"\u001b[0m\u001b[1;33m+\u001b[0m\u001b[0mlayer\u001b[0m\u001b[1;33m.\u001b[0m\u001b[0m__class__\u001b[0m\u001b[1;33m.\u001b[0m\u001b[0m__name__\u001b[0m\u001b[1;33m,\u001b[0m\u001b[0mlayer\u001b[0m\u001b[1;33m.\u001b[0m\u001b[0mtrainable\u001b[0m\u001b[1;33m)\u001b[0m\u001b[1;33m\u001b[0m\u001b[1;33m\u001b[0m\u001b[0m\n",
      "\u001b[1;31mNameError\u001b[0m: name 'vgg16' is not defined"
     ]
    }
   ],
   "source": [
    "for i,layer in enumerate(vgg16.layers):\n",
    "    print(str(i)+\" \"+layer.__class__.__name__,layer.trainable)"
   ]
  },
  {
   "cell_type": "code",
   "execution_count": 6,
   "id": "familiar-bristol",
   "metadata": {},
   "outputs": [
    {
     "ename": "NameError",
     "evalue": "name 'vgg16' is not defined",
     "output_type": "error",
     "traceback": [
      "\u001b[1;31m---------------------------------------------------------------------------\u001b[0m",
      "\u001b[1;31mNameError\u001b[0m                                 Traceback (most recent call last)",
      "\u001b[1;32m<ipython-input-6-4af04957ed30>\u001b[0m in \u001b[0;36m<module>\u001b[1;34m\u001b[0m\n\u001b[0;32m      1\u001b[0m \u001b[1;31m# Layers are set to trainable as True by default\u001b[0m\u001b[1;33m\u001b[0m\u001b[1;33m\u001b[0m\u001b[1;33m\u001b[0m\u001b[0m\n\u001b[1;32m----> 2\u001b[1;33m \u001b[1;32mfor\u001b[0m \u001b[0mlayer\u001b[0m \u001b[1;32min\u001b[0m \u001b[0mvgg16\u001b[0m\u001b[1;33m.\u001b[0m\u001b[0mlayers\u001b[0m\u001b[1;33m:\u001b[0m\u001b[1;33m\u001b[0m\u001b[1;33m\u001b[0m\u001b[0m\n\u001b[0m\u001b[0;32m      3\u001b[0m     \u001b[0mlayer\u001b[0m\u001b[1;33m.\u001b[0m\u001b[0mtrainable\u001b[0m \u001b[1;33m=\u001b[0m \u001b[1;32mTrue\u001b[0m\u001b[1;33m\u001b[0m\u001b[1;33m\u001b[0m\u001b[0m\n\u001b[0;32m      4\u001b[0m \u001b[1;33m\u001b[0m\u001b[0m\n\u001b[0;32m      5\u001b[0m \u001b[1;32mfor\u001b[0m \u001b[1;33m(\u001b[0m\u001b[0mi\u001b[0m\u001b[1;33m,\u001b[0m\u001b[0mlayer\u001b[0m\u001b[1;33m)\u001b[0m \u001b[1;32min\u001b[0m \u001b[0menumerate\u001b[0m\u001b[1;33m(\u001b[0m\u001b[0mvgg16\u001b[0m\u001b[1;33m.\u001b[0m\u001b[0mlayers\u001b[0m\u001b[1;33m)\u001b[0m\u001b[1;33m:\u001b[0m\u001b[1;33m\u001b[0m\u001b[1;33m\u001b[0m\u001b[0m\n",
      "\u001b[1;31mNameError\u001b[0m: name 'vgg16' is not defined"
     ]
    }
   ],
   "source": [
    "# Layers are set to trainable as True by default\n",
    "for layer in vgg16.layers:\n",
    "    layer.trainable = True\n",
    "    \n",
    "for (i,layer) in enumerate(vgg16.layers):\n",
    "    print(str(i) + \" \"+ layer.__class__.__name__, layer.trainable)"
   ]
  },
  {
   "cell_type": "code",
   "execution_count": 5,
   "id": "international-dispute",
   "metadata": {},
   "outputs": [
    {
     "name": "stdout",
     "output_type": "stream",
     "text": [
      "Model: \"sequential\"\n",
      "_________________________________________________________________\n",
      "Layer (type)                 Output Shape              Param #   \n",
      "=================================================================\n",
      "efficientnetb6 (Functional)  (None, 16, 16, 2304)      40960143  \n",
      "_________________________________________________________________\n",
      "global_average_pooling2d (Gl (None, 2304)              0         \n",
      "_________________________________________________________________\n",
      "dense (Dense)                (None, 256)               590080    \n",
      "_________________________________________________________________\n",
      "dropout (Dropout)            (None, 256)               0         \n",
      "_________________________________________________________________\n",
      "dense_1 (Dense)              (None, 5)                 1285      \n",
      "=================================================================\n",
      "Total params: 41,551,508\n",
      "Trainable params: 41,327,069\n",
      "Non-trainable params: 224,439\n",
      "_________________________________________________________________\n"
     ]
    }
   ],
   "source": [
    "from tensorflow.keras import layers,models\n",
    "\n",
    "model = models.Sequential()\n",
    "model.add(base_model)\n",
    "model.add(layers.GlobalAveragePooling2D())\n",
    "model.add(layers.Dense(256,activation='relu'))\n",
    "model.add(layers.Dropout(0.4))\n",
    "model.add(layers.Dense(5,activation='softmax'))\n",
    "\n",
    "model.summary()"
   ]
  },
  {
   "cell_type": "code",
   "execution_count": 8,
   "id": "southeast-talent",
   "metadata": {},
   "outputs": [
    {
     "name": "stdout",
     "output_type": "stream",
     "text": [
      "Found 19237 images belonging to 5 classes.\n",
      "Found 2160 images belonging to 5 classes.\n"
     ]
    }
   ],
   "source": [
    "from tensorflow.keras.preprocessing.image import ImageDataGenerator\n",
    "\n",
    "train_data_dir = 'Cassava_Leaf_Disease_Classificaiton/data/train'\n",
    "validation_data_dir = 'Cassava_Leaf_Disease_Classificaiton/data/test'\n",
    "\n",
    "train_datagen = ImageDataGenerator(rescale=1/255,\n",
    "                                  rotation_range = 20,\n",
    "                                  width_shift_range=0.2,\n",
    "                                  height_shift_range=0.2,\n",
    "                                  horizontal_flip=True,\n",
    "                                  fill_mode='nearest')\n",
    "\n",
    "validation_datagen = ImageDataGenerator(rescale=1/255)\n",
    "\n",
    "train_batchsize = 2\n",
    "val_batchsize = 2\n",
    "\n",
    "train_generator = train_datagen.flow_from_directory(train_data_dir,\n",
    "                                                   target_size=(img_rows,img_cols),\n",
    "                                                   batch_size=train_batchsize,\n",
    "                                                   class_mode='categorical')\n",
    "\n",
    "validation_generator = validation_datagen.flow_from_directory(validation_data_dir,\n",
    "                                                             target_size=(img_rows,img_cols),\n",
    "                                                             batch_size=val_batchsize,\n",
    "                                                             class_mode='categorical',\n",
    "                                                             shuffle=False)"
   ]
  },
  {
   "cell_type": "code",
   "execution_count": 9,
   "id": "interior-arthur",
   "metadata": {},
   "outputs": [
    {
     "name": "stdout",
     "output_type": "stream",
     "text": [
      "Epoch 1/5\n",
      "   2/9618 [..............................] - ETA: 28:55 - loss: 1.5431 - accuracy: 0.2500 WARNING:tensorflow:Callbacks method `on_train_batch_end` is slow compared to the batch time (batch time: 0.1100s vs `on_train_batch_end` time: 0.2500s). Check your callbacks.\n",
      "9618/9618 [==============================] - ETA: 0s - loss: 0.6700 - accuracy: 0.7669\n",
      "Epoch 00001: val_loss improved from inf to 0.86827, saving model to cassavia.h5\n",
      "9618/9618 [==============================] - 3473s 361ms/step - loss: 0.6700 - accuracy: 0.7669 - val_loss: 0.8683 - val_accuracy: 0.7523\n",
      "Epoch 2/5\n",
      "9618/9618 [==============================] - ETA: 0s - loss: 0.4890 - accuracy: 0.8346\n",
      "Epoch 00002: val_loss improved from 0.86827 to 0.60984, saving model to cassavia.h5\n",
      "9618/9618 [==============================] - 3472s 361ms/step - loss: 0.4890 - accuracy: 0.8346 - val_loss: 0.6098 - val_accuracy: 0.8370\n",
      "Epoch 3/5\n",
      "9618/9618 [==============================] - ETA: 0s - loss: 0.4297 - accuracy: 0.8542\n",
      "Epoch 00003: val_loss did not improve from 0.60984\n",
      "9618/9618 [==============================] - 3470s 361ms/step - loss: 0.4297 - accuracy: 0.8542 - val_loss: 0.6243 - val_accuracy: 0.8065\n",
      "Epoch 4/5\n",
      "9618/9618 [==============================] - ETA: 0s - loss: 0.3852 - accuracy: 0.8693\n",
      "Epoch 00004: val_loss improved from 0.60984 to 0.43597, saving model to cassavia.h5\n",
      "9618/9618 [==============================] - 3472s 361ms/step - loss: 0.3852 - accuracy: 0.8693 - val_loss: 0.4360 - val_accuracy: 0.8903\n",
      "Epoch 5/5\n",
      "9618/9618 [==============================] - ETA: 0s - loss: 0.3633 - accuracy: 0.8781\n",
      "Epoch 00005: val_loss did not improve from 0.43597\n",
      "9618/9618 [==============================] - 3469s 361ms/step - loss: 0.3633 - accuracy: 0.8781 - val_loss: 0.5435 - val_accuracy: 0.8454\n"
     ]
    }
   ],
   "source": [
    "from tensorflow.keras.optimizers import RMSprop,SGD, Adam\n",
    "from tensorflow.keras.callbacks import ModelCheckpoint,EarlyStopping, ReduceLROnPlateau\n",
    "\n",
    "checkpoint = ModelCheckpoint('cassavia.h5',\n",
    "                            monitor='val_loss',\n",
    "                            mode='min',\n",
    "                            save_best_only=True,\n",
    "                             verbose=1)\n",
    "\n",
    "earlystop = EarlyStopping(monitor='val_loss',\n",
    "                         min_delta=0,\n",
    "                         patience=5,\n",
    "                         verbose=1,\n",
    "                         restore_best_weights=True)\n",
    "\n",
    "#reduce_lr = ReduceLROnPlateau(monitor='val_loss',\n",
    "                        #factor=0.2,\n",
    "                        #patience=2,\n",
    "                        #min_lr=1e-6,\n",
    "                        #mode='min',\n",
    "                        #verbose=1)\n",
    "\n",
    "#We put our call backs into a callback list\n",
    "callbacks = [earlystop,checkpoint]\n",
    "\n",
    "#Note we use a very small learning rate\n",
    "model.compile(loss='categorical_crossentropy',\n",
    "             optimizer=Adam(lr=0.0001),\n",
    "             metrics=['accuracy'])\n",
    "\n",
    "epochs = 5\n",
    "batch_size = 2\n",
    "\n",
    "history = model.fit(train_generator,\n",
    "                   steps_per_epoch=19237//batch_size,\n",
    "                   epochs=epochs,\n",
    "                   callbacks=callbacks,\n",
    "                   validation_data = validation_generator,\n",
    "                   validation_steps=2160//batch_size)"
   ]
  },
  {
   "cell_type": "code",
   "execution_count": 4,
   "id": "preliminary-shanghai",
   "metadata": {},
   "outputs": [],
   "source": [
    "from tensorflow import keras\n",
    "loaded_model = keras.models.load_model('cassavia.h5')"
   ]
  },
  {
   "cell_type": "code",
   "execution_count": 5,
   "id": "horizontal-passenger",
   "metadata": {},
   "outputs": [
    {
     "data": {
      "text/plain": [
       "<tensorflow.python.keras.engine.sequential.Sequential at 0x15ab2d71850>"
      ]
     },
     "execution_count": 5,
     "metadata": {},
     "output_type": "execute_result"
    }
   ],
   "source": [
    "loaded_model"
   ]
  },
  {
   "cell_type": "code",
   "execution_count": 6,
   "id": "fitted-austin",
   "metadata": {},
   "outputs": [],
   "source": [
    "from keras.preprocessing import image\n",
    "import numpy as np\n",
    "im = pd.read_csv('C:/Users/PC/Documents/Jupyter/Kaggle/Cassava_Leaf_Disease_Classificaiton/sample_submission.csv')"
   ]
  },
  {
   "cell_type": "code",
   "execution_count": 7,
   "id": "therapeutic-heritage",
   "metadata": {},
   "outputs": [
    {
     "name": "stdout",
     "output_type": "stream",
     "text": [
      "[4]\n"
     ]
    }
   ],
   "source": [
    "label = []\n",
    "for i in im.image_id:\n",
    "    Im = image.load_img('Cassava_Leaf_Disease_Classificaiton/test/'+i,target_size=(512,512))\n",
    "    Im = image.img_to_array(Im)\n",
    "    Im = np.expand_dims(Im,axis=0)\n",
    "    Im = Im/255\n",
    "    pred = np.argmax(loaded_model.predict(Im), axis=-1)\n",
    "    print(pred)\n",
    "    label.append(int(pred))\n",
    "my_submission = pd.DataFrame({'image_id':im.image_id,'label':label})\n",
    "my_submission.to_csv('submission.csv',index=False)"
   ]
  },
  {
   "cell_type": "code",
   "execution_count": 6,
   "id": "technological-defeat",
   "metadata": {},
   "outputs": [
    {
     "data": {
      "text/plain": [
       "0    2216849948.jpg\n",
       "Name: image_id, dtype: object"
      ]
     },
     "execution_count": 6,
     "metadata": {},
     "output_type": "execute_result"
    }
   ],
   "source": [
    "im.image_id"
   ]
  },
  {
   "cell_type": "code",
   "execution_count": 14,
   "id": "professional-identity",
   "metadata": {},
   "outputs": [],
   "source": [
    "Im = image.load_img('Cassava_Leaf_Disease_Classificaiton/test/2216849948.jpg',target_size=(512,512))"
   ]
  },
  {
   "cell_type": "code",
   "execution_count": null,
   "id": "realistic-behalf",
   "metadata": {},
   "outputs": [],
   "source": []
  }
 ],
 "metadata": {
  "kernelspec": {
   "display_name": "Python 3",
   "language": "python",
   "name": "python3"
  },
  "language_info": {
   "codemirror_mode": {
    "name": "ipython",
    "version": 3
   },
   "file_extension": ".py",
   "mimetype": "text/x-python",
   "name": "python",
   "nbconvert_exporter": "python",
   "pygments_lexer": "ipython3",
   "version": "3.8.0"
  }
 },
 "nbformat": 4,
 "nbformat_minor": 5
}
