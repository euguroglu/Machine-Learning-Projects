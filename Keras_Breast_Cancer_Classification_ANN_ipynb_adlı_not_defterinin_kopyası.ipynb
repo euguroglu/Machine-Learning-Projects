{
  "nbformat": 4,
  "nbformat_minor": 0,
  "metadata": {
    "colab": {
      "name": "Keras_Breast_Cancer_Classification_ANN.ipynb adlı not defterinin kopyası",
      "provenance": [],
      "collapsed_sections": [],
      "include_colab_link": true
    },
    "kernelspec": {
      "name": "python3",
      "display_name": "Python 3"
    },
    "accelerator": "GPU"
  },
  "cells": [
    {
      "cell_type": "markdown",
      "metadata": {
        "id": "view-in-github",
        "colab_type": "text"
      },
      "source": [
        "<a href=\"https://colab.research.google.com/github/euguroglu/Machine-Learning-Projects/blob/master/Keras_Breast_Cancer_Classification_ANN_ipynb_adl%C4%B1_not_defterinin_kopyas%C4%B1.ipynb\" target=\"_parent\"><img src=\"https://colab.research.google.com/assets/colab-badge.svg\" alt=\"Open In Colab\"/></a>"
      ]
    },
    {
      "cell_type": "code",
      "metadata": {
        "id": "DeNaBVyT4pn1",
        "colab": {
          "base_uri": "https://localhost:8080/"
        },
        "outputId": "e76dfe20-14aa-4e2d-dafa-8aee66edc21f"
      },
      "source": [
        "# Install TensorFlow\n",
        "# !pip install -q tensorflow-gpu==2.0.0-beta1\n",
        "\n",
        "try:\n",
        "  %tensorflow_version 2.x  # Colab only.\n",
        "except Exception:\n",
        "  pass\n",
        "\n",
        "import tensorflow as tf\n",
        "print(tf.__version__)"
      ],
      "execution_count": 1,
      "outputs": [
        {
          "output_type": "stream",
          "text": [
            "`%tensorflow_version` only switches the major version: 1.x or 2.x.\n",
            "You set: `2.x  # Colab only.`. This will be interpreted as: `2.x`.\n",
            "\n",
            "\n",
            "TensorFlow 2.x selected.\n",
            "2.3.0\n"
          ],
          "name": "stdout"
        }
      ]
    },
    {
      "cell_type": "code",
      "metadata": {
        "id": "EtMPQxpC4xD0"
      },
      "source": [
        "# Load in the data\n",
        "from sklearn.datasets import load_breast_cancer"
      ],
      "execution_count": 2,
      "outputs": []
    },
    {
      "cell_type": "code",
      "metadata": {
        "id": "pwJ9LvEE5B_z"
      },
      "source": [
        "# load the data\n",
        "data = load_breast_cancer()"
      ],
      "execution_count": 3,
      "outputs": []
    },
    {
      "cell_type": "code",
      "metadata": {
        "id": "wNkavJSj5EcV",
        "colab": {
          "base_uri": "https://localhost:8080/"
        },
        "outputId": "1ef4e0c3-9bc2-4a12-e92f-b53a53774692"
      },
      "source": [
        "# check the type of 'data'\n",
        "type(data)"
      ],
      "execution_count": 4,
      "outputs": [
        {
          "output_type": "execute_result",
          "data": {
            "text/plain": [
              "sklearn.utils.Bunch"
            ]
          },
          "metadata": {
            "tags": []
          },
          "execution_count": 4
        }
      ]
    },
    {
      "cell_type": "code",
      "metadata": {
        "id": "OsWYmnYR5GQq",
        "colab": {
          "base_uri": "https://localhost:8080/"
        },
        "outputId": "5243d153-f955-4875-fca7-adcf33bb9bb3"
      },
      "source": [
        "# note: it is a Bunch object\n",
        "# this basically acts like a dictionary where you can treat the keys like attributes\n",
        "data.keys()"
      ],
      "execution_count": 5,
      "outputs": [
        {
          "output_type": "execute_result",
          "data": {
            "text/plain": [
              "dict_keys(['data', 'target', 'target_names', 'DESCR', 'feature_names', 'filename'])"
            ]
          },
          "metadata": {
            "tags": []
          },
          "execution_count": 5
        }
      ]
    },
    {
      "cell_type": "code",
      "metadata": {
        "id": "HRYJw4hN5JXD",
        "colab": {
          "base_uri": "https://localhost:8080/"
        },
        "outputId": "45d63141-c1ac-46a1-f7c9-9559ce7634ec"
      },
      "source": [
        "# 'data' (the attribute) means the input data\n",
        "data.data.shape\n",
        "# it has 569 samples, 30 features"
      ],
      "execution_count": 7,
      "outputs": [
        {
          "output_type": "execute_result",
          "data": {
            "text/plain": [
              "(569, 30)"
            ]
          },
          "metadata": {
            "tags": []
          },
          "execution_count": 7
        }
      ]
    },
    {
      "cell_type": "code",
      "metadata": {
        "id": "G5OVVVge5L-h",
        "colab": {
          "base_uri": "https://localhost:8080/"
        },
        "outputId": "20f4e7ff-721b-4cc5-caf2-2c0fed8c100d"
      },
      "source": [
        "# 'targets'\n",
        "data.target\n",
        "# note how the targets are just 0s and 1s\n",
        "# normally, when you have K targets, they are labeled 0..K-1"
      ],
      "execution_count": 8,
      "outputs": [
        {
          "output_type": "execute_result",
          "data": {
            "text/plain": [
              "array([0, 0, 0, 0, 0, 0, 0, 0, 0, 0, 0, 0, 0, 0, 0, 0, 0, 0, 0, 1, 1, 1,\n",
              "       0, 0, 0, 0, 0, 0, 0, 0, 0, 0, 0, 0, 0, 0, 0, 1, 0, 0, 0, 0, 0, 0,\n",
              "       0, 0, 1, 0, 1, 1, 1, 1, 1, 0, 0, 1, 0, 0, 1, 1, 1, 1, 0, 1, 0, 0,\n",
              "       1, 1, 1, 1, 0, 1, 0, 0, 1, 0, 1, 0, 0, 1, 1, 1, 0, 0, 1, 0, 0, 0,\n",
              "       1, 1, 1, 0, 1, 1, 0, 0, 1, 1, 1, 0, 0, 1, 1, 1, 1, 0, 1, 1, 0, 1,\n",
              "       1, 1, 1, 1, 1, 1, 1, 0, 0, 0, 1, 0, 0, 1, 1, 1, 0, 0, 1, 0, 1, 0,\n",
              "       0, 1, 0, 0, 1, 1, 0, 1, 1, 0, 1, 1, 1, 1, 0, 1, 1, 1, 1, 1, 1, 1,\n",
              "       1, 1, 0, 1, 1, 1, 1, 0, 0, 1, 0, 1, 1, 0, 0, 1, 1, 0, 0, 1, 1, 1,\n",
              "       1, 0, 1, 1, 0, 0, 0, 1, 0, 1, 0, 1, 1, 1, 0, 1, 1, 0, 0, 1, 0, 0,\n",
              "       0, 0, 1, 0, 0, 0, 1, 0, 1, 0, 1, 1, 0, 1, 0, 0, 0, 0, 1, 1, 0, 0,\n",
              "       1, 1, 1, 0, 1, 1, 1, 1, 1, 0, 0, 1, 1, 0, 1, 1, 0, 0, 1, 0, 1, 1,\n",
              "       1, 1, 0, 1, 1, 1, 1, 1, 0, 1, 0, 0, 0, 0, 0, 0, 0, 0, 0, 0, 0, 0,\n",
              "       0, 0, 1, 1, 1, 1, 1, 1, 0, 1, 0, 1, 1, 0, 1, 1, 0, 1, 0, 0, 1, 1,\n",
              "       1, 1, 1, 1, 1, 1, 1, 1, 1, 1, 1, 0, 1, 1, 0, 1, 0, 1, 1, 1, 1, 1,\n",
              "       1, 1, 1, 1, 1, 1, 1, 1, 1, 0, 1, 1, 1, 0, 1, 0, 1, 1, 1, 1, 0, 0,\n",
              "       0, 1, 1, 1, 1, 0, 1, 0, 1, 0, 1, 1, 1, 0, 1, 1, 1, 1, 1, 1, 1, 0,\n",
              "       0, 0, 1, 1, 1, 1, 1, 1, 1, 1, 1, 1, 1, 0, 0, 1, 0, 0, 0, 1, 0, 0,\n",
              "       1, 1, 1, 1, 1, 0, 1, 1, 1, 1, 1, 0, 1, 1, 1, 0, 1, 1, 0, 0, 1, 1,\n",
              "       1, 1, 1, 1, 0, 1, 1, 1, 1, 1, 1, 1, 0, 1, 1, 1, 1, 1, 0, 1, 1, 0,\n",
              "       1, 1, 1, 1, 1, 1, 1, 1, 1, 1, 1, 1, 0, 1, 0, 0, 1, 0, 1, 1, 1, 1,\n",
              "       1, 0, 1, 1, 0, 1, 0, 1, 1, 0, 1, 0, 1, 1, 1, 1, 1, 1, 1, 1, 0, 0,\n",
              "       1, 1, 1, 1, 1, 1, 0, 1, 1, 1, 1, 1, 1, 1, 1, 1, 1, 0, 1, 1, 1, 1,\n",
              "       1, 1, 1, 0, 1, 0, 1, 1, 0, 1, 1, 1, 1, 1, 0, 0, 1, 0, 1, 0, 1, 1,\n",
              "       1, 1, 1, 0, 1, 1, 0, 1, 0, 1, 0, 0, 1, 1, 1, 0, 1, 1, 1, 1, 1, 1,\n",
              "       1, 1, 1, 1, 1, 0, 1, 0, 0, 1, 1, 1, 1, 1, 1, 1, 1, 1, 1, 1, 1, 1,\n",
              "       1, 1, 1, 1, 1, 1, 1, 1, 1, 1, 1, 1, 0, 0, 0, 0, 0, 0, 1])"
            ]
          },
          "metadata": {
            "tags": []
          },
          "execution_count": 8
        }
      ]
    },
    {
      "cell_type": "code",
      "metadata": {
        "id": "YFXPFIiB5Osq",
        "colab": {
          "base_uri": "https://localhost:8080/"
        },
        "outputId": "2d87ca6b-99ae-4901-a651-067535542f83"
      },
      "source": [
        "# their meaning is not lost\n",
        "data.target_names"
      ],
      "execution_count": 9,
      "outputs": [
        {
          "output_type": "execute_result",
          "data": {
            "text/plain": [
              "array(['malignant', 'benign'], dtype='<U9')"
            ]
          },
          "metadata": {
            "tags": []
          },
          "execution_count": 9
        }
      ]
    },
    {
      "cell_type": "code",
      "metadata": {
        "id": "hujO3u7j5Qm-",
        "colab": {
          "base_uri": "https://localhost:8080/"
        },
        "outputId": "17f70b74-303a-4e72-a8b3-6919b645be58"
      },
      "source": [
        "# there are also 569 corresponding targets\n",
        "data.target.shape"
      ],
      "execution_count": 10,
      "outputs": [
        {
          "output_type": "execute_result",
          "data": {
            "text/plain": [
              "(569,)"
            ]
          },
          "metadata": {
            "tags": []
          },
          "execution_count": 10
        }
      ]
    },
    {
      "cell_type": "code",
      "metadata": {
        "id": "q3o3h2l95SJ0",
        "colab": {
          "base_uri": "https://localhost:8080/"
        },
        "outputId": "bbfbb487-cdba-4683-ddbe-8e746b1344da"
      },
      "source": [
        "# you can also determine the meaning of each feature\n",
        "data.feature_names"
      ],
      "execution_count": 11,
      "outputs": [
        {
          "output_type": "execute_result",
          "data": {
            "text/plain": [
              "array(['mean radius', 'mean texture', 'mean perimeter', 'mean area',\n",
              "       'mean smoothness', 'mean compactness', 'mean concavity',\n",
              "       'mean concave points', 'mean symmetry', 'mean fractal dimension',\n",
              "       'radius error', 'texture error', 'perimeter error', 'area error',\n",
              "       'smoothness error', 'compactness error', 'concavity error',\n",
              "       'concave points error', 'symmetry error',\n",
              "       'fractal dimension error', 'worst radius', 'worst texture',\n",
              "       'worst perimeter', 'worst area', 'worst smoothness',\n",
              "       'worst compactness', 'worst concavity', 'worst concave points',\n",
              "       'worst symmetry', 'worst fractal dimension'], dtype='<U23')"
            ]
          },
          "metadata": {
            "tags": []
          },
          "execution_count": 11
        }
      ]
    },
    {
      "cell_type": "code",
      "metadata": {
        "id": "__iUSucB5Tug"
      },
      "source": [
        "# normally we would put all of our imports at the top\n",
        "# but this lets us tell a story\n",
        "from sklearn.model_selection import train_test_split\n",
        "\n",
        "\n",
        "# split the data into train and test sets\n",
        "# this lets us simulate how our model will perform in the future\n",
        "X_train, X_test, y_train, y_test = train_test_split(data.data, data.target, test_size=0.33)\n",
        "N, D = X_train.shape"
      ],
      "execution_count": 12,
      "outputs": []
    },
    {
      "cell_type": "code",
      "metadata": {
        "id": "fS7cFmYl73H3"
      },
      "source": [
        "# Scale the data\n",
        "# you'll learn why scaling is needed in a later course\n",
        "from sklearn.preprocessing import StandardScaler\n",
        "\n",
        "scaler = StandardScaler()\n",
        "X_train = scaler.fit_transform(X_train)\n",
        "X_test = scaler.transform(X_test)"
      ],
      "execution_count": 13,
      "outputs": []
    },
    {
      "cell_type": "code",
      "metadata": {
        "id": "y-llhgXY5bmX",
        "colab": {
          "base_uri": "https://localhost:8080/"
        },
        "outputId": "e5238c13-ef84-4c99-9d8a-b7a057e7850c"
      },
      "source": [
        "# Now all the fun Tensorflow stuff\n",
        "# Build the model\n",
        "\n",
        "# model = tf.keras.models.Sequential([\n",
        "#   tf.keras.layers.Input(shape=(D,)),\n",
        "#   tf.keras.layers.Dense(1, activation='sigmoid')\n",
        "# ])\n",
        "\n",
        "# Alternatively, you can do:\n",
        "model = tf.keras.models.Sequential()\n",
        "model.add(tf.keras.layers.Dense(1, input_shape=(D,), activation='sigmoid'))\n",
        "\n",
        "model.compile(optimizer='adam',\n",
        "              loss='binary_crossentropy',\n",
        "              metrics=['accuracy'])\n",
        "\n",
        "\n",
        "# Train the model\n",
        "r = model.fit(X_train, y_train, validation_data=(X_test, y_test), epochs=100)\n",
        "\n",
        "\n",
        "# Evaluate the model - evaluate() returns loss and accuracy\n",
        "print(\"Train score:\", model.evaluate(X_train, y_train))\n",
        "print(\"Test score:\", model.evaluate(X_test, y_test))"
      ],
      "execution_count": 15,
      "outputs": [
        {
          "output_type": "stream",
          "text": [
            "Epoch 1/100\n",
            "12/12 [==============================] - 0s 14ms/step - loss: 0.5833 - accuracy: 0.6929 - val_loss: 0.5415 - val_accuracy: 0.7394\n",
            "Epoch 2/100\n",
            "12/12 [==============================] - 0s 4ms/step - loss: 0.5354 - accuracy: 0.7139 - val_loss: 0.4936 - val_accuracy: 0.7660\n",
            "Epoch 3/100\n",
            "12/12 [==============================] - 0s 4ms/step - loss: 0.4945 - accuracy: 0.7480 - val_loss: 0.4533 - val_accuracy: 0.7766\n",
            "Epoch 4/100\n",
            "12/12 [==============================] - 0s 4ms/step - loss: 0.4583 - accuracy: 0.7690 - val_loss: 0.4200 - val_accuracy: 0.8085\n",
            "Epoch 5/100\n",
            "12/12 [==============================] - 0s 4ms/step - loss: 0.4300 - accuracy: 0.7848 - val_loss: 0.3900 - val_accuracy: 0.8351\n",
            "Epoch 6/100\n",
            "12/12 [==============================] - 0s 3ms/step - loss: 0.4035 - accuracy: 0.8084 - val_loss: 0.3649 - val_accuracy: 0.8617\n",
            "Epoch 7/100\n",
            "12/12 [==============================] - 0s 3ms/step - loss: 0.3807 - accuracy: 0.8294 - val_loss: 0.3434 - val_accuracy: 0.8670\n",
            "Epoch 8/100\n",
            "12/12 [==============================] - 0s 4ms/step - loss: 0.3614 - accuracy: 0.8373 - val_loss: 0.3245 - val_accuracy: 0.8777\n",
            "Epoch 9/100\n",
            "12/12 [==============================] - 0s 4ms/step - loss: 0.3448 - accuracy: 0.8504 - val_loss: 0.3074 - val_accuracy: 0.8777\n",
            "Epoch 10/100\n",
            "12/12 [==============================] - 0s 3ms/step - loss: 0.3297 - accuracy: 0.8609 - val_loss: 0.2923 - val_accuracy: 0.8883\n",
            "Epoch 11/100\n",
            "12/12 [==============================] - 0s 3ms/step - loss: 0.3164 - accuracy: 0.8661 - val_loss: 0.2785 - val_accuracy: 0.8883\n",
            "Epoch 12/100\n",
            "12/12 [==============================] - 0s 3ms/step - loss: 0.3042 - accuracy: 0.8819 - val_loss: 0.2663 - val_accuracy: 0.8883\n",
            "Epoch 13/100\n",
            "12/12 [==============================] - 0s 3ms/step - loss: 0.2932 - accuracy: 0.8871 - val_loss: 0.2552 - val_accuracy: 0.8989\n",
            "Epoch 14/100\n",
            "12/12 [==============================] - 0s 4ms/step - loss: 0.2833 - accuracy: 0.8924 - val_loss: 0.2450 - val_accuracy: 0.9149\n",
            "Epoch 15/100\n",
            "12/12 [==============================] - 0s 3ms/step - loss: 0.2742 - accuracy: 0.8924 - val_loss: 0.2357 - val_accuracy: 0.9309\n",
            "Epoch 16/100\n",
            "12/12 [==============================] - 0s 3ms/step - loss: 0.2655 - accuracy: 0.8950 - val_loss: 0.2273 - val_accuracy: 0.9309\n",
            "Epoch 17/100\n",
            "12/12 [==============================] - 0s 4ms/step - loss: 0.2577 - accuracy: 0.9081 - val_loss: 0.2196 - val_accuracy: 0.9309\n",
            "Epoch 18/100\n",
            "12/12 [==============================] - 0s 3ms/step - loss: 0.2507 - accuracy: 0.9108 - val_loss: 0.2121 - val_accuracy: 0.9309\n",
            "Epoch 19/100\n",
            "12/12 [==============================] - 0s 3ms/step - loss: 0.2437 - accuracy: 0.9134 - val_loss: 0.2054 - val_accuracy: 0.9309\n",
            "Epoch 20/100\n",
            "12/12 [==============================] - 0s 4ms/step - loss: 0.2376 - accuracy: 0.9134 - val_loss: 0.1990 - val_accuracy: 0.9468\n",
            "Epoch 21/100\n",
            "12/12 [==============================] - 0s 4ms/step - loss: 0.2315 - accuracy: 0.9160 - val_loss: 0.1932 - val_accuracy: 0.9468\n",
            "Epoch 22/100\n",
            "12/12 [==============================] - 0s 4ms/step - loss: 0.2260 - accuracy: 0.9186 - val_loss: 0.1878 - val_accuracy: 0.9468\n",
            "Epoch 23/100\n",
            "12/12 [==============================] - 0s 3ms/step - loss: 0.2208 - accuracy: 0.9213 - val_loss: 0.1827 - val_accuracy: 0.9574\n",
            "Epoch 24/100\n",
            "12/12 [==============================] - 0s 3ms/step - loss: 0.2160 - accuracy: 0.9186 - val_loss: 0.1778 - val_accuracy: 0.9681\n",
            "Epoch 25/100\n",
            "12/12 [==============================] - 0s 4ms/step - loss: 0.2113 - accuracy: 0.9186 - val_loss: 0.1733 - val_accuracy: 0.9681\n",
            "Epoch 26/100\n",
            "12/12 [==============================] - 0s 3ms/step - loss: 0.2071 - accuracy: 0.9213 - val_loss: 0.1689 - val_accuracy: 0.9734\n",
            "Epoch 27/100\n",
            "12/12 [==============================] - 0s 4ms/step - loss: 0.2029 - accuracy: 0.9239 - val_loss: 0.1648 - val_accuracy: 0.9787\n",
            "Epoch 28/100\n",
            "12/12 [==============================] - 0s 4ms/step - loss: 0.1990 - accuracy: 0.9239 - val_loss: 0.1611 - val_accuracy: 0.9787\n",
            "Epoch 29/100\n",
            "12/12 [==============================] - 0s 4ms/step - loss: 0.1952 - accuracy: 0.9239 - val_loss: 0.1574 - val_accuracy: 0.9787\n",
            "Epoch 30/100\n",
            "12/12 [==============================] - 0s 4ms/step - loss: 0.1918 - accuracy: 0.9239 - val_loss: 0.1540 - val_accuracy: 0.9787\n",
            "Epoch 31/100\n",
            "12/12 [==============================] - 0s 5ms/step - loss: 0.1883 - accuracy: 0.9239 - val_loss: 0.1507 - val_accuracy: 0.9787\n",
            "Epoch 32/100\n",
            "12/12 [==============================] - 0s 4ms/step - loss: 0.1851 - accuracy: 0.9291 - val_loss: 0.1476 - val_accuracy: 0.9787\n",
            "Epoch 33/100\n",
            "12/12 [==============================] - 0s 3ms/step - loss: 0.1821 - accuracy: 0.9291 - val_loss: 0.1446 - val_accuracy: 0.9787\n",
            "Epoch 34/100\n",
            "12/12 [==============================] - 0s 3ms/step - loss: 0.1792 - accuracy: 0.9291 - val_loss: 0.1418 - val_accuracy: 0.9787\n",
            "Epoch 35/100\n",
            "12/12 [==============================] - 0s 4ms/step - loss: 0.1763 - accuracy: 0.9318 - val_loss: 0.1391 - val_accuracy: 0.9787\n",
            "Epoch 36/100\n",
            "12/12 [==============================] - 0s 3ms/step - loss: 0.1737 - accuracy: 0.9344 - val_loss: 0.1364 - val_accuracy: 0.9787\n",
            "Epoch 37/100\n",
            "12/12 [==============================] - 0s 4ms/step - loss: 0.1711 - accuracy: 0.9344 - val_loss: 0.1339 - val_accuracy: 0.9787\n",
            "Epoch 38/100\n",
            "12/12 [==============================] - 0s 3ms/step - loss: 0.1687 - accuracy: 0.9344 - val_loss: 0.1315 - val_accuracy: 0.9787\n",
            "Epoch 39/100\n",
            "12/12 [==============================] - 0s 4ms/step - loss: 0.1664 - accuracy: 0.9370 - val_loss: 0.1293 - val_accuracy: 0.9787\n",
            "Epoch 40/100\n",
            "12/12 [==============================] - 0s 4ms/step - loss: 0.1642 - accuracy: 0.9370 - val_loss: 0.1271 - val_accuracy: 0.9787\n",
            "Epoch 41/100\n",
            "12/12 [==============================] - 0s 4ms/step - loss: 0.1618 - accuracy: 0.9396 - val_loss: 0.1250 - val_accuracy: 0.9787\n",
            "Epoch 42/100\n",
            "12/12 [==============================] - 0s 3ms/step - loss: 0.1598 - accuracy: 0.9370 - val_loss: 0.1230 - val_accuracy: 0.9787\n",
            "Epoch 43/100\n",
            "12/12 [==============================] - 0s 4ms/step - loss: 0.1579 - accuracy: 0.9370 - val_loss: 0.1210 - val_accuracy: 0.9787\n",
            "Epoch 44/100\n",
            "12/12 [==============================] - 0s 3ms/step - loss: 0.1560 - accuracy: 0.9396 - val_loss: 0.1190 - val_accuracy: 0.9787\n",
            "Epoch 45/100\n",
            "12/12 [==============================] - 0s 4ms/step - loss: 0.1541 - accuracy: 0.9396 - val_loss: 0.1173 - val_accuracy: 0.9787\n",
            "Epoch 46/100\n",
            "12/12 [==============================] - 0s 3ms/step - loss: 0.1523 - accuracy: 0.9423 - val_loss: 0.1155 - val_accuracy: 0.9787\n",
            "Epoch 47/100\n",
            "12/12 [==============================] - 0s 4ms/step - loss: 0.1505 - accuracy: 0.9423 - val_loss: 0.1139 - val_accuracy: 0.9787\n",
            "Epoch 48/100\n",
            "12/12 [==============================] - 0s 4ms/step - loss: 0.1489 - accuracy: 0.9423 - val_loss: 0.1123 - val_accuracy: 0.9787\n",
            "Epoch 49/100\n",
            "12/12 [==============================] - 0s 4ms/step - loss: 0.1473 - accuracy: 0.9475 - val_loss: 0.1107 - val_accuracy: 0.9787\n",
            "Epoch 50/100\n",
            "12/12 [==============================] - 0s 3ms/step - loss: 0.1457 - accuracy: 0.9501 - val_loss: 0.1091 - val_accuracy: 0.9787\n",
            "Epoch 51/100\n",
            "12/12 [==============================] - 0s 3ms/step - loss: 0.1442 - accuracy: 0.9501 - val_loss: 0.1077 - val_accuracy: 0.9734\n",
            "Epoch 52/100\n",
            "12/12 [==============================] - 0s 3ms/step - loss: 0.1428 - accuracy: 0.9528 - val_loss: 0.1063 - val_accuracy: 0.9734\n",
            "Epoch 53/100\n",
            "12/12 [==============================] - 0s 4ms/step - loss: 0.1414 - accuracy: 0.9528 - val_loss: 0.1049 - val_accuracy: 0.9734\n",
            "Epoch 54/100\n",
            "12/12 [==============================] - 0s 4ms/step - loss: 0.1400 - accuracy: 0.9554 - val_loss: 0.1036 - val_accuracy: 0.9734\n",
            "Epoch 55/100\n",
            "12/12 [==============================] - 0s 3ms/step - loss: 0.1387 - accuracy: 0.9554 - val_loss: 0.1023 - val_accuracy: 0.9734\n",
            "Epoch 56/100\n",
            "12/12 [==============================] - 0s 4ms/step - loss: 0.1374 - accuracy: 0.9554 - val_loss: 0.1011 - val_accuracy: 0.9734\n",
            "Epoch 57/100\n",
            "12/12 [==============================] - 0s 4ms/step - loss: 0.1362 - accuracy: 0.9554 - val_loss: 0.0998 - val_accuracy: 0.9734\n",
            "Epoch 58/100\n",
            "12/12 [==============================] - 0s 3ms/step - loss: 0.1349 - accuracy: 0.9554 - val_loss: 0.0987 - val_accuracy: 0.9734\n",
            "Epoch 59/100\n",
            "12/12 [==============================] - 0s 4ms/step - loss: 0.1337 - accuracy: 0.9554 - val_loss: 0.0975 - val_accuracy: 0.9734\n",
            "Epoch 60/100\n",
            "12/12 [==============================] - 0s 4ms/step - loss: 0.1326 - accuracy: 0.9554 - val_loss: 0.0964 - val_accuracy: 0.9734\n",
            "Epoch 61/100\n",
            "12/12 [==============================] - 0s 3ms/step - loss: 0.1316 - accuracy: 0.9554 - val_loss: 0.0954 - val_accuracy: 0.9734\n",
            "Epoch 62/100\n",
            "12/12 [==============================] - 0s 4ms/step - loss: 0.1304 - accuracy: 0.9554 - val_loss: 0.0942 - val_accuracy: 0.9734\n",
            "Epoch 63/100\n",
            "12/12 [==============================] - 0s 4ms/step - loss: 0.1294 - accuracy: 0.9580 - val_loss: 0.0932 - val_accuracy: 0.9734\n",
            "Epoch 64/100\n",
            "12/12 [==============================] - 0s 4ms/step - loss: 0.1283 - accuracy: 0.9580 - val_loss: 0.0923 - val_accuracy: 0.9734\n",
            "Epoch 65/100\n",
            "12/12 [==============================] - 0s 4ms/step - loss: 0.1274 - accuracy: 0.9580 - val_loss: 0.0913 - val_accuracy: 0.9734\n",
            "Epoch 66/100\n",
            "12/12 [==============================] - 0s 3ms/step - loss: 0.1265 - accuracy: 0.9606 - val_loss: 0.0904 - val_accuracy: 0.9734\n",
            "Epoch 67/100\n",
            "12/12 [==============================] - 0s 4ms/step - loss: 0.1255 - accuracy: 0.9606 - val_loss: 0.0894 - val_accuracy: 0.9734\n",
            "Epoch 68/100\n",
            "12/12 [==============================] - 0s 4ms/step - loss: 0.1246 - accuracy: 0.9606 - val_loss: 0.0885 - val_accuracy: 0.9734\n",
            "Epoch 69/100\n",
            "12/12 [==============================] - 0s 4ms/step - loss: 0.1237 - accuracy: 0.9606 - val_loss: 0.0877 - val_accuracy: 0.9734\n",
            "Epoch 70/100\n",
            "12/12 [==============================] - 0s 4ms/step - loss: 0.1228 - accuracy: 0.9606 - val_loss: 0.0868 - val_accuracy: 0.9734\n",
            "Epoch 71/100\n",
            "12/12 [==============================] - 0s 3ms/step - loss: 0.1219 - accuracy: 0.9606 - val_loss: 0.0860 - val_accuracy: 0.9734\n",
            "Epoch 72/100\n",
            "12/12 [==============================] - 0s 3ms/step - loss: 0.1211 - accuracy: 0.9606 - val_loss: 0.0852 - val_accuracy: 0.9734\n",
            "Epoch 73/100\n",
            "12/12 [==============================] - 0s 4ms/step - loss: 0.1203 - accuracy: 0.9606 - val_loss: 0.0844 - val_accuracy: 0.9734\n",
            "Epoch 74/100\n",
            "12/12 [==============================] - 0s 4ms/step - loss: 0.1196 - accuracy: 0.9633 - val_loss: 0.0836 - val_accuracy: 0.9734\n",
            "Epoch 75/100\n",
            "12/12 [==============================] - 0s 4ms/step - loss: 0.1188 - accuracy: 0.9633 - val_loss: 0.0828 - val_accuracy: 0.9734\n",
            "Epoch 76/100\n",
            "12/12 [==============================] - 0s 4ms/step - loss: 0.1180 - accuracy: 0.9659 - val_loss: 0.0821 - val_accuracy: 0.9734\n",
            "Epoch 77/100\n",
            "12/12 [==============================] - 0s 4ms/step - loss: 0.1172 - accuracy: 0.9659 - val_loss: 0.0814 - val_accuracy: 0.9734\n",
            "Epoch 78/100\n",
            "12/12 [==============================] - 0s 3ms/step - loss: 0.1166 - accuracy: 0.9659 - val_loss: 0.0807 - val_accuracy: 0.9734\n",
            "Epoch 79/100\n",
            "12/12 [==============================] - 0s 4ms/step - loss: 0.1158 - accuracy: 0.9659 - val_loss: 0.0800 - val_accuracy: 0.9734\n",
            "Epoch 80/100\n",
            "12/12 [==============================] - 0s 4ms/step - loss: 0.1151 - accuracy: 0.9659 - val_loss: 0.0793 - val_accuracy: 0.9787\n",
            "Epoch 81/100\n",
            "12/12 [==============================] - 0s 3ms/step - loss: 0.1145 - accuracy: 0.9659 - val_loss: 0.0787 - val_accuracy: 0.9787\n",
            "Epoch 82/100\n",
            "12/12 [==============================] - 0s 4ms/step - loss: 0.1138 - accuracy: 0.9659 - val_loss: 0.0781 - val_accuracy: 0.9840\n",
            "Epoch 83/100\n",
            "12/12 [==============================] - 0s 4ms/step - loss: 0.1132 - accuracy: 0.9659 - val_loss: 0.0774 - val_accuracy: 0.9840\n",
            "Epoch 84/100\n",
            "12/12 [==============================] - 0s 4ms/step - loss: 0.1125 - accuracy: 0.9659 - val_loss: 0.0768 - val_accuracy: 0.9840\n",
            "Epoch 85/100\n",
            "12/12 [==============================] - 0s 4ms/step - loss: 0.1119 - accuracy: 0.9659 - val_loss: 0.0762 - val_accuracy: 0.9840\n",
            "Epoch 86/100\n",
            "12/12 [==============================] - 0s 4ms/step - loss: 0.1113 - accuracy: 0.9659 - val_loss: 0.0756 - val_accuracy: 0.9840\n",
            "Epoch 87/100\n",
            "12/12 [==============================] - 0s 4ms/step - loss: 0.1107 - accuracy: 0.9659 - val_loss: 0.0751 - val_accuracy: 0.9840\n",
            "Epoch 88/100\n",
            "12/12 [==============================] - 0s 4ms/step - loss: 0.1102 - accuracy: 0.9659 - val_loss: 0.0745 - val_accuracy: 0.9840\n",
            "Epoch 89/100\n",
            "12/12 [==============================] - 0s 4ms/step - loss: 0.1095 - accuracy: 0.9659 - val_loss: 0.0739 - val_accuracy: 0.9840\n",
            "Epoch 90/100\n",
            "12/12 [==============================] - 0s 3ms/step - loss: 0.1090 - accuracy: 0.9659 - val_loss: 0.0734 - val_accuracy: 0.9840\n",
            "Epoch 91/100\n",
            "12/12 [==============================] - 0s 4ms/step - loss: 0.1085 - accuracy: 0.9659 - val_loss: 0.0729 - val_accuracy: 0.9840\n",
            "Epoch 92/100\n",
            "12/12 [==============================] - 0s 4ms/step - loss: 0.1079 - accuracy: 0.9659 - val_loss: 0.0723 - val_accuracy: 0.9840\n",
            "Epoch 93/100\n",
            "12/12 [==============================] - 0s 4ms/step - loss: 0.1074 - accuracy: 0.9659 - val_loss: 0.0718 - val_accuracy: 0.9840\n",
            "Epoch 94/100\n",
            "12/12 [==============================] - 0s 4ms/step - loss: 0.1069 - accuracy: 0.9659 - val_loss: 0.0713 - val_accuracy: 0.9840\n",
            "Epoch 95/100\n",
            "12/12 [==============================] - 0s 3ms/step - loss: 0.1064 - accuracy: 0.9659 - val_loss: 0.0708 - val_accuracy: 0.9840\n",
            "Epoch 96/100\n",
            "12/12 [==============================] - 0s 3ms/step - loss: 0.1059 - accuracy: 0.9659 - val_loss: 0.0703 - val_accuracy: 0.9840\n",
            "Epoch 97/100\n",
            "12/12 [==============================] - 0s 3ms/step - loss: 0.1054 - accuracy: 0.9659 - val_loss: 0.0699 - val_accuracy: 0.9840\n",
            "Epoch 98/100\n",
            "12/12 [==============================] - 0s 4ms/step - loss: 0.1049 - accuracy: 0.9659 - val_loss: 0.0695 - val_accuracy: 0.9840\n",
            "Epoch 99/100\n",
            "12/12 [==============================] - 0s 4ms/step - loss: 0.1045 - accuracy: 0.9659 - val_loss: 0.0689 - val_accuracy: 0.9840\n",
            "Epoch 100/100\n",
            "12/12 [==============================] - 0s 4ms/step - loss: 0.1040 - accuracy: 0.9659 - val_loss: 0.0685 - val_accuracy: 0.9840\n",
            "12/12 [==============================] - 0s 2ms/step - loss: 0.1037 - accuracy: 0.9659\n",
            "Train score: [0.10367042571306229, 0.9658792614936829]\n",
            "6/6 [==============================] - 0s 2ms/step - loss: 0.0685 - accuracy: 0.9840\n",
            "Test score: [0.06847207248210907, 0.9840425252914429]\n"
          ],
          "name": "stdout"
        }
      ]
    },
    {
      "cell_type": "code",
      "metadata": {
        "id": "W0fK5PQc8aJ_",
        "colab": {
          "base_uri": "https://localhost:8080/",
          "height": 285
        },
        "outputId": "702d6f0c-e277-449c-af98-574b838c8380"
      },
      "source": [
        "# Plot what's returned by model.fit()\n",
        "import matplotlib.pyplot as plt\n",
        "plt.plot(r.history['loss'], label='loss')\n",
        "plt.plot(r.history['val_loss'], label='val_loss')\n",
        "plt.legend()"
      ],
      "execution_count": 16,
      "outputs": [
        {
          "output_type": "execute_result",
          "data": {
            "text/plain": [
              "<matplotlib.legend.Legend at 0x7f8e80179710>"
            ]
          },
          "metadata": {
            "tags": []
          },
          "execution_count": 16
        },
        {
          "output_type": "display_data",
          "data": {
            "image/png": "[encoded data removed]",
            "text/plain": [
              "<Figure size 432x288 with 1 Axes>"
            ]
          },
          "metadata": {
            "tags": [],
            "needs_background": "light"
          }
        }
      ]
    },
    {
      "cell_type": "code",
      "metadata": {
        "id": "VBAA2UY28vJN",
        "colab": {
          "base_uri": "https://localhost:8080/",
          "height": 283
        },
        "outputId": "212210b2-5073-497e-843d-70ced4f4d8ac"
      },
      "source": [
        "# Plot the accuracy too\n",
        "plt.plot(r.history['accuracy'], label='acc')\n",
        "plt.plot(r.history['val_accuracy'], label='val_acc')\n",
        "plt.legend()"
      ],
      "execution_count": 17,
      "outputs": [
        {
          "output_type": "execute_result",
          "data": {
            "text/plain": [
              "<matplotlib.legend.Legend at 0x7f8e800e6240>"
            ]
          },
          "metadata": {
            "tags": []
          },
          "execution_count": 17
        },
        {
          "output_type": "display_data",
          "data": {
            "image/png": "[encoded data removed]",
            "text/plain": [
              "<Figure size 432x288 with 1 Axes>"
            ]
          },
          "metadata": {
            "tags": [],
            "needs_background": "light"
          }
        }
      ]
    },
    {
      "cell_type": "markdown",
      "metadata": {
        "id": "GrZnHBI8NH-u"
      },
      "source": [
        "# Part 2: Making Predictions\n",
        "\n",
        "This goes with the lecture \"Making Predictions\""
      ]
    },
    {
      "cell_type": "code",
      "metadata": {
        "id": "Ss1LJwIVKREf",
        "colab": {
          "base_uri": "https://localhost:8080/"
        },
        "outputId": "e9685e4f-5917-4d2e-dc3e-dd388d80a555"
      },
      "source": [
        "# Make predictions\n",
        "P = model.predict(X_test)\n",
        "print(P) # they are outputs of the sigmoid, interpreted as probabilities p(y = 1 | x)"
      ],
      "execution_count": 18,
      "outputs": [
        {
          "output_type": "stream",
          "text": [
            "[[5.1705192e-05]\n",
            " [8.4944945e-03]\n",
            " [9.4953555e-01]\n",
            " [9.9780029e-01]\n",
            " [1.5142062e-04]\n",
            " [6.2413923e-03]\n",
            " [3.8531830e-03]\n",
            " [8.0170527e-02]\n",
            " [9.9566454e-01]\n",
            " [9.5871538e-01]\n",
            " [9.6743160e-01]\n",
            " [9.7826070e-01]\n",
            " [1.5764135e-08]\n",
            " [9.9153566e-01]\n",
            " [9.0013486e-01]\n",
            " [9.4218779e-01]\n",
            " [9.9809414e-01]\n",
            " [9.9309480e-01]\n",
            " [9.3684772e-05]\n",
            " [9.6353334e-01]\n",
            " [9.8443156e-01]\n",
            " [9.9794024e-01]\n",
            " [9.9660945e-01]\n",
            " [7.8898780e-02]\n",
            " [8.4928387e-01]\n",
            " [4.4501284e-03]\n",
            " [9.9050069e-01]\n",
            " [7.0496408e-06]\n",
            " [9.9649364e-01]\n",
            " [7.7349895e-01]\n",
            " [1.4131212e-05]\n",
            " [8.5972967e-03]\n",
            " [8.0836368e-01]\n",
            " [8.4487219e-13]\n",
            " [9.9859196e-01]\n",
            " [5.0026975e-03]\n",
            " [9.8616934e-01]\n",
            " [9.9124944e-01]\n",
            " [9.9823821e-01]\n",
            " [7.8475183e-01]\n",
            " [2.8004214e-07]\n",
            " [9.9325258e-01]\n",
            " [9.9821657e-01]\n",
            " [6.4537935e-03]\n",
            " [9.9736387e-01]\n",
            " [9.6421337e-01]\n",
            " [2.6354226e-03]\n",
            " [9.1398549e-01]\n",
            " [9.4634064e-02]\n",
            " [9.9867404e-01]\n",
            " [9.9134398e-01]\n",
            " [9.1064948e-01]\n",
            " [6.0625091e-05]\n",
            " [6.1403876e-03]\n",
            " [9.9913424e-01]\n",
            " [9.6828353e-01]\n",
            " [9.9554706e-01]\n",
            " [2.9104410e-02]\n",
            " [4.1966861e-01]\n",
            " [9.7911161e-01]\n",
            " [8.9623892e-01]\n",
            " [9.6527904e-01]\n",
            " [9.5910537e-01]\n",
            " [9.9188715e-01]\n",
            " [9.9708384e-01]\n",
            " [9.9680424e-01]\n",
            " [9.3991923e-01]\n",
            " [9.9056870e-01]\n",
            " [1.4006883e-03]\n",
            " [9.5797199e-01]\n",
            " [9.5468098e-01]\n",
            " [9.1536671e-01]\n",
            " [9.8781747e-01]\n",
            " [4.6588263e-01]\n",
            " [1.6142352e-02]\n",
            " [3.7830105e-01]\n",
            " [8.0411553e-02]\n",
            " [1.6448770e-02]\n",
            " [9.9644715e-01]\n",
            " [8.8896018e-01]\n",
            " [2.4733803e-04]\n",
            " [9.9839300e-01]\n",
            " [1.7656496e-06]\n",
            " [9.9995339e-01]\n",
            " [9.8192251e-01]\n",
            " [9.9291223e-01]\n",
            " [9.9881917e-01]\n",
            " [9.8480022e-01]\n",
            " [1.8527760e-07]\n",
            " [9.9964309e-01]\n",
            " [3.9967458e-06]\n",
            " [9.9725384e-01]\n",
            " [9.9843735e-01]\n",
            " [9.9055135e-01]\n",
            " [9.7411716e-01]\n",
            " [3.2128029e-02]\n",
            " [1.3727526e-01]\n",
            " [9.7223312e-01]\n",
            " [7.1072753e-04]\n",
            " [9.9561369e-01]\n",
            " [9.9256331e-01]\n",
            " [9.3886787e-01]\n",
            " [8.8696444e-01]\n",
            " [9.9313509e-01]\n",
            " [8.6753255e-01]\n",
            " [7.6232409e-01]\n",
            " [9.9196702e-01]\n",
            " [9.9791545e-01]\n",
            " [9.3754280e-01]\n",
            " [9.2788345e-01]\n",
            " [9.9162018e-01]\n",
            " [9.9612588e-01]\n",
            " [9.1982371e-01]\n",
            " [9.2765922e-06]\n",
            " [9.8458385e-01]\n",
            " [9.6952212e-01]\n",
            " [9.9941397e-01]\n",
            " [6.4647486e-03]\n",
            " [3.6888208e-02]\n",
            " [9.7680920e-01]\n",
            " [9.8631185e-01]\n",
            " [9.8620439e-01]\n",
            " [9.3077832e-01]\n",
            " [1.5343404e-02]\n",
            " [3.6992667e-05]\n",
            " [9.1393280e-01]\n",
            " [6.8774962e-01]\n",
            " [9.9030429e-01]\n",
            " [9.4772041e-01]\n",
            " [8.6170876e-01]\n",
            " [9.9226534e-01]\n",
            " [2.4818705e-04]\n",
            " [9.5766729e-01]\n",
            " [9.1478831e-01]\n",
            " [2.5557584e-01]\n",
            " [8.0372208e-01]\n",
            " [9.9876058e-01]\n",
            " [9.8033750e-01]\n",
            " [9.9866903e-01]\n",
            " [4.2406190e-02]\n",
            " [9.9846762e-01]\n",
            " [9.6088129e-01]\n",
            " [8.6550242e-01]\n",
            " [5.0788559e-04]\n",
            " [9.7845823e-01]\n",
            " [6.6483125e-02]\n",
            " [9.8219520e-01]\n",
            " [5.6134741e-04]\n",
            " [6.2975698e-07]\n",
            " [9.8600733e-01]\n",
            " [4.3441840e-03]\n",
            " [9.9640381e-01]\n",
            " [9.9781346e-01]\n",
            " [2.3698683e-03]\n",
            " [9.9831909e-01]\n",
            " [9.8060364e-01]\n",
            " [9.8251814e-01]\n",
            " [9.9940705e-01]\n",
            " [1.2275839e-03]\n",
            " [8.5560912e-01]\n",
            " [3.9314497e-02]\n",
            " [9.9865985e-01]\n",
            " [9.9997389e-01]\n",
            " [6.7329943e-01]\n",
            " [9.7145915e-01]\n",
            " [9.4996649e-01]\n",
            " [9.9975556e-01]\n",
            " [7.1368617e-04]\n",
            " [9.8312598e-01]\n",
            " [1.6750603e-06]\n",
            " [5.5095398e-01]\n",
            " [5.5025840e-01]\n",
            " [1.8097852e-01]\n",
            " [8.8209845e-03]\n",
            " [8.2786590e-02]\n",
            " [9.6155846e-01]\n",
            " [9.9540967e-01]\n",
            " [4.0381223e-02]\n",
            " [1.9785288e-05]\n",
            " [1.6528386e-01]\n",
            " [9.9802643e-01]\n",
            " [1.0460803e-03]\n",
            " [9.8994178e-01]\n",
            " [4.9879607e-02]\n",
            " [2.5737575e-01]\n",
            " [9.9363917e-01]\n",
            " [9.2431164e-01]\n",
            " [3.4342870e-02]]\n"
          ],
          "name": "stdout"
        }
      ]
    },
    {
      "cell_type": "code",
      "metadata": {
        "id": "Tv0cN7J6KoVu",
        "colab": {
          "base_uri": "https://localhost:8080/"
        },
        "outputId": "b06c7bd7-878c-418b-9511-07db5524cb8d"
      },
      "source": [
        "# Round to get the actual predictions\n",
        "# Note: has to be flattened since the targets are size (N,) while the predictions are size (N,1)\n",
        "import numpy as np\n",
        "P = np.round(P).flatten()\n",
        "print(P)"
      ],
      "execution_count": 19,
      "outputs": [
        {
          "output_type": "stream",
          "text": [
            "[0. 0. 1. 1. 0. 0. 0. 0. 1. 1. 1. 1. 0. 1. 1. 1. 1. 1. 0. 1. 1. 1. 1. 0.\n",
            " 1. 0. 1. 0. 1. 1. 0. 0. 1. 0. 1. 0. 1. 1. 1. 1. 0. 1. 1. 0. 1. 1. 0. 1.\n",
            " 0. 1. 1. 1. 0. 0. 1. 1. 1. 0. 0. 1. 1. 1. 1. 1. 1. 1. 1. 1. 0. 1. 1. 1.\n",
            " 1. 0. 0. 0. 0. 0. 1. 1. 0. 1. 0. 1. 1. 1. 1. 1. 0. 1. 0. 1. 1. 1. 1. 0.\n",
            " 0. 1. 0. 1. 1. 1. 1. 1. 1. 1. 1. 1. 1. 1. 1. 1. 1. 0. 1. 1. 1. 0. 0. 1.\n",
            " 1. 1. 1. 0. 0. 1. 1. 1. 1. 1. 1. 0. 1. 1. 0. 1. 1. 1. 1. 0. 1. 1. 1. 0.\n",
            " 1. 0. 1. 0. 0. 1. 0. 1. 1. 0. 1. 1. 1. 1. 0. 1. 0. 1. 1. 1. 1. 1. 1. 0.\n",
            " 1. 0. 1. 1. 0. 0. 0. 1. 1. 0. 0. 0. 1. 0. 1. 0. 0. 1. 1. 0.]\n"
          ],
          "name": "stdout"
        }
      ]
    },
    {
      "cell_type": "code",
      "metadata": {
        "id": "yJU09XkmK4nQ",
        "colab": {
          "base_uri": "https://localhost:8080/"
        },
        "outputId": "01fce795-2297-48a7-f7f5-94354344f023"
      },
      "source": [
        "# Calculate the accuracy, compare it to evaluate() output\n",
        "print(\"Manually calculated accuracy:\", np.mean(P == y_test))\n",
        "print(\"Evaluate output:\", model.evaluate(X_test, y_test))"
      ],
      "execution_count": 20,
      "outputs": [
        {
          "output_type": "stream",
          "text": [
            "Manually calculated accuracy: 0.9840425531914894\n",
            "6/6 [==============================] - 0s 2ms/step - loss: 0.0685 - accuracy: 0.9840\n",
            "Evaluate output: [0.06847207248210907, 0.9840425252914429]\n"
          ],
          "name": "stdout"
        }
      ]
    },
    {
      "cell_type": "markdown",
      "metadata": {
        "id": "iogYs0uGNS4l"
      },
      "source": [
        "# Part 3: Saving and Loading a Model\n",
        "\n",
        "This goes with the lecture \"Saving and Loading a Model\""
      ]
    },
    {
      "cell_type": "code",
      "metadata": {
        "id": "L1uHxJ2SNXan"
      },
      "source": [
        "# Let's now save our model to a file\n",
        "model.save('linearclassifier.h5')"
      ],
      "execution_count": 21,
      "outputs": []
    },
    {
      "cell_type": "code",
      "metadata": {
        "id": "F6PHmjb0OFBf",
        "colab": {
          "base_uri": "https://localhost:8080/"
        },
        "outputId": "99f00a21-7136-4244-f7b3-3aa6547dd3d6"
      },
      "source": [
        "# Check that the model file exists\n",
        "!ls -lh "
      ],
      "execution_count": 22,
      "outputs": [
        {
          "output_type": "stream",
          "text": [
            "total 24K\n",
            "-rw-r--r-- 1 root root  19K Nov 22 14:00 linearclassifier.h5\n",
            "drwxr-xr-x 1 root root 4.0K Nov 13 17:33 sample_data\n"
          ],
          "name": "stdout"
        }
      ]
    },
    {
      "cell_type": "code",
      "metadata": {
        "id": "FgFBrBveNoOR",
        "colab": {
          "base_uri": "https://localhost:8080/"
        },
        "outputId": "3f0c8c5b-a2a8-4b76-ab39-607b3a85613e"
      },
      "source": [
        "# Let's load the model and confirm that it still works\n",
        "# Note: there is a bug in Keras where load/save only works if you DON'T use the Input() layer explicitly\n",
        "# So, make sure you define the model with ONLY Dense(1, input_shape=(D,))\n",
        "# At least, until the bug is fixed\n",
        "# https://github.com/keras-team/keras/issues/10417\n",
        "model = tf.keras.models.load_model('linearclassifier.h5')\n",
        "print(model.layers)\n",
        "model.evaluate(X_test, y_test)"
      ],
      "execution_count": 23,
      "outputs": [
        {
          "output_type": "stream",
          "text": [
            "[<tensorflow.python.keras.layers.core.Dense object at 0x7f8e80020240>]\n",
            "6/6 [==============================] - 0s 2ms/step - loss: 0.0685 - accuracy: 0.9840\n"
          ],
          "name": "stdout"
        },
        {
          "output_type": "execute_result",
          "data": {
            "text/plain": [
              "[0.06847207248210907, 0.9840425252914429]"
            ]
          },
          "metadata": {
            "tags": []
          },
          "execution_count": 23
        }
      ]
    },
    {
      "cell_type": "code",
      "metadata": {
        "id": "_8rGQI-Rpo2T",
        "colab": {
          "base_uri": "https://localhost:8080/",
          "height": 17
        },
        "outputId": "66863e9c-5500-47f1-cf8c-de74b1057e93"
      },
      "source": [
        "\n",
        "# Download the file - requires Chrome (at this point)\n",
        "from google.colab import files\n",
        "files.download('linearclassifier.h5')"
      ],
      "execution_count": 24,
      "outputs": [
        {
          "output_type": "display_data",
          "data": {
            "application/javascript": [
              "\n",
              "    async function download(id, filename, size) {\n",
              "      if (!google.colab.kernel.accessAllowed) {\n",
              "        return;\n",
              "      }\n",
              "      const div = document.createElement('div');\n",
              "      const label = document.createElement('label');\n",
              "      label.textContent = `Downloading \"${filename}\": `;\n",
              "      div.appendChild(label);\n",
              "      const progress = document.createElement('progress');\n",
              "      progress.max = size;\n",
              "      div.appendChild(progress);\n",
              "      document.body.appendChild(div);\n",
              "\n",
              "      const buffers = [];\n",
              "      let downloaded = 0;\n",
              "\n",
              "      const channel = await google.colab.kernel.comms.open(id);\n",
              "      // Send a message to notify the kernel that we're ready.\n",
              "      channel.send({})\n",
              "\n",
              "      for await (const message of channel.messages) {\n",
              "        // Send a message to notify the kernel that we're ready.\n",
              "        channel.send({})\n",
              "        if (message.buffers) {\n",
              "          for (const buffer of message.buffers) {\n",
              "            buffers.push(buffer);\n",
              "            downloaded += buffer.byteLength;\n",
              "            progress.value = downloaded;\n",
              "          }\n",
              "        }\n",
              "      }\n",
              "      const blob = new Blob(buffers, {type: 'application/binary'});\n",
              "      const a = document.createElement('a');\n",
              "      a.href = window.URL.createObjectURL(blob);\n",
              "      a.download = filename;\n",
              "      div.appendChild(a);\n",
              "      a.click();\n",
              "      div.remove();\n",
              "    }\n",
              "  "
            ],
            "text/plain": [
              "<IPython.core.display.Javascript object>"
            ]
          },
          "metadata": {
            "tags": []
          }
        },
        {
          "output_type": "display_data",
          "data": {
            "application/javascript": [
              "download(\"download_3edbb996-092d-40e3-bd7c-9a5b4bb34bb6\", \"linearclassifier.h5\", 18480)"
            ],
            "text/plain": [
              "<IPython.core.display.Javascript object>"
            ]
          },
          "metadata": {
            "tags": []
          }
        }
      ]
    }
  ]
}