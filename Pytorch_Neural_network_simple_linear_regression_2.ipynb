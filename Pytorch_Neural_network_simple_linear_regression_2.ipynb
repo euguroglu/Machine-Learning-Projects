{
  "nbformat": 4,
  "nbformat_minor": 0,
  "metadata": {
    "colab": {
      "name": "Pytorch_Neural_network_simple_linear_regression_2.ipynb",
      "provenance": [],
      "authorship_tag": "ABX9TyNn3Vp349HO6enI62gCWXRY",
      "include_colab_link": true
    },
    "kernelspec": {
      "name": "python3",
      "display_name": "Python 3"
    }
  },
  "cells": [
    {
      "cell_type": "markdown",
      "metadata": {
        "id": "view-in-github",
        "colab_type": "text"
      },
      "source": [
        "<a href=\"https://colab.research.google.com/github/euguroglu/Machine-Learning-Projects/blob/master/Pytorch_Neural_network_simple_linear_regression_2.ipynb\" target=\"_parent\"><img src=\"https://colab.research.google.com/assets/colab-badge.svg\" alt=\"Open In Colab\"/></a>"
      ]
    },
    {
      "cell_type": "markdown",
      "metadata": {
        "id": "jVE0ZDyBgVU0",
        "colab_type": "text"
      },
      "source": [
        "## Importing libraries"
      ]
    },
    {
      "cell_type": "code",
      "metadata": {
        "id": "iv7llVF35tCR",
        "colab_type": "code",
        "colab": {}
      },
      "source": [
        "import torch\n",
        "import numpy as np\n",
        "import matplotlib.pyplot as plt\n",
        "import torch.nn as nn"
      ],
      "execution_count": 157,
      "outputs": []
    },
    {
      "cell_type": "markdown",
      "metadata": {
        "id": "8WDorJE-gZFH",
        "colab_type": "text"
      },
      "source": [
        "Defining a function to create data set"
      ]
    },
    {
      "cell_type": "code",
      "metadata": {
        "id": "_eJIlPeW6luX",
        "colab_type": "code",
        "colab": {}
      },
      "source": [
        "def function(x):\n",
        "  return 10*x**2 - 5*x - 0.5 + e"
      ],
      "execution_count": 189,
      "outputs": []
    },
    {
      "cell_type": "markdown",
      "metadata": {
        "id": "P8uAEWfEgcwi",
        "colab_type": "text"
      },
      "source": [
        "Adding noises"
      ]
    },
    {
      "cell_type": "code",
      "metadata": {
        "id": "0rlI88cQdKeO",
        "colab_type": "code",
        "colab": {}
      },
      "source": [
        "e = (torch.rand(100)).reshape(-1,1)"
      ],
      "execution_count": 199,
      "outputs": []
    },
    {
      "cell_type": "code",
      "metadata": {
        "id": "vcERnKS27MEX",
        "colab_type": "code",
        "colab": {}
      },
      "source": [
        "x_train = torch.rand(100).reshape(-1,1)\n",
        "x_train_square = x_train*x_train\n",
        "y_train = function(x_train).reshape(-1,1)\n",
        "x = torch.cat((x_train,x_train_square),1)"
      ],
      "execution_count": 200,
      "outputs": []
    },
    {
      "cell_type": "markdown",
      "metadata": {
        "id": "8dCDLtzcgj_H",
        "colab_type": "text"
      },
      "source": [
        "Visualize data"
      ]
    },
    {
      "cell_type": "code",
      "metadata": {
        "id": "OBuDsCJNd3uV",
        "colab_type": "code",
        "colab": {
          "base_uri": "https://localhost:8080/",
          "height": 279
        },
        "outputId": "3caa671d-043e-4101-eef5-957462f7fc60"
      },
      "source": [
        "plt.scatter(x_train,y_train,label='Train',color='blue')\n",
        "plt.ylabel('y')\n",
        "plt.xlabel('x')\n",
        "plt.legend(loc='upper left')\n",
        "plt.tight_layout\n",
        "plt.show()"
      ],
      "execution_count": 201,
      "outputs": [
        {
          "output_type": "display_data",
          "data": {
            "image/png": "[encoded data removed]",
            "text/plain": [
              "<Figure size 432x288 with 1 Axes>"
            ]
          },
          "metadata": {
            "tags": [],
            "needs_background": "light"
          }
        }
      ]
    },
    {
      "cell_type": "markdown",
      "metadata": {
        "id": "QElNrvupgmNi",
        "colab_type": "text"
      },
      "source": [
        "Creating single layer basic neural network"
      ]
    },
    {
      "cell_type": "code",
      "metadata": {
        "id": "IvvwAfetEqM1",
        "colab_type": "code",
        "colab": {}
      },
      "source": [
        "class Model(nn.Module):\n",
        "  def __init__(self,in_features,out_features):\n",
        "\n",
        "    super().__init__()\n",
        "    self.linear = nn.Linear(in_features,out_features)\n",
        "  def forward(self,x):\n",
        "    y_pred = self.linear(x)\n",
        "    return y_pred"
      ],
      "execution_count": 202,
      "outputs": []
    },
    {
      "cell_type": "code",
      "metadata": {
        "id": "uQKvLoDQF2uQ",
        "colab_type": "code",
        "colab": {
          "base_uri": "https://localhost:8080/",
          "height": 85
        },
        "outputId": "21fb7646-ddaf-4f88-894d-52fcffae6d39"
      },
      "source": [
        "model = Model(2,1)\n",
        "\n",
        "print(model.linear.weight)\n",
        "print(model.linear.bias)"
      ],
      "execution_count": 203,
      "outputs": [
        {
          "output_type": "stream",
          "text": [
            "Parameter containing:\n",
            "tensor([[-0.4992,  0.2008]], requires_grad=True)\n",
            "Parameter containing:\n",
            "tensor([0.3302], requires_grad=True)\n"
          ],
          "name": "stdout"
        }
      ]
    },
    {
      "cell_type": "markdown",
      "metadata": {
        "id": "ZNOTU7dphLWI",
        "colab_type": "text"
      },
      "source": [
        "Defining cost function and optimization method"
      ]
    },
    {
      "cell_type": "code",
      "metadata": {
        "id": "6PptjgD_FLzo",
        "colab_type": "code",
        "colab": {}
      },
      "source": [
        "criterion = nn.MSELoss()"
      ],
      "execution_count": 204,
      "outputs": []
    },
    {
      "cell_type": "code",
      "metadata": {
        "id": "viAD9ISIFNvf",
        "colab_type": "code",
        "colab": {}
      },
      "source": [
        "optimizer = torch.optim.SGD(model.parameters(),lr = 0.001)"
      ],
      "execution_count": 205,
      "outputs": []
    },
    {
      "cell_type": "markdown",
      "metadata": {
        "id": "DsyBpBJChQp8",
        "colab_type": "text"
      },
      "source": [
        "Training"
      ]
    },
    {
      "cell_type": "code",
      "metadata": {
        "id": "lIJcvO08FPmh",
        "colab_type": "code",
        "colab": {}
      },
      "source": [
        "epochs = 10000\n",
        "losses = []\n",
        "\n",
        "for i in range(epochs):\n",
        "\n",
        "  i = i + 1\n",
        "\n",
        "  y_pred = model.forward(x) # Predicting on the forward pass\n",
        "\n",
        "  loss = criterion(y_pred,y_train) #Calculating our loss\n",
        "\n",
        "  losses.append(loss) # Recording the error\n",
        "\n",
        "  print('epoch {} loss: {} weight: {} bias: {}'.format(i,loss.item(),model.linear.weight[0,0],model.linear.weight[0,1],model.linear.bias.item()))\n",
        "\n",
        "  optimizer.zero_grad() #reseting the gradient\n",
        "\n",
        "  loss.backward()\n",
        "  optimizer.step()"
      ],
      "execution_count": null,
      "outputs": []
    },
    {
      "cell_type": "markdown",
      "metadata": {
        "id": "kaGNtzNIhUDV",
        "colab_type": "text"
      },
      "source": [
        "Optimization check"
      ]
    },
    {
      "cell_type": "code",
      "metadata": {
        "id": "-HgKdWvnGGjh",
        "colab_type": "code",
        "colab": {
          "base_uri": "https://localhost:8080/",
          "height": 296
        },
        "outputId": "73d20187-8dbb-4021-dc09-dc1498b06876"
      },
      "source": [
        "plt.plot(range(epochs),losses)\n",
        "plt.ylabel('MSE Loss')\n",
        "plt.xlabel('Epoch')"
      ],
      "execution_count": 207,
      "outputs": [
        {
          "output_type": "execute_result",
          "data": {
            "text/plain": [
              "Text(0.5, 0, 'Epoch')"
            ]
          },
          "metadata": {
            "tags": []
          },
          "execution_count": 207
        },
        {
          "output_type": "display_data",
          "data": {
            "image/png": "[encoded data removed]",
            "text/plain": [
              "<Figure size 432x288 with 1 Axes>"
            ]
          },
          "metadata": {
            "tags": [],
            "needs_background": "light"
          }
        }
      ]
    },
    {
      "cell_type": "code",
      "metadata": {
        "id": "YseVsGQofJe8",
        "colab_type": "code",
        "colab": {
          "base_uri": "https://localhost:8080/",
          "height": 51
        },
        "outputId": "9ad3159c-eafc-455e-c56f-4e0bd8c564e2"
      },
      "source": [
        "model.linear.bias"
      ],
      "execution_count": 209,
      "outputs": [
        {
          "output_type": "execute_result",
          "data": {
            "text/plain": [
              "Parameter containing:\n",
              "tensor([-0.8629], requires_grad=True)"
            ]
          },
          "metadata": {
            "tags": []
          },
          "execution_count": 209
        }
      ]
    },
    {
      "cell_type": "markdown",
      "metadata": {
        "id": "bM9mh-TJhYNS",
        "colab_type": "text"
      },
      "source": [
        "Prediction and curve fitting"
      ]
    },
    {
      "cell_type": "code",
      "metadata": {
        "id": "nER9rNzybQ_z",
        "colab_type": "code",
        "colab": {}
      },
      "source": [
        "current_weight1 = 1.4638\n",
        "current_weight2 = 3.2650\n",
        "current_bias = -0.8629\n",
        "x_test = torch.linspace(0,1,100).reshape(-1,1)\n",
        "#x_test_square = x_test*x_test\n",
        "y_predicted = current_weight1*x_test**2 + current_weight2*x_test + current_bias\n",
        "#xt = torch.cat((x_test,x_test_square),1)"
      ],
      "execution_count": 211,
      "outputs": []
    },
    {
      "cell_type": "code",
      "metadata": {
        "id": "RX-CXFYOf0Kq",
        "colab_type": "code",
        "colab": {
          "base_uri": "https://localhost:8080/",
          "height": 279
        },
        "outputId": "760bbde8-211a-4f1d-8b1d-8879e852e408"
      },
      "source": [
        "plt.scatter(x_train,y_train,label='Train',color='blue')\n",
        "plt.plot(x_test,y_predicted,'r')\n",
        "plt.ylabel('y')\n",
        "plt.xlabel('x')\n",
        "plt.legend(loc='upper left')\n",
        "plt.tight_layout\n",
        "plt.show()"
      ],
      "execution_count": 212,
      "outputs": [
        {
          "output_type": "display_data",
          "data": {
            "image/png": "[encoded data removed]",
            "text/plain": [
              "<Figure size 432x288 with 1 Axes>"
            ]
          },
          "metadata": {
            "tags": [],
            "needs_background": "light"
          }
        }
      ]
    }
  ]
}