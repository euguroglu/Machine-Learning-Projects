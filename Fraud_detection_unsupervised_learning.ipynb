{
  "nbformat": 4,
  "nbformat_minor": 0,
  "metadata": {
    "colab": {
      "name": "Fraud_detection_unsupervised_learning.ipynb",
      "provenance": [],
      "authorship_tag": "ABX9TyOOukbKD6X/JoL7UEZZQPY/",
      "include_colab_link": true
    },
    "kernelspec": {
      "name": "python3",
      "display_name": "Python 3"
    }
  },
  "cells": [
    {
      "cell_type": "markdown",
      "metadata": {
        "id": "view-in-github",
        "colab_type": "text"
      },
      "source": [
        "<a href=\"https://colab.research.google.com/github/euguroglu/Machine-Learning-Projects/blob/master/Fraud_detection_unsupervised_learning.ipynb\" target=\"_parent\"><img src=\"https://colab.research.google.com/assets/colab-badge.svg\" alt=\"Open In Colab\"/></a>"
      ]
    },
    {
      "cell_type": "markdown",
      "metadata": {
        "id": "WDsHr4d_MgQv",
        "colab_type": "text"
      },
      "source": [
        "## Importing libraries"
      ]
    },
    {
      "cell_type": "code",
      "metadata": {
        "id": "zu1kHU54MaBk",
        "colab_type": "code",
        "colab": {}
      },
      "source": [
        "%tensorflow_version 2.x"
      ],
      "execution_count": 1,
      "outputs": []
    },
    {
      "cell_type": "code",
      "metadata": {
        "id": "8zMNB7lYMdlL",
        "colab_type": "code",
        "colab": {
          "base_uri": "https://localhost:8080/",
          "height": 71
        },
        "outputId": "2269e6d1-7876-41d7-9847-0d7a992aace5"
      },
      "source": [
        "import pandas as pd\n",
        "import numpy as np\n",
        "import matplotlib.pyplot as plt\n",
        "import seaborn as sns\n",
        "from sklearn.model_selection import train_test_split\n",
        "from sklearn.preprocessing import StandardScaler\n",
        "from tensorflow.keras.models import Sequential, load_model\n",
        "from tensorflow.keras.layers import Dense\n",
        "from tensorflow.keras.callbacks import ModelCheckpoint\n",
        "from sklearn.metrics import confusion_matrix"
      ],
      "execution_count": 2,
      "outputs": [
        {
          "output_type": "stream",
          "text": [
            "/usr/local/lib/python3.6/dist-packages/statsmodels/tools/_testing.py:19: FutureWarning: pandas.util.testing is deprecated. Use the functions in the public API at pandas.testing instead.\n",
            "  import pandas.util.testing as tm\n"
          ],
          "name": "stderr"
        }
      ]
    },
    {
      "cell_type": "markdown",
      "metadata": {
        "id": "8WlmjmyNMko-",
        "colab_type": "text"
      },
      "source": [
        "## Loadind data"
      ]
    },
    {
      "cell_type": "code",
      "metadata": {
        "id": "W8oZmXksMm8I",
        "colab_type": "code",
        "colab": {
          "base_uri": "https://localhost:8080/",
          "height": 34
        },
        "outputId": "49b53797-1820-4a67-80f0-42ba98f9c59f"
      },
      "source": [
        "data = pd.read_csv(\"310_23498_bundle_archive.zip\")\n",
        "data.shape"
      ],
      "execution_count": 8,
      "outputs": [
        {
          "output_type": "execute_result",
          "data": {
            "text/plain": [
              "(284807, 31)"
            ]
          },
          "metadata": {
            "tags": []
          },
          "execution_count": 8
        }
      ]
    },
    {
      "cell_type": "code",
      "metadata": {
        "id": "t3tMpQibM3hX",
        "colab_type": "code",
        "colab": {
          "base_uri": "https://localhost:8080/",
          "height": 224
        },
        "outputId": "d55178fb-a70a-45b8-b61a-be3ff0242457"
      },
      "source": [
        "data.head()"
      ],
      "execution_count": 9,
      "outputs": [
        {
          "output_type": "execute_result",
          "data": {
            "text/html": [
              "<div>\n",
              "<style scoped>\n",
              "    .dataframe tbody tr th:only-of-type {\n",
              "        vertical-align: middle;\n",
              "    }\n",
              "\n",
              "    .dataframe tbody tr th {\n",
              "        vertical-align: top;\n",
              "    }\n",
              "\n",
              "    .dataframe thead th {\n",
              "        text-align: right;\n",
              "    }\n",
              "</style>\n",
              "<table border=\"1\" class=\"dataframe\">\n",
              "  <thead>\n",
              "    <tr style=\"text-align: right;\">\n",
              "      <th></th>\n",
              "      <th>Time</th>\n",
              "      <th>V1</th>\n",
              "      <th>V2</th>\n",
              "      <th>V3</th>\n",
              "      <th>V4</th>\n",
              "      <th>V5</th>\n",
              "      <th>V6</th>\n",
              "      <th>V7</th>\n",
              "      <th>V8</th>\n",
              "      <th>V9</th>\n",
              "      <th>V10</th>\n",
              "      <th>V11</th>\n",
              "      <th>V12</th>\n",
              "      <th>V13</th>\n",
              "      <th>V14</th>\n",
              "      <th>V15</th>\n",
              "      <th>V16</th>\n",
              "      <th>V17</th>\n",
              "      <th>V18</th>\n",
              "      <th>V19</th>\n",
              "      <th>V20</th>\n",
              "      <th>V21</th>\n",
              "      <th>V22</th>\n",
              "      <th>V23</th>\n",
              "      <th>V24</th>\n",
              "      <th>V25</th>\n",
              "      <th>V26</th>\n",
              "      <th>V27</th>\n",
              "      <th>V28</th>\n",
              "      <th>Amount</th>\n",
              "      <th>Class</th>\n",
              "    </tr>\n",
              "  </thead>\n",
              "  <tbody>\n",
              "    <tr>\n",
              "      <th>0</th>\n",
              "      <td>0.0</td>\n",
              "      <td>-1.359807</td>\n",
              "      <td>-0.072781</td>\n",
              "      <td>2.536347</td>\n",
              "      <td>1.378155</td>\n",
              "      <td>-0.338321</td>\n",
              "      <td>0.462388</td>\n",
              "      <td>0.239599</td>\n",
              "      <td>0.098698</td>\n",
              "      <td>0.363787</td>\n",
              "      <td>0.090794</td>\n",
              "      <td>-0.551600</td>\n",
              "      <td>-0.617801</td>\n",
              "      <td>-0.991390</td>\n",
              "      <td>-0.311169</td>\n",
              "      <td>1.468177</td>\n",
              "      <td>-0.470401</td>\n",
              "      <td>0.207971</td>\n",
              "      <td>0.025791</td>\n",
              "      <td>0.403993</td>\n",
              "      <td>0.251412</td>\n",
              "      <td>-0.018307</td>\n",
              "      <td>0.277838</td>\n",
              "      <td>-0.110474</td>\n",
              "      <td>0.066928</td>\n",
              "      <td>0.128539</td>\n",
              "      <td>-0.189115</td>\n",
              "      <td>0.133558</td>\n",
              "      <td>-0.021053</td>\n",
              "      <td>149.62</td>\n",
              "      <td>0</td>\n",
              "    </tr>\n",
              "    <tr>\n",
              "      <th>1</th>\n",
              "      <td>0.0</td>\n",
              "      <td>1.191857</td>\n",
              "      <td>0.266151</td>\n",
              "      <td>0.166480</td>\n",
              "      <td>0.448154</td>\n",
              "      <td>0.060018</td>\n",
              "      <td>-0.082361</td>\n",
              "      <td>-0.078803</td>\n",
              "      <td>0.085102</td>\n",
              "      <td>-0.255425</td>\n",
              "      <td>-0.166974</td>\n",
              "      <td>1.612727</td>\n",
              "      <td>1.065235</td>\n",
              "      <td>0.489095</td>\n",
              "      <td>-0.143772</td>\n",
              "      <td>0.635558</td>\n",
              "      <td>0.463917</td>\n",
              "      <td>-0.114805</td>\n",
              "      <td>-0.183361</td>\n",
              "      <td>-0.145783</td>\n",
              "      <td>-0.069083</td>\n",
              "      <td>-0.225775</td>\n",
              "      <td>-0.638672</td>\n",
              "      <td>0.101288</td>\n",
              "      <td>-0.339846</td>\n",
              "      <td>0.167170</td>\n",
              "      <td>0.125895</td>\n",
              "      <td>-0.008983</td>\n",
              "      <td>0.014724</td>\n",
              "      <td>2.69</td>\n",
              "      <td>0</td>\n",
              "    </tr>\n",
              "    <tr>\n",
              "      <th>2</th>\n",
              "      <td>1.0</td>\n",
              "      <td>-1.358354</td>\n",
              "      <td>-1.340163</td>\n",
              "      <td>1.773209</td>\n",
              "      <td>0.379780</td>\n",
              "      <td>-0.503198</td>\n",
              "      <td>1.800499</td>\n",
              "      <td>0.791461</td>\n",
              "      <td>0.247676</td>\n",
              "      <td>-1.514654</td>\n",
              "      <td>0.207643</td>\n",
              "      <td>0.624501</td>\n",
              "      <td>0.066084</td>\n",
              "      <td>0.717293</td>\n",
              "      <td>-0.165946</td>\n",
              "      <td>2.345865</td>\n",
              "      <td>-2.890083</td>\n",
              "      <td>1.109969</td>\n",
              "      <td>-0.121359</td>\n",
              "      <td>-2.261857</td>\n",
              "      <td>0.524980</td>\n",
              "      <td>0.247998</td>\n",
              "      <td>0.771679</td>\n",
              "      <td>0.909412</td>\n",
              "      <td>-0.689281</td>\n",
              "      <td>-0.327642</td>\n",
              "      <td>-0.139097</td>\n",
              "      <td>-0.055353</td>\n",
              "      <td>-0.059752</td>\n",
              "      <td>378.66</td>\n",
              "      <td>0</td>\n",
              "    </tr>\n",
              "    <tr>\n",
              "      <th>3</th>\n",
              "      <td>1.0</td>\n",
              "      <td>-0.966272</td>\n",
              "      <td>-0.185226</td>\n",
              "      <td>1.792993</td>\n",
              "      <td>-0.863291</td>\n",
              "      <td>-0.010309</td>\n",
              "      <td>1.247203</td>\n",
              "      <td>0.237609</td>\n",
              "      <td>0.377436</td>\n",
              "      <td>-1.387024</td>\n",
              "      <td>-0.054952</td>\n",
              "      <td>-0.226487</td>\n",
              "      <td>0.178228</td>\n",
              "      <td>0.507757</td>\n",
              "      <td>-0.287924</td>\n",
              "      <td>-0.631418</td>\n",
              "      <td>-1.059647</td>\n",
              "      <td>-0.684093</td>\n",
              "      <td>1.965775</td>\n",
              "      <td>-1.232622</td>\n",
              "      <td>-0.208038</td>\n",
              "      <td>-0.108300</td>\n",
              "      <td>0.005274</td>\n",
              "      <td>-0.190321</td>\n",
              "      <td>-1.175575</td>\n",
              "      <td>0.647376</td>\n",
              "      <td>-0.221929</td>\n",
              "      <td>0.062723</td>\n",
              "      <td>0.061458</td>\n",
              "      <td>123.50</td>\n",
              "      <td>0</td>\n",
              "    </tr>\n",
              "    <tr>\n",
              "      <th>4</th>\n",
              "      <td>2.0</td>\n",
              "      <td>-1.158233</td>\n",
              "      <td>0.877737</td>\n",
              "      <td>1.548718</td>\n",
              "      <td>0.403034</td>\n",
              "      <td>-0.407193</td>\n",
              "      <td>0.095921</td>\n",
              "      <td>0.592941</td>\n",
              "      <td>-0.270533</td>\n",
              "      <td>0.817739</td>\n",
              "      <td>0.753074</td>\n",
              "      <td>-0.822843</td>\n",
              "      <td>0.538196</td>\n",
              "      <td>1.345852</td>\n",
              "      <td>-1.119670</td>\n",
              "      <td>0.175121</td>\n",
              "      <td>-0.451449</td>\n",
              "      <td>-0.237033</td>\n",
              "      <td>-0.038195</td>\n",
              "      <td>0.803487</td>\n",
              "      <td>0.408542</td>\n",
              "      <td>-0.009431</td>\n",
              "      <td>0.798278</td>\n",
              "      <td>-0.137458</td>\n",
              "      <td>0.141267</td>\n",
              "      <td>-0.206010</td>\n",
              "      <td>0.502292</td>\n",
              "      <td>0.219422</td>\n",
              "      <td>0.215153</td>\n",
              "      <td>69.99</td>\n",
              "      <td>0</td>\n",
              "    </tr>\n",
              "  </tbody>\n",
              "</table>\n",
              "</div>"
            ],
            "text/plain": [
              "   Time        V1        V2        V3  ...       V27       V28  Amount  Class\n",
              "0   0.0 -1.359807 -0.072781  2.536347  ...  0.133558 -0.021053  149.62      0\n",
              "1   0.0  1.191857  0.266151  0.166480  ... -0.008983  0.014724    2.69      0\n",
              "2   1.0 -1.358354 -1.340163  1.773209  ... -0.055353 -0.059752  378.66      0\n",
              "3   1.0 -0.966272 -0.185226  1.792993  ...  0.062723  0.061458  123.50      0\n",
              "4   2.0 -1.158233  0.877737  1.548718  ...  0.219422  0.215153   69.99      0\n",
              "\n",
              "[5 rows x 31 columns]"
            ]
          },
          "metadata": {
            "tags": []
          },
          "execution_count": 9
        }
      ]
    },
    {
      "cell_type": "code",
      "metadata": {
        "id": "92voy6_wM6mr",
        "colab_type": "code",
        "colab": {
          "base_uri": "https://localhost:8080/",
          "height": 162
        },
        "outputId": "b99c96f1-b8e9-48a7-c91a-5b69cd430606"
      },
      "source": [
        "data.groupby(['Class']).count()"
      ],
      "execution_count": 10,
      "outputs": [
        {
          "output_type": "execute_result",
          "data": {
            "text/html": [
              "<div>\n",
              "<style scoped>\n",
              "    .dataframe tbody tr th:only-of-type {\n",
              "        vertical-align: middle;\n",
              "    }\n",
              "\n",
              "    .dataframe tbody tr th {\n",
              "        vertical-align: top;\n",
              "    }\n",
              "\n",
              "    .dataframe thead th {\n",
              "        text-align: right;\n",
              "    }\n",
              "</style>\n",
              "<table border=\"1\" class=\"dataframe\">\n",
              "  <thead>\n",
              "    <tr style=\"text-align: right;\">\n",
              "      <th></th>\n",
              "      <th>Time</th>\n",
              "      <th>V1</th>\n",
              "      <th>V2</th>\n",
              "      <th>V3</th>\n",
              "      <th>V4</th>\n",
              "      <th>V5</th>\n",
              "      <th>V6</th>\n",
              "      <th>V7</th>\n",
              "      <th>V8</th>\n",
              "      <th>V9</th>\n",
              "      <th>V10</th>\n",
              "      <th>V11</th>\n",
              "      <th>V12</th>\n",
              "      <th>V13</th>\n",
              "      <th>V14</th>\n",
              "      <th>V15</th>\n",
              "      <th>V16</th>\n",
              "      <th>V17</th>\n",
              "      <th>V18</th>\n",
              "      <th>V19</th>\n",
              "      <th>V20</th>\n",
              "      <th>V21</th>\n",
              "      <th>V22</th>\n",
              "      <th>V23</th>\n",
              "      <th>V24</th>\n",
              "      <th>V25</th>\n",
              "      <th>V26</th>\n",
              "      <th>V27</th>\n",
              "      <th>V28</th>\n",
              "      <th>Amount</th>\n",
              "    </tr>\n",
              "    <tr>\n",
              "      <th>Class</th>\n",
              "      <th></th>\n",
              "      <th></th>\n",
              "      <th></th>\n",
              "      <th></th>\n",
              "      <th></th>\n",
              "      <th></th>\n",
              "      <th></th>\n",
              "      <th></th>\n",
              "      <th></th>\n",
              "      <th></th>\n",
              "      <th></th>\n",
              "      <th></th>\n",
              "      <th></th>\n",
              "      <th></th>\n",
              "      <th></th>\n",
              "      <th></th>\n",
              "      <th></th>\n",
              "      <th></th>\n",
              "      <th></th>\n",
              "      <th></th>\n",
              "      <th></th>\n",
              "      <th></th>\n",
              "      <th></th>\n",
              "      <th></th>\n",
              "      <th></th>\n",
              "      <th></th>\n",
              "      <th></th>\n",
              "      <th></th>\n",
              "      <th></th>\n",
              "      <th></th>\n",
              "    </tr>\n",
              "  </thead>\n",
              "  <tbody>\n",
              "    <tr>\n",
              "      <th>0</th>\n",
              "      <td>284315</td>\n",
              "      <td>284315</td>\n",
              "      <td>284315</td>\n",
              "      <td>284315</td>\n",
              "      <td>284315</td>\n",
              "      <td>284315</td>\n",
              "      <td>284315</td>\n",
              "      <td>284315</td>\n",
              "      <td>284315</td>\n",
              "      <td>284315</td>\n",
              "      <td>284315</td>\n",
              "      <td>284315</td>\n",
              "      <td>284315</td>\n",
              "      <td>284315</td>\n",
              "      <td>284315</td>\n",
              "      <td>284315</td>\n",
              "      <td>284315</td>\n",
              "      <td>284315</td>\n",
              "      <td>284315</td>\n",
              "      <td>284315</td>\n",
              "      <td>284315</td>\n",
              "      <td>284315</td>\n",
              "      <td>284315</td>\n",
              "      <td>284315</td>\n",
              "      <td>284315</td>\n",
              "      <td>284315</td>\n",
              "      <td>284315</td>\n",
              "      <td>284315</td>\n",
              "      <td>284315</td>\n",
              "      <td>284315</td>\n",
              "    </tr>\n",
              "    <tr>\n",
              "      <th>1</th>\n",
              "      <td>492</td>\n",
              "      <td>492</td>\n",
              "      <td>492</td>\n",
              "      <td>492</td>\n",
              "      <td>492</td>\n",
              "      <td>492</td>\n",
              "      <td>492</td>\n",
              "      <td>492</td>\n",
              "      <td>492</td>\n",
              "      <td>492</td>\n",
              "      <td>492</td>\n",
              "      <td>492</td>\n",
              "      <td>492</td>\n",
              "      <td>492</td>\n",
              "      <td>492</td>\n",
              "      <td>492</td>\n",
              "      <td>492</td>\n",
              "      <td>492</td>\n",
              "      <td>492</td>\n",
              "      <td>492</td>\n",
              "      <td>492</td>\n",
              "      <td>492</td>\n",
              "      <td>492</td>\n",
              "      <td>492</td>\n",
              "      <td>492</td>\n",
              "      <td>492</td>\n",
              "      <td>492</td>\n",
              "      <td>492</td>\n",
              "      <td>492</td>\n",
              "      <td>492</td>\n",
              "    </tr>\n",
              "  </tbody>\n",
              "</table>\n",
              "</div>"
            ],
            "text/plain": [
              "         Time      V1      V2      V3  ...     V26     V27     V28  Amount\n",
              "Class                                  ...                                \n",
              "0      284315  284315  284315  284315  ...  284315  284315  284315  284315\n",
              "1         492     492     492     492  ...     492     492     492     492\n",
              "\n",
              "[2 rows x 30 columns]"
            ]
          },
          "metadata": {
            "tags": []
          },
          "execution_count": 10
        }
      ]
    },
    {
      "cell_type": "markdown",
      "metadata": {
        "id": "BUo6zLPIM_IJ",
        "colab_type": "text"
      },
      "source": [
        "## Normalizing data"
      ]
    },
    {
      "cell_type": "code",
      "metadata": {
        "id": "pd8XzE38NBgj",
        "colab_type": "code",
        "colab": {}
      },
      "source": [
        "data = data.drop(['Time'], axis=1) #Also we dont required Time data\n",
        "data['Amount'] = StandardScaler().fit_transform(data['Amount'].values.reshape(-1, 1)) "
      ],
      "execution_count": 11,
      "outputs": []
    },
    {
      "cell_type": "markdown",
      "metadata": {
        "id": "7Jo1TeKLNZyQ",
        "colab_type": "text"
      },
      "source": [
        "## Auto Encoder data preperation"
      ]
    },
    {
      "cell_type": "code",
      "metadata": {
        "id": "Lc4xmlF5NXZq",
        "colab_type": "code",
        "colab": {
          "base_uri": "https://localhost:8080/",
          "height": 34
        },
        "outputId": "f6adf10c-3a37-468e-cb2d-4a658f489d95"
      },
      "source": [
        "X_train, X_test = train_test_split(data, test_size=0.2, random_state=0) #Data split between train and test set\n",
        "X_train = X_train.drop(['Class'], axis=1) #Class is not required in train data set since it is label data\n",
        "y_test = X_test['Class'] #specifying label data set for prediction\n",
        "X_test = X_test.drop(['Class'], axis=1) #same class is not required in test data set\n",
        "X_train = X_train.values #changing dataframe into array\n",
        "X_test = X_test.values #changing dataframe into array\n",
        "X_train.shape"
      ],
      "execution_count": 12,
      "outputs": [
        {
          "output_type": "execute_result",
          "data": {
            "text/plain": [
              "(227845, 29)"
            ]
          },
          "metadata": {
            "tags": []
          },
          "execution_count": 12
        }
      ]
    },
    {
      "cell_type": "markdown",
      "metadata": {
        "id": "rxNAGgkbN-TE",
        "colab_type": "text"
      },
      "source": [
        "## Autoencoder Model"
      ]
    },
    {
      "cell_type": "markdown",
      "metadata": {
        "id": "XJHqid07nphz",
        "colab_type": "text"
      },
      "source": [
        "Below is standart model for autoencoder with 4 layers"
      ]
    },
    {
      "cell_type": "code",
      "metadata": {
        "id": "B3vLmKG4OAla",
        "colab_type": "code",
        "colab": {}
      },
      "source": [
        "input_dim = X_train.shape[1]\n",
        "encoding_dim = 20\n",
        "\n",
        "model = Sequential()\n",
        "model.add(Dense(encoding_dim, activation=\"relu\", input_shape=(input_dim,)))\n",
        "model.add(Dense(int(encoding_dim / 2), activation=\"relu\"))\n",
        "model.add(Dense(int(encoding_dim / 2), activation='relu'))\n",
        "model.add(Dense(input_dim, activation='relu'))\n",
        "\n",
        "model.summary()"
      ],
      "execution_count": null,
      "outputs": []
    },
    {
      "cell_type": "code",
      "metadata": {
        "id": "Sdylg30utDPs",
        "colab_type": "code",
        "colab": {
          "base_uri": "https://localhost:8080/",
          "height": 1000
        },
        "outputId": "259faad9-fa93-4aa5-886c-22d08fb1416f"
      },
      "source": [
        "nb_epoch = 40\n",
        "batch_size = 32\n",
        "\n",
        "model.compile(optimizer='adam', loss='mean_squared_error', metrics=['acc'])\n",
        "\n",
        "history = model.fit(X_train, X_train,\n",
        "                    epochs=nb_epoch,\n",
        "                    batch_size=batch_size,\n",
        "                    validation_data=(X_test, X_test),\n",
        "                    verbose=1)\n",
        "\n",
        "autoencoder = model"
      ],
      "execution_count": 14,
      "outputs": [
        {
          "output_type": "stream",
          "text": [
            "Epoch 1/40\n",
            "7121/7121 [==============================] - 9s 1ms/step - loss: 0.8239 - acc: 0.6117 - val_loss: 0.7814 - val_acc: 0.7145\n",
            "Epoch 2/40\n",
            "7121/7121 [==============================] - 9s 1ms/step - loss: 0.7562 - acc: 0.7315 - val_loss: 0.7560 - val_acc: 0.7510\n",
            "Epoch 3/40\n",
            "7121/7121 [==============================] - 9s 1ms/step - loss: 0.7373 - acc: 0.7594 - val_loss: 0.7401 - val_acc: 0.7669\n",
            "Epoch 4/40\n",
            "7121/7121 [==============================] - 9s 1ms/step - loss: 0.7294 - acc: 0.7681 - val_loss: 0.7380 - val_acc: 0.7724\n",
            "Epoch 5/40\n",
            "7121/7121 [==============================] - 9s 1ms/step - loss: 0.7263 - acc: 0.7729 - val_loss: 0.7364 - val_acc: 0.7686\n",
            "Epoch 6/40\n",
            "7121/7121 [==============================] - 9s 1ms/step - loss: 0.7244 - acc: 0.7720 - val_loss: 0.7351 - val_acc: 0.7698\n",
            "Epoch 7/40\n",
            "7121/7121 [==============================] - 9s 1ms/step - loss: 0.7231 - acc: 0.7750 - val_loss: 0.7326 - val_acc: 0.7795\n",
            "Epoch 8/40\n",
            "7121/7121 [==============================] - 9s 1ms/step - loss: 0.7216 - acc: 0.7783 - val_loss: 0.7308 - val_acc: 0.7853\n",
            "Epoch 9/40\n",
            "7121/7121 [==============================] - 9s 1ms/step - loss: 0.7213 - acc: 0.7794 - val_loss: 0.7303 - val_acc: 0.7849\n",
            "Epoch 10/40\n",
            "7121/7121 [==============================] - 9s 1ms/step - loss: 0.7204 - acc: 0.7818 - val_loss: 0.7308 - val_acc: 0.7846\n",
            "Epoch 11/40\n",
            "7121/7121 [==============================] - 9s 1ms/step - loss: 0.7194 - acc: 0.7801 - val_loss: 0.7365 - val_acc: 0.7704\n",
            "Epoch 12/40\n",
            "7121/7121 [==============================] - 9s 1ms/step - loss: 0.7198 - acc: 0.7775 - val_loss: 0.7373 - val_acc: 0.7775\n",
            "Epoch 13/40\n",
            "7121/7121 [==============================] - 9s 1ms/step - loss: 0.7193 - acc: 0.7779 - val_loss: 0.7286 - val_acc: 0.7776\n",
            "Epoch 14/40\n",
            "7121/7121 [==============================] - 9s 1ms/step - loss: 0.7181 - acc: 0.7781 - val_loss: 0.7275 - val_acc: 0.7840\n",
            "Epoch 15/40\n",
            "7121/7121 [==============================] - 9s 1ms/step - loss: 0.7178 - acc: 0.7781 - val_loss: 0.7282 - val_acc: 0.7822\n",
            "Epoch 16/40\n",
            "7121/7121 [==============================] - 9s 1ms/step - loss: 0.7180 - acc: 0.7790 - val_loss: 0.7297 - val_acc: 0.7806\n",
            "Epoch 17/40\n",
            "7121/7121 [==============================] - 9s 1ms/step - loss: 0.7217 - acc: 0.7786 - val_loss: 0.7273 - val_acc: 0.7793\n",
            "Epoch 18/40\n",
            "7121/7121 [==============================] - 9s 1ms/step - loss: 0.7173 - acc: 0.7788 - val_loss: 0.7271 - val_acc: 0.7799\n",
            "Epoch 19/40\n",
            "7121/7121 [==============================] - 9s 1ms/step - loss: 0.7174 - acc: 0.7791 - val_loss: 0.7263 - val_acc: 0.7850\n",
            "Epoch 20/40\n",
            "7121/7121 [==============================] - 9s 1ms/step - loss: 0.7202 - acc: 0.7798 - val_loss: 0.7296 - val_acc: 0.7823\n",
            "Epoch 21/40\n",
            "7121/7121 [==============================] - 10s 1ms/step - loss: 0.7175 - acc: 0.7802 - val_loss: 0.7264 - val_acc: 0.7852\n",
            "Epoch 22/40\n",
            "7121/7121 [==============================] - 10s 1ms/step - loss: 0.7170 - acc: 0.7803 - val_loss: 0.7266 - val_acc: 0.7861\n",
            "Epoch 23/40\n",
            "7121/7121 [==============================] - 9s 1ms/step - loss: 0.7168 - acc: 0.7798 - val_loss: 0.7268 - val_acc: 0.7808\n",
            "Epoch 24/40\n",
            "7121/7121 [==============================] - 9s 1ms/step - loss: 0.7165 - acc: 0.7799 - val_loss: 0.7260 - val_acc: 0.7833\n",
            "Epoch 25/40\n",
            "7121/7121 [==============================] - 10s 1ms/step - loss: 0.7182 - acc: 0.7795 - val_loss: 0.7271 - val_acc: 0.7811\n",
            "Epoch 26/40\n",
            "7121/7121 [==============================] - 9s 1ms/step - loss: 0.7165 - acc: 0.7798 - val_loss: 0.7266 - val_acc: 0.7804\n",
            "Epoch 27/40\n",
            "7121/7121 [==============================] - 9s 1ms/step - loss: 0.7165 - acc: 0.7785 - val_loss: 0.7314 - val_acc: 0.7647\n",
            "Epoch 28/40\n",
            "7121/7121 [==============================] - 9s 1ms/step - loss: 0.7162 - acc: 0.7801 - val_loss: 0.7266 - val_acc: 0.7856\n",
            "Epoch 29/40\n",
            "7121/7121 [==============================] - 9s 1ms/step - loss: 0.7165 - acc: 0.7787 - val_loss: 0.7257 - val_acc: 0.7837\n",
            "Epoch 30/40\n",
            "7121/7121 [==============================] - 9s 1ms/step - loss: 0.7194 - acc: 0.7800 - val_loss: 0.7261 - val_acc: 0.7864\n",
            "Epoch 31/40\n",
            "7121/7121 [==============================] - 9s 1ms/step - loss: 0.7159 - acc: 0.7798 - val_loss: 0.7264 - val_acc: 0.7833\n",
            "Epoch 32/40\n",
            "7121/7121 [==============================] - 9s 1ms/step - loss: 0.7160 - acc: 0.7803 - val_loss: 0.7256 - val_acc: 0.7820\n",
            "Epoch 33/40\n",
            "7121/7121 [==============================] - 9s 1ms/step - loss: 0.7159 - acc: 0.7795 - val_loss: 0.7284 - val_acc: 0.7732\n",
            "Epoch 34/40\n",
            "7121/7121 [==============================] - 9s 1ms/step - loss: 0.7159 - acc: 0.7795 - val_loss: 0.7253 - val_acc: 0.7840\n",
            "Epoch 35/40\n",
            "7121/7121 [==============================] - 9s 1ms/step - loss: 0.7166 - acc: 0.7788 - val_loss: 0.7262 - val_acc: 0.7859\n",
            "Epoch 36/40\n",
            "7121/7121 [==============================] - 9s 1ms/step - loss: 0.7180 - acc: 0.7790 - val_loss: 0.7254 - val_acc: 0.7827\n",
            "Epoch 37/40\n",
            "7121/7121 [==============================] - 9s 1ms/step - loss: 0.7154 - acc: 0.7780 - val_loss: 0.7242 - val_acc: 0.7828\n",
            "Epoch 38/40\n",
            "7121/7121 [==============================] - 9s 1ms/step - loss: 0.7152 - acc: 0.7787 - val_loss: 0.7248 - val_acc: 0.7826\n",
            "Epoch 39/40\n",
            "7121/7121 [==============================] - 9s 1ms/step - loss: 0.7152 - acc: 0.7777 - val_loss: 0.7252 - val_acc: 0.7768\n",
            "Epoch 40/40\n",
            "7121/7121 [==============================] - 9s 1ms/step - loss: 0.7146 - acc: 0.7764 - val_loss: 0.7232 - val_acc: 0.7818\n"
          ],
          "name": "stdout"
        }
      ]
    },
    {
      "cell_type": "code",
      "metadata": {
        "id": "qojQfUQ0uuoy",
        "colab_type": "code",
        "colab": {
          "base_uri": "https://localhost:8080/",
          "height": 295
        },
        "outputId": "1d3f4f39-e2f4-4f94-e6a9-063909fc045a"
      },
      "source": [
        "# summarize history for accuracy\n",
        "plt.plot(history.history['acc'])\n",
        "plt.plot(history.history['val_acc'])\n",
        "plt.title('Model accuracy')\n",
        "plt.ylabel('Accuracy')\n",
        "plt.xlabel('Epoch')\n",
        "plt.legend(['Train', 'Test'], loc='upper left')\n",
        "plt.show()"
      ],
      "execution_count": 15,
      "outputs": [
        {
          "output_type": "display_data",
          "data": {
            "image/png": "[encoded data removed]",
            "text/plain": [
              "<Figure size 432x288 with 1 Axes>"
            ]
          },
          "metadata": {
            "tags": [],
            "needs_background": "light"
          }
        }
      ]
    },
    {
      "cell_type": "markdown",
      "metadata": {
        "id": "GMshM_djxMkE",
        "colab_type": "text"
      },
      "source": [
        "## Prediction"
      ]
    },
    {
      "cell_type": "markdown",
      "metadata": {
        "id": "hSsc2LF0xT2-",
        "colab_type": "text"
      },
      "source": [
        "Predictions are made on the test set. The mean-squared error (MSE) is calculated between the test set and their predictions. If the MSE is high, it's a potential irregularity that might suggest fraud. It's not perfect, there will be false positives and false negatives."
      ]
    },
    {
      "cell_type": "code",
      "metadata": {
        "id": "NPFeuJuJxN59",
        "colab_type": "code",
        "colab": {}
      },
      "source": [
        "predictions = autoencoder.predict(X_test)\n",
        "mse = np.mean(np.power(X_test - predictions, 2), axis=1)\n",
        "error_df = pd.DataFrame({'reconstruction_error': mse, 'true_class': y_test})"
      ],
      "execution_count": 16,
      "outputs": []
    },
    {
      "cell_type": "code",
      "metadata": {
        "id": "P_uSHl71y3PW",
        "colab_type": "code",
        "colab": {
          "base_uri": "https://localhost:8080/",
          "height": 204
        },
        "outputId": "0ad397d1-5a83-41f0-f73b-177533eecafe"
      },
      "source": [
        "error_df.head()"
      ],
      "execution_count": 21,
      "outputs": [
        {
          "output_type": "execute_result",
          "data": {
            "text/html": [
              "<div>\n",
              "<style scoped>\n",
              "    .dataframe tbody tr th:only-of-type {\n",
              "        vertical-align: middle;\n",
              "    }\n",
              "\n",
              "    .dataframe tbody tr th {\n",
              "        vertical-align: top;\n",
              "    }\n",
              "\n",
              "    .dataframe thead th {\n",
              "        text-align: right;\n",
              "    }\n",
              "</style>\n",
              "<table border=\"1\" class=\"dataframe\">\n",
              "  <thead>\n",
              "    <tr style=\"text-align: right;\">\n",
              "      <th></th>\n",
              "      <th>reconstruction_error</th>\n",
              "      <th>true_class</th>\n",
              "    </tr>\n",
              "  </thead>\n",
              "  <tbody>\n",
              "    <tr>\n",
              "      <th>183484</th>\n",
              "      <td>0.290310</td>\n",
              "      <td>0</td>\n",
              "    </tr>\n",
              "    <tr>\n",
              "      <th>255448</th>\n",
              "      <td>0.225183</td>\n",
              "      <td>0</td>\n",
              "    </tr>\n",
              "    <tr>\n",
              "      <th>244749</th>\n",
              "      <td>1.047568</td>\n",
              "      <td>0</td>\n",
              "    </tr>\n",
              "    <tr>\n",
              "      <th>63919</th>\n",
              "      <td>0.541144</td>\n",
              "      <td>0</td>\n",
              "    </tr>\n",
              "    <tr>\n",
              "      <th>11475</th>\n",
              "      <td>0.694220</td>\n",
              "      <td>0</td>\n",
              "    </tr>\n",
              "  </tbody>\n",
              "</table>\n",
              "</div>"
            ],
            "text/plain": [
              "        reconstruction_error  true_class\n",
              "183484              0.290310           0\n",
              "255448              0.225183           0\n",
              "244749              1.047568           0\n",
              "63919               0.541144           0\n",
              "11475               0.694220           0"
            ]
          },
          "metadata": {
            "tags": []
          },
          "execution_count": 21
        }
      ]
    },
    {
      "cell_type": "code",
      "metadata": {
        "id": "uZbtAmeQy4Ej",
        "colab_type": "code",
        "colab": {
          "base_uri": "https://localhost:8080/",
          "height": 513
        },
        "outputId": "1ce47952-3925-440f-90c0-03e1e1866dd3"
      },
      "source": [
        "threshold = 6.0\n",
        "\n",
        "groups = error_df.groupby('true_class')\n",
        "fig, ax = plt.subplots(figsize=(12, 8))\n",
        "\n",
        "for name, group in groups:\n",
        "    ax.plot(group.index, group.reconstruction_error, marker='o', ms=2.0, linestyle='',\n",
        "            label = \"Fraud\" if name == 1 else \"Normal\",\n",
        "            color = \"red\" if name == 1 else \"blue\")\n",
        "ax.hlines(threshold, ax.get_xlim()[0], ax.get_xlim()[1], colors=\"green\", zorder=100, label='Threshold')\n",
        "ax.legend()\n",
        "plt.title(\"Reconstruction error for different classes\")\n",
        "plt.ylabel(\"Reconstruction error\")\n",
        "plt.xlabel(\"Data point index\")\n",
        "plt.show();"
      ],
      "execution_count": 34,
      "outputs": [
        {
          "output_type": "display_data",
          "data": {
            "image/png": "[encoded data removed]",
            "text/plain": [
              "<Figure size 864x576 with 1 Axes>"
            ]
          },
          "metadata": {
            "tags": [],
            "needs_background": "light"
          }
        }
      ]
    },
    {
      "cell_type": "code",
      "metadata": {
        "id": "-iobGAZj3QQ2",
        "colab_type": "code",
        "colab": {
          "base_uri": "https://localhost:8080/",
          "height": 34
        },
        "outputId": "63855b7d-6841-4f82-9f6f-a456323c9e22"
      },
      "source": [
        "normal = error_df[error_df.true_class == 0]\n",
        "fraud = error_df[error_df.true_class == 1]\n",
        "\n",
        "print('Normal transactions: %d, fraud transactions: %d' % (len(normal), len(fraud)))"
      ],
      "execution_count": 38,
      "outputs": [
        {
          "output_type": "stream",
          "text": [
            "Normal transactions: 56861, fraud transactions: 101\n"
          ],
          "name": "stdout"
        }
      ]
    },
    {
      "cell_type": "code",
      "metadata": {
        "id": "EUOw_OL_3Vuz",
        "colab_type": "code",
        "colab": {
          "base_uri": "https://localhost:8080/",
          "height": 51
        },
        "outputId": "eb465642-faa2-41c8-d608-75d058894adf"
      },
      "source": [
        "true_positives = len(fraud[fraud.reconstruction_error >= threshold])\n",
        "false_positives = len(normal[normal.reconstruction_error >= threshold])\n",
        "\n",
        "true_negatives = len(normal[normal.reconstruction_error < threshold])\n",
        "false_negatives = len(fraud[fraud.reconstruction_error < threshold])\n",
        "\n",
        "print('True positives: %d, true negatives: %d' % (true_positives, true_negatives))\n",
        "print('False positives: %d, false negatives: %d' % (false_positives, false_negatives))"
      ],
      "execution_count": 39,
      "outputs": [
        {
          "output_type": "stream",
          "text": [
            "True positives: 61, true negatives: 56297\n",
            "False positives: 564, false negatives: 40\n"
          ],
          "name": "stdout"
        }
      ]
    },
    {
      "cell_type": "markdown",
      "metadata": {
        "id": "Y37d5pPT_Qdz",
        "colab_type": "text"
      },
      "source": [
        "## Confusion matrix"
      ]
    },
    {
      "cell_type": "code",
      "metadata": {
        "id": "JT6svepL_GSY",
        "colab_type": "code",
        "colab": {
          "base_uri": "https://localhost:8080/",
          "height": 350
        },
        "outputId": "5edb7226-dec4-4284-a40c-7b442a1426f1"
      },
      "source": [
        "labels = [\"Normal\", \"Fraud\"]\n",
        "\n",
        "y_pred = [1 if e > threshold else 0 for e in error_df.reconstruction_error.values]\n",
        "conf_matrix = confusion_matrix(error_df.true_class, y_pred)\n",
        "\n",
        "plt.figure(figsize=(6, 5))\n",
        "sns.heatmap(conf_matrix, xticklabels=labels, yticklabels=labels, annot=True, fmt=\"d\");\n",
        "plt.title(\"Confusion matrix\")\n",
        "plt.ylabel('True class')\n",
        "plt.xlabel('Predicted class')\n",
        "plt.show()"
      ],
      "execution_count": 40,
      "outputs": [
        {
          "output_type": "display_data",
          "data": {
            "image/png": "[encoded data removed]",
            "text/plain": [
              "<Figure size 432x360 with 2 Axes>"
            ]
          },
          "metadata": {
            "tags": [],
            "needs_background": "light"
          }
        }
      ]
    }
  ]
}