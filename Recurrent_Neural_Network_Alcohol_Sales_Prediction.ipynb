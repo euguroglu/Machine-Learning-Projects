{
  "nbformat": 4,
  "nbformat_minor": 0,
  "metadata": {
    "colab": {
      "name": "Recurrent_Neural_Network_Alcohol_Sales_Prediction.ipynb",
      "provenance": [],
      "authorship_tag": "ABX9TyMeVwbWIylHg4OC4FzyZ4nx",
      "include_colab_link": true
    },
    "kernelspec": {
      "name": "python3",
      "display_name": "Python 3"
    }
  },
  "cells": [
    {
      "cell_type": "markdown",
      "metadata": {
        "id": "view-in-github",
        "colab_type": "text"
      },
      "source": [
        "<a href=\"https://colab.research.google.com/github/euguroglu/Machine-Learning-Projects/blob/master/Recurrent_Neural_Network_Alcohol_Sales_Prediction.ipynb\" target=\"_parent\"><img src=\"https://colab.research.google.com/assets/colab-badge.svg\" alt=\"Open In Colab\"/></a>"
      ]
    },
    {
      "cell_type": "markdown",
      "metadata": {
        "id": "v8r4ZDAie2c0",
        "colab_type": "text"
      },
      "source": [
        "## Importin libraries"
      ]
    },
    {
      "cell_type": "code",
      "metadata": {
        "id": "JW1d_YaCNajC",
        "colab_type": "code",
        "colab": {}
      },
      "source": [
        "import torch\n",
        "import torch.nn as nn\n",
        "import numpy as np\n",
        "import pandas as pd\n",
        "import matplotlib.pyplot as plt\n",
        "from pandas.plotting import register_matplotlib_converters\n",
        "register_matplotlib_converters()"
      ],
      "execution_count": 1,
      "outputs": []
    },
    {
      "cell_type": "markdown",
      "metadata": {
        "id": "qqcLpmxxe6Mz",
        "colab_type": "text"
      },
      "source": [
        "## Data visualization"
      ]
    },
    {
      "cell_type": "code",
      "metadata": {
        "id": "NC9ZWI1ONorp",
        "colab_type": "code",
        "colab": {}
      },
      "source": [
        "df = pd.read_csv('Alcohol_Sales.csv',index_col=0,parse_dates=True)"
      ],
      "execution_count": 2,
      "outputs": []
    },
    {
      "cell_type": "code",
      "metadata": {
        "id": "zJGvMfKZOFwy",
        "colab_type": "code",
        "colab": {
          "base_uri": "https://localhost:8080/",
          "height": 235
        },
        "outputId": "b3753bcc-b64c-4b19-b325-763710109bf6"
      },
      "source": [
        "df.head()"
      ],
      "execution_count": 3,
      "outputs": [
        {
          "output_type": "execute_result",
          "data": {
            "text/html": [
              "<div>\n",
              "<style scoped>\n",
              "    .dataframe tbody tr th:only-of-type {\n",
              "        vertical-align: middle;\n",
              "    }\n",
              "\n",
              "    .dataframe tbody tr th {\n",
              "        vertical-align: top;\n",
              "    }\n",
              "\n",
              "    .dataframe thead th {\n",
              "        text-align: right;\n",
              "    }\n",
              "</style>\n",
              "<table border=\"1\" class=\"dataframe\">\n",
              "  <thead>\n",
              "    <tr style=\"text-align: right;\">\n",
              "      <th></th>\n",
              "      <th>S4248SM144NCEN</th>\n",
              "    </tr>\n",
              "    <tr>\n",
              "      <th>DATE</th>\n",
              "      <th></th>\n",
              "    </tr>\n",
              "  </thead>\n",
              "  <tbody>\n",
              "    <tr>\n",
              "      <th>1992-01-01</th>\n",
              "      <td>3459</td>\n",
              "    </tr>\n",
              "    <tr>\n",
              "      <th>1992-02-01</th>\n",
              "      <td>3458</td>\n",
              "    </tr>\n",
              "    <tr>\n",
              "      <th>1992-03-01</th>\n",
              "      <td>4002</td>\n",
              "    </tr>\n",
              "    <tr>\n",
              "      <th>1992-04-01</th>\n",
              "      <td>4564</td>\n",
              "    </tr>\n",
              "    <tr>\n",
              "      <th>1992-05-01</th>\n",
              "      <td>4221</td>\n",
              "    </tr>\n",
              "  </tbody>\n",
              "</table>\n",
              "</div>"
            ],
            "text/plain": [
              "            S4248SM144NCEN\n",
              "DATE                      \n",
              "1992-01-01            3459\n",
              "1992-02-01            3458\n",
              "1992-03-01            4002\n",
              "1992-04-01            4564\n",
              "1992-05-01            4221"
            ]
          },
          "metadata": {
            "tags": []
          },
          "execution_count": 3
        }
      ]
    },
    {
      "cell_type": "code",
      "metadata": {
        "id": "BmHzMxh2OGr3",
        "colab_type": "code",
        "colab": {
          "base_uri": "https://localhost:8080/",
          "height": 34
        },
        "outputId": "96315a1c-72f2-4b58-e470-a63e6bf6ce1b"
      },
      "source": [
        "len(df)"
      ],
      "execution_count": 4,
      "outputs": [
        {
          "output_type": "execute_result",
          "data": {
            "text/plain": [
              "325"
            ]
          },
          "metadata": {
            "tags": []
          },
          "execution_count": 4
        }
      ]
    },
    {
      "cell_type": "code",
      "metadata": {
        "id": "01K-tZBTOS5P",
        "colab_type": "code",
        "colab": {}
      },
      "source": [
        "df = df.dropna()"
      ],
      "execution_count": 5,
      "outputs": []
    },
    {
      "cell_type": "code",
      "metadata": {
        "id": "PUrQGWItOVBY",
        "colab_type": "code",
        "colab": {
          "base_uri": "https://localhost:8080/",
          "height": 34
        },
        "outputId": "df3d4e7f-9e8a-44ee-a6f9-db45c7ee4e2b"
      },
      "source": [
        "len(df)"
      ],
      "execution_count": 6,
      "outputs": [
        {
          "output_type": "execute_result",
          "data": {
            "text/plain": [
              "325"
            ]
          },
          "metadata": {
            "tags": []
          },
          "execution_count": 6
        }
      ]
    },
    {
      "cell_type": "code",
      "metadata": {
        "id": "dZayuFiIOWFH",
        "colab_type": "code",
        "colab": {
          "base_uri": "https://localhost:8080/",
          "height": 298
        },
        "outputId": "842e6356-201d-44be-f118-ceac0f71a14d"
      },
      "source": [
        "df.plot(figsize=(12,4))"
      ],
      "execution_count": 10,
      "outputs": [
        {
          "output_type": "execute_result",
          "data": {
            "text/plain": [
              "<matplotlib.axes._subplots.AxesSubplot at 0x7fd9384c70b8>"
            ]
          },
          "metadata": {
            "tags": []
          },
          "execution_count": 10
        },
        {
          "output_type": "display_data",
          "data": {
            "image/png": "[encoded data removed]",
            "text/plain": [
              "<Figure size 864x288 with 1 Axes>"
            ]
          },
          "metadata": {
            "tags": [],
            "needs_background": "light"
          }
        }
      ]
    },
    {
      "cell_type": "code",
      "metadata": {
        "id": "WvBiCvMGOeD_",
        "colab_type": "code",
        "colab": {}
      },
      "source": [
        "y = df['S4248SM144NCEN'].values.astype(float)"
      ],
      "execution_count": 11,
      "outputs": []
    },
    {
      "cell_type": "code",
      "metadata": {
        "id": "ao4oq-mgPLkv",
        "colab_type": "code",
        "colab": {
          "base_uri": "https://localhost:8080/",
          "height": 714
        },
        "outputId": "4fa2c6e8-2217-4886-cd66-79991b557b30"
      },
      "source": [
        "y"
      ],
      "execution_count": 12,
      "outputs": [
        {
          "output_type": "execute_result",
          "data": {
            "text/plain": [
              "array([ 3459.,  3458.,  4002.,  4564.,  4221.,  4529.,  4466.,  4137.,\n",
              "        4126.,  4259.,  4240.,  4936.,  3031.,  3261.,  4160.,  4377.,\n",
              "        4307.,  4696.,  4458.,  4457.,  4364.,  4236.,  4500.,  4974.,\n",
              "        3075.,  3377.,  4443.,  4261.,  4460.,  4985.,  4324.,  4719.,\n",
              "        4374.,  4248.,  4784.,  4971.,  3370.,  3484.,  4269.,  3994.,\n",
              "        4715.,  4974.,  4223.,  5000.,  4235.,  4554.,  4851.,  4826.,\n",
              "        3699.,  3983.,  4262.,  4619.,  5219.,  4836.,  4941.,  5062.,\n",
              "        4365.,  5012.,  4850.,  5097.,  3758.,  3825.,  4454.,  4635.,\n",
              "        5210.,  5057.,  5231.,  5034.,  4970.,  5342.,  4831.,  5965.,\n",
              "        3796.,  4019.,  4898.,  5090.,  5237.,  5447.,  5435.,  5107.,\n",
              "        5515.,  5583.,  5346.,  6286.,  4032.,  4435.,  5479.,  5483.,\n",
              "        5587.,  6176.,  5621.,  5889.,  5828.,  5849.,  6180.,  6771.,\n",
              "        4243.,  4952.,  6008.,  5353.,  6435.,  6673.,  5636.,  6630.,\n",
              "        5887.,  6322.,  6520.,  6678.,  5082.,  5216.,  5893.,  5894.,\n",
              "        6799.,  6667.,  6374.,  6840.,  5575.,  6545.,  6789.,  7180.,\n",
              "        5117.,  5442.,  6337.,  6525.,  7216.,  6761.,  6958.,  7070.,\n",
              "        6148.,  6924.,  6716.,  7975.,  5326.,  5609.,  6414.,  6741.,\n",
              "        7144.,  7133.,  7568.,  7266.,  6634.,  7626.,  6843.,  8540.,\n",
              "        5629.,  5898.,  7045.,  7094.,  7333.,  7918.,  7289.,  7396.,\n",
              "        7259.,  7268.,  7731.,  9058.,  5557.,  6237.,  7723.,  7262.,\n",
              "        8241.,  8757.,  7352.,  8496.,  7741.,  7710.,  8247.,  8902.,\n",
              "        6066.,  6590.,  7923.,  7335.,  8843.,  9327.,  7792.,  9156.,\n",
              "        8037.,  8640.,  9128.,  9545.,  6627.,  6743.,  8195.,  7828.,\n",
              "        9570.,  9484.,  8608.,  9543.,  8123.,  9649.,  9390., 10065.,\n",
              "        7093.,  7483.,  8365.,  8895.,  9794.,  9977.,  9553.,  9375.,\n",
              "        9225.,  9948.,  8758., 10839.,  7266.,  7578.,  8688.,  9162.,\n",
              "        9369., 10167.,  9507.,  8923.,  9272.,  9075.,  8949., 10843.,\n",
              "        6558.,  7481.,  9475.,  9424.,  9351., 10552.,  9077.,  9273.,\n",
              "        9420.,  9413.,  9866., 11455.,  6901.,  8014.,  9832.,  9281.,\n",
              "        9967., 11344.,  9106., 10469., 10085.,  9612., 10328., 11483.,\n",
              "        7486.,  8641.,  9709.,  9423., 11342., 11274.,  9845., 11163.,\n",
              "        9532., 10754., 10953., 11922.,  8395.,  8888., 10110., 10493.,\n",
              "       12218., 11385., 11186., 11462., 10494., 11540., 11138., 12709.,\n",
              "        8557.,  9059., 10055., 10977., 11792., 11904., 10965., 10981.,\n",
              "       10828., 11817., 10470., 13310.,  8400.,  9062., 10722., 11107.,\n",
              "       11508., 12904., 11869., 11224., 12022., 11983., 11506., 14183.,\n",
              "        8648., 10321., 12107., 11420., 12238., 13681., 10950., 12700.,\n",
              "       12272., 11905., 13016., 14421.,  9043., 10452., 12481., 11491.,\n",
              "       13545., 14730., 11416., 13402., 11907., 12711., 13261., 14265.,\n",
              "        9564., 10415., 12683., 11919., 14138., 14583., 12640., 14257.,\n",
              "       12396., 13914., 14174., 15504., 10718.])"
            ]
          },
          "metadata": {
            "tags": []
          },
          "execution_count": 12
        }
      ]
    },
    {
      "cell_type": "code",
      "metadata": {
        "id": "zXakMeiuPMF2",
        "colab_type": "code",
        "colab": {}
      },
      "source": [
        "test_size = 12"
      ],
      "execution_count": 13,
      "outputs": []
    },
    {
      "cell_type": "markdown",
      "metadata": {
        "id": "hcNmyuoNSIg1",
        "colab_type": "text"
      },
      "source": [
        "Choosing test_Size as 12 is logical by looking at our data set which periodically repeat same behavior every 12 months"
      ]
    },
    {
      "cell_type": "code",
      "metadata": {
        "id": "Qhjo02WRPS3G",
        "colab_type": "code",
        "colab": {}
      },
      "source": [
        "train_set = y[:-test_size]\n",
        "test_set = y[-test_size:]"
      ],
      "execution_count": 14,
      "outputs": []
    },
    {
      "cell_type": "code",
      "metadata": {
        "id": "JkzYBkwZPZkH",
        "colab_type": "code",
        "colab": {
          "base_uri": "https://localhost:8080/",
          "height": 51
        },
        "outputId": "3a2625b8-6556-41ac-c908-0c803ee9d9ad"
      },
      "source": [
        "test_set"
      ],
      "execution_count": 15,
      "outputs": [
        {
          "output_type": "execute_result",
          "data": {
            "text/plain": [
              "array([10415., 12683., 11919., 14138., 14583., 12640., 14257., 12396.,\n",
              "       13914., 14174., 15504., 10718.])"
            ]
          },
          "metadata": {
            "tags": []
          },
          "execution_count": 15
        }
      ]
    },
    {
      "cell_type": "markdown",
      "metadata": {
        "id": "mtwSUfJTe_pV",
        "colab_type": "text"
      },
      "source": [
        "## Normalization"
      ]
    },
    {
      "cell_type": "code",
      "metadata": {
        "id": "KfhpzOFUPacH",
        "colab_type": "code",
        "colab": {}
      },
      "source": [
        "from sklearn.preprocessing import MinMaxScaler "
      ],
      "execution_count": 16,
      "outputs": []
    },
    {
      "cell_type": "code",
      "metadata": {
        "id": "B04DxU0gPtKH",
        "colab_type": "code",
        "colab": {}
      },
      "source": [
        "scaler = MinMaxScaler(feature_range=(-1,1))"
      ],
      "execution_count": 17,
      "outputs": []
    },
    {
      "cell_type": "code",
      "metadata": {
        "id": "wszYdQ5jPx-H",
        "colab_type": "code",
        "colab": {
          "base_uri": "https://localhost:8080/",
          "height": 34
        },
        "outputId": "34092d56-bfe8-44f2-eb8b-ea1f3881fd5c"
      },
      "source": [
        "scaler.fit(train_set.reshape(-1,1))"
      ],
      "execution_count": 18,
      "outputs": [
        {
          "output_type": "execute_result",
          "data": {
            "text/plain": [
              "MinMaxScaler(copy=True, feature_range=(-1, 1))"
            ]
          },
          "metadata": {
            "tags": []
          },
          "execution_count": 18
        }
      ]
    },
    {
      "cell_type": "code",
      "metadata": {
        "id": "ssQLugJVRLC2",
        "colab_type": "code",
        "colab": {}
      },
      "source": [
        "train_norm = scaler.transform(train_set.reshape(-1,1))"
      ],
      "execution_count": 19,
      "outputs": []
    },
    {
      "cell_type": "markdown",
      "metadata": {
        "id": "7Cp8NlbGSAs7",
        "colab_type": "text"
      },
      "source": [
        "Changing numpy array to tensor"
      ]
    },
    {
      "cell_type": "code",
      "metadata": {
        "id": "vtKQcO3cRkr-",
        "colab_type": "code",
        "colab": {}
      },
      "source": [
        "train_norm = torch.FloatTensor(train_norm).view(-1)"
      ],
      "execution_count": 22,
      "outputs": []
    },
    {
      "cell_type": "code",
      "metadata": {
        "id": "hCffzc-tR-tH",
        "colab_type": "code",
        "colab": {}
      },
      "source": [
        "window_size = 12"
      ],
      "execution_count": 23,
      "outputs": []
    },
    {
      "cell_type": "markdown",
      "metadata": {
        "id": "07RzjxFgfCz7",
        "colab_type": "text"
      },
      "source": [
        "## Creating function to split train label data"
      ]
    },
    {
      "cell_type": "code",
      "metadata": {
        "id": "Gert6EYCSVrm",
        "colab_type": "code",
        "colab": {}
      },
      "source": [
        "def input_data(seq,ws):\n",
        "  out = []\n",
        "  L = len(seq)\n",
        "\n",
        "  for i in range(L-ws):\n",
        "    window = seq[i:i+ws]\n",
        "    label = seq[i+ws:i+ws+1]\n",
        "    out.append((window,label))\n",
        "  return out\n"
      ],
      "execution_count": 26,
      "outputs": []
    },
    {
      "cell_type": "code",
      "metadata": {
        "id": "hxM76ZR7Stq-",
        "colab_type": "code",
        "colab": {}
      },
      "source": [
        "train_data = input_data(train_norm,window_size)"
      ],
      "execution_count": 27,
      "outputs": []
    },
    {
      "cell_type": "code",
      "metadata": {
        "id": "lm9ZTgpJS0j2",
        "colab_type": "code",
        "colab": {
          "base_uri": "https://localhost:8080/",
          "height": 34
        },
        "outputId": "2d7cfb1b-c245-4e7d-8f57-c3570769cb72"
      },
      "source": [
        "len(train_data) # 325-12-12 = 301"
      ],
      "execution_count": 28,
      "outputs": [
        {
          "output_type": "execute_result",
          "data": {
            "text/plain": [
              "301"
            ]
          },
          "metadata": {
            "tags": []
          },
          "execution_count": 28
        }
      ]
    },
    {
      "cell_type": "code",
      "metadata": {
        "id": "30sMhna1S1Rl",
        "colab_type": "code",
        "colab": {
          "base_uri": "https://localhost:8080/",
          "height": 51
        },
        "outputId": "8422f020-c254-4d20-fc67-cf11977aecb2"
      },
      "source": [
        "train_data[0]"
      ],
      "execution_count": 29,
      "outputs": [
        {
          "output_type": "execute_result",
          "data": {
            "text/plain": [
              "(tensor([-0.9268, -0.9270, -0.8340, -0.7379, -0.7966, -0.7439, -0.7547, -0.8109,\n",
              "         -0.8128, -0.7901, -0.7933, -0.6743]), tensor([-1.]))"
            ]
          },
          "metadata": {
            "tags": []
          },
          "execution_count": 29
        }
      ]
    },
    {
      "cell_type": "markdown",
      "metadata": {
        "id": "54AU5TL_fHaF",
        "colab_type": "text"
      },
      "source": [
        "## Recurrent Neural Network"
      ]
    },
    {
      "cell_type": "code",
      "metadata": {
        "id": "E1V_YS1LS8PV",
        "colab_type": "code",
        "colab": {}
      },
      "source": [
        "class LSTM(nn.Module):\n",
        "\n",
        "  def __init__(self,input_size=1,hidden_size=100,out_size=1): # hidden_size is neuron number to play around\n",
        "\n",
        "    super().__init__()\n",
        "    self.hidden_size = hidden_size\n",
        "#add an lstm layer\n",
        "    self.lstm = nn.LSTM(input_size,hidden_size)\n",
        "#add a fully connected layer\n",
        "    self.linear = nn.Linear(hidden_size,out_size)\n",
        "#initializing h0 and c0:\n",
        "    self.hidden = (torch.zeros(1,1,hidden_size),torch.zeros(1,1,hidden_size))\n",
        "\n",
        "  def forward(self,seq):\n",
        "\n",
        "    lstm_out,self.hidden = self.lstm(seq.view(len(seq),1,-1),self.hidden)\n",
        "\n",
        "    pred = self.linear(lstm_out.view(len(seq),-1))\n",
        "\n",
        "    # [1,2,3]  [4] ---> [1,2,3,4 ----> 4]\n",
        "    return pred[-1]"
      ],
      "execution_count": 31,
      "outputs": []
    },
    {
      "cell_type": "code",
      "metadata": {
        "id": "tiiSgh8mUaTp",
        "colab_type": "code",
        "colab": {}
      },
      "source": [
        "torch.manual_seed(101)\n",
        "\n",
        "model = LSTM()"
      ],
      "execution_count": 32,
      "outputs": []
    },
    {
      "cell_type": "markdown",
      "metadata": {
        "id": "y1uMeBwIfLlt",
        "colab_type": "text"
      },
      "source": [
        "## Defining cost function and optimization method"
      ]
    },
    {
      "cell_type": "code",
      "metadata": {
        "id": "s2t-R0f_UhWm",
        "colab_type": "code",
        "colab": {}
      },
      "source": [
        "criterion = nn.MSELoss()\n",
        "optimizer = torch.optim.Adam(model.parameters(),lr=0.001)"
      ],
      "execution_count": 33,
      "outputs": []
    },
    {
      "cell_type": "code",
      "metadata": {
        "id": "PzIocbiDUos-",
        "colab_type": "code",
        "colab": {
          "base_uri": "https://localhost:8080/",
          "height": 85
        },
        "outputId": "e356b2a7-474a-45a7-fe2d-f46d8c5754e5"
      },
      "source": [
        "model"
      ],
      "execution_count": 34,
      "outputs": [
        {
          "output_type": "execute_result",
          "data": {
            "text/plain": [
              "LSTM(\n",
              "  (lstm): LSTM(1, 100)\n",
              "  (linear): Linear(in_features=100, out_features=1, bias=True)\n",
              ")"
            ]
          },
          "metadata": {
            "tags": []
          },
          "execution_count": 34
        }
      ]
    },
    {
      "cell_type": "markdown",
      "metadata": {
        "id": "UGijyElDfO8s",
        "colab_type": "text"
      },
      "source": [
        "## Training"
      ]
    },
    {
      "cell_type": "code",
      "metadata": {
        "id": "ZsaRMauLUpWV",
        "colab_type": "code",
        "colab": {
          "base_uri": "https://localhost:8080/",
          "height": 1000
        },
        "outputId": "1890daf6-8251-4406-c2e2-9846537be04e"
      },
      "source": [
        "epochs = 100\n",
        "\n",
        "import time\n",
        "start_time = time.time()\n",
        "\n",
        "for i in range(epochs):\n",
        "\n",
        "  for seq,y_train in train_data:\n",
        "\n",
        "    optimizer.zero_grad()\n",
        "\n",
        "    model.hidden = (torch.zeros(1,1,model.hidden_size),torch.zeros(1,1,model.hidden_size))\n",
        "\n",
        "    y_pred = model(seq)\n",
        "\n",
        "    loss = criterion(y_pred,y_train)\n",
        "    loss.backward()\n",
        "    optimizer.step()\n",
        "\n",
        "  print('Epoch: {} Loss: {}'.format(i,loss))\n",
        "\n",
        "total_time = time.time() - start_time\n",
        "print(total_time/60)"
      ],
      "execution_count": 35,
      "outputs": [
        {
          "output_type": "stream",
          "text": [
            "Epoch: 0 Loss: 0.25310203433036804\n",
            "Epoch: 1 Loss: 0.37531977891921997\n",
            "Epoch: 2 Loss: 0.3902722895145416\n",
            "Epoch: 3 Loss: 0.34934675693511963\n",
            "Epoch: 4 Loss: 0.3308565020561218\n",
            "Epoch: 5 Loss: 0.33229967951774597\n",
            "Epoch: 6 Loss: 0.3267035484313965\n",
            "Epoch: 7 Loss: 0.3207412362098694\n",
            "Epoch: 8 Loss: 0.3065353333950043\n",
            "Epoch: 9 Loss: 0.29518038034439087\n",
            "Epoch: 10 Loss: 0.2693433463573456\n",
            "Epoch: 11 Loss: 0.2599843740463257\n",
            "Epoch: 12 Loss: 0.24665838479995728\n",
            "Epoch: 13 Loss: 0.22403840720653534\n",
            "Epoch: 14 Loss: 0.18602700531482697\n",
            "Epoch: 15 Loss: 0.18560989201068878\n",
            "Epoch: 16 Loss: 0.17209288477897644\n",
            "Epoch: 17 Loss: 0.251615434885025\n",
            "Epoch: 18 Loss: 0.22557534277439117\n",
            "Epoch: 19 Loss: 0.17448465526103973\n",
            "Epoch: 20 Loss: 0.20235466957092285\n",
            "Epoch: 21 Loss: 0.20820169150829315\n",
            "Epoch: 22 Loss: 0.16648386418819427\n",
            "Epoch: 23 Loss: 0.17593041062355042\n",
            "Epoch: 24 Loss: 0.11984347552061081\n",
            "Epoch: 25 Loss: 0.09449502825737\n",
            "Epoch: 26 Loss: 0.04436298832297325\n",
            "Epoch: 27 Loss: 0.06988916546106339\n",
            "Epoch: 28 Loss: 0.0051006716676056385\n",
            "Epoch: 29 Loss: 0.10152764618396759\n",
            "Epoch: 30 Loss: 0.0005383301177062094\n",
            "Epoch: 31 Loss: 0.019840160384774208\n",
            "Epoch: 32 Loss: 0.010620944201946259\n",
            "Epoch: 33 Loss: 0.020428843796253204\n",
            "Epoch: 34 Loss: 0.05383811518549919\n",
            "Epoch: 35 Loss: 0.020745689049363136\n",
            "Epoch: 36 Loss: 0.0007685229647904634\n",
            "Epoch: 37 Loss: 6.684927211608738e-05\n",
            "Epoch: 38 Loss: 0.005345262587070465\n",
            "Epoch: 39 Loss: 0.0005489057512022555\n",
            "Epoch: 40 Loss: 0.002771462081000209\n",
            "Epoch: 41 Loss: 0.0011012549512088299\n",
            "Epoch: 42 Loss: 0.0017777649918571115\n",
            "Epoch: 43 Loss: 0.0014584845630452037\n",
            "Epoch: 44 Loss: 0.002045275177806616\n",
            "Epoch: 45 Loss: 0.002098901430144906\n",
            "Epoch: 46 Loss: 0.0023747356608510017\n",
            "Epoch: 47 Loss: 0.002518907655030489\n",
            "Epoch: 48 Loss: 0.002800032729282975\n",
            "Epoch: 49 Loss: 0.002945888787508011\n",
            "Epoch: 50 Loss: 0.002864973619580269\n",
            "Epoch: 51 Loss: 0.003480023005977273\n",
            "Epoch: 52 Loss: 0.004467481281608343\n",
            "Epoch: 53 Loss: 0.0019105557585135102\n",
            "Epoch: 54 Loss: 0.002053382806479931\n",
            "Epoch: 55 Loss: 0.003044135868549347\n",
            "Epoch: 56 Loss: 0.0025915326550602913\n",
            "Epoch: 57 Loss: 0.0005184923647902906\n",
            "Epoch: 58 Loss: 0.0010165461571887136\n",
            "Epoch: 59 Loss: 0.0020614422392100096\n",
            "Epoch: 60 Loss: 0.0014687807997688651\n",
            "Epoch: 61 Loss: 2.7785424663306912e-06\n",
            "Epoch: 62 Loss: 7.714157254667953e-05\n",
            "Epoch: 63 Loss: 0.0006231933366507292\n",
            "Epoch: 64 Loss: 0.0010664064902812243\n",
            "Epoch: 65 Loss: 0.00014978476974647492\n",
            "Epoch: 66 Loss: 1.033105218084529e-05\n",
            "Epoch: 67 Loss: 6.994639261392877e-05\n",
            "Epoch: 68 Loss: 2.8096005166844407e-07\n",
            "Epoch: 69 Loss: 8.945090485212859e-06\n",
            "Epoch: 70 Loss: 0.00014511801418848336\n",
            "Epoch: 71 Loss: 1.8775475396637376e-08\n",
            "Epoch: 72 Loss: 0.00022348601487465203\n",
            "Epoch: 73 Loss: 4.107420409127371e-06\n",
            "Epoch: 74 Loss: 1.2413678632583469e-05\n",
            "Epoch: 75 Loss: 0.00033971990342251956\n",
            "Epoch: 76 Loss: 0.0007443396025337279\n",
            "Epoch: 77 Loss: 0.0016270329942926764\n",
            "Epoch: 78 Loss: 0.0001973237667698413\n",
            "Epoch: 79 Loss: 0.0004817115259356797\n",
            "Epoch: 80 Loss: 0.0012986980145797133\n",
            "Epoch: 81 Loss: 0.0005001124227419496\n",
            "Epoch: 82 Loss: 0.00037510154652409256\n",
            "Epoch: 83 Loss: 0.0004775734560098499\n",
            "Epoch: 84 Loss: 0.0009639010531827807\n",
            "Epoch: 85 Loss: 0.001869463361799717\n",
            "Epoch: 86 Loss: 0.00029213636298663914\n",
            "Epoch: 87 Loss: 0.00042152710375376046\n",
            "Epoch: 88 Loss: 1.6774420146248303e-05\n",
            "Epoch: 89 Loss: 3.4680037970247213e-06\n",
            "Epoch: 90 Loss: 0.00010086609108839184\n",
            "Epoch: 91 Loss: 0.00022913221619091928\n",
            "Epoch: 92 Loss: 0.0005201019230298698\n",
            "Epoch: 93 Loss: 0.0004434080037754029\n",
            "Epoch: 94 Loss: 0.00039757671765983105\n",
            "Epoch: 95 Loss: 0.0003732654149644077\n",
            "Epoch: 96 Loss: 0.0003430524084251374\n",
            "Epoch: 97 Loss: 0.00031778056290932\n",
            "Epoch: 98 Loss: 0.0002870506141334772\n",
            "Epoch: 99 Loss: 0.00022895541042089462\n",
            "1.707596449057261\n"
          ],
          "name": "stdout"
        }
      ]
    },
    {
      "cell_type": "markdown",
      "metadata": {
        "id": "Pn1sX19PfUj2",
        "colab_type": "text"
      },
      "source": [
        "## Prediction"
      ]
    },
    {
      "cell_type": "code",
      "metadata": {
        "id": "Rr6zwKuCXJyj",
        "colab_type": "code",
        "colab": {}
      },
      "source": [
        "future = 12\n",
        "\n",
        "preds = train_norm[-window_size:].tolist()\n",
        "\n",
        "model.eval()\n",
        "\n",
        "for i in range(future):\n",
        "\n",
        "  seq = torch.FloatTensor(preds[-window_size:])\n",
        "  \n",
        "  with torch.no_grad():\n",
        "\n",
        "    model.hidden = (torch.zeros(1,1,model.hidden_size),torch.zeros(1,1,model.hidden_size))\n",
        "\n",
        "    preds.append(model(seq).item())\n"
      ],
      "execution_count": 36,
      "outputs": []
    },
    {
      "cell_type": "code",
      "metadata": {
        "id": "LUI3BVZ9XlGd",
        "colab_type": "code",
        "colab": {
          "base_uri": "https://localhost:8080/",
          "height": 221
        },
        "outputId": "d70c8c58-0309-45a8-fba1-c7be07ce041c"
      },
      "source": [
        "preds[window_size:]"
      ],
      "execution_count": 37,
      "outputs": [
        {
          "output_type": "execute_result",
          "data": {
            "text/plain": [
              "[0.22433069348335266,\n",
              " 0.6144372820854187,\n",
              " 0.4391980767250061,\n",
              " 0.8804538249969482,\n",
              " 1.0960463285446167,\n",
              " 0.3452887535095215,\n",
              " 0.7906821370124817,\n",
              " 0.5838577747344971,\n",
              " 0.6101282835006714,\n",
              " 0.8354523181915283,\n",
              " 0.8539949655532837,\n",
              " 0.1895654797554016]"
            ]
          },
          "metadata": {
            "tags": []
          },
          "execution_count": 37
        }
      ]
    },
    {
      "cell_type": "code",
      "metadata": {
        "id": "zOWJ389dXnAu",
        "colab_type": "code",
        "colab": {}
      },
      "source": [
        "true_predictions = scaler.inverse_transform(np.array(preds[window_size:]).reshape(-1,1))"
      ],
      "execution_count": 39,
      "outputs": []
    },
    {
      "cell_type": "markdown",
      "metadata": {
        "id": "zT7JevrwX7jt",
        "colab_type": "text"
      },
      "source": [
        "## Listing the predictions"
      ]
    },
    {
      "cell_type": "code",
      "metadata": {
        "id": "Z4Q2o6TwXxpW",
        "colab_type": "code",
        "colab": {
          "base_uri": "https://localhost:8080/",
          "height": 221
        },
        "outputId": "ec467033-db89-44e2-8c24-ca04d6b21267"
      },
      "source": [
        "true_predictions"
      ],
      "execution_count": 40,
      "outputs": [
        {
          "output_type": "execute_result",
          "data": {
            "text/plain": [
              "array([[10192.72239153],\n",
              "       [12474.65088156],\n",
              "       [11449.5891498 ],\n",
              "       [14030.71464932],\n",
              "       [15291.82299882],\n",
              "       [10900.26656365],\n",
              "       [13505.59516045],\n",
              "       [12295.77605331],\n",
              "       [12449.44539434],\n",
              "       [13767.47833526],\n",
              "       [13875.943551  ],\n",
              "       [ 9989.36327383]])"
            ]
          },
          "metadata": {
            "tags": []
          },
          "execution_count": 40
        }
      ]
    },
    {
      "cell_type": "markdown",
      "metadata": {
        "id": "Ibiqs4qhX9v8",
        "colab_type": "text"
      },
      "source": [
        "## Listing the actual values"
      ]
    },
    {
      "cell_type": "code",
      "metadata": {
        "id": "GqMe14fkX1wW",
        "colab_type": "code",
        "colab": {
          "base_uri": "https://localhost:8080/",
          "height": 255
        },
        "outputId": "ed1b0423-1f74-4bfd-ec10-69627d3cfa64"
      },
      "source": [
        "df['S4248SM144NCEN'][-12:]"
      ],
      "execution_count": 41,
      "outputs": [
        {
          "output_type": "execute_result",
          "data": {
            "text/plain": [
              "DATE\n",
              "2018-02-01    10415\n",
              "2018-03-01    12683\n",
              "2018-04-01    11919\n",
              "2018-05-01    14138\n",
              "2018-06-01    14583\n",
              "2018-07-01    12640\n",
              "2018-08-01    14257\n",
              "2018-09-01    12396\n",
              "2018-10-01    13914\n",
              "2018-11-01    14174\n",
              "2018-12-01    15504\n",
              "2019-01-01    10718\n",
              "Name: S4248SM144NCEN, dtype: int64"
            ]
          },
          "metadata": {
            "tags": []
          },
          "execution_count": 41
        }
      ]
    },
    {
      "cell_type": "markdown",
      "metadata": {
        "id": "73xi920qYB5H",
        "colab_type": "text"
      },
      "source": [
        "## Visualizations"
      ]
    },
    {
      "cell_type": "code",
      "metadata": {
        "id": "x1jj13Y6X4q1",
        "colab_type": "code",
        "colab": {}
      },
      "source": [
        "x = np.arange('2018-02-01','2019-02-01',dtype='datetime64[M]')"
      ],
      "execution_count": 42,
      "outputs": []
    },
    {
      "cell_type": "code",
      "metadata": {
        "id": "uivWHYVbYUIl",
        "colab_type": "code",
        "colab": {
          "base_uri": "https://localhost:8080/",
          "height": 68
        },
        "outputId": "0c6ccbb5-2265-49a0-b8e5-c98f2e751df5"
      },
      "source": [
        "x"
      ],
      "execution_count": 43,
      "outputs": [
        {
          "output_type": "execute_result",
          "data": {
            "text/plain": [
              "array(['2018-02', '2018-03', '2018-04', '2018-05', '2018-06', '2018-07',\n",
              "       '2018-08', '2018-09', '2018-10', '2018-11', '2018-12', '2019-01'],\n",
              "      dtype='datetime64[M]')"
            ]
          },
          "metadata": {
            "tags": []
          },
          "execution_count": 43
        }
      ]
    },
    {
      "cell_type": "code",
      "metadata": {
        "id": "ro2jKDpIYU0t",
        "colab_type": "code",
        "colab": {
          "base_uri": "https://localhost:8080/",
          "height": 153
        },
        "outputId": "c94669a1-b9ad-431a-95db-0d47183c5023"
      },
      "source": [
        "df.index"
      ],
      "execution_count": 44,
      "outputs": [
        {
          "output_type": "execute_result",
          "data": {
            "text/plain": [
              "DatetimeIndex(['1992-01-01', '1992-02-01', '1992-03-01', '1992-04-01',\n",
              "               '1992-05-01', '1992-06-01', '1992-07-01', '1992-08-01',\n",
              "               '1992-09-01', '1992-10-01',\n",
              "               ...\n",
              "               '2018-04-01', '2018-05-01', '2018-06-01', '2018-07-01',\n",
              "               '2018-08-01', '2018-09-01', '2018-10-01', '2018-11-01',\n",
              "               '2018-12-01', '2019-01-01'],\n",
              "              dtype='datetime64[ns]', name='DATE', length=325, freq=None)"
            ]
          },
          "metadata": {
            "tags": []
          },
          "execution_count": 44
        }
      ]
    },
    {
      "cell_type": "code",
      "metadata": {
        "id": "KbeU16LrYYF9",
        "colab_type": "code",
        "colab": {
          "base_uri": "https://localhost:8080/",
          "height": 281
        },
        "outputId": "17926732-1493-4d1a-979a-e5e739b68929"
      },
      "source": [
        "plt.figure(figsize=(12,4))\n",
        "plt.title('Alcohol Sales')\n",
        "plt.ylabel('Sales in million dollars')\n",
        "plt.grid(True)\n",
        "plt.autoscale(axis='x',tight=True)\n",
        "plt.plot(df['S4248SM144NCEN'])\n",
        "plt.plot(x,true_predictions)\n",
        "plt.show()"
      ],
      "execution_count": 46,
      "outputs": [
        {
          "output_type": "display_data",
          "data": {
            "image/png": "[encoded data removed]",
            "text/plain": [
              "<Figure size 864x288 with 1 Axes>"
            ]
          },
          "metadata": {
            "tags": [],
            "needs_background": "light"
          }
        }
      ]
    },
    {
      "cell_type": "markdown",
      "metadata": {
        "id": "A7XqosBrZusY",
        "colab_type": "text"
      },
      "source": [
        "## Zooming in the prediction region"
      ]
    },
    {
      "cell_type": "code",
      "metadata": {
        "id": "o85_3ye_Y3NA",
        "colab_type": "code",
        "colab": {
          "base_uri": "https://localhost:8080/",
          "height": 265
        },
        "outputId": "5c585c74-3f00-4700-a1ce-2a186fecd28b"
      },
      "source": [
        "plt.plot(df['S4248SM144NCEN']['2017-01-01':])\n",
        "plt.plot(x,true_predictions)\n",
        "plt.show()"
      ],
      "execution_count": 47,
      "outputs": [
        {
          "output_type": "display_data",
          "data": {
            "image/png": "[encoded data removed]",
            "text/plain": [
              "<Figure size 432x288 with 1 Axes>"
            ]
          },
          "metadata": {
            "tags": [],
            "needs_background": "light"
          }
        }
      ]
    },
    {
      "cell_type": "markdown",
      "metadata": {
        "id": "Kw1lz-7QfZ2u",
        "colab_type": "text"
      },
      "source": [
        "## Training all data set to forecast unknown future"
      ]
    },
    {
      "cell_type": "code",
      "metadata": {
        "id": "bUXlEI4zZRxO",
        "colab_type": "code",
        "colab": {
          "base_uri": "https://localhost:8080/",
          "height": 1000
        },
        "outputId": "75298351-a471-41a1-c561-bf38f162e4fd"
      },
      "source": [
        "epochs = 100\n",
        "\n",
        "model.train()\n",
        "\n",
        "#feature scale for entire dataset\n",
        "y_norm = scaler.fit_transform(y.reshape(-1,1))\n",
        "y_norm = torch.FloatTensor(y_norm).view(-1)\n",
        "all_data = input_data(y_norm,window_size)\n",
        "\n",
        "import time\n",
        "start_time = time.time()\n",
        "\n",
        "for i in range(epochs):\n",
        "\n",
        "  for seq,y_train in train_data:\n",
        "\n",
        "    optimizer.zero_grad()\n",
        "\n",
        "    model.hidden = (torch.zeros(1,1,model.hidden_size),torch.zeros(1,1,model.hidden_size))\n",
        "\n",
        "    y_pred = model(seq)\n",
        "\n",
        "    loss = criterion(y_pred,y_train)\n",
        "    loss.backward()\n",
        "    optimizer.step()\n",
        "\n",
        "  print('Epoch: {} Loss: {}'.format(i,loss))\n",
        "\n",
        "total_time = time.time() - start_time\n",
        "print(total_time/60)"
      ],
      "execution_count": 48,
      "outputs": [
        {
          "output_type": "stream",
          "text": [
            "Epoch: 0 Loss: 7.681459828745574e-05\n",
            "Epoch: 1 Loss: 1.1015778909495566e-05\n",
            "Epoch: 2 Loss: 0.0004181764379609376\n",
            "Epoch: 3 Loss: 0.0024578070733696222\n",
            "Epoch: 4 Loss: 0.0027614831924438477\n",
            "Epoch: 5 Loss: 0.0002967418695334345\n",
            "Epoch: 6 Loss: 0.0015784602146595716\n",
            "Epoch: 7 Loss: 0.0004863635404035449\n",
            "Epoch: 8 Loss: 0.0005388823919929564\n",
            "Epoch: 9 Loss: 0.0001273774541914463\n",
            "Epoch: 10 Loss: 0.0005202466854825616\n",
            "Epoch: 11 Loss: 0.000491894839797169\n",
            "Epoch: 12 Loss: 0.0004941228544339538\n",
            "Epoch: 13 Loss: 0.0006439473945647478\n",
            "Epoch: 14 Loss: 0.0005590637447312474\n",
            "Epoch: 15 Loss: 0.0003618935588747263\n",
            "Epoch: 16 Loss: 0.00044798461021855474\n",
            "Epoch: 17 Loss: 0.0006063045584596694\n",
            "Epoch: 18 Loss: 0.00046453639515675604\n",
            "Epoch: 19 Loss: 0.0003648641868494451\n",
            "Epoch: 20 Loss: 0.0007276521646417677\n",
            "Epoch: 21 Loss: 0.00022850152163300663\n",
            "Epoch: 22 Loss: 0.0006196566391736269\n",
            "Epoch: 23 Loss: 0.0003138428437523544\n",
            "Epoch: 24 Loss: 0.0008733148570172489\n",
            "Epoch: 25 Loss: 0.0002084940206259489\n",
            "Epoch: 26 Loss: 6.454704271163791e-05\n",
            "Epoch: 27 Loss: 0.0006425626925192773\n",
            "Epoch: 28 Loss: 0.00037720028194598854\n",
            "Epoch: 29 Loss: 0.0002382876118645072\n",
            "Epoch: 30 Loss: 0.00015219511988107115\n",
            "Epoch: 31 Loss: 0.0002616887795738876\n",
            "Epoch: 32 Loss: 4.160140815656632e-05\n",
            "Epoch: 33 Loss: 4.8707635869504884e-05\n",
            "Epoch: 34 Loss: 0.0001228048058692366\n",
            "Epoch: 35 Loss: 1.0786563819920048e-07\n",
            "Epoch: 36 Loss: 2.0934412532369606e-06\n",
            "Epoch: 37 Loss: 0.0007997207576408982\n",
            "Epoch: 38 Loss: 0.0003215883334632963\n",
            "Epoch: 39 Loss: 0.0006455850088968873\n",
            "Epoch: 40 Loss: 0.0001543563266750425\n",
            "Epoch: 41 Loss: 7.870846161495137e-07\n",
            "Epoch: 42 Loss: 2.3169277483248152e-05\n",
            "Epoch: 43 Loss: 0.00018218878540210426\n",
            "Epoch: 44 Loss: 0.00014873288455419242\n",
            "Epoch: 45 Loss: 0.0007273394730873406\n",
            "Epoch: 46 Loss: 0.00040471137617714703\n",
            "Epoch: 47 Loss: 2.8185804694658145e-05\n",
            "Epoch: 48 Loss: 0.00022026737860869616\n",
            "Epoch: 49 Loss: 8.958153557614423e-06\n",
            "Epoch: 50 Loss: 3.289896994829178e-05\n",
            "Epoch: 51 Loss: 0.000296683341730386\n",
            "Epoch: 52 Loss: 6.312659388640895e-05\n",
            "Epoch: 53 Loss: 0.0030072792433202267\n",
            "Epoch: 54 Loss: 0.0003022469754796475\n",
            "Epoch: 55 Loss: 9.229604074789677e-06\n",
            "Epoch: 56 Loss: 0.000776320812292397\n",
            "Epoch: 57 Loss: 0.00021870151977054775\n",
            "Epoch: 58 Loss: 0.0009527028887532651\n",
            "Epoch: 59 Loss: 0.00036395053029991686\n",
            "Epoch: 60 Loss: 0.0012305850395932794\n",
            "Epoch: 61 Loss: 0.0002707955427467823\n",
            "Epoch: 62 Loss: 0.0010205443250015378\n",
            "Epoch: 63 Loss: 0.0014608887722715735\n",
            "Epoch: 64 Loss: 0.0008763678488321602\n",
            "Epoch: 65 Loss: 1.7994399968301877e-05\n",
            "Epoch: 66 Loss: 0.00035012580337934196\n",
            "Epoch: 67 Loss: 0.0007563776453025639\n",
            "Epoch: 68 Loss: 0.0003109817625954747\n",
            "Epoch: 69 Loss: 0.00034427864011377096\n",
            "Epoch: 70 Loss: 9.475223123445176e-06\n",
            "Epoch: 71 Loss: 0.00021778422524221241\n",
            "Epoch: 72 Loss: 4.326032012613723e-06\n",
            "Epoch: 73 Loss: 5.817990000878126e-08\n",
            "Epoch: 74 Loss: 5.085258294457162e-07\n",
            "Epoch: 75 Loss: 0.0008543801959604025\n",
            "Epoch: 76 Loss: 1.918174712045584e-05\n",
            "Epoch: 77 Loss: 6.7186433625465725e-06\n",
            "Epoch: 78 Loss: 1.2201262507005595e-06\n",
            "Epoch: 79 Loss: 0.0003497996658552438\n",
            "Epoch: 80 Loss: 2.525631998651079e-06\n",
            "Epoch: 81 Loss: 2.122084197253571e-08\n",
            "Epoch: 82 Loss: 4.780675590154715e-05\n",
            "Epoch: 83 Loss: 7.508201815653592e-05\n",
            "Epoch: 84 Loss: 1.946899101312738e-05\n",
            "Epoch: 85 Loss: 0.00015221405192278326\n",
            "Epoch: 86 Loss: 0.0009677349589765072\n",
            "Epoch: 87 Loss: 0.0008028881275095046\n",
            "Epoch: 88 Loss: 9.693803440313786e-05\n",
            "Epoch: 89 Loss: 0.0001381438778480515\n",
            "Epoch: 90 Loss: 1.2095227248209994e-05\n",
            "Epoch: 91 Loss: 3.09977876895573e-05\n",
            "Epoch: 92 Loss: 1.5491333442696487e-06\n",
            "Epoch: 93 Loss: 0.00010828101221704856\n",
            "Epoch: 94 Loss: 0.0009285556734539568\n",
            "Epoch: 95 Loss: 0.0004553907201625407\n",
            "Epoch: 96 Loss: 0.0004724188765976578\n",
            "Epoch: 97 Loss: 2.0907376892864704e-05\n",
            "Epoch: 98 Loss: 0.00016411974502261728\n",
            "Epoch: 99 Loss: 5.554801828111522e-05\n",
            "1.7098495682080588\n"
          ],
          "name": "stdout"
        }
      ]
    },
    {
      "cell_type": "code",
      "metadata": {
        "id": "gC774awpcZZs",
        "colab_type": "code",
        "colab": {}
      },
      "source": [
        "window_size = 12 \n",
        "\n",
        "future = 12\n",
        "L = len(y)\n",
        "\n",
        "preds = y_norm[-window_size:].tolist()\n",
        "\n",
        "model.eval()\n",
        "\n",
        "for i in range(future):\n",
        "\n",
        "  seq = torch.FloatTensor(preds[-window_size:])\n",
        "\n",
        "  with torch.no_grad():\n",
        "\n",
        "    model.hidden = (torch.zeros(1,1,model.hidden_size),torch.zeros(1,1,model.hidden_size))\n",
        "\n",
        "    preds.append(model(seq).item())\n",
        "\n",
        "  "
      ],
      "execution_count": 51,
      "outputs": []
    },
    {
      "cell_type": "code",
      "metadata": {
        "id": "j9FDsVPKc85V",
        "colab_type": "code",
        "colab": {}
      },
      "source": [
        "true_predictions = scaler.inverse_transform(np.array(preds).reshape(-1,1))"
      ],
      "execution_count": 52,
      "outputs": []
    },
    {
      "cell_type": "code",
      "metadata": {
        "id": "_62IJLZQdLul",
        "colab_type": "code",
        "colab": {
          "base_uri": "https://localhost:8080/",
          "height": 425
        },
        "outputId": "77d904cd-372e-42d3-ab90-9c8a4be8a473"
      },
      "source": [
        "true_predictions"
      ],
      "execution_count": 53,
      "outputs": [
        {
          "output_type": "execute_result",
          "data": {
            "text/plain": [
              "array([[10415.00001808],\n",
              "       [12683.00013363],\n",
              "       [11919.00006013],\n",
              "       [14137.99993426],\n",
              "       [14583.00009555],\n",
              "       [12640.00017402],\n",
              "       [14257.00005591],\n",
              "       [12395.9999277 ],\n",
              "       [13913.99994579],\n",
              "       [14173.99995232],\n",
              "       [15504.        ],\n",
              "       [10717.99998423],\n",
              "       [11297.08939561],\n",
              "       [13039.53695831],\n",
              "       [12757.66357484],\n",
              "       [14366.12123078],\n",
              "       [14907.61955088],\n",
              "       [12536.21696106],\n",
              "       [13868.87372279],\n",
              "       [12572.71917874],\n",
              "       [13411.92336655],\n",
              "       [13775.0058856 ],\n",
              "       [14544.34299171],\n",
              "       [10505.15293488]])"
            ]
          },
          "metadata": {
            "tags": []
          },
          "execution_count": 53
        }
      ]
    },
    {
      "cell_type": "markdown",
      "metadata": {
        "id": "ROe__57XfjTl",
        "colab_type": "text"
      },
      "source": [
        "## Visualization"
      ]
    },
    {
      "cell_type": "code",
      "metadata": {
        "id": "WrnGiCzCdMeE",
        "colab_type": "code",
        "colab": {
          "base_uri": "https://localhost:8080/",
          "height": 281
        },
        "outputId": "1bd2920f-b7e6-4a05-9d19-54eaccab5995"
      },
      "source": [
        "x = np.arange('2019-02-01','2020-02-01', dtype='datetime64[M]').astype('datetime64[D]')\n",
        "plt.figure(figsize=(12,4))\n",
        "plt.title('Alcohol Sales')\n",
        "plt.ylabel('Sales in million dollars')\n",
        "plt.grid(True)\n",
        "plt.autoscale(axis='x',tight=True)\n",
        "plt.plot(df['S4248SM144NCEN'])\n",
        "plt.plot(x,true_predictions[window_size:])\n",
        "plt.show()"
      ],
      "execution_count": 57,
      "outputs": [
        {
          "output_type": "display_data",
          "data": {
            "image/png": "[encoded data removed]",
            "text/plain": [
              "<Figure size 864x288 with 1 Axes>"
            ]
          },
          "metadata": {
            "tags": [],
            "needs_background": "light"
          }
        }
      ]
    },
    {
      "cell_type": "code",
      "metadata": {
        "id": "Z0qsBODNdreF",
        "colab_type": "code",
        "colab": {
          "base_uri": "https://localhost:8080/",
          "height": 279
        },
        "outputId": "60c6db25-05bc-4f4b-d5a1-b3e3822caf0d"
      },
      "source": [
        "fig = plt.figure(figsize=(12,4))\n",
        "plt.title('Beer, Wine, and Alcohol Sales')\n",
        "plt.ylabel('Sales (millions of dollars)')\n",
        "plt.grid(True)\n",
        "plt.autoscale(axis='x',tight=True)\n",
        "fig.autofmt_xdate()\n",
        "plt.plot(df['S4248SM144NCEN']['2017-01-01':])\n",
        "plt.plot(x,true_predictions[window_size:])\n",
        "plt.show()"
      ],
      "execution_count": 58,
      "outputs": [
        {
          "output_type": "display_data",
          "data": {
            "image/png": "[encoded data removed]",
            "text/plain": [
              "<Figure size 864x288 with 1 Axes>"
            ]
          },
          "metadata": {
            "tags": [],
            "needs_background": "light"
          }
        }
      ]
    },
    {
      "cell_type": "code",
      "metadata": {
        "id": "pHbJdoiJejV8",
        "colab_type": "code",
        "colab": {}
      },
      "source": [
        ""
      ],
      "execution_count": null,
      "outputs": []
    }
  ]
}