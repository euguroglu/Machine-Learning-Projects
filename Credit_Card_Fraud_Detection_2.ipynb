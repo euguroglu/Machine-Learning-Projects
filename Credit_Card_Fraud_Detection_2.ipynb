{
 "cells": [
  {
   "cell_type": "code",
   "execution_count": 1,
   "metadata": {},
   "outputs": [],
   "source": [
    "import numpy as np # linear algebra\n",
    "import pandas as pd # data processing, CSV file I/O (e.g. pd.read_csv)\n",
    "import seaborn as sns\n",
    "import matplotlib.pyplot as plt\n",
    "from sklearn.feature_selection import SelectKBest\n",
    "from sklearn import preprocessing\n",
    "from sklearn.feature_selection import chi2\n",
    "from sklearn.model_selection import train_test_split\n",
    "from sklearn.ensemble import RandomForestClassifier\n",
    "from sklearn.metrics import accuracy_score,confusion_matrix,classification_report\n",
    "from imblearn.over_sampling import RandomOverSampler\n",
    "from sklearn.model_selection import RandomizedSearchCV, GridSearchCV\n",
    "from sklearn.linear_model import LogisticRegression\n",
    "from sklearn.naive_bayes import GaussianNB\n",
    "from sklearn import tree\n",
    "from sklearn.ensemble import AdaBoostClassifier\n",
    "from sklearn.metrics import precision_score, recall_score, accuracy_score\n",
    "from sklearn.ensemble import RandomForestClassifier, VotingClassifier"
   ]
  },
  {
   "cell_type": "code",
   "execution_count": 2,
   "metadata": {},
   "outputs": [],
   "source": [
    "df = pd.read_csv('datasets/train.csv')"
   ]
  },
  {
   "cell_type": "code",
   "execution_count": 3,
   "metadata": {},
   "outputs": [],
   "source": [
    "df['label'] = df['label'].astype(int)"
   ]
  },
  {
   "cell_type": "code",
   "execution_count": 4,
   "metadata": {},
   "outputs": [],
   "source": [
    "x = df.drop(columns=[\"label\",\"card\",\"time\",\"day\",\"transaction_id\"])"
   ]
  },
  {
   "cell_type": "code",
   "execution_count": 5,
   "metadata": {},
   "outputs": [
    {
     "data": {
      "text/html": [
       "<div>\n",
       "<style scoped>\n",
       "    .dataframe tbody tr th:only-of-type {\n",
       "        vertical-align: middle;\n",
       "    }\n",
       "\n",
       "    .dataframe tbody tr th {\n",
       "        vertical-align: top;\n",
       "    }\n",
       "\n",
       "    .dataframe thead th {\n",
       "        text-align: right;\n",
       "    }\n",
       "</style>\n",
       "<table border=\"1\" class=\"dataframe\">\n",
       "  <thead>\n",
       "    <tr style=\"text-align: right;\">\n",
       "      <th></th>\n",
       "      <th>amount</th>\n",
       "      <th>feature0</th>\n",
       "      <th>feature1</th>\n",
       "      <th>feature2</th>\n",
       "      <th>feature3</th>\n",
       "      <th>feature4</th>\n",
       "      <th>feature5</th>\n",
       "      <th>feature6</th>\n",
       "      <th>feature7</th>\n",
       "      <th>feature8</th>\n",
       "      <th>...</th>\n",
       "      <th>feature14</th>\n",
       "      <th>feature15</th>\n",
       "      <th>feature16</th>\n",
       "      <th>feature17</th>\n",
       "      <th>feature18</th>\n",
       "      <th>feature19</th>\n",
       "      <th>feature20</th>\n",
       "      <th>feature21</th>\n",
       "      <th>feature22</th>\n",
       "      <th>feature23</th>\n",
       "    </tr>\n",
       "  </thead>\n",
       "  <tbody>\n",
       "    <tr>\n",
       "      <th>0</th>\n",
       "      <td>2996.00</td>\n",
       "      <td>-422.837425</td>\n",
       "      <td>760.707943</td>\n",
       "      <td>58.275207</td>\n",
       "      <td>153.303414</td>\n",
       "      <td>7.202936</td>\n",
       "      <td>-10.915132</td>\n",
       "      <td>-3.458406</td>\n",
       "      <td>4.085058</td>\n",
       "      <td>2.441702</td>\n",
       "      <td>...</td>\n",
       "      <td>-0.471602</td>\n",
       "      <td>-0.140629</td>\n",
       "      <td>0.178008</td>\n",
       "      <td>-0.006310</td>\n",
       "      <td>-0.021356</td>\n",
       "      <td>-0.009839</td>\n",
       "      <td>-0.009304</td>\n",
       "      <td>0.000031</td>\n",
       "      <td>-0.021152</td>\n",
       "      <td>-0.000013</td>\n",
       "    </tr>\n",
       "    <tr>\n",
       "      <th>1</th>\n",
       "      <td>28.00</td>\n",
       "      <td>-394.596676</td>\n",
       "      <td>-372.770445</td>\n",
       "      <td>-15.286916</td>\n",
       "      <td>-76.575438</td>\n",
       "      <td>104.952037</td>\n",
       "      <td>-37.735253</td>\n",
       "      <td>-12.194233</td>\n",
       "      <td>3.442883</td>\n",
       "      <td>6.927474</td>\n",
       "      <td>...</td>\n",
       "      <td>0.778082</td>\n",
       "      <td>1.560081</td>\n",
       "      <td>-0.172821</td>\n",
       "      <td>-0.032460</td>\n",
       "      <td>-0.397619</td>\n",
       "      <td>0.025821</td>\n",
       "      <td>-0.094427</td>\n",
       "      <td>-0.009676</td>\n",
       "      <td>-0.000693</td>\n",
       "      <td>0.000025</td>\n",
       "    </tr>\n",
       "    <tr>\n",
       "      <th>2</th>\n",
       "      <td>125.78</td>\n",
       "      <td>-437.242768</td>\n",
       "      <td>-327.536604</td>\n",
       "      <td>146.471711</td>\n",
       "      <td>7.189410</td>\n",
       "      <td>-118.581570</td>\n",
       "      <td>8.324652</td>\n",
       "      <td>-3.434593</td>\n",
       "      <td>3.696566</td>\n",
       "      <td>9.293879</td>\n",
       "      <td>...</td>\n",
       "      <td>-0.548022</td>\n",
       "      <td>-0.276188</td>\n",
       "      <td>-0.304188</td>\n",
       "      <td>-0.761782</td>\n",
       "      <td>-0.024227</td>\n",
       "      <td>0.149462</td>\n",
       "      <td>-0.128246</td>\n",
       "      <td>-0.005386</td>\n",
       "      <td>-0.001266</td>\n",
       "      <td>-0.000331</td>\n",
       "    </tr>\n",
       "    <tr>\n",
       "      <th>3</th>\n",
       "      <td>1.20</td>\n",
       "      <td>-329.477487</td>\n",
       "      <td>-317.287401</td>\n",
       "      <td>-609.106664</td>\n",
       "      <td>-100.007393</td>\n",
       "      <td>-111.556155</td>\n",
       "      <td>-60.209254</td>\n",
       "      <td>-3.297218</td>\n",
       "      <td>2.897522</td>\n",
       "      <td>6.158783</td>\n",
       "      <td>...</td>\n",
       "      <td>-0.053544</td>\n",
       "      <td>1.075226</td>\n",
       "      <td>-0.679411</td>\n",
       "      <td>0.029796</td>\n",
       "      <td>0.957184</td>\n",
       "      <td>0.404513</td>\n",
       "      <td>0.020177</td>\n",
       "      <td>-0.007533</td>\n",
       "      <td>-0.022051</td>\n",
       "      <td>-0.000316</td>\n",
       "    </tr>\n",
       "    <tr>\n",
       "      <th>4</th>\n",
       "      <td>31.05</td>\n",
       "      <td>-439.454769</td>\n",
       "      <td>-360.694265</td>\n",
       "      <td>388.431870</td>\n",
       "      <td>41.495894</td>\n",
       "      <td>122.630552</td>\n",
       "      <td>-87.962271</td>\n",
       "      <td>-15.032204</td>\n",
       "      <td>4.315014</td>\n",
       "      <td>-9.432846</td>\n",
       "      <td>...</td>\n",
       "      <td>0.293755</td>\n",
       "      <td>0.554647</td>\n",
       "      <td>-0.802328</td>\n",
       "      <td>0.170290</td>\n",
       "      <td>-0.048390</td>\n",
       "      <td>-0.029278</td>\n",
       "      <td>-0.178744</td>\n",
       "      <td>-0.018492</td>\n",
       "      <td>-0.022543</td>\n",
       "      <td>-0.000003</td>\n",
       "    </tr>\n",
       "    <tr>\n",
       "      <th>...</th>\n",
       "      <td>...</td>\n",
       "      <td>...</td>\n",
       "      <td>...</td>\n",
       "      <td>...</td>\n",
       "      <td>...</td>\n",
       "      <td>...</td>\n",
       "      <td>...</td>\n",
       "      <td>...</td>\n",
       "      <td>...</td>\n",
       "      <td>...</td>\n",
       "      <td>...</td>\n",
       "      <td>...</td>\n",
       "      <td>...</td>\n",
       "      <td>...</td>\n",
       "      <td>...</td>\n",
       "      <td>...</td>\n",
       "      <td>...</td>\n",
       "      <td>...</td>\n",
       "      <td>...</td>\n",
       "      <td>...</td>\n",
       "      <td>...</td>\n",
       "    </tr>\n",
       "    <tr>\n",
       "      <th>1593091</th>\n",
       "      <td>34.90</td>\n",
       "      <td>9457.161439</td>\n",
       "      <td>672.448452</td>\n",
       "      <td>95.111019</td>\n",
       "      <td>-291.289051</td>\n",
       "      <td>-9.894481</td>\n",
       "      <td>76.746030</td>\n",
       "      <td>6.531892</td>\n",
       "      <td>-6.413068</td>\n",
       "      <td>-5.395322</td>\n",
       "      <td>...</td>\n",
       "      <td>0.914444</td>\n",
       "      <td>1.552135</td>\n",
       "      <td>0.578813</td>\n",
       "      <td>-0.082312</td>\n",
       "      <td>0.010247</td>\n",
       "      <td>0.131628</td>\n",
       "      <td>0.038943</td>\n",
       "      <td>-0.004550</td>\n",
       "      <td>0.048141</td>\n",
       "      <td>0.000067</td>\n",
       "    </tr>\n",
       "    <tr>\n",
       "      <th>1593092</th>\n",
       "      <td>60.40</td>\n",
       "      <td>-441.008438</td>\n",
       "      <td>639.200537</td>\n",
       "      <td>311.526723</td>\n",
       "      <td>-249.521636</td>\n",
       "      <td>-11.657303</td>\n",
       "      <td>68.884666</td>\n",
       "      <td>5.231016</td>\n",
       "      <td>-15.674415</td>\n",
       "      <td>-5.143300</td>\n",
       "      <td>...</td>\n",
       "      <td>-0.751633</td>\n",
       "      <td>0.309864</td>\n",
       "      <td>0.517899</td>\n",
       "      <td>-0.013770</td>\n",
       "      <td>0.019830</td>\n",
       "      <td>0.103752</td>\n",
       "      <td>-0.021146</td>\n",
       "      <td>-0.002228</td>\n",
       "      <td>0.001442</td>\n",
       "      <td>-0.000023</td>\n",
       "    </tr>\n",
       "    <tr>\n",
       "      <th>1593093</th>\n",
       "      <td>23.30</td>\n",
       "      <td>-436.169606</td>\n",
       "      <td>646.253188</td>\n",
       "      <td>146.985152</td>\n",
       "      <td>-259.263824</td>\n",
       "      <td>-13.901599</td>\n",
       "      <td>70.526210</td>\n",
       "      <td>5.524197</td>\n",
       "      <td>4.105050</td>\n",
       "      <td>-4.806638</td>\n",
       "      <td>...</td>\n",
       "      <td>-1.485556</td>\n",
       "      <td>-0.239709</td>\n",
       "      <td>0.533735</td>\n",
       "      <td>0.006483</td>\n",
       "      <td>0.020180</td>\n",
       "      <td>0.095437</td>\n",
       "      <td>0.000299</td>\n",
       "      <td>-0.002369</td>\n",
       "      <td>0.001129</td>\n",
       "      <td>-0.000031</td>\n",
       "    </tr>\n",
       "    <tr>\n",
       "      <th>1593094</th>\n",
       "      <td>5.20</td>\n",
       "      <td>-422.636754</td>\n",
       "      <td>650.769844</td>\n",
       "      <td>42.350745</td>\n",
       "      <td>-265.491708</td>\n",
       "      <td>-15.335591</td>\n",
       "      <td>71.545871</td>\n",
       "      <td>5.678248</td>\n",
       "      <td>3.960834</td>\n",
       "      <td>-4.759558</td>\n",
       "      <td>...</td>\n",
       "      <td>-0.659200</td>\n",
       "      <td>0.347368</td>\n",
       "      <td>0.534015</td>\n",
       "      <td>-0.008933</td>\n",
       "      <td>0.023246</td>\n",
       "      <td>0.102755</td>\n",
       "      <td>-0.000100</td>\n",
       "      <td>-0.004815</td>\n",
       "      <td>0.001087</td>\n",
       "      <td>-0.000017</td>\n",
       "    </tr>\n",
       "    <tr>\n",
       "      <th>1593095</th>\n",
       "      <td>23.30</td>\n",
       "      <td>-433.637520</td>\n",
       "      <td>650.754619</td>\n",
       "      <td>42.319102</td>\n",
       "      <td>-265.464523</td>\n",
       "      <td>-15.359307</td>\n",
       "      <td>71.492258</td>\n",
       "      <td>5.624876</td>\n",
       "      <td>-16.039606</td>\n",
       "      <td>-5.023473</td>\n",
       "      <td>...</td>\n",
       "      <td>0.104000</td>\n",
       "      <td>0.893882</td>\n",
       "      <td>0.528230</td>\n",
       "      <td>-0.029381</td>\n",
       "      <td>0.021477</td>\n",
       "      <td>0.108795</td>\n",
       "      <td>-0.010073</td>\n",
       "      <td>-0.004259</td>\n",
       "      <td>0.012322</td>\n",
       "      <td>-0.000003</td>\n",
       "    </tr>\n",
       "  </tbody>\n",
       "</table>\n",
       "<p>1593096 rows × 25 columns</p>\n",
       "</div>"
      ],
      "text/plain": [
       "          amount     feature0    feature1    feature2    feature3    feature4  \\\n",
       "0        2996.00  -422.837425  760.707943   58.275207  153.303414    7.202936   \n",
       "1          28.00  -394.596676 -372.770445  -15.286916  -76.575438  104.952037   \n",
       "2         125.78  -437.242768 -327.536604  146.471711    7.189410 -118.581570   \n",
       "3           1.20  -329.477487 -317.287401 -609.106664 -100.007393 -111.556155   \n",
       "4          31.05  -439.454769 -360.694265  388.431870   41.495894  122.630552   \n",
       "...          ...          ...         ...         ...         ...         ...   \n",
       "1593091    34.90  9457.161439  672.448452   95.111019 -291.289051   -9.894481   \n",
       "1593092    60.40  -441.008438  639.200537  311.526723 -249.521636  -11.657303   \n",
       "1593093    23.30  -436.169606  646.253188  146.985152 -259.263824  -13.901599   \n",
       "1593094     5.20  -422.636754  650.769844   42.350745 -265.491708  -15.335591   \n",
       "1593095    23.30  -433.637520  650.754619   42.319102 -265.464523  -15.359307   \n",
       "\n",
       "          feature5   feature6   feature7  feature8  ...  feature14  feature15  \\\n",
       "0       -10.915132  -3.458406   4.085058  2.441702  ...  -0.471602  -0.140629   \n",
       "1       -37.735253 -12.194233   3.442883  6.927474  ...   0.778082   1.560081   \n",
       "2         8.324652  -3.434593   3.696566  9.293879  ...  -0.548022  -0.276188   \n",
       "3       -60.209254  -3.297218   2.897522  6.158783  ...  -0.053544   1.075226   \n",
       "4       -87.962271 -15.032204   4.315014 -9.432846  ...   0.293755   0.554647   \n",
       "...            ...        ...        ...       ...  ...        ...        ...   \n",
       "1593091  76.746030   6.531892  -6.413068 -5.395322  ...   0.914444   1.552135   \n",
       "1593092  68.884666   5.231016 -15.674415 -5.143300  ...  -0.751633   0.309864   \n",
       "1593093  70.526210   5.524197   4.105050 -4.806638  ...  -1.485556  -0.239709   \n",
       "1593094  71.545871   5.678248   3.960834 -4.759558  ...  -0.659200   0.347368   \n",
       "1593095  71.492258   5.624876 -16.039606 -5.023473  ...   0.104000   0.893882   \n",
       "\n",
       "         feature16  feature17  feature18  feature19  feature20  feature21  \\\n",
       "0         0.178008  -0.006310  -0.021356  -0.009839  -0.009304   0.000031   \n",
       "1        -0.172821  -0.032460  -0.397619   0.025821  -0.094427  -0.009676   \n",
       "2        -0.304188  -0.761782  -0.024227   0.149462  -0.128246  -0.005386   \n",
       "3        -0.679411   0.029796   0.957184   0.404513   0.020177  -0.007533   \n",
       "4        -0.802328   0.170290  -0.048390  -0.029278  -0.178744  -0.018492   \n",
       "...            ...        ...        ...        ...        ...        ...   \n",
       "1593091   0.578813  -0.082312   0.010247   0.131628   0.038943  -0.004550   \n",
       "1593092   0.517899  -0.013770   0.019830   0.103752  -0.021146  -0.002228   \n",
       "1593093   0.533735   0.006483   0.020180   0.095437   0.000299  -0.002369   \n",
       "1593094   0.534015  -0.008933   0.023246   0.102755  -0.000100  -0.004815   \n",
       "1593095   0.528230  -0.029381   0.021477   0.108795  -0.010073  -0.004259   \n",
       "\n",
       "         feature22  feature23  \n",
       "0        -0.021152  -0.000013  \n",
       "1        -0.000693   0.000025  \n",
       "2        -0.001266  -0.000331  \n",
       "3        -0.022051  -0.000316  \n",
       "4        -0.022543  -0.000003  \n",
       "...            ...        ...  \n",
       "1593091   0.048141   0.000067  \n",
       "1593092   0.001442  -0.000023  \n",
       "1593093   0.001129  -0.000031  \n",
       "1593094   0.001087  -0.000017  \n",
       "1593095   0.012322  -0.000003  \n",
       "\n",
       "[1593096 rows x 25 columns]"
      ]
     },
     "execution_count": 5,
     "metadata": {},
     "output_type": "execute_result"
    }
   ],
   "source": [
    "x "
   ]
  },
  {
   "cell_type": "code",
   "execution_count": 6,
   "metadata": {},
   "outputs": [],
   "source": [
    "y = df['label']"
   ]
  },
  {
   "cell_type": "code",
   "execution_count": 7,
   "metadata": {},
   "outputs": [],
   "source": [
    "x_train,x_test,y_train,y_test=train_test_split(x,y,test_size=0.2)"
   ]
  },
  {
   "cell_type": "code",
   "execution_count": 8,
   "metadata": {},
   "outputs": [],
   "source": [
    "log_classify = LogisticRegression(random_state=1,max_iter=1000)"
   ]
  },
  {
   "cell_type": "code",
   "execution_count": 9,
   "metadata": {},
   "outputs": [],
   "source": [
    "param_dict = {'C': [0.1, 0.5, 1, 5, 10, 50, 100]}\n",
    "log_model = GridSearchCV(log_classify, param_dict, cv=5, scoring='accuracy')"
   ]
  },
  {
   "cell_type": "code",
   "execution_count": 10,
   "metadata": {},
   "outputs": [],
   "source": [
    "scaler = preprocessing.StandardScaler().fit(x_train)\n",
    "X_scaled = scaler.transform(x_train)"
   ]
  },
  {
   "cell_type": "code",
   "execution_count": 11,
   "metadata": {},
   "outputs": [
    {
     "data": {
      "text/plain": [
       "GridSearchCV(cv=5, estimator=LogisticRegression(max_iter=1000, random_state=1),\n",
       "             param_grid={'C': [0.1, 0.5, 1, 5, 10, 50, 100]},\n",
       "             scoring='accuracy')"
      ]
     },
     "execution_count": 11,
     "metadata": {},
     "output_type": "execute_result"
    }
   ],
   "source": [
    "log_model.fit(X_scaled,y_train)"
   ]
  },
  {
   "cell_type": "code",
   "execution_count": 12,
   "metadata": {},
   "outputs": [],
   "source": [
    "y_pred=log_model.predict(x_test)"
   ]
  },
  {
   "cell_type": "code",
   "execution_count": 13,
   "metadata": {},
   "outputs": [
    {
     "name": "stdout",
     "output_type": "stream",
     "text": [
      "0.4560448182788274\n"
     ]
    }
   ],
   "source": [
    "#check the accuracy of the model\n",
    "print(accuracy_score(y_test,y_pred))"
   ]
  },
  {
   "cell_type": "code",
   "execution_count": 14,
   "metadata": {},
   "outputs": [
    {
     "name": "stdout",
     "output_type": "stream",
     "text": [
      "[[145070 173315]\n",
      " [     0    235]]\n",
      "              precision    recall  f1-score   support\n",
      "\n",
      "           0       1.00      0.46      0.63    318385\n",
      "           1       0.00      1.00      0.00       235\n",
      "\n",
      "    accuracy                           0.46    318620\n",
      "   macro avg       0.50      0.73      0.31    318620\n",
      "weighted avg       1.00      0.46      0.63    318620\n",
      "\n"
     ]
    }
   ],
   "source": [
    "print(confusion_matrix(y_test,y_pred))\n",
    "print(classification_report(y_test,y_pred))"
   ]
  },
  {
   "cell_type": "code",
   "execution_count": 15,
   "metadata": {},
   "outputs": [],
   "source": [
    "A = confusion_matrix(y_test,y_pred)"
   ]
  },
  {
   "cell_type": "code",
   "execution_count": 16,
   "metadata": {},
   "outputs": [],
   "source": [
    "TN = A[0,0]\n",
    "FP = A[0,1]\n",
    "FN = A[1,0]\n",
    "TP = A[1,1]"
   ]
  },
  {
   "cell_type": "code",
   "execution_count": 1,
   "metadata": {},
   "outputs": [
    {
     "ename": "NameError",
     "evalue": "name 'TP' is not defined",
     "output_type": "error",
     "traceback": [
      "\u001b[1;31m---------------------------------------------------------------------------\u001b[0m",
      "\u001b[1;31mNameError\u001b[0m                                 Traceback (most recent call last)",
      "\u001b[1;32m<ipython-input-1-bd0f22a5d881>\u001b[0m in \u001b[0;36m<module>\u001b[1;34m\u001b[0m\n\u001b[1;32m----> 1\u001b[1;33m \u001b[0mDR\u001b[0m \u001b[1;33m=\u001b[0m \u001b[0mTP\u001b[0m \u001b[1;33m/\u001b[0m \u001b[1;33m(\u001b[0m\u001b[0mTP\u001b[0m \u001b[1;33m+\u001b[0m \u001b[0mFN\u001b[0m\u001b[1;33m)\u001b[0m\u001b[1;33m\u001b[0m\u001b[1;33m\u001b[0m\u001b[0m\n\u001b[0m\u001b[0;32m      2\u001b[0m \u001b[0mDR\u001b[0m\u001b[1;33m\u001b[0m\u001b[1;33m\u001b[0m\u001b[0m\n",
      "\u001b[1;31mNameError\u001b[0m: name 'TP' is not defined"
     ]
    }
   ],
   "source": [
    "DR = TP / (TP + FN)\n",
    "DR"
   ]
  },
  {
   "cell_type": "code",
   "execution_count": 18,
   "metadata": {},
   "outputs": [
    {
     "data": {
      "text/plain": [
       "737.5106382978723"
      ]
     },
     "execution_count": 18,
     "metadata": {},
     "output_type": "execute_result"
    }
   ],
   "source": [
    "FPR = FP / TP\n",
    "FPR"
   ]
  },
  {
   "cell_type": "code",
   "execution_count": 19,
   "metadata": {},
   "outputs": [],
   "source": [
    "a = pd.DataFrame(x_test.iloc[0]).transpose()"
   ]
  },
  {
   "cell_type": "code",
   "execution_count": 20,
   "metadata": {},
   "outputs": [
    {
     "data": {
      "text/plain": [
       "array([[0., 1.]])"
      ]
     },
     "execution_count": 20,
     "metadata": {},
     "output_type": "execute_result"
    }
   ],
   "source": [
    "log_model.predict_proba(a)"
   ]
  },
  {
   "cell_type": "code",
   "execution_count": 21,
   "metadata": {},
   "outputs": [],
   "source": [
    "rfc = RandomForestClassifier(n_estimators=200)"
   ]
  },
  {
   "cell_type": "code",
   "execution_count": 22,
   "metadata": {},
   "outputs": [
    {
     "data": {
      "text/plain": [
       "RandomForestClassifier(n_estimators=200)"
      ]
     },
     "execution_count": 22,
     "metadata": {},
     "output_type": "execute_result"
    }
   ],
   "source": [
    "rfc.fit(X_scaled,y_train)"
   ]
  },
  {
   "cell_type": "code",
   "execution_count": 44,
   "metadata": {},
   "outputs": [],
   "source": [
    "y_pred_2 = rfc.predict(X_scaled_test)"
   ]
  },
  {
   "cell_type": "code",
   "execution_count": 45,
   "metadata": {},
   "outputs": [],
   "source": [
    "B = confusion_matrix(y_test,y_pred_2)"
   ]
  },
  {
   "cell_type": "code",
   "execution_count": 52,
   "metadata": {},
   "outputs": [
    {
     "name": "stdout",
     "output_type": "stream",
     "text": [
      "[[318372     13]\n",
      " [   209     26]]\n",
      "              precision    recall  f1-score   support\n",
      "\n",
      "           0       1.00      1.00      1.00    318385\n",
      "           1       0.67      0.11      0.19       235\n",
      "\n",
      "    accuracy                           1.00    318620\n",
      "   macro avg       0.83      0.56      0.59    318620\n",
      "weighted avg       1.00      1.00      1.00    318620\n",
      "\n"
     ]
    }
   ],
   "source": [
    "print(B)\n",
    "print(classification_report(y_test,y_pred_2))"
   ]
  },
  {
   "cell_type": "code",
   "execution_count": 47,
   "metadata": {},
   "outputs": [],
   "source": [
    "TN = B[0,0]\n",
    "FP = B[0,1]\n",
    "FN = B[1,0]\n",
    "TP = B[1,1]"
   ]
  },
  {
   "cell_type": "code",
   "execution_count": 48,
   "metadata": {},
   "outputs": [
    {
     "data": {
      "text/plain": [
       "0.11063829787234042"
      ]
     },
     "execution_count": 48,
     "metadata": {},
     "output_type": "execute_result"
    }
   ],
   "source": [
    "DR = TP / (TP + FN)\n",
    "DR"
   ]
  },
  {
   "cell_type": "code",
   "execution_count": 49,
   "metadata": {},
   "outputs": [
    {
     "data": {
      "text/plain": [
       "0.5"
      ]
     },
     "execution_count": 49,
     "metadata": {},
     "output_type": "execute_result"
    }
   ],
   "source": [
    "FPR = FP / TP\n",
    "FPR"
   ]
  },
  {
   "cell_type": "code",
   "execution_count": 43,
   "metadata": {},
   "outputs": [
    {
     "data": {
      "text/plain": [
       "array([[0.84, 0.16]])"
      ]
     },
     "execution_count": 43,
     "metadata": {},
     "output_type": "execute_result"
    }
   ],
   "source": [
    "rfc.predict_proba(pd.DataFrame(X_scaled_test[0]).transpose())"
   ]
  },
  {
   "cell_type": "code",
   "execution_count": 33,
   "metadata": {},
   "outputs": [],
   "source": [
    "scaler_test = preprocessing.StandardScaler().fit(x_test)\n",
    "X_scaled_test = scaler_test.transform(x_test)"
   ]
  },
  {
   "cell_type": "code",
   "execution_count": 35,
   "metadata": {},
   "outputs": [
    {
     "data": {
      "text/plain": [
       "StandardScaler()"
      ]
     },
     "execution_count": 35,
     "metadata": {},
     "output_type": "execute_result"
    }
   ],
   "source": [
    "scaler_test"
   ]
  },
  {
   "cell_type": "code",
   "execution_count": 38,
   "metadata": {},
   "outputs": [
    {
     "data": {
      "text/plain": [
       "array([-0.15881961, -0.20007966, -0.90660532, -0.03949583,  0.17921153,\n",
       "       -1.55025524,  0.70750344,  0.01034525, -1.44027257,  0.59553442,\n",
       "       -0.73093638, -0.08951994, -0.50429854, -1.32379064,  0.28777915,\n",
       "       -0.25512341, -0.95167942, -0.0436438 , -1.7433423 ,  0.38139846,\n",
       "        0.13477689, -0.48039145, -0.01123823,  0.1728185 , -0.06325776])"
      ]
     },
     "execution_count": 38,
     "metadata": {},
     "output_type": "execute_result"
    }
   ],
   "source": [
    "X_scaled_test[0]"
   ]
  },
  {
   "cell_type": "code",
   "execution_count": 55,
   "metadata": {},
   "outputs": [],
   "source": [
    "C = rfc.predict_proba(pd.DataFrame(X_scaled_test))"
   ]
  },
  {
   "cell_type": "code",
   "execution_count": 73,
   "metadata": {},
   "outputs": [
    {
     "data": {
      "text/plain": [
       "array([], shape=(0, 2), dtype=float64)"
      ]
     },
     "execution_count": 73,
     "metadata": {},
     "output_type": "execute_result"
    }
   ],
   "source": [
    "C[:0]"
   ]
  },
  {
   "cell_type": "code",
   "execution_count": 79,
   "metadata": {},
   "outputs": [],
   "source": [
    "Fraud = C[:,0]"
   ]
  },
  {
   "cell_type": "code",
   "execution_count": 80,
   "metadata": {},
   "outputs": [],
   "source": [
    "Legitimate = C[:,1]"
   ]
  },
  {
   "cell_type": "code",
   "execution_count": 82,
   "metadata": {},
   "outputs": [
    {
     "data": {
      "text/plain": [
       "array([0.84 , 1.   , 1.   , ..., 0.755, 1.   , 1.   ])"
      ]
     },
     "execution_count": 82,
     "metadata": {},
     "output_type": "execute_result"
    }
   ],
   "source": [
    "Fraud"
   ]
  },
  {
   "cell_type": "code",
   "execution_count": 84,
   "metadata": {},
   "outputs": [
    {
     "data": {
      "text/plain": [
       "(array([9.00000e+00, 1.30000e+01, 1.50000e+01, 1.90000e+01, 1.02000e+02,\n",
       "        5.65000e+02, 3.09360e+04, 1.48209e+05, 2.20450e+04, 1.16707e+05]),\n",
       " array([0.275 , 0.3475, 0.42  , 0.4925, 0.565 , 0.6375, 0.71  , 0.7825,\n",
       "        0.855 , 0.9275, 1.    ]),\n",
       " <BarContainer object of 10 artists>)"
      ]
     },
     "execution_count": 84,
     "metadata": {},
     "output_type": "execute_result"
    },
    {
     "data": {
      "image/png": "[encoded data removed]",
      "text/plain": [
       "<Figure size 432x288 with 1 Axes>"
      ]
     },
     "metadata": {
      "needs_background": "light"
     },
     "output_type": "display_data"
    }
   ],
   "source": [
    "plt.hist(Fraud)"
   ]
  },
  {
   "cell_type": "code",
   "execution_count": 85,
   "metadata": {},
   "outputs": [
    {
     "data": {
      "text/plain": [
       "(array([1.16707e+05, 1.35430e+04, 1.56710e+05, 3.08390e+04, 6.63000e+02,\n",
       "        9.80000e+01, 2.30000e+01, 1.50000e+01, 1.30000e+01, 9.00000e+00]),\n",
       " array([0.    , 0.0725, 0.145 , 0.2175, 0.29  , 0.3625, 0.435 , 0.5075,\n",
       "        0.58  , 0.6525, 0.725 ]),\n",
       " <BarContainer object of 10 artists>)"
      ]
     },
     "execution_count": 85,
     "metadata": {},
     "output_type": "execute_result"
    },
    {
     "data": {
      "image/png": "[encoded data removed]",
      "text/plain": [
       "<Figure size 432x288 with 1 Axes>"
      ]
     },
     "metadata": {
      "needs_background": "light"
     },
     "output_type": "display_data"
    }
   ],
   "source": [
    "plt.hist(Legitimate)"
   ]
  },
  {
   "cell_type": "code",
   "execution_count": 86,
   "metadata": {},
   "outputs": [
    {
     "data": {
      "text/plain": [
       "array([[0.84 , 0.16 ],\n",
       "       [1.   , 0.   ],\n",
       "       [1.   , 0.   ],\n",
       "       ...,\n",
       "       [0.755, 0.245],\n",
       "       [1.   , 0.   ],\n",
       "       [1.   , 0.   ]])"
      ]
     },
     "execution_count": 86,
     "metadata": {},
     "output_type": "execute_result"
    }
   ],
   "source": [
    "C "
   ]
  },
  {
   "cell_type": "code",
   "execution_count": 94,
   "metadata": {},
   "outputs": [
    {
     "data": {
      "text/plain": [
       "0.16"
      ]
     },
     "execution_count": 94,
     "metadata": {},
     "output_type": "execute_result"
    }
   ],
   "source": [
    "if C[0][1] > 0.3:\n",
    "    fraud.append"
   ]
  },
  {
   "cell_type": "code",
   "execution_count": 96,
   "metadata": {},
   "outputs": [
    {
     "data": {
      "text/html": [
       "<div>\n",
       "<style scoped>\n",
       "    .dataframe tbody tr th:only-of-type {\n",
       "        vertical-align: middle;\n",
       "    }\n",
       "\n",
       "    .dataframe tbody tr th {\n",
       "        vertical-align: top;\n",
       "    }\n",
       "\n",
       "    .dataframe thead th {\n",
       "        text-align: right;\n",
       "    }\n",
       "</style>\n",
       "<table border=\"1\" class=\"dataframe\">\n",
       "  <thead>\n",
       "    <tr style=\"text-align: right;\">\n",
       "      <th></th>\n",
       "      <th>amount</th>\n",
       "      <th>feature0</th>\n",
       "      <th>feature1</th>\n",
       "      <th>feature2</th>\n",
       "      <th>feature3</th>\n",
       "      <th>feature4</th>\n",
       "      <th>feature5</th>\n",
       "      <th>feature6</th>\n",
       "      <th>feature7</th>\n",
       "      <th>feature8</th>\n",
       "      <th>...</th>\n",
       "      <th>feature14</th>\n",
       "      <th>feature15</th>\n",
       "      <th>feature16</th>\n",
       "      <th>feature17</th>\n",
       "      <th>feature18</th>\n",
       "      <th>feature19</th>\n",
       "      <th>feature20</th>\n",
       "      <th>feature21</th>\n",
       "      <th>feature22</th>\n",
       "      <th>feature23</th>\n",
       "    </tr>\n",
       "  </thead>\n",
       "  <tbody>\n",
       "    <tr>\n",
       "      <th>1017964</th>\n",
       "      <td>30.00</td>\n",
       "      <td>-437.383069</td>\n",
       "      <td>-309.805695</td>\n",
       "      <td>-14.890102</td>\n",
       "      <td>27.657271</td>\n",
       "      <td>-129.113093</td>\n",
       "      <td>47.254991</td>\n",
       "      <td>-2.672462</td>\n",
       "      <td>-16.517507</td>\n",
       "      <td>4.112847</td>\n",
       "      <td>...</td>\n",
       "      <td>-0.212295</td>\n",
       "      <td>-0.641827</td>\n",
       "      <td>-0.042537</td>\n",
       "      <td>-0.802462</td>\n",
       "      <td>0.116278</td>\n",
       "      <td>0.041095</td>\n",
       "      <td>-0.103817</td>\n",
       "      <td>-0.004584</td>\n",
       "      <td>0.004775</td>\n",
       "      <td>-0.000382</td>\n",
       "    </tr>\n",
       "    <tr>\n",
       "      <th>1565056</th>\n",
       "      <td>1000.00</td>\n",
       "      <td>-427.954810</td>\n",
       "      <td>784.067019</td>\n",
       "      <td>-507.226787</td>\n",
       "      <td>120.160137</td>\n",
       "      <td>-0.725520</td>\n",
       "      <td>-5.504378</td>\n",
       "      <td>-2.506086</td>\n",
       "      <td>3.409616</td>\n",
       "      <td>-2.458250</td>\n",
       "      <td>...</td>\n",
       "      <td>0.268834</td>\n",
       "      <td>0.464247</td>\n",
       "      <td>0.864290</td>\n",
       "      <td>-0.064558</td>\n",
       "      <td>0.049819</td>\n",
       "      <td>0.350153</td>\n",
       "      <td>0.074174</td>\n",
       "      <td>0.004530</td>\n",
       "      <td>0.001907</td>\n",
       "      <td>-0.000017</td>\n",
       "    </tr>\n",
       "    <tr>\n",
       "      <th>412867</th>\n",
       "      <td>670.00</td>\n",
       "      <td>-309.672125</td>\n",
       "      <td>764.313104</td>\n",
       "      <td>22.364296</td>\n",
       "      <td>144.148967</td>\n",
       "      <td>8.752532</td>\n",
       "      <td>-17.110234</td>\n",
       "      <td>-3.616199</td>\n",
       "      <td>4.000220</td>\n",
       "      <td>7.753575</td>\n",
       "      <td>...</td>\n",
       "      <td>0.436648</td>\n",
       "      <td>-1.579076</td>\n",
       "      <td>-2.463595</td>\n",
       "      <td>0.291279</td>\n",
       "      <td>0.172073</td>\n",
       "      <td>-0.884220</td>\n",
       "      <td>-0.075347</td>\n",
       "      <td>-0.000780</td>\n",
       "      <td>-0.012635</td>\n",
       "      <td>0.000044</td>\n",
       "    </tr>\n",
       "    <tr>\n",
       "      <th>1138202</th>\n",
       "      <td>45.21</td>\n",
       "      <td>-436.304640</td>\n",
       "      <td>-325.561009</td>\n",
       "      <td>-21.647534</td>\n",
       "      <td>65.871075</td>\n",
       "      <td>102.007083</td>\n",
       "      <td>-17.937610</td>\n",
       "      <td>-13.938180</td>\n",
       "      <td>-16.553174</td>\n",
       "      <td>4.197246</td>\n",
       "      <td>...</td>\n",
       "      <td>-0.774406</td>\n",
       "      <td>0.191584</td>\n",
       "      <td>0.623061</td>\n",
       "      <td>-0.269502</td>\n",
       "      <td>0.556055</td>\n",
       "      <td>-0.168606</td>\n",
       "      <td>1.305309</td>\n",
       "      <td>-0.212242</td>\n",
       "      <td>0.003812</td>\n",
       "      <td>-0.000162</td>\n",
       "    </tr>\n",
       "    <tr>\n",
       "      <th>484986</th>\n",
       "      <td>122.00</td>\n",
       "      <td>495.956853</td>\n",
       "      <td>710.250354</td>\n",
       "      <td>33.299838</td>\n",
       "      <td>-64.751435</td>\n",
       "      <td>67.512620</td>\n",
       "      <td>-264.250753</td>\n",
       "      <td>-6.625461</td>\n",
       "      <td>4.554683</td>\n",
       "      <td>3.853919</td>\n",
       "      <td>...</td>\n",
       "      <td>-0.351231</td>\n",
       "      <td>-0.107872</td>\n",
       "      <td>0.265033</td>\n",
       "      <td>-0.051964</td>\n",
       "      <td>-0.184434</td>\n",
       "      <td>0.157441</td>\n",
       "      <td>0.031936</td>\n",
       "      <td>0.010511</td>\n",
       "      <td>-0.001851</td>\n",
       "      <td>0.000029</td>\n",
       "    </tr>\n",
       "    <tr>\n",
       "      <th>...</th>\n",
       "      <td>...</td>\n",
       "      <td>...</td>\n",
       "      <td>...</td>\n",
       "      <td>...</td>\n",
       "      <td>...</td>\n",
       "      <td>...</td>\n",
       "      <td>...</td>\n",
       "      <td>...</td>\n",
       "      <td>...</td>\n",
       "      <td>...</td>\n",
       "      <td>...</td>\n",
       "      <td>...</td>\n",
       "      <td>...</td>\n",
       "      <td>...</td>\n",
       "      <td>...</td>\n",
       "      <td>...</td>\n",
       "      <td>...</td>\n",
       "      <td>...</td>\n",
       "      <td>...</td>\n",
       "      <td>...</td>\n",
       "      <td>...</td>\n",
       "    </tr>\n",
       "    <tr>\n",
       "      <th>1113974</th>\n",
       "      <td>862.79</td>\n",
       "      <td>-438.589296</td>\n",
       "      <td>762.776655</td>\n",
       "      <td>9.356057</td>\n",
       "      <td>150.453091</td>\n",
       "      <td>6.503213</td>\n",
       "      <td>-10.501108</td>\n",
       "      <td>-3.443436</td>\n",
       "      <td>-16.980791</td>\n",
       "      <td>2.186234</td>\n",
       "      <td>...</td>\n",
       "      <td>0.297948</td>\n",
       "      <td>0.402760</td>\n",
       "      <td>0.175214</td>\n",
       "      <td>-0.027068</td>\n",
       "      <td>-0.023836</td>\n",
       "      <td>-0.004610</td>\n",
       "      <td>-0.016008</td>\n",
       "      <td>0.000849</td>\n",
       "      <td>-0.022359</td>\n",
       "      <td>-0.000006</td>\n",
       "    </tr>\n",
       "    <tr>\n",
       "      <th>406368</th>\n",
       "      <td>1207.54</td>\n",
       "      <td>-434.355743</td>\n",
       "      <td>747.905540</td>\n",
       "      <td>356.380876</td>\n",
       "      <td>170.967333</td>\n",
       "      <td>11.299987</td>\n",
       "      <td>-13.804714</td>\n",
       "      <td>-3.895102</td>\n",
       "      <td>4.483408</td>\n",
       "      <td>2.312707</td>\n",
       "      <td>...</td>\n",
       "      <td>0.279865</td>\n",
       "      <td>0.451333</td>\n",
       "      <td>0.153478</td>\n",
       "      <td>-0.021017</td>\n",
       "      <td>-0.014742</td>\n",
       "      <td>0.002948</td>\n",
       "      <td>-0.037936</td>\n",
       "      <td>-0.003364</td>\n",
       "      <td>0.000868</td>\n",
       "      <td>0.000015</td>\n",
       "    </tr>\n",
       "    <tr>\n",
       "      <th>417400</th>\n",
       "      <td>39.95</td>\n",
       "      <td>-435.959303</td>\n",
       "      <td>-325.177021</td>\n",
       "      <td>90.640426</td>\n",
       "      <td>3.697419</td>\n",
       "      <td>-119.281660</td>\n",
       "      <td>8.939752</td>\n",
       "      <td>-3.320368</td>\n",
       "      <td>3.657758</td>\n",
       "      <td>6.727003</td>\n",
       "      <td>...</td>\n",
       "      <td>-0.493205</td>\n",
       "      <td>-0.175450</td>\n",
       "      <td>0.211150</td>\n",
       "      <td>1.084947</td>\n",
       "      <td>-0.565538</td>\n",
       "      <td>-0.638177</td>\n",
       "      <td>-0.094275</td>\n",
       "      <td>-0.003791</td>\n",
       "      <td>0.001147</td>\n",
       "      <td>-0.000031</td>\n",
       "    </tr>\n",
       "    <tr>\n",
       "      <th>830868</th>\n",
       "      <td>2558.47</td>\n",
       "      <td>-432.710603</td>\n",
       "      <td>761.759015</td>\n",
       "      <td>33.305442</td>\n",
       "      <td>151.854128</td>\n",
       "      <td>6.846066</td>\n",
       "      <td>-10.703065</td>\n",
       "      <td>-3.448898</td>\n",
       "      <td>-5.944105</td>\n",
       "      <td>2.318428</td>\n",
       "      <td>...</td>\n",
       "      <td>-1.295340</td>\n",
       "      <td>-0.749905</td>\n",
       "      <td>0.185931</td>\n",
       "      <td>0.006245</td>\n",
       "      <td>-0.028442</td>\n",
       "      <td>-0.020263</td>\n",
       "      <td>-0.000890</td>\n",
       "      <td>0.004448</td>\n",
       "      <td>0.000798</td>\n",
       "      <td>-0.000018</td>\n",
       "    </tr>\n",
       "    <tr>\n",
       "      <th>147556</th>\n",
       "      <td>1000.00</td>\n",
       "      <td>-432.687381</td>\n",
       "      <td>-340.498843</td>\n",
       "      <td>-178.507615</td>\n",
       "      <td>-86.847536</td>\n",
       "      <td>-102.218441</td>\n",
       "      <td>-80.155709</td>\n",
       "      <td>-4.184752</td>\n",
       "      <td>3.474603</td>\n",
       "      <td>8.092387</td>\n",
       "      <td>...</td>\n",
       "      <td>-0.105545</td>\n",
       "      <td>0.970840</td>\n",
       "      <td>-0.424718</td>\n",
       "      <td>-0.697334</td>\n",
       "      <td>-0.502914</td>\n",
       "      <td>-0.437148</td>\n",
       "      <td>-0.117713</td>\n",
       "      <td>-0.006592</td>\n",
       "      <td>0.006394</td>\n",
       "      <td>-0.000038</td>\n",
       "    </tr>\n",
       "  </tbody>\n",
       "</table>\n",
       "<p>318620 rows × 25 columns</p>\n",
       "</div>"
      ],
      "text/plain": [
       "          amount    feature0    feature1    feature2    feature3    feature4  \\\n",
       "1017964    30.00 -437.383069 -309.805695  -14.890102   27.657271 -129.113093   \n",
       "1565056  1000.00 -427.954810  784.067019 -507.226787  120.160137   -0.725520   \n",
       "412867    670.00 -309.672125  764.313104   22.364296  144.148967    8.752532   \n",
       "1138202    45.21 -436.304640 -325.561009  -21.647534   65.871075  102.007083   \n",
       "484986    122.00  495.956853  710.250354   33.299838  -64.751435   67.512620   \n",
       "...          ...         ...         ...         ...         ...         ...   \n",
       "1113974   862.79 -438.589296  762.776655    9.356057  150.453091    6.503213   \n",
       "406368   1207.54 -434.355743  747.905540  356.380876  170.967333   11.299987   \n",
       "417400     39.95 -435.959303 -325.177021   90.640426    3.697419 -119.281660   \n",
       "830868   2558.47 -432.710603  761.759015   33.305442  151.854128    6.846066   \n",
       "147556   1000.00 -432.687381 -340.498843 -178.507615  -86.847536 -102.218441   \n",
       "\n",
       "           feature5   feature6   feature7  feature8  ...  feature14  \\\n",
       "1017964   47.254991  -2.672462 -16.517507  4.112847  ...  -0.212295   \n",
       "1565056   -5.504378  -2.506086   3.409616 -2.458250  ...   0.268834   \n",
       "412867   -17.110234  -3.616199   4.000220  7.753575  ...   0.436648   \n",
       "1138202  -17.937610 -13.938180 -16.553174  4.197246  ...  -0.774406   \n",
       "484986  -264.250753  -6.625461   4.554683  3.853919  ...  -0.351231   \n",
       "...             ...        ...        ...       ...  ...        ...   \n",
       "1113974  -10.501108  -3.443436 -16.980791  2.186234  ...   0.297948   \n",
       "406368   -13.804714  -3.895102   4.483408  2.312707  ...   0.279865   \n",
       "417400     8.939752  -3.320368   3.657758  6.727003  ...  -0.493205   \n",
       "830868   -10.703065  -3.448898  -5.944105  2.318428  ...  -1.295340   \n",
       "147556   -80.155709  -4.184752   3.474603  8.092387  ...  -0.105545   \n",
       "\n",
       "         feature15  feature16  feature17  feature18  feature19  feature20  \\\n",
       "1017964  -0.641827  -0.042537  -0.802462   0.116278   0.041095  -0.103817   \n",
       "1565056   0.464247   0.864290  -0.064558   0.049819   0.350153   0.074174   \n",
       "412867   -1.579076  -2.463595   0.291279   0.172073  -0.884220  -0.075347   \n",
       "1138202   0.191584   0.623061  -0.269502   0.556055  -0.168606   1.305309   \n",
       "484986   -0.107872   0.265033  -0.051964  -0.184434   0.157441   0.031936   \n",
       "...            ...        ...        ...        ...        ...        ...   \n",
       "1113974   0.402760   0.175214  -0.027068  -0.023836  -0.004610  -0.016008   \n",
       "406368    0.451333   0.153478  -0.021017  -0.014742   0.002948  -0.037936   \n",
       "417400   -0.175450   0.211150   1.084947  -0.565538  -0.638177  -0.094275   \n",
       "830868   -0.749905   0.185931   0.006245  -0.028442  -0.020263  -0.000890   \n",
       "147556    0.970840  -0.424718  -0.697334  -0.502914  -0.437148  -0.117713   \n",
       "\n",
       "         feature21  feature22  feature23  \n",
       "1017964  -0.004584   0.004775  -0.000382  \n",
       "1565056   0.004530   0.001907  -0.000017  \n",
       "412867   -0.000780  -0.012635   0.000044  \n",
       "1138202  -0.212242   0.003812  -0.000162  \n",
       "484986    0.010511  -0.001851   0.000029  \n",
       "...            ...        ...        ...  \n",
       "1113974   0.000849  -0.022359  -0.000006  \n",
       "406368   -0.003364   0.000868   0.000015  \n",
       "417400   -0.003791   0.001147  -0.000031  \n",
       "830868    0.004448   0.000798  -0.000018  \n",
       "147556   -0.006592   0.006394  -0.000038  \n",
       "\n",
       "[318620 rows x 25 columns]"
      ]
     },
     "execution_count": 96,
     "metadata": {},
     "output_type": "execute_result"
    }
   ],
   "source": [
    "x_test"
   ]
  },
  {
   "cell_type": "code",
   "execution_count": 135,
   "metadata": {},
   "outputs": [],
   "source": [
    "df2 = pd.read_csv('datasets/test.csv')"
   ]
  },
  {
   "cell_type": "code",
   "execution_count": 136,
   "metadata": {},
   "outputs": [],
   "source": [
    "df2 = df2.drop(columns=['card','day','time'])"
   ]
  },
  {
   "cell_type": "code",
   "execution_count": 137,
   "metadata": {},
   "outputs": [],
   "source": [
    "df2['label'] = df2['label'].astype(int)"
   ]
  },
  {
   "cell_type": "code",
   "execution_count": 138,
   "metadata": {},
   "outputs": [],
   "source": [
    "df2_ = df2.set_index('transaction_id')"
   ]
  },
  {
   "cell_type": "code",
   "execution_count": 139,
   "metadata": {},
   "outputs": [],
   "source": [
    "x_val = df2_.drop(columns='label')"
   ]
  },
  {
   "cell_type": "code",
   "execution_count": 140,
   "metadata": {},
   "outputs": [
    {
     "data": {
      "text/html": [
       "<div>\n",
       "<style scoped>\n",
       "    .dataframe tbody tr th:only-of-type {\n",
       "        vertical-align: middle;\n",
       "    }\n",
       "\n",
       "    .dataframe tbody tr th {\n",
       "        vertical-align: top;\n",
       "    }\n",
       "\n",
       "    .dataframe thead th {\n",
       "        text-align: right;\n",
       "    }\n",
       "</style>\n",
       "<table border=\"1\" class=\"dataframe\">\n",
       "  <thead>\n",
       "    <tr style=\"text-align: right;\">\n",
       "      <th></th>\n",
       "      <th>amount</th>\n",
       "      <th>feature0</th>\n",
       "      <th>feature1</th>\n",
       "      <th>feature2</th>\n",
       "      <th>feature3</th>\n",
       "      <th>feature4</th>\n",
       "      <th>feature5</th>\n",
       "      <th>feature6</th>\n",
       "      <th>feature7</th>\n",
       "      <th>feature8</th>\n",
       "      <th>...</th>\n",
       "      <th>feature14</th>\n",
       "      <th>feature15</th>\n",
       "      <th>feature16</th>\n",
       "      <th>feature17</th>\n",
       "      <th>feature18</th>\n",
       "      <th>feature19</th>\n",
       "      <th>feature20</th>\n",
       "      <th>feature21</th>\n",
       "      <th>feature22</th>\n",
       "      <th>feature23</th>\n",
       "    </tr>\n",
       "    <tr>\n",
       "      <th>transaction_id</th>\n",
       "      <th></th>\n",
       "      <th></th>\n",
       "      <th></th>\n",
       "      <th></th>\n",
       "      <th></th>\n",
       "      <th></th>\n",
       "      <th></th>\n",
       "      <th></th>\n",
       "      <th></th>\n",
       "      <th></th>\n",
       "      <th></th>\n",
       "      <th></th>\n",
       "      <th></th>\n",
       "      <th></th>\n",
       "      <th></th>\n",
       "      <th></th>\n",
       "      <th></th>\n",
       "      <th></th>\n",
       "      <th></th>\n",
       "      <th></th>\n",
       "      <th></th>\n",
       "    </tr>\n",
       "  </thead>\n",
       "  <tbody>\n",
       "    <tr>\n",
       "      <th>1488269</th>\n",
       "      <td>35.00</td>\n",
       "      <td>-434.944428</td>\n",
       "      <td>-323.343970</td>\n",
       "      <td>-110.782931</td>\n",
       "      <td>44.730339</td>\n",
       "      <td>70.248569</td>\n",
       "      <td>119.398880</td>\n",
       "      <td>-10.043585</td>\n",
       "      <td>-16.991429</td>\n",
       "      <td>4.501982</td>\n",
       "      <td>...</td>\n",
       "      <td>0.838937</td>\n",
       "      <td>1.424193</td>\n",
       "      <td>-0.130088</td>\n",
       "      <td>-0.027653</td>\n",
       "      <td>-0.265320</td>\n",
       "      <td>-0.106963</td>\n",
       "      <td>-0.105680</td>\n",
       "      <td>-0.012755</td>\n",
       "      <td>0.009492</td>\n",
       "      <td>-0.000006</td>\n",
       "    </tr>\n",
       "    <tr>\n",
       "      <th>1488270</th>\n",
       "      <td>54.50</td>\n",
       "      <td>-435.145707</td>\n",
       "      <td>-338.357631</td>\n",
       "      <td>321.252613</td>\n",
       "      <td>8.252579</td>\n",
       "      <td>-113.567809</td>\n",
       "      <td>-4.473936</td>\n",
       "      <td>-3.810175</td>\n",
       "      <td>3.988520</td>\n",
       "      <td>7.083202</td>\n",
       "      <td>...</td>\n",
       "      <td>0.811475</td>\n",
       "      <td>-0.350513</td>\n",
       "      <td>0.432199</td>\n",
       "      <td>0.961994</td>\n",
       "      <td>-0.110770</td>\n",
       "      <td>0.012510</td>\n",
       "      <td>-0.093803</td>\n",
       "      <td>-0.004067</td>\n",
       "      <td>-0.001812</td>\n",
       "      <td>-0.000294</td>\n",
       "    </tr>\n",
       "    <tr>\n",
       "      <th>1488271</th>\n",
       "      <td>168.97</td>\n",
       "      <td>-438.449846</td>\n",
       "      <td>-328.748121</td>\n",
       "      <td>187.307614</td>\n",
       "      <td>11.108991</td>\n",
       "      <td>-118.378902</td>\n",
       "      <td>10.306475</td>\n",
       "      <td>-3.396746</td>\n",
       "      <td>3.818490</td>\n",
       "      <td>4.784027</td>\n",
       "      <td>...</td>\n",
       "      <td>0.593810</td>\n",
       "      <td>0.005328</td>\n",
       "      <td>-0.076905</td>\n",
       "      <td>-0.843179</td>\n",
       "      <td>0.091032</td>\n",
       "      <td>0.018876</td>\n",
       "      <td>0.681332</td>\n",
       "      <td>0.583736</td>\n",
       "      <td>-0.024366</td>\n",
       "      <td>-0.000364</td>\n",
       "    </tr>\n",
       "    <tr>\n",
       "      <th>1488272</th>\n",
       "      <td>18.28</td>\n",
       "      <td>-422.874818</td>\n",
       "      <td>-330.531132</td>\n",
       "      <td>-314.515513</td>\n",
       "      <td>-0.125700</td>\n",
       "      <td>112.963625</td>\n",
       "      <td>-81.154786</td>\n",
       "      <td>-14.003739</td>\n",
       "      <td>3.369232</td>\n",
       "      <td>-9.124203</td>\n",
       "      <td>...</td>\n",
       "      <td>0.422270</td>\n",
       "      <td>0.544350</td>\n",
       "      <td>-0.759162</td>\n",
       "      <td>0.169211</td>\n",
       "      <td>-0.054523</td>\n",
       "      <td>-0.038898</td>\n",
       "      <td>-0.129540</td>\n",
       "      <td>-0.016737</td>\n",
       "      <td>0.006011</td>\n",
       "      <td>0.000011</td>\n",
       "    </tr>\n",
       "    <tr>\n",
       "      <th>1488273</th>\n",
       "      <td>11.05</td>\n",
       "      <td>-422.874818</td>\n",
       "      <td>-330.531132</td>\n",
       "      <td>-314.515513</td>\n",
       "      <td>-0.125700</td>\n",
       "      <td>112.963625</td>\n",
       "      <td>-81.154786</td>\n",
       "      <td>-14.003739</td>\n",
       "      <td>3.369232</td>\n",
       "      <td>-9.124203</td>\n",
       "      <td>...</td>\n",
       "      <td>0.422270</td>\n",
       "      <td>0.544350</td>\n",
       "      <td>-0.759162</td>\n",
       "      <td>0.169211</td>\n",
       "      <td>-0.054523</td>\n",
       "      <td>-0.038898</td>\n",
       "      <td>-0.129540</td>\n",
       "      <td>-0.016737</td>\n",
       "      <td>0.006011</td>\n",
       "      <td>0.000011</td>\n",
       "    </tr>\n",
       "    <tr>\n",
       "      <th>...</th>\n",
       "      <td>...</td>\n",
       "      <td>...</td>\n",
       "      <td>...</td>\n",
       "      <td>...</td>\n",
       "      <td>...</td>\n",
       "      <td>...</td>\n",
       "      <td>...</td>\n",
       "      <td>...</td>\n",
       "      <td>...</td>\n",
       "      <td>...</td>\n",
       "      <td>...</td>\n",
       "      <td>...</td>\n",
       "      <td>...</td>\n",
       "      <td>...</td>\n",
       "      <td>...</td>\n",
       "      <td>...</td>\n",
       "      <td>...</td>\n",
       "      <td>...</td>\n",
       "      <td>...</td>\n",
       "      <td>...</td>\n",
       "      <td>...</td>\n",
       "    </tr>\n",
       "    <tr>\n",
       "      <th>2396413</th>\n",
       "      <td>1.00</td>\n",
       "      <td>-383.874981</td>\n",
       "      <td>674.101687</td>\n",
       "      <td>-499.927242</td>\n",
       "      <td>-297.676146</td>\n",
       "      <td>-22.780927</td>\n",
       "      <td>76.812412</td>\n",
       "      <td>6.474047</td>\n",
       "      <td>3.227120</td>\n",
       "      <td>-4.521048</td>\n",
       "      <td>...</td>\n",
       "      <td>0.248373</td>\n",
       "      <td>0.929000</td>\n",
       "      <td>0.561247</td>\n",
       "      <td>-0.025105</td>\n",
       "      <td>0.022467</td>\n",
       "      <td>0.104120</td>\n",
       "      <td>0.030196</td>\n",
       "      <td>-0.006194</td>\n",
       "      <td>0.001346</td>\n",
       "      <td>-0.000004</td>\n",
       "    </tr>\n",
       "    <tr>\n",
       "      <th>2396414</th>\n",
       "      <td>1.15</td>\n",
       "      <td>-383.874981</td>\n",
       "      <td>674.101687</td>\n",
       "      <td>-499.927242</td>\n",
       "      <td>-297.676146</td>\n",
       "      <td>-22.780927</td>\n",
       "      <td>76.812412</td>\n",
       "      <td>6.474047</td>\n",
       "      <td>3.227120</td>\n",
       "      <td>-4.521048</td>\n",
       "      <td>...</td>\n",
       "      <td>0.248373</td>\n",
       "      <td>0.929000</td>\n",
       "      <td>0.561247</td>\n",
       "      <td>-0.025105</td>\n",
       "      <td>0.022467</td>\n",
       "      <td>0.104120</td>\n",
       "      <td>0.030196</td>\n",
       "      <td>-0.006194</td>\n",
       "      <td>0.001346</td>\n",
       "      <td>-0.000004</td>\n",
       "    </tr>\n",
       "    <tr>\n",
       "      <th>2396415</th>\n",
       "      <td>91.65</td>\n",
       "      <td>-406.697464</td>\n",
       "      <td>658.710412</td>\n",
       "      <td>-142.049574</td>\n",
       "      <td>-276.443908</td>\n",
       "      <td>-17.865570</td>\n",
       "      <td>73.338430</td>\n",
       "      <td>5.949271</td>\n",
       "      <td>3.715151</td>\n",
       "      <td>-4.680835</td>\n",
       "      <td>...</td>\n",
       "      <td>-1.430883</td>\n",
       "      <td>-0.242479</td>\n",
       "      <td>0.551606</td>\n",
       "      <td>0.005911</td>\n",
       "      <td>0.017622</td>\n",
       "      <td>0.091532</td>\n",
       "      <td>0.020637</td>\n",
       "      <td>-0.001663</td>\n",
       "      <td>0.000896</td>\n",
       "      <td>-0.000032</td>\n",
       "    </tr>\n",
       "    <tr>\n",
       "      <th>2396416</th>\n",
       "      <td>91.65</td>\n",
       "      <td>-434.011077</td>\n",
       "      <td>672.837908</td>\n",
       "      <td>-473.270131</td>\n",
       "      <td>-295.952878</td>\n",
       "      <td>-22.438011</td>\n",
       "      <td>76.525526</td>\n",
       "      <td>6.430250</td>\n",
       "      <td>3.265206</td>\n",
       "      <td>-4.530342</td>\n",
       "      <td>...</td>\n",
       "      <td>0.239501</td>\n",
       "      <td>0.926201</td>\n",
       "      <td>0.559340</td>\n",
       "      <td>-0.024786</td>\n",
       "      <td>0.022773</td>\n",
       "      <td>0.104380</td>\n",
       "      <td>0.028073</td>\n",
       "      <td>-0.006265</td>\n",
       "      <td>0.001838</td>\n",
       "      <td>-0.000004</td>\n",
       "    </tr>\n",
       "    <tr>\n",
       "      <th>2396417</th>\n",
       "      <td>71.75</td>\n",
       "      <td>-441.881459</td>\n",
       "      <td>640.266947</td>\n",
       "      <td>286.591711</td>\n",
       "      <td>-250.993764</td>\n",
       "      <td>-12.000908</td>\n",
       "      <td>69.125294</td>\n",
       "      <td>5.267356</td>\n",
       "      <td>-15.707898</td>\n",
       "      <td>-5.132281</td>\n",
       "      <td>...</td>\n",
       "      <td>-0.747192</td>\n",
       "      <td>0.309404</td>\n",
       "      <td>0.519423</td>\n",
       "      <td>-0.013800</td>\n",
       "      <td>0.019616</td>\n",
       "      <td>0.103407</td>\n",
       "      <td>-0.019405</td>\n",
       "      <td>-0.002161</td>\n",
       "      <td>0.005890</td>\n",
       "      <td>-0.000020</td>\n",
       "    </tr>\n",
       "  </tbody>\n",
       "</table>\n",
       "<p>803322 rows × 25 columns</p>\n",
       "</div>"
      ],
      "text/plain": [
       "                amount    feature0    feature1    feature2    feature3  \\\n",
       "transaction_id                                                           \n",
       "1488269          35.00 -434.944428 -323.343970 -110.782931   44.730339   \n",
       "1488270          54.50 -435.145707 -338.357631  321.252613    8.252579   \n",
       "1488271         168.97 -438.449846 -328.748121  187.307614   11.108991   \n",
       "1488272          18.28 -422.874818 -330.531132 -314.515513   -0.125700   \n",
       "1488273          11.05 -422.874818 -330.531132 -314.515513   -0.125700   \n",
       "...                ...         ...         ...         ...         ...   \n",
       "2396413           1.00 -383.874981  674.101687 -499.927242 -297.676146   \n",
       "2396414           1.15 -383.874981  674.101687 -499.927242 -297.676146   \n",
       "2396415          91.65 -406.697464  658.710412 -142.049574 -276.443908   \n",
       "2396416          91.65 -434.011077  672.837908 -473.270131 -295.952878   \n",
       "2396417          71.75 -441.881459  640.266947  286.591711 -250.993764   \n",
       "\n",
       "                  feature4    feature5   feature6   feature7  feature8  ...  \\\n",
       "transaction_id                                                          ...   \n",
       "1488269          70.248569  119.398880 -10.043585 -16.991429  4.501982  ...   \n",
       "1488270        -113.567809   -4.473936  -3.810175   3.988520  7.083202  ...   \n",
       "1488271        -118.378902   10.306475  -3.396746   3.818490  4.784027  ...   \n",
       "1488272         112.963625  -81.154786 -14.003739   3.369232 -9.124203  ...   \n",
       "1488273         112.963625  -81.154786 -14.003739   3.369232 -9.124203  ...   \n",
       "...                    ...         ...        ...        ...       ...  ...   \n",
       "2396413         -22.780927   76.812412   6.474047   3.227120 -4.521048  ...   \n",
       "2396414         -22.780927   76.812412   6.474047   3.227120 -4.521048  ...   \n",
       "2396415         -17.865570   73.338430   5.949271   3.715151 -4.680835  ...   \n",
       "2396416         -22.438011   76.525526   6.430250   3.265206 -4.530342  ...   \n",
       "2396417         -12.000908   69.125294   5.267356 -15.707898 -5.132281  ...   \n",
       "\n",
       "                feature14  feature15  feature16  feature17  feature18  \\\n",
       "transaction_id                                                          \n",
       "1488269          0.838937   1.424193  -0.130088  -0.027653  -0.265320   \n",
       "1488270          0.811475  -0.350513   0.432199   0.961994  -0.110770   \n",
       "1488271          0.593810   0.005328  -0.076905  -0.843179   0.091032   \n",
       "1488272          0.422270   0.544350  -0.759162   0.169211  -0.054523   \n",
       "1488273          0.422270   0.544350  -0.759162   0.169211  -0.054523   \n",
       "...                   ...        ...        ...        ...        ...   \n",
       "2396413          0.248373   0.929000   0.561247  -0.025105   0.022467   \n",
       "2396414          0.248373   0.929000   0.561247  -0.025105   0.022467   \n",
       "2396415         -1.430883  -0.242479   0.551606   0.005911   0.017622   \n",
       "2396416          0.239501   0.926201   0.559340  -0.024786   0.022773   \n",
       "2396417         -0.747192   0.309404   0.519423  -0.013800   0.019616   \n",
       "\n",
       "                feature19  feature20  feature21  feature22  feature23  \n",
       "transaction_id                                                         \n",
       "1488269         -0.106963  -0.105680  -0.012755   0.009492  -0.000006  \n",
       "1488270          0.012510  -0.093803  -0.004067  -0.001812  -0.000294  \n",
       "1488271          0.018876   0.681332   0.583736  -0.024366  -0.000364  \n",
       "1488272         -0.038898  -0.129540  -0.016737   0.006011   0.000011  \n",
       "1488273         -0.038898  -0.129540  -0.016737   0.006011   0.000011  \n",
       "...                   ...        ...        ...        ...        ...  \n",
       "2396413          0.104120   0.030196  -0.006194   0.001346  -0.000004  \n",
       "2396414          0.104120   0.030196  -0.006194   0.001346  -0.000004  \n",
       "2396415          0.091532   0.020637  -0.001663   0.000896  -0.000032  \n",
       "2396416          0.104380   0.028073  -0.006265   0.001838  -0.000004  \n",
       "2396417          0.103407  -0.019405  -0.002161   0.005890  -0.000020  \n",
       "\n",
       "[803322 rows x 25 columns]"
      ]
     },
     "execution_count": 140,
     "metadata": {},
     "output_type": "execute_result"
    }
   ],
   "source": [
    "x_val"
   ]
  },
  {
   "cell_type": "code",
   "execution_count": 141,
   "metadata": {},
   "outputs": [
    {
     "data": {
      "text/html": [
       "<div>\n",
       "<style scoped>\n",
       "    .dataframe tbody tr th:only-of-type {\n",
       "        vertical-align: middle;\n",
       "    }\n",
       "\n",
       "    .dataframe tbody tr th {\n",
       "        vertical-align: top;\n",
       "    }\n",
       "\n",
       "    .dataframe thead th {\n",
       "        text-align: right;\n",
       "    }\n",
       "</style>\n",
       "<table border=\"1\" class=\"dataframe\">\n",
       "  <thead>\n",
       "    <tr style=\"text-align: right;\">\n",
       "      <th></th>\n",
       "      <th>transaction_id</th>\n",
       "      <th>amount</th>\n",
       "      <th>feature0</th>\n",
       "      <th>feature1</th>\n",
       "      <th>feature2</th>\n",
       "      <th>feature3</th>\n",
       "      <th>feature4</th>\n",
       "      <th>feature5</th>\n",
       "      <th>feature6</th>\n",
       "      <th>feature7</th>\n",
       "      <th>...</th>\n",
       "      <th>feature15</th>\n",
       "      <th>feature16</th>\n",
       "      <th>feature17</th>\n",
       "      <th>feature18</th>\n",
       "      <th>feature19</th>\n",
       "      <th>feature20</th>\n",
       "      <th>feature21</th>\n",
       "      <th>feature22</th>\n",
       "      <th>feature23</th>\n",
       "      <th>label</th>\n",
       "    </tr>\n",
       "  </thead>\n",
       "  <tbody>\n",
       "    <tr>\n",
       "      <th>0</th>\n",
       "      <td>1488269</td>\n",
       "      <td>35.00</td>\n",
       "      <td>-434.944428</td>\n",
       "      <td>-323.343970</td>\n",
       "      <td>-110.782931</td>\n",
       "      <td>44.730339</td>\n",
       "      <td>70.248569</td>\n",
       "      <td>119.398880</td>\n",
       "      <td>-10.043585</td>\n",
       "      <td>-16.991429</td>\n",
       "      <td>...</td>\n",
       "      <td>1.424193</td>\n",
       "      <td>-0.130088</td>\n",
       "      <td>-0.027653</td>\n",
       "      <td>-0.265320</td>\n",
       "      <td>-0.106963</td>\n",
       "      <td>-0.105680</td>\n",
       "      <td>-0.012755</td>\n",
       "      <td>0.009492</td>\n",
       "      <td>-0.000006</td>\n",
       "      <td>0</td>\n",
       "    </tr>\n",
       "    <tr>\n",
       "      <th>1</th>\n",
       "      <td>1488270</td>\n",
       "      <td>54.50</td>\n",
       "      <td>-435.145707</td>\n",
       "      <td>-338.357631</td>\n",
       "      <td>321.252613</td>\n",
       "      <td>8.252579</td>\n",
       "      <td>-113.567809</td>\n",
       "      <td>-4.473936</td>\n",
       "      <td>-3.810175</td>\n",
       "      <td>3.988520</td>\n",
       "      <td>...</td>\n",
       "      <td>-0.350513</td>\n",
       "      <td>0.432199</td>\n",
       "      <td>0.961994</td>\n",
       "      <td>-0.110770</td>\n",
       "      <td>0.012510</td>\n",
       "      <td>-0.093803</td>\n",
       "      <td>-0.004067</td>\n",
       "      <td>-0.001812</td>\n",
       "      <td>-0.000294</td>\n",
       "      <td>0</td>\n",
       "    </tr>\n",
       "    <tr>\n",
       "      <th>2</th>\n",
       "      <td>1488271</td>\n",
       "      <td>168.97</td>\n",
       "      <td>-438.449846</td>\n",
       "      <td>-328.748121</td>\n",
       "      <td>187.307614</td>\n",
       "      <td>11.108991</td>\n",
       "      <td>-118.378902</td>\n",
       "      <td>10.306475</td>\n",
       "      <td>-3.396746</td>\n",
       "      <td>3.818490</td>\n",
       "      <td>...</td>\n",
       "      <td>0.005328</td>\n",
       "      <td>-0.076905</td>\n",
       "      <td>-0.843179</td>\n",
       "      <td>0.091032</td>\n",
       "      <td>0.018876</td>\n",
       "      <td>0.681332</td>\n",
       "      <td>0.583736</td>\n",
       "      <td>-0.024366</td>\n",
       "      <td>-0.000364</td>\n",
       "      <td>0</td>\n",
       "    </tr>\n",
       "    <tr>\n",
       "      <th>3</th>\n",
       "      <td>1488272</td>\n",
       "      <td>18.28</td>\n",
       "      <td>-422.874818</td>\n",
       "      <td>-330.531132</td>\n",
       "      <td>-314.515513</td>\n",
       "      <td>-0.125700</td>\n",
       "      <td>112.963625</td>\n",
       "      <td>-81.154786</td>\n",
       "      <td>-14.003739</td>\n",
       "      <td>3.369232</td>\n",
       "      <td>...</td>\n",
       "      <td>0.544350</td>\n",
       "      <td>-0.759162</td>\n",
       "      <td>0.169211</td>\n",
       "      <td>-0.054523</td>\n",
       "      <td>-0.038898</td>\n",
       "      <td>-0.129540</td>\n",
       "      <td>-0.016737</td>\n",
       "      <td>0.006011</td>\n",
       "      <td>0.000011</td>\n",
       "      <td>0</td>\n",
       "    </tr>\n",
       "    <tr>\n",
       "      <th>4</th>\n",
       "      <td>1488273</td>\n",
       "      <td>11.05</td>\n",
       "      <td>-422.874818</td>\n",
       "      <td>-330.531132</td>\n",
       "      <td>-314.515513</td>\n",
       "      <td>-0.125700</td>\n",
       "      <td>112.963625</td>\n",
       "      <td>-81.154786</td>\n",
       "      <td>-14.003739</td>\n",
       "      <td>3.369232</td>\n",
       "      <td>...</td>\n",
       "      <td>0.544350</td>\n",
       "      <td>-0.759162</td>\n",
       "      <td>0.169211</td>\n",
       "      <td>-0.054523</td>\n",
       "      <td>-0.038898</td>\n",
       "      <td>-0.129540</td>\n",
       "      <td>-0.016737</td>\n",
       "      <td>0.006011</td>\n",
       "      <td>0.000011</td>\n",
       "      <td>0</td>\n",
       "    </tr>\n",
       "    <tr>\n",
       "      <th>...</th>\n",
       "      <td>...</td>\n",
       "      <td>...</td>\n",
       "      <td>...</td>\n",
       "      <td>...</td>\n",
       "      <td>...</td>\n",
       "      <td>...</td>\n",
       "      <td>...</td>\n",
       "      <td>...</td>\n",
       "      <td>...</td>\n",
       "      <td>...</td>\n",
       "      <td>...</td>\n",
       "      <td>...</td>\n",
       "      <td>...</td>\n",
       "      <td>...</td>\n",
       "      <td>...</td>\n",
       "      <td>...</td>\n",
       "      <td>...</td>\n",
       "      <td>...</td>\n",
       "      <td>...</td>\n",
       "      <td>...</td>\n",
       "      <td>...</td>\n",
       "    </tr>\n",
       "    <tr>\n",
       "      <th>803317</th>\n",
       "      <td>2396413</td>\n",
       "      <td>1.00</td>\n",
       "      <td>-383.874981</td>\n",
       "      <td>674.101687</td>\n",
       "      <td>-499.927242</td>\n",
       "      <td>-297.676146</td>\n",
       "      <td>-22.780927</td>\n",
       "      <td>76.812412</td>\n",
       "      <td>6.474047</td>\n",
       "      <td>3.227120</td>\n",
       "      <td>...</td>\n",
       "      <td>0.929000</td>\n",
       "      <td>0.561247</td>\n",
       "      <td>-0.025105</td>\n",
       "      <td>0.022467</td>\n",
       "      <td>0.104120</td>\n",
       "      <td>0.030196</td>\n",
       "      <td>-0.006194</td>\n",
       "      <td>0.001346</td>\n",
       "      <td>-0.000004</td>\n",
       "      <td>0</td>\n",
       "    </tr>\n",
       "    <tr>\n",
       "      <th>803318</th>\n",
       "      <td>2396414</td>\n",
       "      <td>1.15</td>\n",
       "      <td>-383.874981</td>\n",
       "      <td>674.101687</td>\n",
       "      <td>-499.927242</td>\n",
       "      <td>-297.676146</td>\n",
       "      <td>-22.780927</td>\n",
       "      <td>76.812412</td>\n",
       "      <td>6.474047</td>\n",
       "      <td>3.227120</td>\n",
       "      <td>...</td>\n",
       "      <td>0.929000</td>\n",
       "      <td>0.561247</td>\n",
       "      <td>-0.025105</td>\n",
       "      <td>0.022467</td>\n",
       "      <td>0.104120</td>\n",
       "      <td>0.030196</td>\n",
       "      <td>-0.006194</td>\n",
       "      <td>0.001346</td>\n",
       "      <td>-0.000004</td>\n",
       "      <td>0</td>\n",
       "    </tr>\n",
       "    <tr>\n",
       "      <th>803319</th>\n",
       "      <td>2396415</td>\n",
       "      <td>91.65</td>\n",
       "      <td>-406.697464</td>\n",
       "      <td>658.710412</td>\n",
       "      <td>-142.049574</td>\n",
       "      <td>-276.443908</td>\n",
       "      <td>-17.865570</td>\n",
       "      <td>73.338430</td>\n",
       "      <td>5.949271</td>\n",
       "      <td>3.715151</td>\n",
       "      <td>...</td>\n",
       "      <td>-0.242479</td>\n",
       "      <td>0.551606</td>\n",
       "      <td>0.005911</td>\n",
       "      <td>0.017622</td>\n",
       "      <td>0.091532</td>\n",
       "      <td>0.020637</td>\n",
       "      <td>-0.001663</td>\n",
       "      <td>0.000896</td>\n",
       "      <td>-0.000032</td>\n",
       "      <td>0</td>\n",
       "    </tr>\n",
       "    <tr>\n",
       "      <th>803320</th>\n",
       "      <td>2396416</td>\n",
       "      <td>91.65</td>\n",
       "      <td>-434.011077</td>\n",
       "      <td>672.837908</td>\n",
       "      <td>-473.270131</td>\n",
       "      <td>-295.952878</td>\n",
       "      <td>-22.438011</td>\n",
       "      <td>76.525526</td>\n",
       "      <td>6.430250</td>\n",
       "      <td>3.265206</td>\n",
       "      <td>...</td>\n",
       "      <td>0.926201</td>\n",
       "      <td>0.559340</td>\n",
       "      <td>-0.024786</td>\n",
       "      <td>0.022773</td>\n",
       "      <td>0.104380</td>\n",
       "      <td>0.028073</td>\n",
       "      <td>-0.006265</td>\n",
       "      <td>0.001838</td>\n",
       "      <td>-0.000004</td>\n",
       "      <td>0</td>\n",
       "    </tr>\n",
       "    <tr>\n",
       "      <th>803321</th>\n",
       "      <td>2396417</td>\n",
       "      <td>71.75</td>\n",
       "      <td>-441.881459</td>\n",
       "      <td>640.266947</td>\n",
       "      <td>286.591711</td>\n",
       "      <td>-250.993764</td>\n",
       "      <td>-12.000908</td>\n",
       "      <td>69.125294</td>\n",
       "      <td>5.267356</td>\n",
       "      <td>-15.707898</td>\n",
       "      <td>...</td>\n",
       "      <td>0.309404</td>\n",
       "      <td>0.519423</td>\n",
       "      <td>-0.013800</td>\n",
       "      <td>0.019616</td>\n",
       "      <td>0.103407</td>\n",
       "      <td>-0.019405</td>\n",
       "      <td>-0.002161</td>\n",
       "      <td>0.005890</td>\n",
       "      <td>-0.000020</td>\n",
       "      <td>0</td>\n",
       "    </tr>\n",
       "  </tbody>\n",
       "</table>\n",
       "<p>803322 rows × 27 columns</p>\n",
       "</div>"
      ],
      "text/plain": [
       "        transaction_id  amount    feature0    feature1    feature2  \\\n",
       "0              1488269   35.00 -434.944428 -323.343970 -110.782931   \n",
       "1              1488270   54.50 -435.145707 -338.357631  321.252613   \n",
       "2              1488271  168.97 -438.449846 -328.748121  187.307614   \n",
       "3              1488272   18.28 -422.874818 -330.531132 -314.515513   \n",
       "4              1488273   11.05 -422.874818 -330.531132 -314.515513   \n",
       "...                ...     ...         ...         ...         ...   \n",
       "803317         2396413    1.00 -383.874981  674.101687 -499.927242   \n",
       "803318         2396414    1.15 -383.874981  674.101687 -499.927242   \n",
       "803319         2396415   91.65 -406.697464  658.710412 -142.049574   \n",
       "803320         2396416   91.65 -434.011077  672.837908 -473.270131   \n",
       "803321         2396417   71.75 -441.881459  640.266947  286.591711   \n",
       "\n",
       "          feature3    feature4    feature5   feature6   feature7  ...  \\\n",
       "0        44.730339   70.248569  119.398880 -10.043585 -16.991429  ...   \n",
       "1         8.252579 -113.567809   -4.473936  -3.810175   3.988520  ...   \n",
       "2        11.108991 -118.378902   10.306475  -3.396746   3.818490  ...   \n",
       "3        -0.125700  112.963625  -81.154786 -14.003739   3.369232  ...   \n",
       "4        -0.125700  112.963625  -81.154786 -14.003739   3.369232  ...   \n",
       "...            ...         ...         ...        ...        ...  ...   \n",
       "803317 -297.676146  -22.780927   76.812412   6.474047   3.227120  ...   \n",
       "803318 -297.676146  -22.780927   76.812412   6.474047   3.227120  ...   \n",
       "803319 -276.443908  -17.865570   73.338430   5.949271   3.715151  ...   \n",
       "803320 -295.952878  -22.438011   76.525526   6.430250   3.265206  ...   \n",
       "803321 -250.993764  -12.000908   69.125294   5.267356 -15.707898  ...   \n",
       "\n",
       "        feature15  feature16  feature17  feature18  feature19  feature20  \\\n",
       "0        1.424193  -0.130088  -0.027653  -0.265320  -0.106963  -0.105680   \n",
       "1       -0.350513   0.432199   0.961994  -0.110770   0.012510  -0.093803   \n",
       "2        0.005328  -0.076905  -0.843179   0.091032   0.018876   0.681332   \n",
       "3        0.544350  -0.759162   0.169211  -0.054523  -0.038898  -0.129540   \n",
       "4        0.544350  -0.759162   0.169211  -0.054523  -0.038898  -0.129540   \n",
       "...           ...        ...        ...        ...        ...        ...   \n",
       "803317   0.929000   0.561247  -0.025105   0.022467   0.104120   0.030196   \n",
       "803318   0.929000   0.561247  -0.025105   0.022467   0.104120   0.030196   \n",
       "803319  -0.242479   0.551606   0.005911   0.017622   0.091532   0.020637   \n",
       "803320   0.926201   0.559340  -0.024786   0.022773   0.104380   0.028073   \n",
       "803321   0.309404   0.519423  -0.013800   0.019616   0.103407  -0.019405   \n",
       "\n",
       "        feature21  feature22  feature23  label  \n",
       "0       -0.012755   0.009492  -0.000006      0  \n",
       "1       -0.004067  -0.001812  -0.000294      0  \n",
       "2        0.583736  -0.024366  -0.000364      0  \n",
       "3       -0.016737   0.006011   0.000011      0  \n",
       "4       -0.016737   0.006011   0.000011      0  \n",
       "...           ...        ...        ...    ...  \n",
       "803317  -0.006194   0.001346  -0.000004      0  \n",
       "803318  -0.006194   0.001346  -0.000004      0  \n",
       "803319  -0.001663   0.000896  -0.000032      0  \n",
       "803320  -0.006265   0.001838  -0.000004      0  \n",
       "803321  -0.002161   0.005890  -0.000020      0  \n",
       "\n",
       "[803322 rows x 27 columns]"
      ]
     },
     "execution_count": 141,
     "metadata": {},
     "output_type": "execute_result"
    }
   ],
   "source": [
    "df2"
   ]
  },
  {
   "cell_type": "code",
   "execution_count": 111,
   "metadata": {},
   "outputs": [],
   "source": [
    "y_val = df2['label']"
   ]
  },
  {
   "cell_type": "code",
   "execution_count": 173,
   "metadata": {},
   "outputs": [],
   "source": [
    "scaler_val = preprocessing.StandardScaler().fit(x_val)\n",
    "X_scaled_val = scaler_test.transform(x_val)"
   ]
  },
  {
   "cell_type": "code",
   "execution_count": 174,
   "metadata": {},
   "outputs": [],
   "source": [
    "Prob = rfc.predict_proba(X_scaled_val)"
   ]
  },
  {
   "cell_type": "code",
   "execution_count": 115,
   "metadata": {},
   "outputs": [],
   "source": [
    "y_pred_val = rfc.predict(X_scaled_val)"
   ]
  },
  {
   "cell_type": "code",
   "execution_count": 185,
   "metadata": {},
   "outputs": [
    {
     "name": "stdout",
     "output_type": "stream",
     "text": [
      "[[802647     25]\n",
      " [   617     33]]\n",
      "              precision    recall  f1-score   support\n",
      "\n",
      "           0       1.00      1.00      1.00    802672\n",
      "           1       0.57      0.05      0.09       650\n",
      "\n",
      "    accuracy                           1.00    803322\n",
      "   macro avg       0.78      0.53      0.55    803322\n",
      "weighted avg       1.00      1.00      1.00    803322\n",
      "\n"
     ]
    }
   ],
   "source": [
    "print(confusion_matrix(y_val,y_pred_val))\n",
    "print(classification_report(y_val,y_pred_val))"
   ]
  },
  {
   "cell_type": "code",
   "execution_count": 117,
   "metadata": {},
   "outputs": [],
   "source": [
    "Fraud = Prob[:,0]"
   ]
  },
  {
   "cell_type": "code",
   "execution_count": 118,
   "metadata": {},
   "outputs": [],
   "source": [
    "Legitimate = Prob[:,1]"
   ]
  },
  {
   "cell_type": "code",
   "execution_count": 119,
   "metadata": {},
   "outputs": [
    {
     "data": {
      "text/plain": [
       "(array([9.00000e+00, 1.30000e+01, 3.00000e+01, 3.40000e+01, 9.40000e+01,\n",
       "        1.48700e+03, 5.23270e+04, 3.74098e+05, 8.32830e+04, 2.91947e+05]),\n",
       " array([0.24 , 0.316, 0.392, 0.468, 0.544, 0.62 , 0.696, 0.772, 0.848,\n",
       "        0.924, 1.   ]),\n",
       " <BarContainer object of 10 artists>)"
      ]
     },
     "execution_count": 119,
     "metadata": {},
     "output_type": "execute_result"
    },
    {
     "data": {
      "image/png": "[encoded data removed]",
      "text/plain": [
       "<Figure size 432x288 with 1 Axes>"
      ]
     },
     "metadata": {
      "needs_background": "light"
     },
     "output_type": "display_data"
    }
   ],
   "source": [
    "plt.hist(Fraud)"
   ]
  },
  {
   "cell_type": "code",
   "execution_count": 120,
   "metadata": {},
   "outputs": [
    {
     "data": {
      "text/plain": [
       "(array([2.91947e+05, 8.32820e+04, 3.74084e+05, 5.23420e+04, 1.46500e+03,\n",
       "        1.16000e+02, 3.40000e+01, 3.00000e+01, 1.30000e+01, 9.00000e+00]),\n",
       " array([0.   , 0.076, 0.152, 0.228, 0.304, 0.38 , 0.456, 0.532, 0.608,\n",
       "        0.684, 0.76 ]),\n",
       " <BarContainer object of 10 artists>)"
      ]
     },
     "execution_count": 120,
     "metadata": {},
     "output_type": "execute_result"
    },
    {
     "data": {
      "image/png": "[encoded data removed]",
      "text/plain": [
       "<Figure size 432x288 with 1 Axes>"
      ]
     },
     "metadata": {
      "needs_background": "light"
     },
     "output_type": "display_data"
    }
   ],
   "source": [
    "plt.hist(Legitimate)"
   ]
  },
  {
   "cell_type": "code",
   "execution_count": 158,
   "metadata": {},
   "outputs": [],
   "source": [
    "pred_with_tresh_03 = []"
   ]
  },
  {
   "cell_type": "code",
   "execution_count": 162,
   "metadata": {},
   "outputs": [],
   "source": [
    "for i in range(len(X_scaled_val)):\n",
    "    Prob = rfc.predict_proba(pd.DataFrame(X_scaled_val[i]).transpose())\n",
    "    if Prob[0][0] > 3:\n",
    "        pred_with_tresh_03.append(1)\n",
    "    else:\n",
    "        pred_with_tresh_03.append(0)\n",
    "    break"
   ]
  },
  {
   "cell_type": "code",
   "execution_count": 153,
   "metadata": {},
   "outputs": [
    {
     "data": {
      "text/plain": [
       "0.805"
      ]
     },
     "execution_count": 153,
     "metadata": {},
     "output_type": "execute_result"
    }
   ],
   "source": [
    "Prob[0][0]"
   ]
  },
  {
   "cell_type": "code",
   "execution_count": 235,
   "metadata": {},
   "outputs": [],
   "source": [
    "threshold = 0.3"
   ]
  },
  {
   "cell_type": "code",
   "execution_count": 236,
   "metadata": {},
   "outputs": [],
   "source": [
    "pred_with_tresh_03 = (Prob[:,1]>=threshold).astype('int')"
   ]
  },
  {
   "cell_type": "code",
   "execution_count": 237,
   "metadata": {},
   "outputs": [
    {
     "data": {
      "text/plain": [
       "array([[800879,   1793],\n",
       "       [   580,     70]], dtype=int64)"
      ]
     },
     "execution_count": 237,
     "metadata": {},
     "output_type": "execute_result"
    }
   ],
   "source": [
    "confusion_matrix(y_val,pred_with_tresh_03)"
   ]
  },
  {
   "cell_type": "code",
   "execution_count": 238,
   "metadata": {},
   "outputs": [],
   "source": [
    "A = confusion_matrix(y_val,pred_with_tresh_03)"
   ]
  },
  {
   "cell_type": "code",
   "execution_count": 239,
   "metadata": {},
   "outputs": [
    {
     "data": {
      "text/plain": [
       "803322"
      ]
     },
     "execution_count": 239,
     "metadata": {},
     "output_type": "execute_result"
    }
   ],
   "source": [
    "len(pred_with_tresh_03)"
   ]
  },
  {
   "cell_type": "code",
   "execution_count": 240,
   "metadata": {},
   "outputs": [
    {
     "data": {
      "text/plain": [
       "318620"
      ]
     },
     "execution_count": 240,
     "metadata": {},
     "output_type": "execute_result"
    }
   ],
   "source": [
    "len(y_test)"
   ]
  },
  {
   "cell_type": "code",
   "execution_count": 241,
   "metadata": {},
   "outputs": [],
   "source": [
    "TN = A[0,0]\n",
    "FP = A[0,1]\n",
    "FN = A[1,0]\n",
    "TP = A[1,1]"
   ]
  },
  {
   "cell_type": "code",
   "execution_count": 242,
   "metadata": {},
   "outputs": [
    {
     "data": {
      "text/plain": [
       "0.1076923076923077"
      ]
     },
     "execution_count": 242,
     "metadata": {},
     "output_type": "execute_result"
    }
   ],
   "source": [
    "DR = TP / (TP + FN)\n",
    "DR"
   ]
  },
  {
   "cell_type": "code",
   "execution_count": 243,
   "metadata": {},
   "outputs": [
    {
     "data": {
      "text/plain": [
       "25.614285714285714"
      ]
     },
     "execution_count": 243,
     "metadata": {},
     "output_type": "execute_result"
    }
   ],
   "source": [
    "FPR = FP / TP\n",
    "FPR"
   ]
  },
  {
   "cell_type": "code",
   "execution_count": null,
   "metadata": {},
   "outputs": [],
   "source": []
  }
 ],
 "metadata": {
  "kernelspec": {
   "display_name": "Python 3",
   "language": "python",
   "name": "python3"
  },
  "language_info": {
   "codemirror_mode": {
    "name": "ipython",
    "version": 3
   },
   "file_extension": ".py",
   "mimetype": "text/x-python",
   "name": "python",
   "nbconvert_exporter": "python",
   "pygments_lexer": "ipython3",
   "version": "3.8.5"
  }
 },
 "nbformat": 4,
 "nbformat_minor": 4
}
