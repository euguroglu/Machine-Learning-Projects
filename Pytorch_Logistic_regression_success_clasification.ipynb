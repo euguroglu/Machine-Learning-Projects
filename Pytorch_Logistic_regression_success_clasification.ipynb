{
  "nbformat": 4,
  "nbformat_minor": 0,
  "metadata": {
    "colab": {
      "name": "Pytorch_Logistic_regression_success_clasification.ipynb",
      "provenance": [],
      "authorship_tag": "ABX9TyPxGB/J+KCJ0dIAVXoGTo9v",
      "include_colab_link": true
    },
    "kernelspec": {
      "name": "python3",
      "display_name": "Python 3"
    }
  },
  "cells": [
    {
      "cell_type": "markdown",
      "metadata": {
        "id": "view-in-github",
        "colab_type": "text"
      },
      "source": [
        "<a href=\"https://colab.research.google.com/github/euguroglu/Machine-Learning-Projects/blob/master/Pytorch_Logistic_regression_success_clasification.ipynb\" target=\"_parent\"><img src=\"https://colab.research.google.com/assets/colab-badge.svg\" alt=\"Open In Colab\"/></a>"
      ]
    },
    {
      "cell_type": "markdown",
      "metadata": {
        "id": "cI7Iv8ZyimbY",
        "colab_type": "text"
      },
      "source": [
        "## Importing libraries"
      ]
    },
    {
      "cell_type": "code",
      "metadata": {
        "id": "pJ4iRfVMZ4y7",
        "colab_type": "code",
        "colab": {}
      },
      "source": [
        "import torch\n",
        "import torch.nn as nn\n",
        "import torch.nn.functional as F\n",
        "import pandas as pd\n",
        "import matplotlib.pyplot as plt\n",
        "from sklearn.model_selection import train_test_split"
      ],
      "execution_count": 22,
      "outputs": []
    },
    {
      "cell_type": "code",
      "metadata": {
        "id": "BZlTdW3naCqS",
        "colab_type": "code",
        "colab": {}
      },
      "source": [
        "df = pd.read_csv('ex2data1.txt',header=None)"
      ],
      "execution_count": 23,
      "outputs": []
    },
    {
      "cell_type": "code",
      "metadata": {
        "id": "RfPHgE5BaEVu",
        "colab_type": "code",
        "colab": {
          "base_uri": "https://localhost:8080/",
          "height": 204
        },
        "outputId": "3c2694cc-e41b-4d5d-e1fb-5e60dd691f10"
      },
      "source": [
        "df.head()"
      ],
      "execution_count": 24,
      "outputs": [
        {
          "output_type": "execute_result",
          "data": {
            "text/html": [
              "<div>\n",
              "<style scoped>\n",
              "    .dataframe tbody tr th:only-of-type {\n",
              "        vertical-align: middle;\n",
              "    }\n",
              "\n",
              "    .dataframe tbody tr th {\n",
              "        vertical-align: top;\n",
              "    }\n",
              "\n",
              "    .dataframe thead th {\n",
              "        text-align: right;\n",
              "    }\n",
              "</style>\n",
              "<table border=\"1\" class=\"dataframe\">\n",
              "  <thead>\n",
              "    <tr style=\"text-align: right;\">\n",
              "      <th></th>\n",
              "      <th>0</th>\n",
              "      <th>1</th>\n",
              "      <th>2</th>\n",
              "    </tr>\n",
              "  </thead>\n",
              "  <tbody>\n",
              "    <tr>\n",
              "      <th>0</th>\n",
              "      <td>34.623660</td>\n",
              "      <td>78.024693</td>\n",
              "      <td>0</td>\n",
              "    </tr>\n",
              "    <tr>\n",
              "      <th>1</th>\n",
              "      <td>30.286711</td>\n",
              "      <td>43.894998</td>\n",
              "      <td>0</td>\n",
              "    </tr>\n",
              "    <tr>\n",
              "      <th>2</th>\n",
              "      <td>35.847409</td>\n",
              "      <td>72.902198</td>\n",
              "      <td>0</td>\n",
              "    </tr>\n",
              "    <tr>\n",
              "      <th>3</th>\n",
              "      <td>60.182599</td>\n",
              "      <td>86.308552</td>\n",
              "      <td>1</td>\n",
              "    </tr>\n",
              "    <tr>\n",
              "      <th>4</th>\n",
              "      <td>79.032736</td>\n",
              "      <td>75.344376</td>\n",
              "      <td>1</td>\n",
              "    </tr>\n",
              "  </tbody>\n",
              "</table>\n",
              "</div>"
            ],
            "text/plain": [
              "           0          1  2\n",
              "0  34.623660  78.024693  0\n",
              "1  30.286711  43.894998  0\n",
              "2  35.847409  72.902198  0\n",
              "3  60.182599  86.308552  1\n",
              "4  79.032736  75.344376  1"
            ]
          },
          "metadata": {
            "tags": []
          },
          "execution_count": 24
        }
      ]
    },
    {
      "cell_type": "code",
      "metadata": {
        "id": "irRrj3UTaGFW",
        "colab_type": "code",
        "colab": {}
      },
      "source": [
        "df.rename(columns={0: \"First Exam\"},inplace=True)\n",
        "df.rename(columns={1: \"Second Exam\"},inplace=True)\n",
        "df.rename(columns={2: \"Result\"},inplace=True)"
      ],
      "execution_count": 25,
      "outputs": []
    },
    {
      "cell_type": "code",
      "metadata": {
        "id": "QTMgJ696emdP",
        "colab_type": "code",
        "colab": {
          "base_uri": "https://localhost:8080/",
          "height": 204
        },
        "outputId": "f87bb390-90e1-43a3-a5fb-4c42128280bd"
      },
      "source": [
        "df.head()"
      ],
      "execution_count": 26,
      "outputs": [
        {
          "output_type": "execute_result",
          "data": {
            "text/html": [
              "<div>\n",
              "<style scoped>\n",
              "    .dataframe tbody tr th:only-of-type {\n",
              "        vertical-align: middle;\n",
              "    }\n",
              "\n",
              "    .dataframe tbody tr th {\n",
              "        vertical-align: top;\n",
              "    }\n",
              "\n",
              "    .dataframe thead th {\n",
              "        text-align: right;\n",
              "    }\n",
              "</style>\n",
              "<table border=\"1\" class=\"dataframe\">\n",
              "  <thead>\n",
              "    <tr style=\"text-align: right;\">\n",
              "      <th></th>\n",
              "      <th>First Exam</th>\n",
              "      <th>Second Exam</th>\n",
              "      <th>Result</th>\n",
              "    </tr>\n",
              "  </thead>\n",
              "  <tbody>\n",
              "    <tr>\n",
              "      <th>0</th>\n",
              "      <td>34.623660</td>\n",
              "      <td>78.024693</td>\n",
              "      <td>0</td>\n",
              "    </tr>\n",
              "    <tr>\n",
              "      <th>1</th>\n",
              "      <td>30.286711</td>\n",
              "      <td>43.894998</td>\n",
              "      <td>0</td>\n",
              "    </tr>\n",
              "    <tr>\n",
              "      <th>2</th>\n",
              "      <td>35.847409</td>\n",
              "      <td>72.902198</td>\n",
              "      <td>0</td>\n",
              "    </tr>\n",
              "    <tr>\n",
              "      <th>3</th>\n",
              "      <td>60.182599</td>\n",
              "      <td>86.308552</td>\n",
              "      <td>1</td>\n",
              "    </tr>\n",
              "    <tr>\n",
              "      <th>4</th>\n",
              "      <td>79.032736</td>\n",
              "      <td>75.344376</td>\n",
              "      <td>1</td>\n",
              "    </tr>\n",
              "  </tbody>\n",
              "</table>\n",
              "</div>"
            ],
            "text/plain": [
              "   First Exam  Second Exam  Result\n",
              "0   34.623660    78.024693       0\n",
              "1   30.286711    43.894998       0\n",
              "2   35.847409    72.902198       0\n",
              "3   60.182599    86.308552       1\n",
              "4   79.032736    75.344376       1"
            ]
          },
          "metadata": {
            "tags": []
          },
          "execution_count": 26
        }
      ]
    },
    {
      "cell_type": "code",
      "metadata": {
        "id": "BUdwzqpffCaC",
        "colab_type": "code",
        "colab": {}
      },
      "source": [
        "x = df.drop('Result',axis=1)\n",
        "y = df['Result']"
      ],
      "execution_count": 27,
      "outputs": []
    },
    {
      "cell_type": "code",
      "metadata": {
        "id": "_77-v065fIfX",
        "colab_type": "code",
        "colab": {}
      },
      "source": [
        "x = x.values\n",
        "y = y.values"
      ],
      "execution_count": 28,
      "outputs": []
    },
    {
      "cell_type": "markdown",
      "metadata": {
        "id": "nQ5iq1wAixSL",
        "colab_type": "text"
      },
      "source": [
        "## Train and validation data preperation"
      ]
    },
    {
      "cell_type": "code",
      "metadata": {
        "id": "iN8HCyUUfVVt",
        "colab_type": "code",
        "colab": {}
      },
      "source": [
        "X_train, X_test, y_train, y_test = train_test_split(x,y,test_size=0.2,random_state=33)"
      ],
      "execution_count": 29,
      "outputs": []
    },
    {
      "cell_type": "code",
      "metadata": {
        "id": "TGoeTndvfetK",
        "colab_type": "code",
        "colab": {}
      },
      "source": [
        "X_train = torch.FloatTensor(X_train)\n",
        "X_test = torch.FloatTensor(X_test)"
      ],
      "execution_count": 30,
      "outputs": []
    },
    {
      "cell_type": "code",
      "metadata": {
        "id": "NURJAGEZfj6-",
        "colab_type": "code",
        "colab": {}
      },
      "source": [
        "y_train = torch.LongTensor(y_train)\n",
        "y_test = torch.LongTensor(y_test)"
      ],
      "execution_count": 31,
      "outputs": []
    },
    {
      "cell_type": "markdown",
      "metadata": {
        "id": "llGDiNGSi2sc",
        "colab_type": "text"
      },
      "source": [
        "## Simple Neural Network"
      ]
    },
    {
      "cell_type": "code",
      "metadata": {
        "id": "spDxVaplf2zw",
        "colab_type": "code",
        "colab": {}
      },
      "source": [
        "class Model(nn.Module):\n",
        "  def __init__(self,in_features,h1,h2,out_features):\n",
        "    super().__init__()\n",
        "    self.fc1 = nn.Linear(in_features,h1)\n",
        "    self.fc2 = nn.Linear(h1,h2)\n",
        "    self.out = nn.Linear(h2,out_features)\n",
        "\n",
        "  def forward(self,x):\n",
        "    x = F.relu(self.fc1(x))\n",
        "    x = F.relu(self.fc2(x))\n",
        "    x = self.out(x)\n",
        "    return x"
      ],
      "execution_count": 32,
      "outputs": []
    },
    {
      "cell_type": "code",
      "metadata": {
        "id": "j_Ozeb1pgdwG",
        "colab_type": "code",
        "colab": {}
      },
      "source": [
        "model = Model(2,8,9,2)"
      ],
      "execution_count": 33,
      "outputs": []
    },
    {
      "cell_type": "markdown",
      "metadata": {
        "id": "-Ji9y6tmi6P2",
        "colab_type": "text"
      },
      "source": [
        "## Cost function and optimizer"
      ]
    },
    {
      "cell_type": "code",
      "metadata": {
        "id": "O-WosG7pfreK",
        "colab_type": "code",
        "colab": {}
      },
      "source": [
        "criterion = nn.CrossEntropyLoss()\n",
        "optimizer = torch.optim.Adam(model.parameters(),lr=0.01)"
      ],
      "execution_count": 34,
      "outputs": []
    },
    {
      "cell_type": "markdown",
      "metadata": {
        "id": "sS2bLtKii9pu",
        "colab_type": "text"
      },
      "source": [
        "## Training"
      ]
    },
    {
      "cell_type": "code",
      "metadata": {
        "id": "HEQtoxEbgoYE",
        "colab_type": "code",
        "colab": {
          "base_uri": "https://localhost:8080/",
          "height": 697
        },
        "outputId": "f5bbb49c-3280-47cf-c892-02d93a2e9985"
      },
      "source": [
        "epochs = 400\n",
        "losses = []\n",
        "\n",
        "for i in range(epochs):\n",
        "\n",
        "  # forward and get a prediction\n",
        "  y_pred = model.forward(X_train)\n",
        "  # calculate loss/error\n",
        "  loss = criterion(y_pred,y_train)\n",
        "  losses.append(loss)\n",
        "  if i%10==0:\n",
        "    print('Epoch: {} and Loss: {}'.format(i,loss))\n",
        "  #Backpropagation\n",
        "  optimizer.zero_grad()\n",
        "  loss.backward()\n",
        "  optimizer.step()"
      ],
      "execution_count": 35,
      "outputs": [
        {
          "output_type": "stream",
          "text": [
            "Epoch: 0 and Loss: 6.551455497741699\n",
            "Epoch: 10 and Loss: 0.7039526104927063\n",
            "Epoch: 20 and Loss: 0.6587467193603516\n",
            "Epoch: 30 and Loss: 0.6738351583480835\n",
            "Epoch: 40 and Loss: 0.6477251052856445\n",
            "Epoch: 50 and Loss: 0.6369984745979309\n",
            "Epoch: 60 and Loss: 0.6281096935272217\n",
            "Epoch: 70 and Loss: 0.6183034181594849\n",
            "Epoch: 80 and Loss: 0.6082451939582825\n",
            "Epoch: 90 and Loss: 0.5987141132354736\n",
            "Epoch: 100 and Loss: 0.5881013870239258\n",
            "Epoch: 110 and Loss: 0.57785564661026\n",
            "Epoch: 120 and Loss: 0.5672894716262817\n",
            "Epoch: 130 and Loss: 0.5569413900375366\n",
            "Epoch: 140 and Loss: 0.5467216968536377\n",
            "Epoch: 150 and Loss: 0.5369769930839539\n",
            "Epoch: 160 and Loss: 0.5287214517593384\n",
            "Epoch: 170 and Loss: 0.5208451747894287\n",
            "Epoch: 180 and Loss: 0.5130530595779419\n",
            "Epoch: 190 and Loss: 0.5051438808441162\n",
            "Epoch: 200 and Loss: 0.4973791539669037\n",
            "Epoch: 210 and Loss: 0.48980870842933655\n",
            "Epoch: 220 and Loss: 0.4793056547641754\n",
            "Epoch: 230 and Loss: 0.46995609998703003\n",
            "Epoch: 240 and Loss: 0.45573729276657104\n",
            "Epoch: 250 and Loss: 0.44366344809532166\n",
            "Epoch: 260 and Loss: 0.4248230457305908\n",
            "Epoch: 270 and Loss: 0.4073827862739563\n",
            "Epoch: 280 and Loss: 0.381469190120697\n",
            "Epoch: 290 and Loss: 0.3589206039905548\n",
            "Epoch: 300 and Loss: 0.3414521813392639\n",
            "Epoch: 310 and Loss: 0.32064908742904663\n",
            "Epoch: 320 and Loss: 0.306979775428772\n",
            "Epoch: 330 and Loss: 0.28876110911369324\n",
            "Epoch: 340 and Loss: 0.27522918581962585\n",
            "Epoch: 350 and Loss: 0.26855093240737915\n",
            "Epoch: 360 and Loss: 0.25777801871299744\n",
            "Epoch: 370 and Loss: 0.24474632740020752\n",
            "Epoch: 380 and Loss: 0.2361314296722412\n",
            "Epoch: 390 and Loss: 0.22791370749473572\n"
          ],
          "name": "stdout"
        }
      ]
    },
    {
      "cell_type": "markdown",
      "metadata": {
        "id": "bNc_8dFHjAia",
        "colab_type": "text"
      },
      "source": [
        "## Visualization"
      ]
    },
    {
      "cell_type": "code",
      "metadata": {
        "id": "kEsoUplIg95P",
        "colab_type": "code",
        "colab": {
          "base_uri": "https://localhost:8080/",
          "height": 296
        },
        "outputId": "c82671bb-3920-4e44-c5f3-05a966c5572c"
      },
      "source": [
        "plt.plot(range(epochs),losses)\n",
        "plt.ylabel('Loss')\n",
        "plt.xlabel('Epoch')"
      ],
      "execution_count": 36,
      "outputs": [
        {
          "output_type": "execute_result",
          "data": {
            "text/plain": [
              "Text(0.5, 0, 'Epoch')"
            ]
          },
          "metadata": {
            "tags": []
          },
          "execution_count": 36
        },
        {
          "output_type": "display_data",
          "data": {
            "image/png": "[encoded data removed]",
            "text/plain": [
              "<Figure size 432x288 with 1 Axes>"
            ]
          },
          "metadata": {
            "tags": [],
            "needs_background": "light"
          }
        }
      ]
    },
    {
      "cell_type": "code",
      "metadata": {
        "id": "oJPeEsQThFEN",
        "colab_type": "code",
        "colab": {}
      },
      "source": [
        "with torch.no_grad(): \n",
        "  y_eval = model.forward(X_test)\n",
        "  loss = criterion(y_eval,y_test)"
      ],
      "execution_count": 37,
      "outputs": []
    },
    {
      "cell_type": "code",
      "metadata": {
        "id": "6Kr55ZX0hF00",
        "colab_type": "code",
        "colab": {
          "base_uri": "https://localhost:8080/",
          "height": 34
        },
        "outputId": "2afcfe0a-48a9-4b14-c8b0-0d559d0faa1d"
      },
      "source": [
        "loss"
      ],
      "execution_count": 38,
      "outputs": [
        {
          "output_type": "execute_result",
          "data": {
            "text/plain": [
              "tensor(0.1345)"
            ]
          },
          "metadata": {
            "tags": []
          },
          "execution_count": 38
        }
      ]
    },
    {
      "cell_type": "markdown",
      "metadata": {
        "id": "PAo9MPuijEVF",
        "colab_type": "text"
      },
      "source": [
        "## Evaluation"
      ]
    },
    {
      "cell_type": "code",
      "metadata": {
        "id": "K7gwOZAJhL1e",
        "colab_type": "code",
        "colab": {
          "base_uri": "https://localhost:8080/",
          "height": 374
        },
        "outputId": "6edf4094-c456-4804-95d9-393c6d56743b"
      },
      "source": [
        "correct = 0\n",
        "with torch.no_grad():\n",
        "\n",
        "  for i,data in enumerate(X_test):\n",
        "\n",
        "    y_val = model.forward(data)\n",
        "\n",
        "    print('{}: {} belonging class: {}'.format(i+1,str(y_val),y_test[i]))\n",
        "\n",
        "    if y_val.argmax().item() == y_test[i]:\n",
        "      correct = correct + 1\n",
        "\n",
        "print('We got {} number correct'.format(correct))"
      ],
      "execution_count": 39,
      "outputs": [
        {
          "output_type": "stream",
          "text": [
            "1: tensor([-2.9271,  3.0592]) belonging class: 1\n",
            "2: tensor([-3.1783,  3.3102]) belonging class: 1\n",
            "3: tensor([-0.9136,  1.0472]) belonging class: 1\n",
            "4: tensor([-0.9299,  1.0634]) belonging class: 1\n",
            "5: tensor([-2.3659,  2.4984]) belonging class: 1\n",
            "6: tensor([-1.2040,  1.3373]) belonging class: 1\n",
            "7: tensor([-1.8169,  1.9497]) belonging class: 1\n",
            "8: tensor([-0.1776,  0.3116]) belonging class: 1\n",
            "9: tensor([ 1.0538, -0.9189]) belonging class: 0\n",
            "10: tensor([ 1.2897, -1.1546]) belonging class: 0\n",
            "11: tensor([-0.0411,  0.1752]) belonging class: 1\n",
            "12: tensor([ 1.2552, -1.1202]) belonging class: 0\n",
            "13: tensor([-1.7811,  1.9140]) belonging class: 1\n",
            "14: tensor([ 0.3406, -0.2062]) belonging class: 0\n",
            "15: tensor([ 1.1137, -0.9788]) belonging class: 0\n",
            "16: tensor([ 1.0694, -0.9345]) belonging class: 0\n",
            "17: tensor([-2.1606,  2.2933]) belonging class: 1\n",
            "18: tensor([ 0.8152, -0.6805]) belonging class: 0\n",
            "19: tensor([-2.4894,  2.6218]) belonging class: 1\n",
            "20: tensor([-2.6132,  2.7455]) belonging class: 1\n",
            "We got 20 number correct\n"
          ],
          "name": "stdout"
        }
      ]
    }
  ]
}