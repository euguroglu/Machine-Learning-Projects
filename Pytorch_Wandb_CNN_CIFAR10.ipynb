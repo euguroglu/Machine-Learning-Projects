{
 "cells": [
  {
   "cell_type": "markdown",
   "metadata": {
    "colab_type": "text",
    "id": "view-in-github"
   },
   "source": [
    "<a href=\"https://colab.research.google.com/github/euguroglu/Machine-Learning-Projects/blob/master/Pytorch_CNN_CIFAR10.ipynb\" target=\"_parent\"><img src=\"https://colab.research.google.com/assets/colab-badge.svg\" alt=\"Open In Colab\"/></a>"
   ]
  },
  {
   "cell_type": "markdown",
   "metadata": {
    "colab_type": "text",
    "id": "1RrSc5i5tbw3"
   },
   "source": [
    "## Importing libraries"
   ]
  },
  {
   "cell_type": "code",
   "execution_count": 1,
   "metadata": {
    "colab": {
     "base_uri": "https://localhost:8080/",
     "height": 51
    },
    "colab_type": "code",
    "id": "zR3FCBiic1pV",
    "outputId": "63adf4df-1f65-4f3e-9182-a463ce1b7fa3"
   },
   "outputs": [],
   "source": [
    "import torch\n",
    "import torch.nn as nn\n",
    "import torch.nn.functional as F\n",
    "from torch.utils.data import DataLoader\n",
    "from torchvision import datasets, transforms\n",
    "from torchvision.utils import make_grid\n",
    "import numpy as np\n",
    "import pandas as pd\n",
    "from sklearn.metrics import confusion_matrix\n",
    "import matplotlib.pyplot as plt\n",
    "import seaborn as sn\n",
    "import wandb"
   ]
  },
  {
   "cell_type": "code",
   "execution_count": 2,
   "metadata": {
    "scrolled": true
   },
   "outputs": [
    {
     "name": "stderr",
     "output_type": "stream",
     "text": [
      "wandb: Currently logged in as: enesuguroglu (use `wandb login --relogin` to force relogin)\n"
     ]
    },
    {
     "data": {
      "text/html": [
       "\n",
       "                Tracking run with wandb version 0.10.12<br/>\n",
       "                Syncing run <strong style=\"color:#cdcd00\">lunar-cherry-3</strong> to <a href=\"https://wandb.ai\" target=\"_blank\">Weights & Biases</a> <a href=\"https://docs.wandb.com/integrations/jupyter.html\" target=\"_blank\">(Documentation)</a>.<br/>\n",
       "                Project page: <a href=\"https://wandb.ai/enesuguroglu/CIFAR10-Pytorch\" target=\"_blank\">https://wandb.ai/enesuguroglu/CIFAR10-Pytorch</a><br/>\n",
       "                Run page: <a href=\"https://wandb.ai/enesuguroglu/CIFAR10-Pytorch/runs/1sywgbpy\" target=\"_blank\">https://wandb.ai/enesuguroglu/CIFAR10-Pytorch/runs/1sywgbpy</a><br/>\n",
       "                Run data is saved locally in <code>C:\\Users\\PC\\Documents\\Jupyter\\Pytorch\\wandb\\run-20201213_170127-1sywgbpy</code><br/><br/>\n",
       "            "
      ],
      "text/plain": [
       "<IPython.core.display.HTML object>"
      ]
     },
     "metadata": {},
     "output_type": "display_data"
    },
    {
     "data": {
      "text/html": [
       "<h1>Run(1sywgbpy)</h1><p></p><iframe src=\"https://wandb.ai/enesuguroglu/CIFAR10-Pytorch/runs/1sywgbpy\" style=\"border:none;width:100%;height:400px\"></iframe>"
      ],
      "text/plain": [
       "<wandb.sdk.wandb_run.Run at 0x1fba516bee0>"
      ]
     },
     "execution_count": 2,
     "metadata": {},
     "output_type": "execute_result"
    }
   ],
   "source": [
    "wandb.init(project=\"CIFAR10-Pytorch\")"
   ]
  },
  {
   "cell_type": "markdown",
   "metadata": {
    "colab_type": "text",
    "id": "CzYM94Awtg25"
   },
   "source": [
    "## Data Loading"
   ]
  },
  {
   "cell_type": "code",
   "execution_count": 3,
   "metadata": {
    "colab": {},
    "colab_type": "code",
    "id": "lrfaD1dtenWQ"
   },
   "outputs": [],
   "source": [
    "transform = transforms.ToTensor()"
   ]
  },
  {
   "cell_type": "code",
   "execution_count": 4,
   "metadata": {
    "colab": {
     "base_uri": "https://localhost:8080/",
     "height": 34
    },
    "colab_type": "code",
    "id": "NpugUYbNetoh",
    "outputId": "f19bb787-de35-4492-995a-9fb7b1e0ebdf"
   },
   "outputs": [
    {
     "name": "stdout",
     "output_type": "stream",
     "text": [
      "Files already downloaded and verified\n"
     ]
    }
   ],
   "source": [
    "train_Data = datasets.CIFAR10(root='C:/Users/PC/Documents/Jupyter/Pytorch',train=True,download=True,transform=transform)"
   ]
  },
  {
   "cell_type": "code",
   "execution_count": 5,
   "metadata": {
    "colab": {
     "base_uri": "https://localhost:8080/",
     "height": 34
    },
    "colab_type": "code",
    "id": "b09b__r2e1SI",
    "outputId": "0c535ee6-3206-4f6f-bfad-f97c22c0834d"
   },
   "outputs": [
    {
     "name": "stdout",
     "output_type": "stream",
     "text": [
      "Files already downloaded and verified\n"
     ]
    }
   ],
   "source": [
    "test_Data = datasets.CIFAR10(root='C:/Users/PC/Documents/Jupyter/Pytorch',train=False,download=True,transform=transform)"
   ]
  },
  {
   "cell_type": "code",
   "execution_count": 6,
   "metadata": {
    "colab": {
     "base_uri": "https://localhost:8080/",
     "height": 119
    },
    "colab_type": "code",
    "id": "bZ_36glxfjGK",
    "outputId": "ff4e1364-932c-4d0e-9f22-8cfdc9ba92f2"
   },
   "outputs": [
    {
     "data": {
      "text/plain": [
       "Dataset CIFAR10\n",
       "    Number of datapoints: 50000\n",
       "    Root location: C:/Users/PC/Documents/Jupyter/Pytorch\n",
       "    Split: Train\n",
       "    StandardTransform\n",
       "Transform: ToTensor()"
      ]
     },
     "execution_count": 6,
     "metadata": {},
     "output_type": "execute_result"
    }
   ],
   "source": [
    "train_Data"
   ]
  },
  {
   "cell_type": "code",
   "execution_count": 7,
   "metadata": {
    "colab": {
     "base_uri": "https://localhost:8080/",
     "height": 119
    },
    "colab_type": "code",
    "id": "yYL89mlMfltQ",
    "outputId": "16d087cc-0949-44a4-dd8c-aa42880be2f5",
    "scrolled": true
   },
   "outputs": [
    {
     "data": {
      "text/plain": [
       "Dataset CIFAR10\n",
       "    Number of datapoints: 10000\n",
       "    Root location: C:/Users/PC/Documents/Jupyter/Pytorch\n",
       "    Split: Test\n",
       "    StandardTransform\n",
       "Transform: ToTensor()"
      ]
     },
     "execution_count": 7,
     "metadata": {},
     "output_type": "execute_result"
    }
   ],
   "source": [
    "test_Data"
   ]
  },
  {
   "cell_type": "code",
   "execution_count": 8,
   "metadata": {
    "colab": {
     "base_uri": "https://localhost:8080/",
     "height": 34
    },
    "colab_type": "code",
    "id": "TjfKqdG-fmuY",
    "outputId": "51d83f7c-b1fc-444a-d684-3db116fff6e6"
   },
   "outputs": [
    {
     "data": {
      "text/plain": [
       "<torch._C.Generator at 0x1fb9ada81b0>"
      ]
     },
     "execution_count": 8,
     "metadata": {},
     "output_type": "execute_result"
    }
   ],
   "source": [
    "torch.manual_seed(101)"
   ]
  },
  {
   "cell_type": "code",
   "execution_count": 9,
   "metadata": {
    "colab": {},
    "colab_type": "code",
    "id": "_8oW3Nf9frs_"
   },
   "outputs": [],
   "source": [
    "train_loader = DataLoader(train_Data,batch_size=10,shuffle=True)\n",
    "test_loader = DataLoader(test_Data,batch_size=10,shuffle=False)"
   ]
  },
  {
   "cell_type": "code",
   "execution_count": 10,
   "metadata": {
    "colab": {},
    "colab_type": "code",
    "id": "hvQBtDBjf0yv"
   },
   "outputs": [],
   "source": [
    "class_names = ['plane', '  car', ' bird', '  cat', ' deer', '  dog', ' frog', 'horse', ' ship', 'truck']"
   ]
  },
  {
   "cell_type": "code",
   "execution_count": 11,
   "metadata": {
    "colab": {},
    "colab_type": "code",
    "id": "sCUCJjW3gojk"
   },
   "outputs": [],
   "source": [
    "for images,labels in train_loader:\n",
    "  break"
   ]
  },
  {
   "cell_type": "code",
   "execution_count": 12,
   "metadata": {
    "colab": {
     "base_uri": "https://localhost:8080/",
     "height": 34
    },
    "colab_type": "code",
    "id": "WfhP7A1fgtG4",
    "outputId": "df251126-d112-4e9a-816d-49ec44783f54"
   },
   "outputs": [
    {
     "data": {
      "text/plain": [
       "tensor([9, 5, 2, 3, 0, 5, 9, 5, 1, 6])"
      ]
     },
     "execution_count": 12,
     "metadata": {},
     "output_type": "execute_result"
    }
   ],
   "source": [
    "labels"
   ]
  },
  {
   "cell_type": "markdown",
   "metadata": {
    "colab_type": "text",
    "id": "imR98svBtre6"
   },
   "source": [
    "## Data visualization"
   ]
  },
  {
   "cell_type": "code",
   "execution_count": 13,
   "metadata": {
    "colab": {
     "base_uri": "https://localhost:8080/",
     "height": 319
    },
    "colab_type": "code",
    "id": "fx8dmfzUguFH",
    "outputId": "03eed5f0-9035-4094-f540-156e81ad0284"
   },
   "outputs": [
    {
     "name": "stdout",
     "output_type": "stream",
     "text": [
      "Label: [    9     5     2     3     0     5     9     5     1     6]\n",
      "Class:  truck   dog  bird   cat plane   dog truck   dog   car  frog\n"
     ]
    },
    {
     "data": {
      "text/plain": [
       "<matplotlib.image.AxesImage at 0x1fba8ec7b20>"
      ]
     },
     "execution_count": 13,
     "metadata": {},
     "output_type": "execute_result"
    },
    {
     "data": {
      "image/png": "[encoded data removed]",
      "text/plain": [
       "<Figure size 720x288 with 1 Axes>"
      ]
     },
     "metadata": {
      "needs_background": "light"
     },
     "output_type": "display_data"
    }
   ],
   "source": [
    "np.set_printoptions(formatter=dict(int=lambda x: f'{x:5}'))\n",
    "\n",
    "print('Label:', labels.numpy())\n",
    "print('Class: ', *np.array([class_names[i] for i in labels]))\n",
    "\n",
    "im = make_grid(images,nrow=5)\n",
    "plt.figure(figsize=(10,4))\n",
    "plt.imshow(np.transpose(im.numpy(),(1,2,0)))"
   ]
  },
  {
   "cell_type": "markdown",
   "metadata": {
    "colab_type": "text",
    "id": "8kpMDmXItuzc"
   },
   "source": [
    "## Convolutional Neural Network"
   ]
  },
  {
   "cell_type": "code",
   "execution_count": 14,
   "metadata": {
    "colab": {},
    "colab_type": "code",
    "id": "9sor_DCAg-lI"
   },
   "outputs": [],
   "source": [
    "class ConvolutionalNetwork(nn.Module):\n",
    "\n",
    "  def __init__(self):\n",
    "    super().__init__()\n",
    "    self.conv1 = nn.Conv2d(3,6,5,1) #Mnist data set i used (1,6,5,1) 1 was because mnish data is grayscale which is 1 channel but here in this data set we have rgb color which has 3 channel\n",
    "    self.conv2 = nn.Conv2d(6,16,3,1)\n",
    "    self.fc1 = nn.Linear(6*6*16,120) # 6*6 comes from --> 1 conv -->32 to 28 --> 1 pooling 28 to 14 --> 1 conv 14 to 12 --> 1 pooling 12 to 6 which is 6 \n",
    "    self.fc2 = nn.Linear(120,84)\n",
    "    self.fc3 = nn.Linear(84,10)\n",
    "  \n",
    "  def forward(self,X):\n",
    "    X = F.relu(self.conv1(X))\n",
    "    X = F.max_pool2d(X,2,2)\n",
    "    X = F.relu(self.conv2(X))\n",
    "    X = F.max_pool2d(X,2,2)\n",
    "    X = X.view(-1,6*6*16)\n",
    "    X = F.relu(self.fc1(X))\n",
    "    X = F.relu(self.fc2(X))\n",
    "    x = self.fc3(X)\n",
    "    return F.log_softmax(X,dim=1) "
   ]
  },
  {
   "cell_type": "code",
   "execution_count": 15,
   "metadata": {
    "colab": {
     "base_uri": "https://localhost:8080/",
     "height": 34
    },
    "colab_type": "code",
    "id": "bJFfaruHlpnQ",
    "outputId": "22f5732c-2305-4143-c757-7116197c1b16"
   },
   "outputs": [
    {
     "data": {
      "text/plain": [
       "<torch._C.Generator at 0x1fb9ada81b0>"
      ]
     },
     "execution_count": 15,
     "metadata": {},
     "output_type": "execute_result"
    }
   ],
   "source": [
    "torch.manual_seed(101)"
   ]
  },
  {
   "cell_type": "code",
   "execution_count": 16,
   "metadata": {
    "colab": {},
    "colab_type": "code",
    "id": "zWqnrgG1lru2"
   },
   "outputs": [],
   "source": [
    "model = ConvolutionalNetwork()"
   ]
  },
  {
   "cell_type": "markdown",
   "metadata": {
    "colab_type": "text",
    "id": "jhIhKr1rt0A-"
   },
   "source": [
    "## Checking model parameters"
   ]
  },
  {
   "cell_type": "code",
   "execution_count": 17,
   "metadata": {
    "colab": {
     "base_uri": "https://localhost:8080/",
     "height": 187
    },
    "colab_type": "code",
    "id": "lvDqlKe3lvp-",
    "outputId": "82aed157-95b9-4023-f176-fa615be063e1"
   },
   "outputs": [
    {
     "name": "stdout",
     "output_type": "stream",
     "text": [
      "450\n",
      "6\n",
      "864\n",
      "16\n",
      "69120\n",
      "120\n",
      "10080\n",
      "84\n",
      "840\n",
      "10\n"
     ]
    }
   ],
   "source": [
    "for param in model.parameters():\n",
    "  print(param.numel())"
   ]
  },
  {
   "cell_type": "markdown",
   "metadata": {
    "colab_type": "text",
    "id": "GLMFAkF5t27i"
   },
   "source": [
    "## Defining cost function and optimization"
   ]
  },
  {
   "cell_type": "code",
   "execution_count": 18,
   "metadata": {
    "colab": {},
    "colab_type": "code",
    "id": "yZdI54oKmUmP"
   },
   "outputs": [],
   "source": [
    "criterion = nn.CrossEntropyLoss()\n",
    "optimizer = torch.optim.Adam(model.parameters(),lr=0.001)"
   ]
  },
  {
   "cell_type": "code",
   "execution_count": 19,
   "metadata": {},
   "outputs": [],
   "source": [
    "config=wandb.config\n",
    "config.lr = 0.001"
   ]
  },
  {
   "cell_type": "markdown",
   "metadata": {
    "colab_type": "text",
    "id": "qYTlkQDVt6TW"
   },
   "source": [
    "## Training"
   ]
  },
  {
   "cell_type": "code",
   "execution_count": 20,
   "metadata": {
    "colab": {
     "base_uri": "https://localhost:8080/",
     "height": 1000
    },
    "colab_type": "code",
    "id": "Um90SOtNmojX",
    "outputId": "1341bbfb-4c9f-4cd5-8482-61c652a479c9"
   },
   "outputs": [
    {
     "name": "stdout",
     "output_type": "stream",
     "text": [
      "Epoch: 0 Batch: 1000 Loss: 3.1816694736480713 Accuracy: 17.0\n",
      "Epoch: 0 Batch: 2000 Loss: 3.305520534515381 Accuracy: 23.0\n",
      "Epoch: 0 Batch: 3000 Loss: 2.3584117889404297 Accuracy: 26.0\n",
      "Epoch: 0 Batch: 4000 Loss: 3.0346999168395996 Accuracy: 29.0\n",
      "Epoch: 0 Batch: 5000 Loss: 3.1530849933624268 Accuracy: 30.0\n",
      "Epoch: 1 Batch: 1000 Loss: 1.487277626991272 Accuracy: 39.0\n",
      "Epoch: 1 Batch: 2000 Loss: 3.2962727546691895 Accuracy: 39.0\n",
      "Epoch: 1 Batch: 3000 Loss: 3.37324595451355 Accuracy: 39.0\n",
      "Epoch: 1 Batch: 4000 Loss: 2.2604241371154785 Accuracy: 39.0\n",
      "Epoch: 1 Batch: 5000 Loss: 2.104200601577759 Accuracy: 40.0\n",
      "Epoch: 2 Batch: 1000 Loss: 2.2329726219177246 Accuracy: 43.0\n",
      "Epoch: 2 Batch: 2000 Loss: 2.405635356903076 Accuracy: 43.0\n",
      "Epoch: 2 Batch: 3000 Loss: 3.1837503910064697 Accuracy: 43.0\n",
      "Epoch: 2 Batch: 4000 Loss: 1.7773593664169312 Accuracy: 43.0\n",
      "Epoch: 2 Batch: 5000 Loss: 2.668412923812866 Accuracy: 43.0\n",
      "Epoch: 3 Batch: 1000 Loss: 2.0453686714172363 Accuracy: 44.0\n",
      "Epoch: 3 Batch: 2000 Loss: 2.2842979431152344 Accuracy: 44.0\n",
      "Epoch: 3 Batch: 3000 Loss: 3.4919791221618652 Accuracy: 45.0\n",
      "Epoch: 3 Batch: 4000 Loss: 3.378007411956787 Accuracy: 45.0\n",
      "Epoch: 3 Batch: 5000 Loss: 2.9931399822235107 Accuracy: 45.0\n",
      "Epoch: 4 Batch: 1000 Loss: 1.4267412424087524 Accuracy: 46.0\n",
      "Epoch: 4 Batch: 2000 Loss: 1.8790769577026367 Accuracy: 46.0\n",
      "Epoch: 4 Batch: 3000 Loss: 1.5822405815124512 Accuracy: 46.0\n",
      "Epoch: 4 Batch: 4000 Loss: 2.360236883163452 Accuracy: 46.0\n",
      "Epoch: 4 Batch: 5000 Loss: 1.5169615745544434 Accuracy: 46.0\n",
      "Epoch: 5 Batch: 1000 Loss: 4.028670787811279 Accuracy: 48.0\n",
      "Epoch: 5 Batch: 2000 Loss: 2.5668821334838867 Accuracy: 48.0\n",
      "Epoch: 5 Batch: 3000 Loss: 1.579646348953247 Accuracy: 47.0\n",
      "Epoch: 5 Batch: 4000 Loss: 2.7437922954559326 Accuracy: 47.0\n",
      "Epoch: 5 Batch: 5000 Loss: 2.928713321685791 Accuracy: 47.0\n",
      "Epoch: 6 Batch: 1000 Loss: 2.1376163959503174 Accuracy: 48.0\n",
      "Epoch: 6 Batch: 2000 Loss: 2.809258222579956 Accuracy: 48.0\n",
      "Epoch: 6 Batch: 3000 Loss: 1.5665147304534912 Accuracy: 48.0\n",
      "Epoch: 6 Batch: 4000 Loss: 1.9947483539581299 Accuracy: 48.0\n",
      "Epoch: 6 Batch: 5000 Loss: 1.4802920818328857 Accuracy: 48.0\n",
      "Epoch: 7 Batch: 1000 Loss: 2.9069011211395264 Accuracy: 50.0\n",
      "Epoch: 7 Batch: 2000 Loss: 1.9836633205413818 Accuracy: 49.0\n",
      "Epoch: 7 Batch: 3000 Loss: 2.5237574577331543 Accuracy: 49.0\n",
      "Epoch: 7 Batch: 4000 Loss: 2.740438222885132 Accuracy: 49.0\n",
      "Epoch: 7 Batch: 5000 Loss: 2.6092896461486816 Accuracy: 49.0\n",
      "Epoch: 8 Batch: 1000 Loss: 3.096736192703247 Accuracy: 50.0\n",
      "Epoch: 8 Batch: 2000 Loss: 1.9063317775726318 Accuracy: 50.0\n",
      "Epoch: 8 Batch: 3000 Loss: 1.4629687070846558 Accuracy: 50.0\n",
      "Epoch: 8 Batch: 4000 Loss: 2.0890846252441406 Accuracy: 50.0\n",
      "Epoch: 8 Batch: 5000 Loss: 2.4381659030914307 Accuracy: 50.0\n",
      "Epoch: 9 Batch: 1000 Loss: 1.4652762413024902 Accuracy: 50.0\n",
      "Epoch: 9 Batch: 2000 Loss: 3.196413040161133 Accuracy: 50.0\n",
      "Epoch: 9 Batch: 3000 Loss: 2.3009543418884277 Accuracy: 50.0\n",
      "Epoch: 9 Batch: 4000 Loss: 2.3957343101501465 Accuracy: 50.0\n",
      "Epoch: 9 Batch: 5000 Loss: 4.3200907707214355 Accuracy: 50.0\n",
      "Epoch: 10 Batch: 1000 Loss: 2.0000152587890625 Accuracy: 51.0\n",
      "Epoch: 10 Batch: 2000 Loss: 0.8897005319595337 Accuracy: 51.0\n",
      "Epoch: 10 Batch: 3000 Loss: 1.5204217433929443 Accuracy: 51.0\n",
      "Epoch: 10 Batch: 4000 Loss: 1.4618308544158936 Accuracy: 50.0\n",
      "Epoch: 10 Batch: 5000 Loss: 2.098417282104492 Accuracy: 50.0\n",
      "Epoch: 11 Batch: 1000 Loss: 3.0726253986358643 Accuracy: 51.0\n",
      "Epoch: 11 Batch: 2000 Loss: 3.172330856323242 Accuracy: 51.0\n",
      "Epoch: 11 Batch: 3000 Loss: 3.2261364459991455 Accuracy: 51.0\n",
      "Epoch: 11 Batch: 4000 Loss: 2.9546666145324707 Accuracy: 51.0\n",
      "Epoch: 11 Batch: 5000 Loss: 1.9663467407226562 Accuracy: 51.0\n",
      "Epoch: 12 Batch: 1000 Loss: 2.1411020755767822 Accuracy: 51.0\n",
      "Epoch: 12 Batch: 2000 Loss: 1.993811011314392 Accuracy: 52.0\n",
      "Epoch: 12 Batch: 3000 Loss: 2.9387240409851074 Accuracy: 51.0\n",
      "Epoch: 12 Batch: 4000 Loss: 2.4215548038482666 Accuracy: 51.0\n",
      "Epoch: 12 Batch: 5000 Loss: 2.80244779586792 Accuracy: 51.0\n",
      "Epoch: 13 Batch: 1000 Loss: 0.7898375988006592 Accuracy: 53.0\n",
      "Epoch: 13 Batch: 2000 Loss: 1.6520812511444092 Accuracy: 53.0\n",
      "Epoch: 13 Batch: 3000 Loss: 4.115393161773682 Accuracy: 52.0\n",
      "Epoch: 13 Batch: 4000 Loss: 1.59531831741333 Accuracy: 52.0\n",
      "Epoch: 13 Batch: 5000 Loss: 1.874889612197876 Accuracy: 52.0\n",
      "Epoch: 14 Batch: 1000 Loss: 2.4668469429016113 Accuracy: 54.0\n",
      "Epoch: 14 Batch: 2000 Loss: 3.4202799797058105 Accuracy: 53.0\n",
      "Epoch: 14 Batch: 3000 Loss: 2.344770908355713 Accuracy: 52.0\n",
      "Epoch: 14 Batch: 4000 Loss: 1.6836143732070923 Accuracy: 52.0\n",
      "Epoch: 14 Batch: 5000 Loss: 0.9152539968490601 Accuracy: 52.0\n",
      "Training took 5.681587405999502  minutes\n"
     ]
    }
   ],
   "source": [
    "import time\n",
    "start_time = time.time()\n",
    "\n",
    "#Variables (Trackers)\n",
    "epochs = 15\n",
    "train_losses = []\n",
    "test_losses = []\n",
    "train_correct = []\n",
    "test_correct = []\n",
    "accuracy = []\n",
    "\n",
    "#For loops epochs\n",
    "wandb.watch(model,criterion,log=\"all\")\n",
    "for i in range(epochs):\n",
    "\n",
    "  trn_corr = 0\n",
    "  tst_corr = 0\n",
    "\n",
    "\n",
    "#Train\n",
    "  \n",
    "  for b,(X_train,y_train) in enumerate(train_loader):\n",
    "    b = b + 1\n",
    "\n",
    "    y_pred = model(X_train) #not flattening (conv)\n",
    "    loss = criterion(y_pred,y_train)\n",
    "\n",
    "    predicted = torch.max(y_pred.data,1)[1]\n",
    "    batch_corr = (predicted == y_train).sum() # True:1 / False:0 sum\n",
    "    trn_corr = trn_corr + batch_corr\n",
    "\n",
    "    optimizer.zero_grad()\n",
    "    loss.backward()\n",
    "    optimizer.step()\n",
    "\n",
    "    if (b%1000 == 0):\n",
    "      print('Epoch: {} Batch: {} Loss: {} Accuracy: {}'.format(i,b,loss.item(),(trn_corr//(b/10))))\n",
    "      accuracy.append((trn_corr//(b/10)))\n",
    "      wandb.log({'loss':loss.item(),'Epoch':i,'accuracy':trn_corr//(b/10)})\n",
    "  train_losses.append(loss)\n",
    "  train_correct.append(trn_corr)\n",
    "\n",
    "\n",
    "#Test\n",
    "\n",
    "  with torch.no_grad():\n",
    "    for b, (X_test,y_test) in enumerate(test_loader):\n",
    "\n",
    "      y_val = model(X_test)\n",
    "\n",
    "      predicted = torch.max(y_val.data,1)[1]\n",
    "      tst_corr = (predicted == y_test).sum()\n",
    "      \n",
    "  loss = criterion(y_val,y_test)\n",
    "  test_losses.append(loss)\n",
    "  test_correct.append(tst_corr)\n",
    "\n",
    "current_time = time.time()\n",
    "total = current_time - start_time\n",
    "print('Training took {}  minutes'.format(total/60))"
   ]
  },
  {
   "cell_type": "markdown",
   "metadata": {
    "colab_type": "text",
    "id": "2afr7Btpt9Cx"
   },
   "source": [
    "## Saving model"
   ]
  },
  {
   "cell_type": "code",
   "execution_count": null,
   "metadata": {
    "colab": {},
    "colab_type": "code",
    "id": "k7L2PL_eq-9F"
   },
   "outputs": [],
   "source": [
    "torch.save(model.state_dict(),'myCıfarmodel.pt')"
   ]
  },
  {
   "cell_type": "markdown",
   "metadata": {
    "colab_type": "text",
    "id": "yYSFkFwEt_WN"
   },
   "source": [
    "## Results"
   ]
  },
  {
   "cell_type": "code",
   "execution_count": null,
   "metadata": {
    "colab": {
     "base_uri": "https://localhost:8080/",
     "height": 281
    },
    "colab_type": "code",
    "id": "Fk7O6kKlrOi0",
    "outputId": "da41f70f-bb36-463e-eea2-7b6e58352da9"
   },
   "outputs": [
    {
     "data": {
      "image/png": "[encoded data removed]",
      "text/plain": [
       "<Figure size 432x288 with 1 Axes>"
      ]
     },
     "metadata": {
      "needs_background": "light",
      "tags": []
     },
     "output_type": "display_data"
    }
   ],
   "source": [
    "plt.plot(train_losses,label='Train loss')\n",
    "plt.plot(test_losses,label='Validation loss')\n",
    "plt.title('Loss at epoch')\n",
    "plt.legend()\n",
    "plt.show()"
   ]
  },
  {
   "cell_type": "code",
   "execution_count": null,
   "metadata": {
    "colab": {
     "base_uri": "https://localhost:8080/",
     "height": 282
    },
    "colab_type": "code",
    "id": "01EsA67JrY6g",
    "outputId": "69a41b1e-0d34-43e0-86b1-2de9802ac7fe"
   },
   "outputs": [
    {
     "data": {
      "text/plain": [
       "[<matplotlib.lines.Line2D at 0x7f68e1f83518>]"
      ]
     },
     "execution_count": 55,
     "metadata": {
      "tags": []
     },
     "output_type": "execute_result"
    },
    {
     "data": {
      "image/png": "[encoded data removed]",
      "text/plain": [
       "<Figure size 432x288 with 1 Axes>"
      ]
     },
     "metadata": {
      "needs_background": "light",
      "tags": []
     },
     "output_type": "display_data"
    }
   ],
   "source": [
    "plt.plot(range(75),accuracy) # Accuracy per batch"
   ]
  },
  {
   "cell_type": "code",
   "execution_count": null,
   "metadata": {
    "colab": {
     "base_uri": "https://localhost:8080/",
     "height": 34
    },
    "colab_type": "code",
    "id": "OdIpTTcurovU",
    "outputId": "8f206396-58d7-47bf-f2b5-c6d129fbceae"
   },
   "outputs": [
    {
     "name": "stdout",
     "output_type": "stream",
     "text": [
      "[tensor(2), tensor(2), tensor(2), tensor(3), tensor(2), tensor(3), tensor(2), tensor(4), tensor(3), tensor(3), tensor(3), tensor(3), tensor(2), tensor(3), tensor(3)]\n"
     ]
    }
   ],
   "source": [
    "print(test_correct)"
   ]
  },
  {
   "cell_type": "markdown",
   "metadata": {
    "colab_type": "text",
    "id": "8gdpMSXMuDBW"
   },
   "source": [
    "## Validation on test set and confusion matrix"
   ]
  },
  {
   "cell_type": "code",
   "execution_count": null,
   "metadata": {
    "colab": {
     "base_uri": "https://localhost:8080/",
     "height": 388
    },
    "colab_type": "code",
    "id": "CgQNN9Syrsne",
    "outputId": "9bafebc8-0fa6-4db5-feab-0b9f2470c2c1"
   },
   "outputs": [
    {
     "data": {
      "image/png": "[encoded data removed]",
      "text/plain": [
       "<Figure size 648x432 with 2 Axes>"
      ]
     },
     "metadata": {
      "needs_background": "light",
      "tags": []
     },
     "output_type": "display_data"
    }
   ],
   "source": [
    "# Create a loader for the entire the test set\n",
    "test_load_all = DataLoader(test_Data, batch_size=10000, shuffle=False)\n",
    "\n",
    "with torch.no_grad():\n",
    "    correct = 0\n",
    "    for X_test, y_test in test_load_all:\n",
    "        y_val = model(X_test)\n",
    "        predicted = torch.max(y_val,1)[1]\n",
    "        correct += (predicted == y_test).sum()\n",
    "\n",
    "arr = confusion_matrix(y_test.view(-1), predicted.view(-1))\n",
    "df_cm = pd.DataFrame(arr, class_names, class_names)\n",
    "plt.figure(figsize = (9,6))\n",
    "sn.heatmap(df_cm, annot=True, fmt=\"d\", cmap='BuGn')\n",
    "plt.xlabel(\"prediction\")\n",
    "plt.ylabel(\"label (ground truth)\")\n",
    "plt.show();"
   ]
  }
 ],
 "metadata": {
  "colab": {
   "authorship_tag": "ABX9TyMud+pN4Zrd6Qwr5CPUBNtA",
   "include_colab_link": true,
   "name": "Pytorch_CNN_CIFAR10.ipynb",
   "provenance": []
  },
  "kernelspec": {
   "display_name": "Python 3",
   "language": "python",
   "name": "python3"
  },
  "language_info": {
   "codemirror_mode": {
    "name": "ipython",
    "version": 3
   },
   "file_extension": ".py",
   "mimetype": "text/x-python",
   "name": "python",
   "nbconvert_exporter": "python",
   "pygments_lexer": "ipython3",
   "version": "3.8.5"
  }
 },
 "nbformat": 4,
 "nbformat_minor": 1
}
