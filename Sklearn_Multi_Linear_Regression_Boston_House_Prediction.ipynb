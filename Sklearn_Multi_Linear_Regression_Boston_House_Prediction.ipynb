{
  "nbformat": 4,
  "nbformat_minor": 0,
  "metadata": {
    "colab": {
      "name": "Sklearn_Multi_Linear_Regression_Boston_House_Prediction.ipynb",
      "provenance": [],
      "authorship_tag": "ABX9TyMHznW0XtPaamenwizIOTu1",
      "include_colab_link": true
    },
    "kernelspec": {
      "name": "python3",
      "display_name": "Python 3"
    }
  },
  "cells": [
    {
      "cell_type": "markdown",
      "metadata": {
        "id": "view-in-github",
        "colab_type": "text"
      },
      "source": [
        "<a href=\"https://colab.research.google.com/github/euguroglu/Machine-Learning-Projects/blob/master/Sklearn_Multi_Linear_Regression_Boston_House_Prediction.ipynb\" target=\"_parent\"><img src=\"https://colab.research.google.com/assets/colab-badge.svg\" alt=\"Open In Colab\"/></a>"
      ]
    },
    {
      "cell_type": "markdown",
      "metadata": {
        "id": "HznUDf9EdpFV",
        "colab_type": "text"
      },
      "source": [
        "## Importing libraries"
      ]
    },
    {
      "cell_type": "code",
      "metadata": {
        "id": "QSXHUHIkcNtG",
        "colab_type": "code",
        "colab": {}
      },
      "source": [
        "import numpy as np\n",
        "import pandas as pd\n",
        "import matplotlib.pyplot as plt\n",
        "import seaborn as sns\n",
        "import sklearn\n",
        "import sys\n",
        "from sklearn.datasets import load_boston"
      ],
      "execution_count": 4,
      "outputs": []
    },
    {
      "cell_type": "markdown",
      "metadata": {
        "id": "u1zCN9-6ds3x",
        "colab_type": "text"
      },
      "source": [
        "## Data Preperation"
      ]
    },
    {
      "cell_type": "code",
      "metadata": {
        "id": "X9ULut0yct-Q",
        "colab_type": "code",
        "colab": {}
      },
      "source": [
        "boston_data = load_boston()"
      ],
      "execution_count": 5,
      "outputs": []
    },
    {
      "cell_type": "code",
      "metadata": {
        "id": "TJ9GsBQyc5fk",
        "colab_type": "code",
        "colab": {}
      },
      "source": [
        "df = pd.DataFrame(boston_data.data,columns=boston_data.feature_names)"
      ],
      "execution_count": 7,
      "outputs": []
    },
    {
      "cell_type": "code",
      "metadata": {
        "id": "be4srDoHdBdb",
        "colab_type": "code",
        "colab": {
          "base_uri": "https://localhost:8080/",
          "height": 204
        },
        "outputId": "18f49383-1b0b-4948-9e05-fe2dbdf62295"
      },
      "source": [
        "df.head()"
      ],
      "execution_count": 8,
      "outputs": [
        {
          "output_type": "execute_result",
          "data": {
            "text/html": [
              "<div>\n",
              "<style scoped>\n",
              "    .dataframe tbody tr th:only-of-type {\n",
              "        vertical-align: middle;\n",
              "    }\n",
              "\n",
              "    .dataframe tbody tr th {\n",
              "        vertical-align: top;\n",
              "    }\n",
              "\n",
              "    .dataframe thead th {\n",
              "        text-align: right;\n",
              "    }\n",
              "</style>\n",
              "<table border=\"1\" class=\"dataframe\">\n",
              "  <thead>\n",
              "    <tr style=\"text-align: right;\">\n",
              "      <th></th>\n",
              "      <th>CRIM</th>\n",
              "      <th>ZN</th>\n",
              "      <th>INDUS</th>\n",
              "      <th>CHAS</th>\n",
              "      <th>NOX</th>\n",
              "      <th>RM</th>\n",
              "      <th>AGE</th>\n",
              "      <th>DIS</th>\n",
              "      <th>RAD</th>\n",
              "      <th>TAX</th>\n",
              "      <th>PTRATIO</th>\n",
              "      <th>B</th>\n",
              "      <th>LSTAT</th>\n",
              "    </tr>\n",
              "  </thead>\n",
              "  <tbody>\n",
              "    <tr>\n",
              "      <th>0</th>\n",
              "      <td>0.00632</td>\n",
              "      <td>18.0</td>\n",
              "      <td>2.31</td>\n",
              "      <td>0.0</td>\n",
              "      <td>0.538</td>\n",
              "      <td>6.575</td>\n",
              "      <td>65.2</td>\n",
              "      <td>4.0900</td>\n",
              "      <td>1.0</td>\n",
              "      <td>296.0</td>\n",
              "      <td>15.3</td>\n",
              "      <td>396.90</td>\n",
              "      <td>4.98</td>\n",
              "    </tr>\n",
              "    <tr>\n",
              "      <th>1</th>\n",
              "      <td>0.02731</td>\n",
              "      <td>0.0</td>\n",
              "      <td>7.07</td>\n",
              "      <td>0.0</td>\n",
              "      <td>0.469</td>\n",
              "      <td>6.421</td>\n",
              "      <td>78.9</td>\n",
              "      <td>4.9671</td>\n",
              "      <td>2.0</td>\n",
              "      <td>242.0</td>\n",
              "      <td>17.8</td>\n",
              "      <td>396.90</td>\n",
              "      <td>9.14</td>\n",
              "    </tr>\n",
              "    <tr>\n",
              "      <th>2</th>\n",
              "      <td>0.02729</td>\n",
              "      <td>0.0</td>\n",
              "      <td>7.07</td>\n",
              "      <td>0.0</td>\n",
              "      <td>0.469</td>\n",
              "      <td>7.185</td>\n",
              "      <td>61.1</td>\n",
              "      <td>4.9671</td>\n",
              "      <td>2.0</td>\n",
              "      <td>242.0</td>\n",
              "      <td>17.8</td>\n",
              "      <td>392.83</td>\n",
              "      <td>4.03</td>\n",
              "    </tr>\n",
              "    <tr>\n",
              "      <th>3</th>\n",
              "      <td>0.03237</td>\n",
              "      <td>0.0</td>\n",
              "      <td>2.18</td>\n",
              "      <td>0.0</td>\n",
              "      <td>0.458</td>\n",
              "      <td>6.998</td>\n",
              "      <td>45.8</td>\n",
              "      <td>6.0622</td>\n",
              "      <td>3.0</td>\n",
              "      <td>222.0</td>\n",
              "      <td>18.7</td>\n",
              "      <td>394.63</td>\n",
              "      <td>2.94</td>\n",
              "    </tr>\n",
              "    <tr>\n",
              "      <th>4</th>\n",
              "      <td>0.06905</td>\n",
              "      <td>0.0</td>\n",
              "      <td>2.18</td>\n",
              "      <td>0.0</td>\n",
              "      <td>0.458</td>\n",
              "      <td>7.147</td>\n",
              "      <td>54.2</td>\n",
              "      <td>6.0622</td>\n",
              "      <td>3.0</td>\n",
              "      <td>222.0</td>\n",
              "      <td>18.7</td>\n",
              "      <td>396.90</td>\n",
              "      <td>5.33</td>\n",
              "    </tr>\n",
              "  </tbody>\n",
              "</table>\n",
              "</div>"
            ],
            "text/plain": [
              "      CRIM    ZN  INDUS  CHAS    NOX  ...  RAD    TAX  PTRATIO       B  LSTAT\n",
              "0  0.00632  18.0   2.31   0.0  0.538  ...  1.0  296.0     15.3  396.90   4.98\n",
              "1  0.02731   0.0   7.07   0.0  0.469  ...  2.0  242.0     17.8  396.90   9.14\n",
              "2  0.02729   0.0   7.07   0.0  0.469  ...  2.0  242.0     17.8  392.83   4.03\n",
              "3  0.03237   0.0   2.18   0.0  0.458  ...  3.0  222.0     18.7  394.63   2.94\n",
              "4  0.06905   0.0   2.18   0.0  0.458  ...  3.0  222.0     18.7  396.90   5.33\n",
              "\n",
              "[5 rows x 13 columns]"
            ]
          },
          "metadata": {
            "tags": []
          },
          "execution_count": 8
        }
      ]
    },
    {
      "cell_type": "code",
      "metadata": {
        "id": "ZoP8DBr1dJTK",
        "colab_type": "code",
        "colab": {
          "base_uri": "https://localhost:8080/",
          "height": 34
        },
        "outputId": "52f12a14-5708-46ef-a7c8-978e31b3c8c0"
      },
      "source": [
        "df.shape"
      ],
      "execution_count": 9,
      "outputs": [
        {
          "output_type": "execute_result",
          "data": {
            "text/plain": [
              "(506, 13)"
            ]
          },
          "metadata": {
            "tags": []
          },
          "execution_count": 9
        }
      ]
    },
    {
      "cell_type": "code",
      "metadata": {
        "id": "9VRSpBwZdZNC",
        "colab_type": "code",
        "colab": {}
      },
      "source": [
        "X = df"
      ],
      "execution_count": 10,
      "outputs": []
    },
    {
      "cell_type": "code",
      "metadata": {
        "id": "E9DKmirRdfms",
        "colab_type": "code",
        "colab": {}
      },
      "source": [
        "y = boston_data.target #defining target from sklearn dataset"
      ],
      "execution_count": 11,
      "outputs": []
    },
    {
      "cell_type": "markdown",
      "metadata": {
        "id": "dX1prm_PeFPS",
        "colab_type": "text"
      },
      "source": [
        "## Stat Models"
      ]
    },
    {
      "cell_type": "code",
      "metadata": {
        "id": "XyoVPsSDdiCS",
        "colab_type": "code",
        "colab": {}
      },
      "source": [
        "import statsmodels.api as sm\n",
        "import statsmodels.formula.api as smf"
      ],
      "execution_count": 14,
      "outputs": []
    },
    {
      "cell_type": "markdown",
      "metadata": {
        "id": "YRF_Put7exGf",
        "colab_type": "text"
      },
      "source": [
        "Defining bias using stat models"
      ]
    },
    {
      "cell_type": "code",
      "metadata": {
        "id": "Eqzy6n4Od-37",
        "colab_type": "code",
        "colab": {}
      },
      "source": [
        "X_constant = sm.add_constant(X)"
      ],
      "execution_count": 15,
      "outputs": []
    },
    {
      "cell_type": "markdown",
      "metadata": {
        "id": "f7SW-cXye14r",
        "colab_type": "text"
      },
      "source": [
        "Now in below table you see constant column added"
      ]
    },
    {
      "cell_type": "code",
      "metadata": {
        "id": "POAGYqoeeQFZ",
        "colab_type": "code",
        "colab": {
          "base_uri": "https://localhost:8080/",
          "height": 204
        },
        "outputId": "ca94e559-9d22-4293-d2f4-380887f9064b"
      },
      "source": [
        "pd.DataFrame(X_constant).head()"
      ],
      "execution_count": 17,
      "outputs": [
        {
          "output_type": "execute_result",
          "data": {
            "text/html": [
              "<div>\n",
              "<style scoped>\n",
              "    .dataframe tbody tr th:only-of-type {\n",
              "        vertical-align: middle;\n",
              "    }\n",
              "\n",
              "    .dataframe tbody tr th {\n",
              "        vertical-align: top;\n",
              "    }\n",
              "\n",
              "    .dataframe thead th {\n",
              "        text-align: right;\n",
              "    }\n",
              "</style>\n",
              "<table border=\"1\" class=\"dataframe\">\n",
              "  <thead>\n",
              "    <tr style=\"text-align: right;\">\n",
              "      <th></th>\n",
              "      <th>const</th>\n",
              "      <th>CRIM</th>\n",
              "      <th>ZN</th>\n",
              "      <th>INDUS</th>\n",
              "      <th>CHAS</th>\n",
              "      <th>NOX</th>\n",
              "      <th>RM</th>\n",
              "      <th>AGE</th>\n",
              "      <th>DIS</th>\n",
              "      <th>RAD</th>\n",
              "      <th>TAX</th>\n",
              "      <th>PTRATIO</th>\n",
              "      <th>B</th>\n",
              "      <th>LSTAT</th>\n",
              "    </tr>\n",
              "  </thead>\n",
              "  <tbody>\n",
              "    <tr>\n",
              "      <th>0</th>\n",
              "      <td>1.0</td>\n",
              "      <td>0.00632</td>\n",
              "      <td>18.0</td>\n",
              "      <td>2.31</td>\n",
              "      <td>0.0</td>\n",
              "      <td>0.538</td>\n",
              "      <td>6.575</td>\n",
              "      <td>65.2</td>\n",
              "      <td>4.0900</td>\n",
              "      <td>1.0</td>\n",
              "      <td>296.0</td>\n",
              "      <td>15.3</td>\n",
              "      <td>396.90</td>\n",
              "      <td>4.98</td>\n",
              "    </tr>\n",
              "    <tr>\n",
              "      <th>1</th>\n",
              "      <td>1.0</td>\n",
              "      <td>0.02731</td>\n",
              "      <td>0.0</td>\n",
              "      <td>7.07</td>\n",
              "      <td>0.0</td>\n",
              "      <td>0.469</td>\n",
              "      <td>6.421</td>\n",
              "      <td>78.9</td>\n",
              "      <td>4.9671</td>\n",
              "      <td>2.0</td>\n",
              "      <td>242.0</td>\n",
              "      <td>17.8</td>\n",
              "      <td>396.90</td>\n",
              "      <td>9.14</td>\n",
              "    </tr>\n",
              "    <tr>\n",
              "      <th>2</th>\n",
              "      <td>1.0</td>\n",
              "      <td>0.02729</td>\n",
              "      <td>0.0</td>\n",
              "      <td>7.07</td>\n",
              "      <td>0.0</td>\n",
              "      <td>0.469</td>\n",
              "      <td>7.185</td>\n",
              "      <td>61.1</td>\n",
              "      <td>4.9671</td>\n",
              "      <td>2.0</td>\n",
              "      <td>242.0</td>\n",
              "      <td>17.8</td>\n",
              "      <td>392.83</td>\n",
              "      <td>4.03</td>\n",
              "    </tr>\n",
              "    <tr>\n",
              "      <th>3</th>\n",
              "      <td>1.0</td>\n",
              "      <td>0.03237</td>\n",
              "      <td>0.0</td>\n",
              "      <td>2.18</td>\n",
              "      <td>0.0</td>\n",
              "      <td>0.458</td>\n",
              "      <td>6.998</td>\n",
              "      <td>45.8</td>\n",
              "      <td>6.0622</td>\n",
              "      <td>3.0</td>\n",
              "      <td>222.0</td>\n",
              "      <td>18.7</td>\n",
              "      <td>394.63</td>\n",
              "      <td>2.94</td>\n",
              "    </tr>\n",
              "    <tr>\n",
              "      <th>4</th>\n",
              "      <td>1.0</td>\n",
              "      <td>0.06905</td>\n",
              "      <td>0.0</td>\n",
              "      <td>2.18</td>\n",
              "      <td>0.0</td>\n",
              "      <td>0.458</td>\n",
              "      <td>7.147</td>\n",
              "      <td>54.2</td>\n",
              "      <td>6.0622</td>\n",
              "      <td>3.0</td>\n",
              "      <td>222.0</td>\n",
              "      <td>18.7</td>\n",
              "      <td>396.90</td>\n",
              "      <td>5.33</td>\n",
              "    </tr>\n",
              "  </tbody>\n",
              "</table>\n",
              "</div>"
            ],
            "text/plain": [
              "   const     CRIM    ZN  INDUS  CHAS  ...  RAD    TAX  PTRATIO       B  LSTAT\n",
              "0    1.0  0.00632  18.0   2.31   0.0  ...  1.0  296.0     15.3  396.90   4.98\n",
              "1    1.0  0.02731   0.0   7.07   0.0  ...  2.0  242.0     17.8  396.90   9.14\n",
              "2    1.0  0.02729   0.0   7.07   0.0  ...  2.0  242.0     17.8  392.83   4.03\n",
              "3    1.0  0.03237   0.0   2.18   0.0  ...  3.0  222.0     18.7  394.63   2.94\n",
              "4    1.0  0.06905   0.0   2.18   0.0  ...  3.0  222.0     18.7  396.90   5.33\n",
              "\n",
              "[5 rows x 14 columns]"
            ]
          },
          "metadata": {
            "tags": []
          },
          "execution_count": 17
        }
      ]
    },
    {
      "cell_type": "code",
      "metadata": {
        "id": "DRFRehO1eoKZ",
        "colab_type": "code",
        "colab": {}
      },
      "source": [
        "model = sm.OLS(y,X_constant)"
      ],
      "execution_count": 18,
      "outputs": []
    },
    {
      "cell_type": "code",
      "metadata": {
        "id": "ncMfqNiSgaNK",
        "colab_type": "code",
        "colab": {}
      },
      "source": [
        "LinearModel = model.fit()"
      ],
      "execution_count": 19,
      "outputs": []
    },
    {
      "cell_type": "code",
      "metadata": {
        "id": "_4312iUBgenQ",
        "colab_type": "code",
        "colab": {
          "base_uri": "https://localhost:8080/",
          "height": 730
        },
        "outputId": "c3473b58-5782-4cca-d3bb-f46c7ce4dacf"
      },
      "source": [
        "LinearModel.summary()"
      ],
      "execution_count": 20,
      "outputs": [
        {
          "output_type": "execute_result",
          "data": {
            "text/html": [
              "<table class=\"simpletable\">\n",
              "<caption>OLS Regression Results</caption>\n",
              "<tr>\n",
              "  <th>Dep. Variable:</th>            <td>y</td>        <th>  R-squared:         </th> <td>   0.741</td> \n",
              "</tr>\n",
              "<tr>\n",
              "  <th>Model:</th>                   <td>OLS</td>       <th>  Adj. R-squared:    </th> <td>   0.734</td> \n",
              "</tr>\n",
              "<tr>\n",
              "  <th>Method:</th>             <td>Least Squares</td>  <th>  F-statistic:       </th> <td>   108.1</td> \n",
              "</tr>\n",
              "<tr>\n",
              "  <th>Date:</th>             <td>Tue, 25 Aug 2020</td> <th>  Prob (F-statistic):</th> <td>6.72e-135</td>\n",
              "</tr>\n",
              "<tr>\n",
              "  <th>Time:</th>                 <td>16:44:55</td>     <th>  Log-Likelihood:    </th> <td> -1498.8</td> \n",
              "</tr>\n",
              "<tr>\n",
              "  <th>No. Observations:</th>      <td>   506</td>      <th>  AIC:               </th> <td>   3026.</td> \n",
              "</tr>\n",
              "<tr>\n",
              "  <th>Df Residuals:</th>          <td>   492</td>      <th>  BIC:               </th> <td>   3085.</td> \n",
              "</tr>\n",
              "<tr>\n",
              "  <th>Df Model:</th>              <td>    13</td>      <th>                     </th>     <td> </td>    \n",
              "</tr>\n",
              "<tr>\n",
              "  <th>Covariance Type:</th>      <td>nonrobust</td>    <th>                     </th>     <td> </td>    \n",
              "</tr>\n",
              "</table>\n",
              "<table class=\"simpletable\">\n",
              "<tr>\n",
              "     <td></td>        <th>coef</th>     <th>std err</th>      <th>t</th>      <th>P>|t|</th>  <th>[0.025</th>    <th>0.975]</th>  \n",
              "</tr>\n",
              "<tr>\n",
              "  <th>const</th>   <td>   36.4595</td> <td>    5.103</td> <td>    7.144</td> <td> 0.000</td> <td>   26.432</td> <td>   46.487</td>\n",
              "</tr>\n",
              "<tr>\n",
              "  <th>CRIM</th>    <td>   -0.1080</td> <td>    0.033</td> <td>   -3.287</td> <td> 0.001</td> <td>   -0.173</td> <td>   -0.043</td>\n",
              "</tr>\n",
              "<tr>\n",
              "  <th>ZN</th>      <td>    0.0464</td> <td>    0.014</td> <td>    3.382</td> <td> 0.001</td> <td>    0.019</td> <td>    0.073</td>\n",
              "</tr>\n",
              "<tr>\n",
              "  <th>INDUS</th>   <td>    0.0206</td> <td>    0.061</td> <td>    0.334</td> <td> 0.738</td> <td>   -0.100</td> <td>    0.141</td>\n",
              "</tr>\n",
              "<tr>\n",
              "  <th>CHAS</th>    <td>    2.6867</td> <td>    0.862</td> <td>    3.118</td> <td> 0.002</td> <td>    0.994</td> <td>    4.380</td>\n",
              "</tr>\n",
              "<tr>\n",
              "  <th>NOX</th>     <td>  -17.7666</td> <td>    3.820</td> <td>   -4.651</td> <td> 0.000</td> <td>  -25.272</td> <td>  -10.262</td>\n",
              "</tr>\n",
              "<tr>\n",
              "  <th>RM</th>      <td>    3.8099</td> <td>    0.418</td> <td>    9.116</td> <td> 0.000</td> <td>    2.989</td> <td>    4.631</td>\n",
              "</tr>\n",
              "<tr>\n",
              "  <th>AGE</th>     <td>    0.0007</td> <td>    0.013</td> <td>    0.052</td> <td> 0.958</td> <td>   -0.025</td> <td>    0.027</td>\n",
              "</tr>\n",
              "<tr>\n",
              "  <th>DIS</th>     <td>   -1.4756</td> <td>    0.199</td> <td>   -7.398</td> <td> 0.000</td> <td>   -1.867</td> <td>   -1.084</td>\n",
              "</tr>\n",
              "<tr>\n",
              "  <th>RAD</th>     <td>    0.3060</td> <td>    0.066</td> <td>    4.613</td> <td> 0.000</td> <td>    0.176</td> <td>    0.436</td>\n",
              "</tr>\n",
              "<tr>\n",
              "  <th>TAX</th>     <td>   -0.0123</td> <td>    0.004</td> <td>   -3.280</td> <td> 0.001</td> <td>   -0.020</td> <td>   -0.005</td>\n",
              "</tr>\n",
              "<tr>\n",
              "  <th>PTRATIO</th> <td>   -0.9527</td> <td>    0.131</td> <td>   -7.283</td> <td> 0.000</td> <td>   -1.210</td> <td>   -0.696</td>\n",
              "</tr>\n",
              "<tr>\n",
              "  <th>B</th>       <td>    0.0093</td> <td>    0.003</td> <td>    3.467</td> <td> 0.001</td> <td>    0.004</td> <td>    0.015</td>\n",
              "</tr>\n",
              "<tr>\n",
              "  <th>LSTAT</th>   <td>   -0.5248</td> <td>    0.051</td> <td>  -10.347</td> <td> 0.000</td> <td>   -0.624</td> <td>   -0.425</td>\n",
              "</tr>\n",
              "</table>\n",
              "<table class=\"simpletable\">\n",
              "<tr>\n",
              "  <th>Omnibus:</th>       <td>178.041</td> <th>  Durbin-Watson:     </th> <td>   1.078</td> \n",
              "</tr>\n",
              "<tr>\n",
              "  <th>Prob(Omnibus):</th> <td> 0.000</td>  <th>  Jarque-Bera (JB):  </th> <td> 783.126</td> \n",
              "</tr>\n",
              "<tr>\n",
              "  <th>Skew:</th>          <td> 1.521</td>  <th>  Prob(JB):          </th> <td>8.84e-171</td>\n",
              "</tr>\n",
              "<tr>\n",
              "  <th>Kurtosis:</th>      <td> 8.281</td>  <th>  Cond. No.          </th> <td>1.51e+04</td> \n",
              "</tr>\n",
              "</table><br/><br/>Warnings:<br/>[1] Standard Errors assume that the covariance matrix of the errors is correctly specified.<br/>[2] The condition number is large, 1.51e+04. This might indicate that there are<br/>strong multicollinearity or other numerical problems."
            ],
            "text/plain": [
              "<class 'statsmodels.iolib.summary.Summary'>\n",
              "\"\"\"\n",
              "                            OLS Regression Results                            \n",
              "==============================================================================\n",
              "Dep. Variable:                      y   R-squared:                       0.741\n",
              "Model:                            OLS   Adj. R-squared:                  0.734\n",
              "Method:                 Least Squares   F-statistic:                     108.1\n",
              "Date:                Tue, 25 Aug 2020   Prob (F-statistic):          6.72e-135\n",
              "Time:                        16:44:55   Log-Likelihood:                -1498.8\n",
              "No. Observations:                 506   AIC:                             3026.\n",
              "Df Residuals:                     492   BIC:                             3085.\n",
              "Df Model:                          13                                         \n",
              "Covariance Type:            nonrobust                                         \n",
              "==============================================================================\n",
              "                 coef    std err          t      P>|t|      [0.025      0.975]\n",
              "------------------------------------------------------------------------------\n",
              "const         36.4595      5.103      7.144      0.000      26.432      46.487\n",
              "CRIM          -0.1080      0.033     -3.287      0.001      -0.173      -0.043\n",
              "ZN             0.0464      0.014      3.382      0.001       0.019       0.073\n",
              "INDUS          0.0206      0.061      0.334      0.738      -0.100       0.141\n",
              "CHAS           2.6867      0.862      3.118      0.002       0.994       4.380\n",
              "NOX          -17.7666      3.820     -4.651      0.000     -25.272     -10.262\n",
              "RM             3.8099      0.418      9.116      0.000       2.989       4.631\n",
              "AGE            0.0007      0.013      0.052      0.958      -0.025       0.027\n",
              "DIS           -1.4756      0.199     -7.398      0.000      -1.867      -1.084\n",
              "RAD            0.3060      0.066      4.613      0.000       0.176       0.436\n",
              "TAX           -0.0123      0.004     -3.280      0.001      -0.020      -0.005\n",
              "PTRATIO       -0.9527      0.131     -7.283      0.000      -1.210      -0.696\n",
              "B              0.0093      0.003      3.467      0.001       0.004       0.015\n",
              "LSTAT         -0.5248      0.051    -10.347      0.000      -0.624      -0.425\n",
              "==============================================================================\n",
              "Omnibus:                      178.041   Durbin-Watson:                   1.078\n",
              "Prob(Omnibus):                  0.000   Jarque-Bera (JB):              783.126\n",
              "Skew:                           1.521   Prob(JB):                    8.84e-171\n",
              "Kurtosis:                       8.281   Cond. No.                     1.51e+04\n",
              "==============================================================================\n",
              "\n",
              "Warnings:\n",
              "[1] Standard Errors assume that the covariance matrix of the errors is correctly specified.\n",
              "[2] The condition number is large, 1.51e+04. This might indicate that there are\n",
              "strong multicollinearity or other numerical problems.\n",
              "\"\"\""
            ]
          },
          "metadata": {
            "tags": []
          },
          "execution_count": 20
        }
      ]
    },
    {
      "cell_type": "markdown",
      "metadata": {
        "id": "kV_UmgUGjP6t",
        "colab_type": "text"
      },
      "source": [
        "## Stat Models Formula "
      ]
    },
    {
      "cell_type": "code",
      "metadata": {
        "id": "3DWHbeoQghWx",
        "colab_type": "code",
        "colab": {}
      },
      "source": [
        "model_form = smf.ols(formula = 'y ~ CRIM + ZN + INDUS + CHAS + NOX + RM + AGE + DIS + RAD + TAX + PTRATIO + B + LSTAT', \n",
        "              data=df)\n",
        "LinearModel_form = model_form.fit()"
      ],
      "execution_count": 21,
      "outputs": []
    },
    {
      "cell_type": "code",
      "metadata": {
        "id": "76eSLbREjtoJ",
        "colab_type": "code",
        "colab": {
          "base_uri": "https://localhost:8080/",
          "height": 730
        },
        "outputId": "973bb5ea-17dc-4961-a5c9-abb0ce80b242"
      },
      "source": [
        "LinearModel_form.summary()"
      ],
      "execution_count": 22,
      "outputs": [
        {
          "output_type": "execute_result",
          "data": {
            "text/html": [
              "<table class=\"simpletable\">\n",
              "<caption>OLS Regression Results</caption>\n",
              "<tr>\n",
              "  <th>Dep. Variable:</th>            <td>y</td>        <th>  R-squared:         </th> <td>   0.741</td> \n",
              "</tr>\n",
              "<tr>\n",
              "  <th>Model:</th>                   <td>OLS</td>       <th>  Adj. R-squared:    </th> <td>   0.734</td> \n",
              "</tr>\n",
              "<tr>\n",
              "  <th>Method:</th>             <td>Least Squares</td>  <th>  F-statistic:       </th> <td>   108.1</td> \n",
              "</tr>\n",
              "<tr>\n",
              "  <th>Date:</th>             <td>Tue, 25 Aug 2020</td> <th>  Prob (F-statistic):</th> <td>6.72e-135</td>\n",
              "</tr>\n",
              "<tr>\n",
              "  <th>Time:</th>                 <td>16:59:04</td>     <th>  Log-Likelihood:    </th> <td> -1498.8</td> \n",
              "</tr>\n",
              "<tr>\n",
              "  <th>No. Observations:</th>      <td>   506</td>      <th>  AIC:               </th> <td>   3026.</td> \n",
              "</tr>\n",
              "<tr>\n",
              "  <th>Df Residuals:</th>          <td>   492</td>      <th>  BIC:               </th> <td>   3085.</td> \n",
              "</tr>\n",
              "<tr>\n",
              "  <th>Df Model:</th>              <td>    13</td>      <th>                     </th>     <td> </td>    \n",
              "</tr>\n",
              "<tr>\n",
              "  <th>Covariance Type:</th>      <td>nonrobust</td>    <th>                     </th>     <td> </td>    \n",
              "</tr>\n",
              "</table>\n",
              "<table class=\"simpletable\">\n",
              "<tr>\n",
              "      <td></td>         <th>coef</th>     <th>std err</th>      <th>t</th>      <th>P>|t|</th>  <th>[0.025</th>    <th>0.975]</th>  \n",
              "</tr>\n",
              "<tr>\n",
              "  <th>Intercept</th> <td>   36.4595</td> <td>    5.103</td> <td>    7.144</td> <td> 0.000</td> <td>   26.432</td> <td>   46.487</td>\n",
              "</tr>\n",
              "<tr>\n",
              "  <th>CRIM</th>      <td>   -0.1080</td> <td>    0.033</td> <td>   -3.287</td> <td> 0.001</td> <td>   -0.173</td> <td>   -0.043</td>\n",
              "</tr>\n",
              "<tr>\n",
              "  <th>ZN</th>        <td>    0.0464</td> <td>    0.014</td> <td>    3.382</td> <td> 0.001</td> <td>    0.019</td> <td>    0.073</td>\n",
              "</tr>\n",
              "<tr>\n",
              "  <th>INDUS</th>     <td>    0.0206</td> <td>    0.061</td> <td>    0.334</td> <td> 0.738</td> <td>   -0.100</td> <td>    0.141</td>\n",
              "</tr>\n",
              "<tr>\n",
              "  <th>CHAS</th>      <td>    2.6867</td> <td>    0.862</td> <td>    3.118</td> <td> 0.002</td> <td>    0.994</td> <td>    4.380</td>\n",
              "</tr>\n",
              "<tr>\n",
              "  <th>NOX</th>       <td>  -17.7666</td> <td>    3.820</td> <td>   -4.651</td> <td> 0.000</td> <td>  -25.272</td> <td>  -10.262</td>\n",
              "</tr>\n",
              "<tr>\n",
              "  <th>RM</th>        <td>    3.8099</td> <td>    0.418</td> <td>    9.116</td> <td> 0.000</td> <td>    2.989</td> <td>    4.631</td>\n",
              "</tr>\n",
              "<tr>\n",
              "  <th>AGE</th>       <td>    0.0007</td> <td>    0.013</td> <td>    0.052</td> <td> 0.958</td> <td>   -0.025</td> <td>    0.027</td>\n",
              "</tr>\n",
              "<tr>\n",
              "  <th>DIS</th>       <td>   -1.4756</td> <td>    0.199</td> <td>   -7.398</td> <td> 0.000</td> <td>   -1.867</td> <td>   -1.084</td>\n",
              "</tr>\n",
              "<tr>\n",
              "  <th>RAD</th>       <td>    0.3060</td> <td>    0.066</td> <td>    4.613</td> <td> 0.000</td> <td>    0.176</td> <td>    0.436</td>\n",
              "</tr>\n",
              "<tr>\n",
              "  <th>TAX</th>       <td>   -0.0123</td> <td>    0.004</td> <td>   -3.280</td> <td> 0.001</td> <td>   -0.020</td> <td>   -0.005</td>\n",
              "</tr>\n",
              "<tr>\n",
              "  <th>PTRATIO</th>   <td>   -0.9527</td> <td>    0.131</td> <td>   -7.283</td> <td> 0.000</td> <td>   -1.210</td> <td>   -0.696</td>\n",
              "</tr>\n",
              "<tr>\n",
              "  <th>B</th>         <td>    0.0093</td> <td>    0.003</td> <td>    3.467</td> <td> 0.001</td> <td>    0.004</td> <td>    0.015</td>\n",
              "</tr>\n",
              "<tr>\n",
              "  <th>LSTAT</th>     <td>   -0.5248</td> <td>    0.051</td> <td>  -10.347</td> <td> 0.000</td> <td>   -0.624</td> <td>   -0.425</td>\n",
              "</tr>\n",
              "</table>\n",
              "<table class=\"simpletable\">\n",
              "<tr>\n",
              "  <th>Omnibus:</th>       <td>178.041</td> <th>  Durbin-Watson:     </th> <td>   1.078</td> \n",
              "</tr>\n",
              "<tr>\n",
              "  <th>Prob(Omnibus):</th> <td> 0.000</td>  <th>  Jarque-Bera (JB):  </th> <td> 783.126</td> \n",
              "</tr>\n",
              "<tr>\n",
              "  <th>Skew:</th>          <td> 1.521</td>  <th>  Prob(JB):          </th> <td>8.84e-171</td>\n",
              "</tr>\n",
              "<tr>\n",
              "  <th>Kurtosis:</th>      <td> 8.281</td>  <th>  Cond. No.          </th> <td>1.51e+04</td> \n",
              "</tr>\n",
              "</table><br/><br/>Warnings:<br/>[1] Standard Errors assume that the covariance matrix of the errors is correctly specified.<br/>[2] The condition number is large, 1.51e+04. This might indicate that there are<br/>strong multicollinearity or other numerical problems."
            ],
            "text/plain": [
              "<class 'statsmodels.iolib.summary.Summary'>\n",
              "\"\"\"\n",
              "                            OLS Regression Results                            \n",
              "==============================================================================\n",
              "Dep. Variable:                      y   R-squared:                       0.741\n",
              "Model:                            OLS   Adj. R-squared:                  0.734\n",
              "Method:                 Least Squares   F-statistic:                     108.1\n",
              "Date:                Tue, 25 Aug 2020   Prob (F-statistic):          6.72e-135\n",
              "Time:                        16:59:04   Log-Likelihood:                -1498.8\n",
              "No. Observations:                 506   AIC:                             3026.\n",
              "Df Residuals:                     492   BIC:                             3085.\n",
              "Df Model:                          13                                         \n",
              "Covariance Type:            nonrobust                                         \n",
              "==============================================================================\n",
              "                 coef    std err          t      P>|t|      [0.025      0.975]\n",
              "------------------------------------------------------------------------------\n",
              "Intercept     36.4595      5.103      7.144      0.000      26.432      46.487\n",
              "CRIM          -0.1080      0.033     -3.287      0.001      -0.173      -0.043\n",
              "ZN             0.0464      0.014      3.382      0.001       0.019       0.073\n",
              "INDUS          0.0206      0.061      0.334      0.738      -0.100       0.141\n",
              "CHAS           2.6867      0.862      3.118      0.002       0.994       4.380\n",
              "NOX          -17.7666      3.820     -4.651      0.000     -25.272     -10.262\n",
              "RM             3.8099      0.418      9.116      0.000       2.989       4.631\n",
              "AGE            0.0007      0.013      0.052      0.958      -0.025       0.027\n",
              "DIS           -1.4756      0.199     -7.398      0.000      -1.867      -1.084\n",
              "RAD            0.3060      0.066      4.613      0.000       0.176       0.436\n",
              "TAX           -0.0123      0.004     -3.280      0.001      -0.020      -0.005\n",
              "PTRATIO       -0.9527      0.131     -7.283      0.000      -1.210      -0.696\n",
              "B              0.0093      0.003      3.467      0.001       0.004       0.015\n",
              "LSTAT         -0.5248      0.051    -10.347      0.000      -0.624      -0.425\n",
              "==============================================================================\n",
              "Omnibus:                      178.041   Durbin-Watson:                   1.078\n",
              "Prob(Omnibus):                  0.000   Jarque-Bera (JB):              783.126\n",
              "Skew:                           1.521   Prob(JB):                    8.84e-171\n",
              "Kurtosis:                       8.281   Cond. No.                     1.51e+04\n",
              "==============================================================================\n",
              "\n",
              "Warnings:\n",
              "[1] Standard Errors assume that the covariance matrix of the errors is correctly specified.\n",
              "[2] The condition number is large, 1.51e+04. This might indicate that there are\n",
              "strong multicollinearity or other numerical problems.\n",
              "\"\"\""
            ]
          },
          "metadata": {
            "tags": []
          },
          "execution_count": 22
        }
      ]
    },
    {
      "cell_type": "code",
      "metadata": {
        "id": "sSadJBTNjwmR",
        "colab_type": "code",
        "colab": {}
      },
      "source": [
        "model_form2 = smf.ols(formula = 'y ~ CRIM + ZN  + CHAS + NOX + RM + DIS + RAD + TAX + PTRATIO + B + LSTAT', \n",
        "              data=df)\n",
        "LinearModel_form2 = model_form2.fit()"
      ],
      "execution_count": 23,
      "outputs": []
    },
    {
      "cell_type": "code",
      "metadata": {
        "id": "WNUnwPAQmQ34",
        "colab_type": "code",
        "colab": {
          "base_uri": "https://localhost:8080/",
          "height": 688
        },
        "outputId": "2472b41e-d18c-4195-8df6-bf105f031e84"
      },
      "source": [
        "LinearModel_form2.summary()"
      ],
      "execution_count": 24,
      "outputs": [
        {
          "output_type": "execute_result",
          "data": {
            "text/html": [
              "<table class=\"simpletable\">\n",
              "<caption>OLS Regression Results</caption>\n",
              "<tr>\n",
              "  <th>Dep. Variable:</th>            <td>y</td>        <th>  R-squared:         </th> <td>   0.741</td> \n",
              "</tr>\n",
              "<tr>\n",
              "  <th>Model:</th>                   <td>OLS</td>       <th>  Adj. R-squared:    </th> <td>   0.735</td> \n",
              "</tr>\n",
              "<tr>\n",
              "  <th>Method:</th>             <td>Least Squares</td>  <th>  F-statistic:       </th> <td>   128.2</td> \n",
              "</tr>\n",
              "<tr>\n",
              "  <th>Date:</th>             <td>Tue, 25 Aug 2020</td> <th>  Prob (F-statistic):</th> <td>5.54e-137</td>\n",
              "</tr>\n",
              "<tr>\n",
              "  <th>Time:</th>                 <td>17:10:10</td>     <th>  Log-Likelihood:    </th> <td> -1498.9</td> \n",
              "</tr>\n",
              "<tr>\n",
              "  <th>No. Observations:</th>      <td>   506</td>      <th>  AIC:               </th> <td>   3022.</td> \n",
              "</tr>\n",
              "<tr>\n",
              "  <th>Df Residuals:</th>          <td>   494</td>      <th>  BIC:               </th> <td>   3072.</td> \n",
              "</tr>\n",
              "<tr>\n",
              "  <th>Df Model:</th>              <td>    11</td>      <th>                     </th>     <td> </td>    \n",
              "</tr>\n",
              "<tr>\n",
              "  <th>Covariance Type:</th>      <td>nonrobust</td>    <th>                     </th>     <td> </td>    \n",
              "</tr>\n",
              "</table>\n",
              "<table class=\"simpletable\">\n",
              "<tr>\n",
              "      <td></td>         <th>coef</th>     <th>std err</th>      <th>t</th>      <th>P>|t|</th>  <th>[0.025</th>    <th>0.975]</th>  \n",
              "</tr>\n",
              "<tr>\n",
              "  <th>Intercept</th> <td>   36.3411</td> <td>    5.067</td> <td>    7.171</td> <td> 0.000</td> <td>   26.385</td> <td>   46.298</td>\n",
              "</tr>\n",
              "<tr>\n",
              "  <th>CRIM</th>      <td>   -0.1084</td> <td>    0.033</td> <td>   -3.307</td> <td> 0.001</td> <td>   -0.173</td> <td>   -0.044</td>\n",
              "</tr>\n",
              "<tr>\n",
              "  <th>ZN</th>        <td>    0.0458</td> <td>    0.014</td> <td>    3.390</td> <td> 0.001</td> <td>    0.019</td> <td>    0.072</td>\n",
              "</tr>\n",
              "<tr>\n",
              "  <th>CHAS</th>      <td>    2.7187</td> <td>    0.854</td> <td>    3.183</td> <td> 0.002</td> <td>    1.040</td> <td>    4.397</td>\n",
              "</tr>\n",
              "<tr>\n",
              "  <th>NOX</th>       <td>  -17.3760</td> <td>    3.535</td> <td>   -4.915</td> <td> 0.000</td> <td>  -24.322</td> <td>  -10.430</td>\n",
              "</tr>\n",
              "<tr>\n",
              "  <th>RM</th>        <td>    3.8016</td> <td>    0.406</td> <td>    9.356</td> <td> 0.000</td> <td>    3.003</td> <td>    4.600</td>\n",
              "</tr>\n",
              "<tr>\n",
              "  <th>DIS</th>       <td>   -1.4927</td> <td>    0.186</td> <td>   -8.037</td> <td> 0.000</td> <td>   -1.858</td> <td>   -1.128</td>\n",
              "</tr>\n",
              "<tr>\n",
              "  <th>RAD</th>       <td>    0.2996</td> <td>    0.063</td> <td>    4.726</td> <td> 0.000</td> <td>    0.175</td> <td>    0.424</td>\n",
              "</tr>\n",
              "<tr>\n",
              "  <th>TAX</th>       <td>   -0.0118</td> <td>    0.003</td> <td>   -3.493</td> <td> 0.001</td> <td>   -0.018</td> <td>   -0.005</td>\n",
              "</tr>\n",
              "<tr>\n",
              "  <th>PTRATIO</th>   <td>   -0.9465</td> <td>    0.129</td> <td>   -7.334</td> <td> 0.000</td> <td>   -1.200</td> <td>   -0.693</td>\n",
              "</tr>\n",
              "<tr>\n",
              "  <th>B</th>         <td>    0.0093</td> <td>    0.003</td> <td>    3.475</td> <td> 0.001</td> <td>    0.004</td> <td>    0.015</td>\n",
              "</tr>\n",
              "<tr>\n",
              "  <th>LSTAT</th>     <td>   -0.5226</td> <td>    0.047</td> <td>  -11.019</td> <td> 0.000</td> <td>   -0.616</td> <td>   -0.429</td>\n",
              "</tr>\n",
              "</table>\n",
              "<table class=\"simpletable\">\n",
              "<tr>\n",
              "  <th>Omnibus:</th>       <td>178.430</td> <th>  Durbin-Watson:     </th> <td>   1.078</td> \n",
              "</tr>\n",
              "<tr>\n",
              "  <th>Prob(Omnibus):</th> <td> 0.000</td>  <th>  Jarque-Bera (JB):  </th> <td> 787.785</td> \n",
              "</tr>\n",
              "<tr>\n",
              "  <th>Skew:</th>          <td> 1.523</td>  <th>  Prob(JB):          </th> <td>8.60e-172</td>\n",
              "</tr>\n",
              "<tr>\n",
              "  <th>Kurtosis:</th>      <td> 8.300</td>  <th>  Cond. No.          </th> <td>1.47e+04</td> \n",
              "</tr>\n",
              "</table><br/><br/>Warnings:<br/>[1] Standard Errors assume that the covariance matrix of the errors is correctly specified.<br/>[2] The condition number is large, 1.47e+04. This might indicate that there are<br/>strong multicollinearity or other numerical problems."
            ],
            "text/plain": [
              "<class 'statsmodels.iolib.summary.Summary'>\n",
              "\"\"\"\n",
              "                            OLS Regression Results                            \n",
              "==============================================================================\n",
              "Dep. Variable:                      y   R-squared:                       0.741\n",
              "Model:                            OLS   Adj. R-squared:                  0.735\n",
              "Method:                 Least Squares   F-statistic:                     128.2\n",
              "Date:                Tue, 25 Aug 2020   Prob (F-statistic):          5.54e-137\n",
              "Time:                        17:10:10   Log-Likelihood:                -1498.9\n",
              "No. Observations:                 506   AIC:                             3022.\n",
              "Df Residuals:                     494   BIC:                             3072.\n",
              "Df Model:                          11                                         \n",
              "Covariance Type:            nonrobust                                         \n",
              "==============================================================================\n",
              "                 coef    std err          t      P>|t|      [0.025      0.975]\n",
              "------------------------------------------------------------------------------\n",
              "Intercept     36.3411      5.067      7.171      0.000      26.385      46.298\n",
              "CRIM          -0.1084      0.033     -3.307      0.001      -0.173      -0.044\n",
              "ZN             0.0458      0.014      3.390      0.001       0.019       0.072\n",
              "CHAS           2.7187      0.854      3.183      0.002       1.040       4.397\n",
              "NOX          -17.3760      3.535     -4.915      0.000     -24.322     -10.430\n",
              "RM             3.8016      0.406      9.356      0.000       3.003       4.600\n",
              "DIS           -1.4927      0.186     -8.037      0.000      -1.858      -1.128\n",
              "RAD            0.2996      0.063      4.726      0.000       0.175       0.424\n",
              "TAX           -0.0118      0.003     -3.493      0.001      -0.018      -0.005\n",
              "PTRATIO       -0.9465      0.129     -7.334      0.000      -1.200      -0.693\n",
              "B              0.0093      0.003      3.475      0.001       0.004       0.015\n",
              "LSTAT         -0.5226      0.047    -11.019      0.000      -0.616      -0.429\n",
              "==============================================================================\n",
              "Omnibus:                      178.430   Durbin-Watson:                   1.078\n",
              "Prob(Omnibus):                  0.000   Jarque-Bera (JB):              787.785\n",
              "Skew:                           1.523   Prob(JB):                    8.60e-172\n",
              "Kurtosis:                       8.300   Cond. No.                     1.47e+04\n",
              "==============================================================================\n",
              "\n",
              "Warnings:\n",
              "[1] Standard Errors assume that the covariance matrix of the errors is correctly specified.\n",
              "[2] The condition number is large, 1.47e+04. This might indicate that there are\n",
              "strong multicollinearity or other numerical problems.\n",
              "\"\"\""
            ]
          },
          "metadata": {
            "tags": []
          },
          "execution_count": 24
        }
      ]
    },
    {
      "cell_type": "markdown",
      "metadata": {
        "id": "zh_L9V4tnN5h",
        "colab_type": "text"
      },
      "source": [
        "## Correlation Matrix"
      ]
    },
    {
      "cell_type": "markdown",
      "metadata": {
        "id": "y0_3xQy9n-zU",
        "colab_type": "text"
      },
      "source": [
        "Useful diagnostic tool to identify collinearity between predictors"
      ]
    },
    {
      "cell_type": "code",
      "metadata": {
        "id": "NKW6XmdfmTjw",
        "colab_type": "code",
        "colab": {
          "base_uri": "https://localhost:8080/",
          "height": 452
        },
        "outputId": "4ebf3fdf-e853-422c-ad00-8523baa49643"
      },
      "source": [
        "pd.options.display.float_format = '{:,.2f}'.format\n",
        "corr_matrix = df.corr()\n",
        "corr_matrix"
      ],
      "execution_count": 25,
      "outputs": [
        {
          "output_type": "execute_result",
          "data": {
            "text/html": [
              "<div>\n",
              "<style scoped>\n",
              "    .dataframe tbody tr th:only-of-type {\n",
              "        vertical-align: middle;\n",
              "    }\n",
              "\n",
              "    .dataframe tbody tr th {\n",
              "        vertical-align: top;\n",
              "    }\n",
              "\n",
              "    .dataframe thead th {\n",
              "        text-align: right;\n",
              "    }\n",
              "</style>\n",
              "<table border=\"1\" class=\"dataframe\">\n",
              "  <thead>\n",
              "    <tr style=\"text-align: right;\">\n",
              "      <th></th>\n",
              "      <th>CRIM</th>\n",
              "      <th>ZN</th>\n",
              "      <th>INDUS</th>\n",
              "      <th>CHAS</th>\n",
              "      <th>NOX</th>\n",
              "      <th>RM</th>\n",
              "      <th>AGE</th>\n",
              "      <th>DIS</th>\n",
              "      <th>RAD</th>\n",
              "      <th>TAX</th>\n",
              "      <th>PTRATIO</th>\n",
              "      <th>B</th>\n",
              "      <th>LSTAT</th>\n",
              "    </tr>\n",
              "  </thead>\n",
              "  <tbody>\n",
              "    <tr>\n",
              "      <th>CRIM</th>\n",
              "      <td>1.00</td>\n",
              "      <td>-0.20</td>\n",
              "      <td>0.41</td>\n",
              "      <td>-0.06</td>\n",
              "      <td>0.42</td>\n",
              "      <td>-0.22</td>\n",
              "      <td>0.35</td>\n",
              "      <td>-0.38</td>\n",
              "      <td>0.63</td>\n",
              "      <td>0.58</td>\n",
              "      <td>0.29</td>\n",
              "      <td>-0.39</td>\n",
              "      <td>0.46</td>\n",
              "    </tr>\n",
              "    <tr>\n",
              "      <th>ZN</th>\n",
              "      <td>-0.20</td>\n",
              "      <td>1.00</td>\n",
              "      <td>-0.53</td>\n",
              "      <td>-0.04</td>\n",
              "      <td>-0.52</td>\n",
              "      <td>0.31</td>\n",
              "      <td>-0.57</td>\n",
              "      <td>0.66</td>\n",
              "      <td>-0.31</td>\n",
              "      <td>-0.31</td>\n",
              "      <td>-0.39</td>\n",
              "      <td>0.18</td>\n",
              "      <td>-0.41</td>\n",
              "    </tr>\n",
              "    <tr>\n",
              "      <th>INDUS</th>\n",
              "      <td>0.41</td>\n",
              "      <td>-0.53</td>\n",
              "      <td>1.00</td>\n",
              "      <td>0.06</td>\n",
              "      <td>0.76</td>\n",
              "      <td>-0.39</td>\n",
              "      <td>0.64</td>\n",
              "      <td>-0.71</td>\n",
              "      <td>0.60</td>\n",
              "      <td>0.72</td>\n",
              "      <td>0.38</td>\n",
              "      <td>-0.36</td>\n",
              "      <td>0.60</td>\n",
              "    </tr>\n",
              "    <tr>\n",
              "      <th>CHAS</th>\n",
              "      <td>-0.06</td>\n",
              "      <td>-0.04</td>\n",
              "      <td>0.06</td>\n",
              "      <td>1.00</td>\n",
              "      <td>0.09</td>\n",
              "      <td>0.09</td>\n",
              "      <td>0.09</td>\n",
              "      <td>-0.10</td>\n",
              "      <td>-0.01</td>\n",
              "      <td>-0.04</td>\n",
              "      <td>-0.12</td>\n",
              "      <td>0.05</td>\n",
              "      <td>-0.05</td>\n",
              "    </tr>\n",
              "    <tr>\n",
              "      <th>NOX</th>\n",
              "      <td>0.42</td>\n",
              "      <td>-0.52</td>\n",
              "      <td>0.76</td>\n",
              "      <td>0.09</td>\n",
              "      <td>1.00</td>\n",
              "      <td>-0.30</td>\n",
              "      <td>0.73</td>\n",
              "      <td>-0.77</td>\n",
              "      <td>0.61</td>\n",
              "      <td>0.67</td>\n",
              "      <td>0.19</td>\n",
              "      <td>-0.38</td>\n",
              "      <td>0.59</td>\n",
              "    </tr>\n",
              "    <tr>\n",
              "      <th>RM</th>\n",
              "      <td>-0.22</td>\n",
              "      <td>0.31</td>\n",
              "      <td>-0.39</td>\n",
              "      <td>0.09</td>\n",
              "      <td>-0.30</td>\n",
              "      <td>1.00</td>\n",
              "      <td>-0.24</td>\n",
              "      <td>0.21</td>\n",
              "      <td>-0.21</td>\n",
              "      <td>-0.29</td>\n",
              "      <td>-0.36</td>\n",
              "      <td>0.13</td>\n",
              "      <td>-0.61</td>\n",
              "    </tr>\n",
              "    <tr>\n",
              "      <th>AGE</th>\n",
              "      <td>0.35</td>\n",
              "      <td>-0.57</td>\n",
              "      <td>0.64</td>\n",
              "      <td>0.09</td>\n",
              "      <td>0.73</td>\n",
              "      <td>-0.24</td>\n",
              "      <td>1.00</td>\n",
              "      <td>-0.75</td>\n",
              "      <td>0.46</td>\n",
              "      <td>0.51</td>\n",
              "      <td>0.26</td>\n",
              "      <td>-0.27</td>\n",
              "      <td>0.60</td>\n",
              "    </tr>\n",
              "    <tr>\n",
              "      <th>DIS</th>\n",
              "      <td>-0.38</td>\n",
              "      <td>0.66</td>\n",
              "      <td>-0.71</td>\n",
              "      <td>-0.10</td>\n",
              "      <td>-0.77</td>\n",
              "      <td>0.21</td>\n",
              "      <td>-0.75</td>\n",
              "      <td>1.00</td>\n",
              "      <td>-0.49</td>\n",
              "      <td>-0.53</td>\n",
              "      <td>-0.23</td>\n",
              "      <td>0.29</td>\n",
              "      <td>-0.50</td>\n",
              "    </tr>\n",
              "    <tr>\n",
              "      <th>RAD</th>\n",
              "      <td>0.63</td>\n",
              "      <td>-0.31</td>\n",
              "      <td>0.60</td>\n",
              "      <td>-0.01</td>\n",
              "      <td>0.61</td>\n",
              "      <td>-0.21</td>\n",
              "      <td>0.46</td>\n",
              "      <td>-0.49</td>\n",
              "      <td>1.00</td>\n",
              "      <td>0.91</td>\n",
              "      <td>0.46</td>\n",
              "      <td>-0.44</td>\n",
              "      <td>0.49</td>\n",
              "    </tr>\n",
              "    <tr>\n",
              "      <th>TAX</th>\n",
              "      <td>0.58</td>\n",
              "      <td>-0.31</td>\n",
              "      <td>0.72</td>\n",
              "      <td>-0.04</td>\n",
              "      <td>0.67</td>\n",
              "      <td>-0.29</td>\n",
              "      <td>0.51</td>\n",
              "      <td>-0.53</td>\n",
              "      <td>0.91</td>\n",
              "      <td>1.00</td>\n",
              "      <td>0.46</td>\n",
              "      <td>-0.44</td>\n",
              "      <td>0.54</td>\n",
              "    </tr>\n",
              "    <tr>\n",
              "      <th>PTRATIO</th>\n",
              "      <td>0.29</td>\n",
              "      <td>-0.39</td>\n",
              "      <td>0.38</td>\n",
              "      <td>-0.12</td>\n",
              "      <td>0.19</td>\n",
              "      <td>-0.36</td>\n",
              "      <td>0.26</td>\n",
              "      <td>-0.23</td>\n",
              "      <td>0.46</td>\n",
              "      <td>0.46</td>\n",
              "      <td>1.00</td>\n",
              "      <td>-0.18</td>\n",
              "      <td>0.37</td>\n",
              "    </tr>\n",
              "    <tr>\n",
              "      <th>B</th>\n",
              "      <td>-0.39</td>\n",
              "      <td>0.18</td>\n",
              "      <td>-0.36</td>\n",
              "      <td>0.05</td>\n",
              "      <td>-0.38</td>\n",
              "      <td>0.13</td>\n",
              "      <td>-0.27</td>\n",
              "      <td>0.29</td>\n",
              "      <td>-0.44</td>\n",
              "      <td>-0.44</td>\n",
              "      <td>-0.18</td>\n",
              "      <td>1.00</td>\n",
              "      <td>-0.37</td>\n",
              "    </tr>\n",
              "    <tr>\n",
              "      <th>LSTAT</th>\n",
              "      <td>0.46</td>\n",
              "      <td>-0.41</td>\n",
              "      <td>0.60</td>\n",
              "      <td>-0.05</td>\n",
              "      <td>0.59</td>\n",
              "      <td>-0.61</td>\n",
              "      <td>0.60</td>\n",
              "      <td>-0.50</td>\n",
              "      <td>0.49</td>\n",
              "      <td>0.54</td>\n",
              "      <td>0.37</td>\n",
              "      <td>-0.37</td>\n",
              "      <td>1.00</td>\n",
              "    </tr>\n",
              "  </tbody>\n",
              "</table>\n",
              "</div>"
            ],
            "text/plain": [
              "         CRIM    ZN  INDUS  CHAS   NOX  ...   RAD   TAX  PTRATIO     B  LSTAT\n",
              "CRIM     1.00 -0.20   0.41 -0.06  0.42  ...  0.63  0.58     0.29 -0.39   0.46\n",
              "ZN      -0.20  1.00  -0.53 -0.04 -0.52  ... -0.31 -0.31    -0.39  0.18  -0.41\n",
              "INDUS    0.41 -0.53   1.00  0.06  0.76  ...  0.60  0.72     0.38 -0.36   0.60\n",
              "CHAS    -0.06 -0.04   0.06  1.00  0.09  ... -0.01 -0.04    -0.12  0.05  -0.05\n",
              "NOX      0.42 -0.52   0.76  0.09  1.00  ...  0.61  0.67     0.19 -0.38   0.59\n",
              "RM      -0.22  0.31  -0.39  0.09 -0.30  ... -0.21 -0.29    -0.36  0.13  -0.61\n",
              "AGE      0.35 -0.57   0.64  0.09  0.73  ...  0.46  0.51     0.26 -0.27   0.60\n",
              "DIS     -0.38  0.66  -0.71 -0.10 -0.77  ... -0.49 -0.53    -0.23  0.29  -0.50\n",
              "RAD      0.63 -0.31   0.60 -0.01  0.61  ...  1.00  0.91     0.46 -0.44   0.49\n",
              "TAX      0.58 -0.31   0.72 -0.04  0.67  ...  0.91  1.00     0.46 -0.44   0.54\n",
              "PTRATIO  0.29 -0.39   0.38 -0.12  0.19  ...  0.46  0.46     1.00 -0.18   0.37\n",
              "B       -0.39  0.18  -0.36  0.05 -0.38  ... -0.44 -0.44    -0.18  1.00  -0.37\n",
              "LSTAT    0.46 -0.41   0.60 -0.05  0.59  ...  0.49  0.54     0.37 -0.37   1.00\n",
              "\n",
              "[13 rows x 13 columns]"
            ]
          },
          "metadata": {
            "tags": []
          },
          "execution_count": 25
        }
      ]
    },
    {
      "cell_type": "markdown",
      "metadata": {
        "id": "e0F8_joCoiLc",
        "colab_type": "text"
      },
      "source": [
        "We can get rid of the correlation range between -0.6 + 0.6"
      ]
    },
    {
      "cell_type": "code",
      "metadata": {
        "id": "Y9jEQLjrn_0g",
        "colab_type": "code",
        "colab": {
          "base_uri": "https://localhost:8080/",
          "height": 452
        },
        "outputId": "5b9520bb-3c61-4e79-f991-36954f2b0018"
      },
      "source": [
        "corr_matrix[np.abs(corr_matrix) < 0.6] = 0\n",
        "corr_matrix"
      ],
      "execution_count": 26,
      "outputs": [
        {
          "output_type": "execute_result",
          "data": {
            "text/html": [
              "<div>\n",
              "<style scoped>\n",
              "    .dataframe tbody tr th:only-of-type {\n",
              "        vertical-align: middle;\n",
              "    }\n",
              "\n",
              "    .dataframe tbody tr th {\n",
              "        vertical-align: top;\n",
              "    }\n",
              "\n",
              "    .dataframe thead th {\n",
              "        text-align: right;\n",
              "    }\n",
              "</style>\n",
              "<table border=\"1\" class=\"dataframe\">\n",
              "  <thead>\n",
              "    <tr style=\"text-align: right;\">\n",
              "      <th></th>\n",
              "      <th>CRIM</th>\n",
              "      <th>ZN</th>\n",
              "      <th>INDUS</th>\n",
              "      <th>CHAS</th>\n",
              "      <th>NOX</th>\n",
              "      <th>RM</th>\n",
              "      <th>AGE</th>\n",
              "      <th>DIS</th>\n",
              "      <th>RAD</th>\n",
              "      <th>TAX</th>\n",
              "      <th>PTRATIO</th>\n",
              "      <th>B</th>\n",
              "      <th>LSTAT</th>\n",
              "    </tr>\n",
              "  </thead>\n",
              "  <tbody>\n",
              "    <tr>\n",
              "      <th>CRIM</th>\n",
              "      <td>1.00</td>\n",
              "      <td>0.00</td>\n",
              "      <td>0.00</td>\n",
              "      <td>0.00</td>\n",
              "      <td>0.00</td>\n",
              "      <td>0.00</td>\n",
              "      <td>0.00</td>\n",
              "      <td>0.00</td>\n",
              "      <td>0.63</td>\n",
              "      <td>0.00</td>\n",
              "      <td>0.00</td>\n",
              "      <td>0.00</td>\n",
              "      <td>0.00</td>\n",
              "    </tr>\n",
              "    <tr>\n",
              "      <th>ZN</th>\n",
              "      <td>0.00</td>\n",
              "      <td>1.00</td>\n",
              "      <td>0.00</td>\n",
              "      <td>0.00</td>\n",
              "      <td>0.00</td>\n",
              "      <td>0.00</td>\n",
              "      <td>0.00</td>\n",
              "      <td>0.66</td>\n",
              "      <td>0.00</td>\n",
              "      <td>0.00</td>\n",
              "      <td>0.00</td>\n",
              "      <td>0.00</td>\n",
              "      <td>0.00</td>\n",
              "    </tr>\n",
              "    <tr>\n",
              "      <th>INDUS</th>\n",
              "      <td>0.00</td>\n",
              "      <td>0.00</td>\n",
              "      <td>1.00</td>\n",
              "      <td>0.00</td>\n",
              "      <td>0.76</td>\n",
              "      <td>0.00</td>\n",
              "      <td>0.64</td>\n",
              "      <td>-0.71</td>\n",
              "      <td>0.00</td>\n",
              "      <td>0.72</td>\n",
              "      <td>0.00</td>\n",
              "      <td>0.00</td>\n",
              "      <td>0.60</td>\n",
              "    </tr>\n",
              "    <tr>\n",
              "      <th>CHAS</th>\n",
              "      <td>0.00</td>\n",
              "      <td>0.00</td>\n",
              "      <td>0.00</td>\n",
              "      <td>1.00</td>\n",
              "      <td>0.00</td>\n",
              "      <td>0.00</td>\n",
              "      <td>0.00</td>\n",
              "      <td>0.00</td>\n",
              "      <td>0.00</td>\n",
              "      <td>0.00</td>\n",
              "      <td>0.00</td>\n",
              "      <td>0.00</td>\n",
              "      <td>0.00</td>\n",
              "    </tr>\n",
              "    <tr>\n",
              "      <th>NOX</th>\n",
              "      <td>0.00</td>\n",
              "      <td>0.00</td>\n",
              "      <td>0.76</td>\n",
              "      <td>0.00</td>\n",
              "      <td>1.00</td>\n",
              "      <td>0.00</td>\n",
              "      <td>0.73</td>\n",
              "      <td>-0.77</td>\n",
              "      <td>0.61</td>\n",
              "      <td>0.67</td>\n",
              "      <td>0.00</td>\n",
              "      <td>0.00</td>\n",
              "      <td>0.00</td>\n",
              "    </tr>\n",
              "    <tr>\n",
              "      <th>RM</th>\n",
              "      <td>0.00</td>\n",
              "      <td>0.00</td>\n",
              "      <td>0.00</td>\n",
              "      <td>0.00</td>\n",
              "      <td>0.00</td>\n",
              "      <td>1.00</td>\n",
              "      <td>0.00</td>\n",
              "      <td>0.00</td>\n",
              "      <td>0.00</td>\n",
              "      <td>0.00</td>\n",
              "      <td>0.00</td>\n",
              "      <td>0.00</td>\n",
              "      <td>-0.61</td>\n",
              "    </tr>\n",
              "    <tr>\n",
              "      <th>AGE</th>\n",
              "      <td>0.00</td>\n",
              "      <td>0.00</td>\n",
              "      <td>0.64</td>\n",
              "      <td>0.00</td>\n",
              "      <td>0.73</td>\n",
              "      <td>0.00</td>\n",
              "      <td>1.00</td>\n",
              "      <td>-0.75</td>\n",
              "      <td>0.00</td>\n",
              "      <td>0.00</td>\n",
              "      <td>0.00</td>\n",
              "      <td>0.00</td>\n",
              "      <td>0.60</td>\n",
              "    </tr>\n",
              "    <tr>\n",
              "      <th>DIS</th>\n",
              "      <td>0.00</td>\n",
              "      <td>0.66</td>\n",
              "      <td>-0.71</td>\n",
              "      <td>0.00</td>\n",
              "      <td>-0.77</td>\n",
              "      <td>0.00</td>\n",
              "      <td>-0.75</td>\n",
              "      <td>1.00</td>\n",
              "      <td>0.00</td>\n",
              "      <td>0.00</td>\n",
              "      <td>0.00</td>\n",
              "      <td>0.00</td>\n",
              "      <td>0.00</td>\n",
              "    </tr>\n",
              "    <tr>\n",
              "      <th>RAD</th>\n",
              "      <td>0.63</td>\n",
              "      <td>0.00</td>\n",
              "      <td>0.00</td>\n",
              "      <td>0.00</td>\n",
              "      <td>0.61</td>\n",
              "      <td>0.00</td>\n",
              "      <td>0.00</td>\n",
              "      <td>0.00</td>\n",
              "      <td>1.00</td>\n",
              "      <td>0.91</td>\n",
              "      <td>0.00</td>\n",
              "      <td>0.00</td>\n",
              "      <td>0.00</td>\n",
              "    </tr>\n",
              "    <tr>\n",
              "      <th>TAX</th>\n",
              "      <td>0.00</td>\n",
              "      <td>0.00</td>\n",
              "      <td>0.72</td>\n",
              "      <td>0.00</td>\n",
              "      <td>0.67</td>\n",
              "      <td>0.00</td>\n",
              "      <td>0.00</td>\n",
              "      <td>0.00</td>\n",
              "      <td>0.91</td>\n",
              "      <td>1.00</td>\n",
              "      <td>0.00</td>\n",
              "      <td>0.00</td>\n",
              "      <td>0.00</td>\n",
              "    </tr>\n",
              "    <tr>\n",
              "      <th>PTRATIO</th>\n",
              "      <td>0.00</td>\n",
              "      <td>0.00</td>\n",
              "      <td>0.00</td>\n",
              "      <td>0.00</td>\n",
              "      <td>0.00</td>\n",
              "      <td>0.00</td>\n",
              "      <td>0.00</td>\n",
              "      <td>0.00</td>\n",
              "      <td>0.00</td>\n",
              "      <td>0.00</td>\n",
              "      <td>1.00</td>\n",
              "      <td>0.00</td>\n",
              "      <td>0.00</td>\n",
              "    </tr>\n",
              "    <tr>\n",
              "      <th>B</th>\n",
              "      <td>0.00</td>\n",
              "      <td>0.00</td>\n",
              "      <td>0.00</td>\n",
              "      <td>0.00</td>\n",
              "      <td>0.00</td>\n",
              "      <td>0.00</td>\n",
              "      <td>0.00</td>\n",
              "      <td>0.00</td>\n",
              "      <td>0.00</td>\n",
              "      <td>0.00</td>\n",
              "      <td>0.00</td>\n",
              "      <td>1.00</td>\n",
              "      <td>0.00</td>\n",
              "    </tr>\n",
              "    <tr>\n",
              "      <th>LSTAT</th>\n",
              "      <td>0.00</td>\n",
              "      <td>0.00</td>\n",
              "      <td>0.60</td>\n",
              "      <td>0.00</td>\n",
              "      <td>0.00</td>\n",
              "      <td>-0.61</td>\n",
              "      <td>0.60</td>\n",
              "      <td>0.00</td>\n",
              "      <td>0.00</td>\n",
              "      <td>0.00</td>\n",
              "      <td>0.00</td>\n",
              "      <td>0.00</td>\n",
              "      <td>1.00</td>\n",
              "    </tr>\n",
              "  </tbody>\n",
              "</table>\n",
              "</div>"
            ],
            "text/plain": [
              "         CRIM   ZN  INDUS  CHAS   NOX  ...  RAD  TAX  PTRATIO    B  LSTAT\n",
              "CRIM     1.00 0.00   0.00  0.00  0.00  ... 0.63 0.00     0.00 0.00   0.00\n",
              "ZN       0.00 1.00   0.00  0.00  0.00  ... 0.00 0.00     0.00 0.00   0.00\n",
              "INDUS    0.00 0.00   1.00  0.00  0.76  ... 0.00 0.72     0.00 0.00   0.60\n",
              "CHAS     0.00 0.00   0.00  1.00  0.00  ... 0.00 0.00     0.00 0.00   0.00\n",
              "NOX      0.00 0.00   0.76  0.00  1.00  ... 0.61 0.67     0.00 0.00   0.00\n",
              "RM       0.00 0.00   0.00  0.00  0.00  ... 0.00 0.00     0.00 0.00  -0.61\n",
              "AGE      0.00 0.00   0.64  0.00  0.73  ... 0.00 0.00     0.00 0.00   0.60\n",
              "DIS      0.00 0.66  -0.71  0.00 -0.77  ... 0.00 0.00     0.00 0.00   0.00\n",
              "RAD      0.63 0.00   0.00  0.00  0.61  ... 1.00 0.91     0.00 0.00   0.00\n",
              "TAX      0.00 0.00   0.72  0.00  0.67  ... 0.91 1.00     0.00 0.00   0.00\n",
              "PTRATIO  0.00 0.00   0.00  0.00  0.00  ... 0.00 0.00     1.00 0.00   0.00\n",
              "B        0.00 0.00   0.00  0.00  0.00  ... 0.00 0.00     0.00 1.00   0.00\n",
              "LSTAT    0.00 0.00   0.60  0.00  0.00  ... 0.00 0.00     0.00 0.00   1.00\n",
              "\n",
              "[13 rows x 13 columns]"
            ]
          },
          "metadata": {
            "tags": []
          },
          "execution_count": 26
        }
      ]
    },
    {
      "cell_type": "code",
      "metadata": {
        "id": "dVuCuXaEoWF_",
        "colab_type": "code",
        "colab": {
          "base_uri": "https://localhost:8080/",
          "height": 487
        },
        "outputId": "b87743f0-79aa-4631-ff4c-878a884b14c3"
      },
      "source": [
        "plt.figure(figsize=(12,8))\n",
        "sns.heatmap(corr_matrix, annot=True, cmap='YlGnBu')\n",
        "plt.show()"
      ],
      "execution_count": 27,
      "outputs": [
        {
          "output_type": "display_data",
          "data": {
            "image/png": "[encoded data removed]",
            "text/plain": [
              "<Figure size 864x576 with 2 Axes>"
            ]
          },
          "metadata": {
            "tags": [],
            "needs_background": "light"
          }
        }
      ]
    },
    {
      "cell_type": "markdown",
      "metadata": {
        "id": "TfxqJcgUpo6D",
        "colab_type": "text"
      },
      "source": [
        "## Detecting Collinearity with Eigenvectors"
      ]
    },
    {
      "cell_type": "code",
      "metadata": {
        "id": "qnGTAhtOoc-3",
        "colab_type": "code",
        "colab": {}
      },
      "source": [
        "eigenvalues, eigenvectors = np.linalg.eig(df.corr())"
      ],
      "execution_count": 28,
      "outputs": []
    },
    {
      "cell_type": "code",
      "metadata": {
        "id": "6Pcww6cZpsP5",
        "colab_type": "code",
        "colab": {
          "base_uri": "https://localhost:8080/",
          "height": 255
        },
        "outputId": "0b9cd296-6997-4bc5-9ebe-e93438870db6"
      },
      "source": [
        "pd.Series(eigenvalues).sort_values()"
      ],
      "execution_count": 29,
      "outputs": [
        {
          "output_type": "execute_result",
          "data": {
            "text/plain": [
              "8    0.06\n",
              "10   0.17\n",
              "11   0.19\n",
              "12   0.22\n",
              "9    0.28\n",
              "7    0.40\n",
              "6    0.54\n",
              "5    0.66\n",
              "4    0.83\n",
              "3    0.86\n",
              "2    1.24\n",
              "1    1.43\n",
              "0    6.13\n",
              "dtype: float64"
            ]
          },
          "metadata": {
            "tags": []
          },
          "execution_count": 29
        }
      ]
    },
    {
      "cell_type": "markdown",
      "metadata": {
        "id": "_sC8csPbp2_i",
        "colab_type": "text"
      },
      "source": [
        "Note that index 8, eigenvalue of 0.0635, is near to zero or very small compared to the others. Small value represents presence of collinearity. "
      ]
    },
    {
      "cell_type": "code",
      "metadata": {
        "id": "QRuzVSHapv9n",
        "colab_type": "code",
        "colab": {
          "base_uri": "https://localhost:8080/",
          "height": 255
        },
        "outputId": "5a63423b-7cec-4f63-b53a-da6641037041"
      },
      "source": [
        "np.abs(pd.Series(eigenvectors[:,8])).sort_values(ascending=False)"
      ],
      "execution_count": 30,
      "outputs": [
        {
          "output_type": "execute_result",
          "data": {
            "text/plain": [
              "9    0.72\n",
              "8    0.63\n",
              "2    0.25\n",
              "1    0.08\n",
              "0    0.05\n",
              "5    0.05\n",
              "4    0.04\n",
              "6    0.04\n",
              "3    0.04\n",
              "12   0.02\n",
              "10   0.02\n",
              "7    0.02\n",
              "11   0.00\n",
              "dtype: float64"
            ]
          },
          "metadata": {
            "tags": []
          },
          "execution_count": 30
        }
      ]
    },
    {
      "cell_type": "markdown",
      "metadata": {
        "id": "a9X6JXAGqDt3",
        "colab_type": "text"
      },
      "source": [
        "Note that index 9, 8, 2 have very high loading when compared against the rest"
      ]
    },
    {
      "cell_type": "code",
      "metadata": {
        "id": "MCM8UTrWp_rf",
        "colab_type": "code",
        "colab": {
          "base_uri": "https://localhost:8080/",
          "height": 34
        },
        "outputId": "d4b69135-a4b7-4c5d-99eb-1d9d86294819"
      },
      "source": [
        "print(df.columns[2], df.columns[8], df.columns[9])"
      ],
      "execution_count": 31,
      "outputs": [
        {
          "output_type": "stream",
          "text": [
            "INDUS RAD TAX\n"
          ],
          "name": "stdout"
        }
      ]
    },
    {
      "cell_type": "code",
      "metadata": {
        "id": "0KvwAqhaqGIm",
        "colab_type": "code",
        "colab": {
          "base_uri": "https://localhost:8080/",
          "height": 204
        },
        "outputId": "78e2107c-1128-40b2-a926-c46821ee2fb4"
      },
      "source": [
        "df.head()"
      ],
      "execution_count": 32,
      "outputs": [
        {
          "output_type": "execute_result",
          "data": {
            "text/html": [
              "<div>\n",
              "<style scoped>\n",
              "    .dataframe tbody tr th:only-of-type {\n",
              "        vertical-align: middle;\n",
              "    }\n",
              "\n",
              "    .dataframe tbody tr th {\n",
              "        vertical-align: top;\n",
              "    }\n",
              "\n",
              "    .dataframe thead th {\n",
              "        text-align: right;\n",
              "    }\n",
              "</style>\n",
              "<table border=\"1\" class=\"dataframe\">\n",
              "  <thead>\n",
              "    <tr style=\"text-align: right;\">\n",
              "      <th></th>\n",
              "      <th>CRIM</th>\n",
              "      <th>ZN</th>\n",
              "      <th>INDUS</th>\n",
              "      <th>CHAS</th>\n",
              "      <th>NOX</th>\n",
              "      <th>RM</th>\n",
              "      <th>AGE</th>\n",
              "      <th>DIS</th>\n",
              "      <th>RAD</th>\n",
              "      <th>TAX</th>\n",
              "      <th>PTRATIO</th>\n",
              "      <th>B</th>\n",
              "      <th>LSTAT</th>\n",
              "    </tr>\n",
              "  </thead>\n",
              "  <tbody>\n",
              "    <tr>\n",
              "      <th>0</th>\n",
              "      <td>0.01</td>\n",
              "      <td>18.00</td>\n",
              "      <td>2.31</td>\n",
              "      <td>0.00</td>\n",
              "      <td>0.54</td>\n",
              "      <td>6.58</td>\n",
              "      <td>65.20</td>\n",
              "      <td>4.09</td>\n",
              "      <td>1.00</td>\n",
              "      <td>296.00</td>\n",
              "      <td>15.30</td>\n",
              "      <td>396.90</td>\n",
              "      <td>4.98</td>\n",
              "    </tr>\n",
              "    <tr>\n",
              "      <th>1</th>\n",
              "      <td>0.03</td>\n",
              "      <td>0.00</td>\n",
              "      <td>7.07</td>\n",
              "      <td>0.00</td>\n",
              "      <td>0.47</td>\n",
              "      <td>6.42</td>\n",
              "      <td>78.90</td>\n",
              "      <td>4.97</td>\n",
              "      <td>2.00</td>\n",
              "      <td>242.00</td>\n",
              "      <td>17.80</td>\n",
              "      <td>396.90</td>\n",
              "      <td>9.14</td>\n",
              "    </tr>\n",
              "    <tr>\n",
              "      <th>2</th>\n",
              "      <td>0.03</td>\n",
              "      <td>0.00</td>\n",
              "      <td>7.07</td>\n",
              "      <td>0.00</td>\n",
              "      <td>0.47</td>\n",
              "      <td>7.18</td>\n",
              "      <td>61.10</td>\n",
              "      <td>4.97</td>\n",
              "      <td>2.00</td>\n",
              "      <td>242.00</td>\n",
              "      <td>17.80</td>\n",
              "      <td>392.83</td>\n",
              "      <td>4.03</td>\n",
              "    </tr>\n",
              "    <tr>\n",
              "      <th>3</th>\n",
              "      <td>0.03</td>\n",
              "      <td>0.00</td>\n",
              "      <td>2.18</td>\n",
              "      <td>0.00</td>\n",
              "      <td>0.46</td>\n",
              "      <td>7.00</td>\n",
              "      <td>45.80</td>\n",
              "      <td>6.06</td>\n",
              "      <td>3.00</td>\n",
              "      <td>222.00</td>\n",
              "      <td>18.70</td>\n",
              "      <td>394.63</td>\n",
              "      <td>2.94</td>\n",
              "    </tr>\n",
              "    <tr>\n",
              "      <th>4</th>\n",
              "      <td>0.07</td>\n",
              "      <td>0.00</td>\n",
              "      <td>2.18</td>\n",
              "      <td>0.00</td>\n",
              "      <td>0.46</td>\n",
              "      <td>7.15</td>\n",
              "      <td>54.20</td>\n",
              "      <td>6.06</td>\n",
              "      <td>3.00</td>\n",
              "      <td>222.00</td>\n",
              "      <td>18.70</td>\n",
              "      <td>396.90</td>\n",
              "      <td>5.33</td>\n",
              "    </tr>\n",
              "  </tbody>\n",
              "</table>\n",
              "</div>"
            ],
            "text/plain": [
              "   CRIM    ZN  INDUS  CHAS  NOX   RM  ...  DIS  RAD    TAX  PTRATIO      B  LSTAT\n",
              "0  0.01 18.00   2.31  0.00 0.54 6.58  ... 4.09 1.00 296.00    15.30 396.90   4.98\n",
              "1  0.03  0.00   7.07  0.00 0.47 6.42  ... 4.97 2.00 242.00    17.80 396.90   9.14\n",
              "2  0.03  0.00   7.07  0.00 0.47 7.18  ... 4.97 2.00 242.00    17.80 392.83   4.03\n",
              "3  0.03  0.00   2.18  0.00 0.46 7.00  ... 6.06 3.00 222.00    18.70 394.63   2.94\n",
              "4  0.07  0.00   2.18  0.00 0.46 7.15  ... 6.06 3.00 222.00    18.70 396.90   5.33\n",
              "\n",
              "[5 rows x 13 columns]"
            ]
          },
          "metadata": {
            "tags": []
          },
          "execution_count": 32
        }
      ]
    },
    {
      "cell_type": "code",
      "metadata": {
        "id": "KqXIfm-0qsxh",
        "colab_type": "code",
        "colab": {
          "base_uri": "https://localhost:8080/",
          "height": 333
        },
        "outputId": "57bcaa5b-6731-449a-dc2a-c0d162cbb046"
      },
      "source": [
        "plt.hist(df['TAX'])"
      ],
      "execution_count": 33,
      "outputs": [
        {
          "output_type": "execute_result",
          "data": {
            "text/plain": [
              "(array([ 54., 100., 108.,  32.,  74.,   1.,   0.,   0.,   0., 137.]),\n",
              " array([187. , 239.4, 291.8, 344.2, 396.6, 449. , 501.4, 553.8, 606.2,\n",
              "        658.6, 711. ]),\n",
              " <a list of 10 Patch objects>)"
            ]
          },
          "metadata": {
            "tags": []
          },
          "execution_count": 33
        },
        {
          "output_type": "display_data",
          "data": {
            "image/png": "[encoded data removed]",
            "text/plain": [
              "<Figure size 432x288 with 1 Axes>"
            ]
          },
          "metadata": {
            "tags": [],
            "needs_background": "light"
          }
        }
      ]
    },
    {
      "cell_type": "code",
      "metadata": {
        "id": "2TsmyVf3qupF",
        "colab_type": "code",
        "colab": {
          "base_uri": "https://localhost:8080/",
          "height": 265
        },
        "outputId": "3449d30d-b424-4dc7-ae8d-4c584d98cd4c"
      },
      "source": [
        "plt.hist(df['NOX']);"
      ],
      "execution_count": 34,
      "outputs": [
        {
          "output_type": "display_data",
          "data": {
            "image/png": "[encoded data removed]",
            "text/plain": [
              "<Figure size 432x288 with 1 Axes>"
            ]
          },
          "metadata": {
            "tags": [],
            "needs_background": "light"
          }
        }
      ]
    },
    {
      "cell_type": "code",
      "metadata": {
        "id": "yXoh9moNqw1t",
        "colab_type": "code",
        "colab": {}
      },
      "source": [
        "from sklearn.linear_model import LinearRegression"
      ],
      "execution_count": 35,
      "outputs": []
    },
    {
      "cell_type": "code",
      "metadata": {
        "id": "g7LNqZchq5m9",
        "colab_type": "code",
        "colab": {}
      },
      "source": [
        "model = LinearRegression()"
      ],
      "execution_count": 36,
      "outputs": []
    },
    {
      "cell_type": "code",
      "metadata": {
        "id": "YTje2wbDq6yd",
        "colab_type": "code",
        "colab": {
          "base_uri": "https://localhost:8080/",
          "height": 34
        },
        "outputId": "d23fea1c-d187-4866-b176-5a34d8efbad9"
      },
      "source": [
        "model.fit(X,y)"
      ],
      "execution_count": 37,
      "outputs": [
        {
          "output_type": "execute_result",
          "data": {
            "text/plain": [
              "LinearRegression(copy_X=True, fit_intercept=True, n_jobs=None, normalize=False)"
            ]
          },
          "metadata": {
            "tags": []
          },
          "execution_count": 37
        }
      ]
    },
    {
      "cell_type": "code",
      "metadata": {
        "id": "jkfELiNDrC0_",
        "colab_type": "code",
        "colab": {
          "base_uri": "https://localhost:8080/",
          "height": 483
        },
        "outputId": "702ac658-8903-4a57-b4aa-f1573ccb0d64"
      },
      "source": [
        "result = pd.DataFrame(list(zip(model.coef_, df.columns)), columns=['coefficient', 'name']).set_index('name')\n",
        "np.abs(result).sort_values(by='coefficient', ascending=False)"
      ],
      "execution_count": 38,
      "outputs": [
        {
          "output_type": "execute_result",
          "data": {
            "text/html": [
              "<div>\n",
              "<style scoped>\n",
              "    .dataframe tbody tr th:only-of-type {\n",
              "        vertical-align: middle;\n",
              "    }\n",
              "\n",
              "    .dataframe tbody tr th {\n",
              "        vertical-align: top;\n",
              "    }\n",
              "\n",
              "    .dataframe thead th {\n",
              "        text-align: right;\n",
              "    }\n",
              "</style>\n",
              "<table border=\"1\" class=\"dataframe\">\n",
              "  <thead>\n",
              "    <tr style=\"text-align: right;\">\n",
              "      <th></th>\n",
              "      <th>coefficient</th>\n",
              "    </tr>\n",
              "    <tr>\n",
              "      <th>name</th>\n",
              "      <th></th>\n",
              "    </tr>\n",
              "  </thead>\n",
              "  <tbody>\n",
              "    <tr>\n",
              "      <th>NOX</th>\n",
              "      <td>17.77</td>\n",
              "    </tr>\n",
              "    <tr>\n",
              "      <th>RM</th>\n",
              "      <td>3.81</td>\n",
              "    </tr>\n",
              "    <tr>\n",
              "      <th>CHAS</th>\n",
              "      <td>2.69</td>\n",
              "    </tr>\n",
              "    <tr>\n",
              "      <th>DIS</th>\n",
              "      <td>1.48</td>\n",
              "    </tr>\n",
              "    <tr>\n",
              "      <th>PTRATIO</th>\n",
              "      <td>0.95</td>\n",
              "    </tr>\n",
              "    <tr>\n",
              "      <th>LSTAT</th>\n",
              "      <td>0.52</td>\n",
              "    </tr>\n",
              "    <tr>\n",
              "      <th>RAD</th>\n",
              "      <td>0.31</td>\n",
              "    </tr>\n",
              "    <tr>\n",
              "      <th>CRIM</th>\n",
              "      <td>0.11</td>\n",
              "    </tr>\n",
              "    <tr>\n",
              "      <th>ZN</th>\n",
              "      <td>0.05</td>\n",
              "    </tr>\n",
              "    <tr>\n",
              "      <th>INDUS</th>\n",
              "      <td>0.02</td>\n",
              "    </tr>\n",
              "    <tr>\n",
              "      <th>TAX</th>\n",
              "      <td>0.01</td>\n",
              "    </tr>\n",
              "    <tr>\n",
              "      <th>B</th>\n",
              "      <td>0.01</td>\n",
              "    </tr>\n",
              "    <tr>\n",
              "      <th>AGE</th>\n",
              "      <td>0.00</td>\n",
              "    </tr>\n",
              "  </tbody>\n",
              "</table>\n",
              "</div>"
            ],
            "text/plain": [
              "         coefficient\n",
              "name                \n",
              "NOX            17.77\n",
              "RM              3.81\n",
              "CHAS            2.69\n",
              "DIS             1.48\n",
              "PTRATIO         0.95\n",
              "LSTAT           0.52\n",
              "RAD             0.31\n",
              "CRIM            0.11\n",
              "ZN              0.05\n",
              "INDUS           0.02\n",
              "TAX             0.01\n",
              "B               0.01\n",
              "AGE             0.00"
            ]
          },
          "metadata": {
            "tags": []
          },
          "execution_count": 38
        }
      ]
    },
    {
      "cell_type": "code",
      "metadata": {
        "id": "3-mKk9RtrEXP",
        "colab_type": "code",
        "colab": {}
      },
      "source": [
        "from sklearn.preprocessing import StandardScaler  \n",
        "from sklearn.pipeline import make_pipeline  \n",
        "scaler = StandardScaler()  \n",
        "standard_coefficient_linear_reg = make_pipeline(scaler, model)"
      ],
      "execution_count": 39,
      "outputs": []
    },
    {
      "cell_type": "code",
      "metadata": {
        "id": "uv4jeXsarRSX",
        "colab_type": "code",
        "colab": {
          "base_uri": "https://localhost:8080/",
          "height": 483
        },
        "outputId": "f8bf756f-1e5a-4ecb-c9d7-57fab8823bd5"
      },
      "source": [
        "standard_coefficient_linear_reg.fit(X,y)\n",
        "result = pd.DataFrame(list(zip(standard_coefficient_linear_reg.steps[1][1].coef_, df.columns)), \n",
        "                      columns=['coefficient', 'name']).set_index('name')\n",
        "np.abs(result).sort_values(by='coefficient', ascending=False)"
      ],
      "execution_count": 40,
      "outputs": [
        {
          "output_type": "execute_result",
          "data": {
            "text/html": [
              "<div>\n",
              "<style scoped>\n",
              "    .dataframe tbody tr th:only-of-type {\n",
              "        vertical-align: middle;\n",
              "    }\n",
              "\n",
              "    .dataframe tbody tr th {\n",
              "        vertical-align: top;\n",
              "    }\n",
              "\n",
              "    .dataframe thead th {\n",
              "        text-align: right;\n",
              "    }\n",
              "</style>\n",
              "<table border=\"1\" class=\"dataframe\">\n",
              "  <thead>\n",
              "    <tr style=\"text-align: right;\">\n",
              "      <th></th>\n",
              "      <th>coefficient</th>\n",
              "    </tr>\n",
              "    <tr>\n",
              "      <th>name</th>\n",
              "      <th></th>\n",
              "    </tr>\n",
              "  </thead>\n",
              "  <tbody>\n",
              "    <tr>\n",
              "      <th>LSTAT</th>\n",
              "      <td>3.74</td>\n",
              "    </tr>\n",
              "    <tr>\n",
              "      <th>DIS</th>\n",
              "      <td>3.10</td>\n",
              "    </tr>\n",
              "    <tr>\n",
              "      <th>RM</th>\n",
              "      <td>2.67</td>\n",
              "    </tr>\n",
              "    <tr>\n",
              "      <th>RAD</th>\n",
              "      <td>2.66</td>\n",
              "    </tr>\n",
              "    <tr>\n",
              "      <th>TAX</th>\n",
              "      <td>2.08</td>\n",
              "    </tr>\n",
              "    <tr>\n",
              "      <th>PTRATIO</th>\n",
              "      <td>2.06</td>\n",
              "    </tr>\n",
              "    <tr>\n",
              "      <th>NOX</th>\n",
              "      <td>2.06</td>\n",
              "    </tr>\n",
              "    <tr>\n",
              "      <th>ZN</th>\n",
              "      <td>1.08</td>\n",
              "    </tr>\n",
              "    <tr>\n",
              "      <th>CRIM</th>\n",
              "      <td>0.93</td>\n",
              "    </tr>\n",
              "    <tr>\n",
              "      <th>B</th>\n",
              "      <td>0.85</td>\n",
              "    </tr>\n",
              "    <tr>\n",
              "      <th>CHAS</th>\n",
              "      <td>0.68</td>\n",
              "    </tr>\n",
              "    <tr>\n",
              "      <th>INDUS</th>\n",
              "      <td>0.14</td>\n",
              "    </tr>\n",
              "    <tr>\n",
              "      <th>AGE</th>\n",
              "      <td>0.02</td>\n",
              "    </tr>\n",
              "  </tbody>\n",
              "</table>\n",
              "</div>"
            ],
            "text/plain": [
              "         coefficient\n",
              "name                \n",
              "LSTAT           3.74\n",
              "DIS             3.10\n",
              "RM              2.67\n",
              "RAD             2.66\n",
              "TAX             2.08\n",
              "PTRATIO         2.06\n",
              "NOX             2.06\n",
              "ZN              1.08\n",
              "CRIM            0.93\n",
              "B               0.85\n",
              "CHAS            0.68\n",
              "INDUS           0.14\n",
              "AGE             0.02"
            ]
          },
          "metadata": {
            "tags": []
          },
          "execution_count": 40
        }
      ]
    },
    {
      "cell_type": "markdown",
      "metadata": {
        "id": "BAITxzd3sQ8O",
        "colab_type": "text"
      },
      "source": [
        "## Use $R^2$ to Identify Key Features"
      ]
    },
    {
      "cell_type": "code",
      "metadata": {
        "id": "rZi8w3qArSp_",
        "colab_type": "code",
        "colab": {}
      },
      "source": [
        "from sklearn.metrics import r2_score"
      ],
      "execution_count": 42,
      "outputs": []
    },
    {
      "cell_type": "code",
      "metadata": {
        "id": "_7rltJyasOnn",
        "colab_type": "code",
        "colab": {
          "base_uri": "https://localhost:8080/",
          "height": 34
        },
        "outputId": "fe4cc8ac-bb87-44e2-c8e5-400e76e5d9ce"
      },
      "source": [
        "linear_reg = smf.ols(formula = 'y ~ CRIM + ZN + INDUS + CHAS + NOX + RM + AGE + DIS + RAD + TAX + PTRATIO + B + LSTAT', \n",
        "              data=df)\n",
        "benchmark = linear_reg.fit()\n",
        "r2_score(y, benchmark.predict(df))"
      ],
      "execution_count": 43,
      "outputs": [
        {
          "output_type": "execute_result",
          "data": {
            "text/plain": [
              "0.7406426641094094"
            ]
          },
          "metadata": {
            "tags": []
          },
          "execution_count": 43
        }
      ]
    },
    {
      "cell_type": "markdown",
      "metadata": {
        "id": "by8LqUc5sZuP",
        "colab_type": "text"
      },
      "source": [
        "Without LSTAT"
      ]
    },
    {
      "cell_type": "code",
      "metadata": {
        "id": "soxy18kpsVe3",
        "colab_type": "code",
        "colab": {
          "base_uri": "https://localhost:8080/",
          "height": 34
        },
        "outputId": "57e9cb15-7017-4bbe-eb8b-1182cc6b4a23"
      },
      "source": [
        "linear_reg = smf.ols(formula = 'y ~ CRIM + ZN + INDUS + CHAS + NOX + RM + AGE + DIS + RAD + TAX + PTRATIO + B', \n",
        "              data=df)\n",
        "lr_without_LSTAT = linear_reg.fit()\n",
        "r2_score(y, lr_without_LSTAT.predict(df))"
      ],
      "execution_count": 44,
      "outputs": [
        {
          "output_type": "execute_result",
          "data": {
            "text/plain": [
              "0.6842042799773889"
            ]
          },
          "metadata": {
            "tags": []
          },
          "execution_count": 44
        }
      ]
    },
    {
      "cell_type": "markdown",
      "metadata": {
        "id": "T34j4n0gsbtf",
        "colab_type": "text"
      },
      "source": [
        "Without AGE"
      ]
    },
    {
      "cell_type": "code",
      "metadata": {
        "id": "8U6QqNrLsZK_",
        "colab_type": "code",
        "colab": {
          "base_uri": "https://localhost:8080/",
          "height": 34
        },
        "outputId": "7a5140f1-9629-441e-d3e2-e24e7e187b71"
      },
      "source": [
        "linear_reg = smf.ols(formula = 'y ~ CRIM + ZN + INDUS + CHAS + NOX + RM + DIS + RAD + TAX + PTRATIO + B + LSTAT', \n",
        "              data=df)\n",
        "lr_without_AGE = linear_reg.fit()\n",
        "r2_score(y, lr_without_AGE.predict(df))"
      ],
      "execution_count": 45,
      "outputs": [
        {
          "output_type": "execute_result",
          "data": {
            "text/plain": [
              "0.7406412165505145"
            ]
          },
          "metadata": {
            "tags": []
          },
          "execution_count": 45
        }
      ]
    },
    {
      "cell_type": "code",
      "metadata": {
        "id": "bI3y8dicseV4",
        "colab_type": "code",
        "colab": {}
      },
      "source": [
        ""
      ],
      "execution_count": null,
      "outputs": []
    }
  ]
}