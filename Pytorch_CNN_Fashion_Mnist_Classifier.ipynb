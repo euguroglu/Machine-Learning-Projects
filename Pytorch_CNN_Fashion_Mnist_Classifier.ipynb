{
  "nbformat": 4,
  "nbformat_minor": 0,
  "metadata": {
    "kernelspec": {
      "display_name": "Python 3",
      "language": "python",
      "name": "python3"
    },
    "language_info": {
      "codemirror_mode": {
        "name": "ipython",
        "version": 3
      },
      "file_extension": ".py",
      "mimetype": "text/x-python",
      "name": "python",
      "nbconvert_exporter": "python",
      "pygments_lexer": "ipython3",
      "version": "3.6.6"
    },
    "colab": {
      "name": "Pytorch_CNN_Fashion_Mnist_Classifier.ipynb",
      "provenance": [],
      "include_colab_link": true
    }
  },
  "cells": [
    {
      "cell_type": "markdown",
      "metadata": {
        "id": "view-in-github",
        "colab_type": "text"
      },
      "source": [
        "<a href=\"https://colab.research.google.com/github/euguroglu/Machine-Learning-Projects/blob/master/Pytorch_CNN_Fashion_Mnist_Classifier.ipynb\" target=\"_parent\"><img src=\"https://colab.research.google.com/assets/colab-badge.svg\" alt=\"Open In Colab\"/></a>"
      ]
    },
    {
      "cell_type": "markdown",
      "metadata": {
        "id": "nL-O0uVX7Df8",
        "colab_type": "text"
      },
      "source": [
        "## Importing Libraries"
      ]
    },
    {
      "cell_type": "code",
      "metadata": {
        "id": "6Q3VdG9mQZ9r",
        "colab_type": "code",
        "colab": {}
      },
      "source": [
        "import torch\n",
        "import torch.nn as nn\n",
        "import torch.nn.functional as F\n",
        "from torch.utils.data import DataLoader\n",
        "from torchvision import datasets, transforms\n",
        "from torchvision.utils import make_grid\n",
        "\n",
        "import numpy as np\n",
        "import pandas as pd\n",
        "from sklearn.metrics import confusion_matrix\n",
        "import matplotlib.pyplot as plt\n",
        "\n",
        "\n",
        "transform = transforms.ToTensor()\n",
        "\n",
        "train_data = datasets.FashionMNIST(root='', train=True, download=True, transform=transform)\n",
        "test_data = datasets.FashionMNIST(root='', train=False, download=True, transform=transform)\n",
        "\n",
        "class_names = ['T-shirt','Trouser','Sweater','Dress','Coat','Sandal','Shirt','Sneaker','Bag','Boot']"
      ],
      "execution_count": 73,
      "outputs": []
    },
    {
      "cell_type": "code",
      "metadata": {
        "id": "c_wCovy8CrSr",
        "colab_type": "code",
        "colab": {}
      },
      "source": [
        "import seaborn as sn"
      ],
      "execution_count": null,
      "outputs": []
    },
    {
      "cell_type": "markdown",
      "metadata": {
        "id": "xxIcSxH8QZ9u",
        "colab_type": "text"
      },
      "source": [
        "## Importing Data (Using data loader)"
      ]
    },
    {
      "cell_type": "code",
      "metadata": {
        "id": "CQAD23NAQZ9v",
        "colab_type": "code",
        "colab": {}
      },
      "source": [
        "# CODE HERE\n",
        "train_loader = DataLoader(train_data,batch_size =10,shuffle=True)\n",
        "test_loader = DataLoader(test_data,batch_size=1000,shuffle=False)\n",
        "\n"
      ],
      "execution_count": 74,
      "outputs": []
    },
    {
      "cell_type": "code",
      "metadata": {
        "id": "S8Gm1Vhd86wp",
        "colab_type": "code",
        "colab": {
          "base_uri": "https://localhost:8080/",
          "height": 34
        },
        "outputId": "9561b383-276e-4992-e436-d39d6811a261"
      },
      "source": [
        "len(train_data)"
      ],
      "execution_count": 75,
      "outputs": [
        {
          "output_type": "execute_result",
          "data": {
            "text/plain": [
              "60000"
            ]
          },
          "metadata": {
            "tags": []
          },
          "execution_count": 75
        }
      ]
    },
    {
      "cell_type": "markdown",
      "metadata": {
        "id": "1_54BDPqQZ91",
        "colab_type": "text"
      },
      "source": [
        "## Examining images"
      ]
    },
    {
      "cell_type": "code",
      "metadata": {
        "id": "9Ej4vhvFQZ91",
        "colab_type": "code",
        "colab": {
          "base_uri": "https://localhost:8080/",
          "height": 161
        },
        "outputId": "cd543c1b-3baa-4d8e-9a37-59de4ec17ea6"
      },
      "source": [
        "# CODE HERE\n",
        "for images,labels in train_loader:\n",
        "  break\n",
        "np.set_printoptions(formatter=dict(int=lambda x: f'{x:5}'))\n",
        "\n",
        "print('Label:', labels.numpy())\n",
        "print('Class: ', *np.array([class_names[i] for i in labels]))\n",
        "\n",
        "im = make_grid(images,nrow=10)\n",
        "plt.figure(figsize=(10,4))\n",
        "plt.imshow(np.transpose(im.numpy(),(1,2,0)))\n"
      ],
      "execution_count": 76,
      "outputs": [
        {
          "output_type": "stream",
          "text": [
            "Label: [    3     2     0     2     0     6     4     0     4     8]\n",
            "Class:  Dress Sweater T-shirt Sweater T-shirt Shirt Coat T-shirt Coat Bag\n"
          ],
          "name": "stdout"
        },
        {
          "output_type": "execute_result",
          "data": {
            "text/plain": [
              "<matplotlib.image.AxesImage at 0x7f4773b6be80>"
            ]
          },
          "metadata": {
            "tags": []
          },
          "execution_count": 76
        },
        {
          "output_type": "display_data",
          "data": {
            "image/png": "[encoded data removed]",
            "text/plain": [
              "<Figure size 720x288 with 1 Axes>"
            ]
          },
          "metadata": {
            "tags": [],
            "needs_background": "light"
          }
        }
      ]
    },
    {
      "cell_type": "markdown",
      "metadata": {
        "id": "H5iNQ29AQZ-H",
        "colab_type": "text"
      },
      "source": [
        "## Convolutional Neural Network"
      ]
    },
    {
      "cell_type": "code",
      "metadata": {
        "id": "vz23iME7QZ-I",
        "colab_type": "code",
        "colab": {}
      },
      "source": [
        "# CODE HERE\n",
        "class ConvolutionalNetwork(nn.Module):\n",
        "    def __init__(self):\n",
        "        super().__init__()\n",
        "        self.conv1 = nn.Conv2d(1,6,3,1)\n",
        "        self.conv2 = nn.Conv2d(6,16,3,1)\n",
        "        self.fc1 = nn.Linear(5*5*16,120)\n",
        "        self.fc2 = nn.Linear(120,84)\n",
        "        self.fc3 = nn.Linear(84,10)\n",
        "\n",
        "    def forward(self, X):\n",
        "        X = F.relu(self.conv1(X))\n",
        "        X = F.max_pool2d(X,2,2)\n",
        "        X = F.relu(self.conv2(X))\n",
        "        X = F.max_pool2d(X,2,2)\n",
        "        X = X.view(-1,5*5*16)\n",
        "        X = F.relu(self.fc1(X))\n",
        "        X = F.relu(self.fc2(X))\n",
        "        X = self.fc3(X)\n",
        "        return F.log_softmax(X,dim=1)\n",
        "    \n",
        "torch.manual_seed(101)\n",
        "model = ConvolutionalNetwork()"
      ],
      "execution_count": 77,
      "outputs": []
    },
    {
      "cell_type": "code",
      "metadata": {
        "id": "wEULzYDL7lZI",
        "colab_type": "code",
        "colab": {
          "base_uri": "https://localhost:8080/",
          "height": 136
        },
        "outputId": "4f55e6f4-4168-4cfa-b01d-3227dc8cd972"
      },
      "source": [
        "model"
      ],
      "execution_count": 78,
      "outputs": [
        {
          "output_type": "execute_result",
          "data": {
            "text/plain": [
              "ConvolutionalNetwork(\n",
              "  (conv1): Conv2d(1, 6, kernel_size=(3, 3), stride=(1, 1))\n",
              "  (conv2): Conv2d(6, 16, kernel_size=(3, 3), stride=(1, 1))\n",
              "  (fc1): Linear(in_features=400, out_features=120, bias=True)\n",
              "  (fc2): Linear(in_features=120, out_features=84, bias=True)\n",
              "  (fc3): Linear(in_features=84, out_features=10, bias=True)\n",
              ")"
            ]
          },
          "metadata": {
            "tags": []
          },
          "execution_count": 78
        }
      ]
    },
    {
      "cell_type": "markdown",
      "metadata": {
        "id": "VTvThyO3QZ-K",
        "colab_type": "text"
      },
      "source": [
        "## Checking parameter size"
      ]
    },
    {
      "cell_type": "code",
      "metadata": {
        "id": "gulQHcsjQZ-M",
        "colab_type": "code",
        "colab": {
          "base_uri": "https://localhost:8080/",
          "height": 187
        },
        "outputId": "04265f32-33a9-4bb3-bf80-983024e8a64a"
      },
      "source": [
        "# CODE HERE\n",
        "for param in model.parameters():\n",
        "  print(param.numel())"
      ],
      "execution_count": 79,
      "outputs": [
        {
          "output_type": "stream",
          "text": [
            "54\n",
            "6\n",
            "864\n",
            "16\n",
            "48000\n",
            "120\n",
            "10080\n",
            "84\n",
            "840\n",
            "10\n"
          ],
          "name": "stdout"
        }
      ]
    },
    {
      "cell_type": "markdown",
      "metadata": {
        "id": "qVt87z6oQZ-O",
        "colab_type": "text"
      },
      "source": [
        "### Define loss function & optimizer\n"
      ]
    },
    {
      "cell_type": "code",
      "metadata": {
        "id": "AVbQSzoMQZ-O",
        "colab_type": "code",
        "colab": {}
      },
      "source": [
        "# CODE HERE\n",
        "criterion = nn.CrossEntropyLoss()\n",
        "optimizer = torch.optim.Adam(model.parameters(),lr=0.001)\n",
        "\n"
      ],
      "execution_count": 80,
      "outputs": []
    },
    {
      "cell_type": "markdown",
      "metadata": {
        "id": "ENxHwnOmQZ-U",
        "colab_type": "text"
      },
      "source": [
        "### Train the model\n"
      ]
    },
    {
      "cell_type": "code",
      "metadata": {
        "id": "zWFqRvlbQZ-V",
        "colab_type": "code",
        "colab": {
          "base_uri": "https://localhost:8080/",
          "height": 901
        },
        "outputId": "14c6a350-991f-4c17-f1b2-1db467756072"
      },
      "source": [
        "# CODE HERE\n",
        "\n",
        "import time\n",
        "start_time = time.time()\n",
        "\n",
        "train_losses = []\n",
        "train_correct = []\n",
        "accuracy = []\n",
        "\n",
        "epochs = 5\n",
        "\n",
        "for i in range(epochs):\n",
        "\n",
        "  trn_corr = 0\n",
        "\n",
        "  for b,(X_train,y_train) in enumerate(train_loader):\n",
        "    b = b + 1\n",
        "\n",
        "    y_pred = model(X_train)\n",
        "    loss = criterion(y_pred,y_train)\n",
        "\n",
        "    predicted = torch.max(y_pred.data,1)[1]\n",
        "    batch_corr = (predicted == y_train).sum() # True:1 / False:0 sum\n",
        "    trn_corr = trn_corr + batch_corr\n",
        "\n",
        "    if (b%600 == 0):\n",
        "      print('Epoch: {} Batch: {} Loss: {} Accuracy: {}'.format(i,b,loss.item(),(trn_corr//(b/10))))\n",
        "      accuracy.append((trn_corr//(b/10)))\n",
        "    train_losses.append(loss)\n",
        "    train_correct.append(trn_corr)\n",
        "\n",
        "    optimizer.zero_grad()\n",
        "    loss.backward()\n",
        "    optimizer.step()\n",
        "\n",
        "print('{} of 5 epochs completed'.format(i))\n",
        "\n",
        "current_time = time.time()\n",
        "total = current_time - start_time\n",
        "print('Training took {}  minutes'.format(total/60))\n"
      ],
      "execution_count": 81,
      "outputs": [
        {
          "output_type": "stream",
          "text": [
            "Epoch: 0 Batch: 600 Loss: 1.5566623210906982 Accuracy: 60.0\n",
            "Epoch: 0 Batch: 1200 Loss: 0.7579238414764404 Accuracy: 67.0\n",
            "Epoch: 0 Batch: 1800 Loss: 0.7490683794021606 Accuracy: 71.0\n",
            "Epoch: 0 Batch: 2400 Loss: 0.1573152095079422 Accuracy: 73.0\n",
            "Epoch: 0 Batch: 3000 Loss: 0.39263373613357544 Accuracy: 74.0\n",
            "Epoch: 0 Batch: 3600 Loss: 0.4417538046836853 Accuracy: 76.0\n",
            "Epoch: 0 Batch: 4200 Loss: 0.11792824417352676 Accuracy: 77.0\n",
            "Epoch: 0 Batch: 4800 Loss: 0.5987025499343872 Accuracy: 77.0\n",
            "Epoch: 0 Batch: 5400 Loss: 0.28573548793792725 Accuracy: 78.0\n",
            "Epoch: 0 Batch: 6000 Loss: 0.5308948755264282 Accuracy: 79.0\n",
            "Epoch: 1 Batch: 600 Loss: 0.21930758655071259 Accuracy: 84.0\n",
            "Epoch: 1 Batch: 1200 Loss: 0.2690194249153137 Accuracy: 84.0\n",
            "Epoch: 1 Batch: 1800 Loss: 0.09232534468173981 Accuracy: 85.0\n",
            "Epoch: 1 Batch: 2400 Loss: 0.21322226524353027 Accuracy: 85.0\n",
            "Epoch: 1 Batch: 3000 Loss: 0.20921504497528076 Accuracy: 85.0\n",
            "Epoch: 1 Batch: 3600 Loss: 0.2654149532318115 Accuracy: 85.0\n",
            "Epoch: 1 Batch: 4200 Loss: 0.32156237959861755 Accuracy: 85.0\n",
            "Epoch: 1 Batch: 4800 Loss: 0.9409078359603882 Accuracy: 85.0\n",
            "Epoch: 1 Batch: 5400 Loss: 0.3218671679496765 Accuracy: 86.0\n",
            "Epoch: 1 Batch: 6000 Loss: 0.2394597828388214 Accuracy: 86.0\n",
            "Epoch: 2 Batch: 600 Loss: 0.2780604660511017 Accuracy: 88.0\n",
            "Epoch: 2 Batch: 1200 Loss: 0.3953320384025574 Accuracy: 88.0\n",
            "Epoch: 2 Batch: 1800 Loss: 0.6156836748123169 Accuracy: 88.0\n",
            "Epoch: 2 Batch: 2400 Loss: 0.140591561794281 Accuracy: 88.0\n",
            "Epoch: 2 Batch: 3000 Loss: 0.32052531838417053 Accuracy: 88.0\n",
            "Epoch: 2 Batch: 3600 Loss: 0.29589325189590454 Accuracy: 88.0\n",
            "Epoch: 2 Batch: 4200 Loss: 0.075460284948349 Accuracy: 88.0\n",
            "Epoch: 2 Batch: 4800 Loss: 0.20610439777374268 Accuracy: 88.0\n",
            "Epoch: 2 Batch: 5400 Loss: 0.4091924726963043 Accuracy: 88.0\n",
            "Epoch: 2 Batch: 6000 Loss: 0.2021852284669876 Accuracy: 88.0\n",
            "Epoch: 3 Batch: 600 Loss: 0.2826842665672302 Accuracy: 88.0\n",
            "Epoch: 3 Batch: 1200 Loss: 0.11788725852966309 Accuracy: 88.0\n",
            "Epoch: 3 Batch: 1800 Loss: 0.25220122933387756 Accuracy: 89.0\n",
            "Epoch: 3 Batch: 2400 Loss: 0.02138025313615799 Accuracy: 89.0\n",
            "Epoch: 3 Batch: 3000 Loss: 0.6757219433784485 Accuracy: 89.0\n",
            "Epoch: 3 Batch: 3600 Loss: 0.7503610849380493 Accuracy: 89.0\n",
            "Epoch: 3 Batch: 4200 Loss: 0.49019187688827515 Accuracy: 89.0\n",
            "Epoch: 3 Batch: 4800 Loss: 0.7022062540054321 Accuracy: 89.0\n",
            "Epoch: 3 Batch: 5400 Loss: 0.577608585357666 Accuracy: 89.0\n",
            "Epoch: 3 Batch: 6000 Loss: 0.7291202545166016 Accuracy: 89.0\n",
            "Epoch: 4 Batch: 600 Loss: 0.014792141504585743 Accuracy: 90.0\n",
            "Epoch: 4 Batch: 1200 Loss: 0.2641909718513489 Accuracy: 90.0\n",
            "Epoch: 4 Batch: 1800 Loss: 0.05920562893152237 Accuracy: 90.0\n",
            "Epoch: 4 Batch: 2400 Loss: 0.24074634909629822 Accuracy: 90.0\n",
            "Epoch: 4 Batch: 3000 Loss: 0.2798861563205719 Accuracy: 90.0\n",
            "Epoch: 4 Batch: 3600 Loss: 0.20509973168373108 Accuracy: 90.0\n",
            "Epoch: 4 Batch: 4200 Loss: 0.38727909326553345 Accuracy: 90.0\n",
            "Epoch: 4 Batch: 4800 Loss: 0.042714882642030716 Accuracy: 90.0\n",
            "Epoch: 4 Batch: 5400 Loss: 0.1660606563091278 Accuracy: 90.0\n",
            "Epoch: 4 Batch: 6000 Loss: 0.8754523396492004 Accuracy: 90.0\n",
            "4 of 5 epochs completed\n",
            "Training took 2.8933587074279785  minutes\n"
          ],
          "name": "stdout"
        }
      ]
    },
    {
      "cell_type": "markdown",
      "metadata": {
        "id": "INLJTbUb8kx9",
        "colab_type": "text"
      },
      "source": [
        "## Results"
      ]
    },
    {
      "cell_type": "code",
      "metadata": {
        "id": "s5E3fQla8gSb",
        "colab_type": "code",
        "colab": {
          "base_uri": "https://localhost:8080/",
          "height": 281
        },
        "outputId": "30f4c0c2-20e1-4bda-a833-b6afe27c9cfa"
      },
      "source": [
        "plt.plot(train_losses,label='Train loss')\n",
        "plt.title('Loss at epoch')\n",
        "plt.legend()\n",
        "plt.show()"
      ],
      "execution_count": 82,
      "outputs": [
        {
          "output_type": "display_data",
          "data": {
            "image/png": "[encoded data removed]",
            "text/plain": [
              "<Figure size 432x288 with 1 Axes>"
            ]
          },
          "metadata": {
            "tags": [],
            "needs_background": "light"
          }
        }
      ]
    },
    {
      "cell_type": "code",
      "metadata": {
        "id": "ZaXN1NGh8rBR",
        "colab_type": "code",
        "colab": {
          "base_uri": "https://localhost:8080/",
          "height": 282
        },
        "outputId": "fafdd4d7-a5c6-40a4-ac5e-032b9f09915e"
      },
      "source": [
        "plt.plot(range(50),accuracy) # Accuracy per batch"
      ],
      "execution_count": 83,
      "outputs": [
        {
          "output_type": "execute_result",
          "data": {
            "text/plain": [
              "[<matplotlib.lines.Line2D at 0x7f477697c048>]"
            ]
          },
          "metadata": {
            "tags": []
          },
          "execution_count": 83
        },
        {
          "output_type": "display_data",
          "data": {
            "image/png": "[encoded data removed]",
            "text/plain": [
              "<Figure size 432x288 with 1 Axes>"
            ]
          },
          "metadata": {
            "tags": [],
            "needs_background": "light"
          }
        }
      ]
    },
    {
      "cell_type": "markdown",
      "metadata": {
        "id": "Qk_Q3kD1QZ-a",
        "colab_type": "text"
      },
      "source": [
        "### Evaluate the model\n"
      ]
    },
    {
      "cell_type": "code",
      "metadata": {
        "id": "_moxpSOyQZ-b",
        "colab_type": "code",
        "colab": {}
      },
      "source": [
        "# CODE HERE\n",
        "model.eval()\n",
        "\n",
        "with torch.no_grad():\n",
        "  correct = 0\n",
        "  for (X_test,y_test) in test_loader:\n",
        "    y_val = model(X_test)\n",
        "    predicted = torch.max(y_val,1)[1]\n",
        "    correct = correct + (predicted == y_test).sum()\n",
        "    loss = criterion(y_val,y_test)\n",
        "\n",
        "\n",
        "\n"
      ],
      "execution_count": 84,
      "outputs": []
    },
    {
      "cell_type": "code",
      "metadata": {
        "id": "TMQlIPKJ2eaW",
        "colab_type": "code",
        "colab": {
          "base_uri": "https://localhost:8080/",
          "height": 34
        },
        "outputId": "8cdddd97-c51d-4557-fe82-e3d3dfff1d09"
      },
      "source": [
        "correct"
      ],
      "execution_count": 85,
      "outputs": [
        {
          "output_type": "execute_result",
          "data": {
            "text/plain": [
              "tensor(8795)"
            ]
          },
          "metadata": {
            "tags": []
          },
          "execution_count": 85
        }
      ]
    },
    {
      "cell_type": "code",
      "metadata": {
        "id": "soaMVphiQZ-e",
        "colab_type": "code",
        "colab": {
          "base_uri": "https://localhost:8080/",
          "height": 34
        },
        "outputId": "f98382a0-7f82-40ab-88c8-5b910ff7edb9"
      },
      "source": [
        "correct.item()/len(test_data)*100"
      ],
      "execution_count": 86,
      "outputs": [
        {
          "output_type": "execute_result",
          "data": {
            "text/plain": [
              "87.94999999999999"
            ]
          },
          "metadata": {
            "tags": []
          },
          "execution_count": 86
        }
      ]
    },
    {
      "cell_type": "markdown",
      "metadata": {
        "id": "TP08X7dSBWjB",
        "colab_type": "text"
      },
      "source": [
        "## Confusion Matrix"
      ]
    },
    {
      "cell_type": "markdown",
      "metadata": {
        "id": "BHcJA9faCM-Q",
        "colab_type": "text"
      },
      "source": [
        "class_names = ['T-shirt','Trouser','Sweater','Dress','Coat','Sandal','Shirt','Sneaker','Bag','Boot']"
      ]
    },
    {
      "cell_type": "code",
      "metadata": {
        "id": "e81Hdn3p-ovo",
        "colab_type": "code",
        "colab": {
          "base_uri": "https://localhost:8080/",
          "height": 221
        },
        "outputId": "a25749f8-e97f-49cd-e9ee-03d16bc4b7c7"
      },
      "source": [
        "# print a row of values for reference\n",
        "np.set_printoptions(formatter=dict(int=lambda x: f'{x:6}'))\n",
        "print(np.arange(10).reshape(1,10))\n",
        "print()\n",
        "\n",
        "# print the confusion matrix\n",
        "print(confusion_matrix(predicted.view(-1), y_test.view(-1)))"
      ],
      "execution_count": 87,
      "outputs": [
        {
          "output_type": "stream",
          "text": [
            "[[     0      1      2      3      4      5      6      7      8      9]]\n",
            "\n",
            "[[    74      0      1      2      0      0      6      0      0      0]\n",
            " [     1    106      0      0      0      0      0      0      0      0]\n",
            " [     3      1     77      4      1      0     14      0      1      0]\n",
            " [     5      1      0     74      1      0      2      0      0      0]\n",
            " [     2      0     13      1     85      0     15      0      1      0]\n",
            " [     0      0      0      0      0    100      0      1      0      0]\n",
            " [    22      2      4      3      0      0     72      0      0      0]\n",
            " [     0      0      0      0      0      0      0     89      1      4]\n",
            " [     1      0      0      0      0      0      2      0    111      0]\n",
            " [     0      0      0      0      0      0      0      0      0     97]]\n"
          ],
          "name": "stdout"
        }
      ]
    },
    {
      "cell_type": "code",
      "metadata": {
        "id": "KlqUasZECiT6",
        "colab_type": "code",
        "colab": {
          "base_uri": "https://localhost:8080/",
          "height": 388
        },
        "outputId": "81a7a225-1355-4c14-9378-b86d4e4f01e9"
      },
      "source": [
        "arr = confusion_matrix(y_test.view(-1), predicted.view(-1))\n",
        "df_cm = pd.DataFrame(arr, class_names, class_names)\n",
        "plt.figure(figsize = (9,6))\n",
        "sn.heatmap(df_cm, annot=True, fmt=\"d\", cmap='BuGn')\n",
        "plt.xlabel(\"prediction\")\n",
        "plt.ylabel(\"label (ground truth)\")\n",
        "plt.show();"
      ],
      "execution_count": 90,
      "outputs": [
        {
          "output_type": "display_data",
          "data": {
            "image/png": "[encoded data removed]",
            "text/plain": [
              "<Figure size 648x432 with 2 Axes>"
            ]
          },
          "metadata": {
            "tags": [],
            "needs_background": "light"
          }
        }
      ]
    },
    {
      "cell_type": "code",
      "metadata": {
        "id": "JtvXSv0wDDFI",
        "colab_type": "code",
        "colab": {}
      },
      "source": [
        ""
      ],
      "execution_count": null,
      "outputs": []
    }
  ]
}