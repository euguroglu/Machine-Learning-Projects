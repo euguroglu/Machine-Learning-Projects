{
  "nbformat": 4,
  "nbformat_minor": 0,
  "metadata": {
    "colab": {
      "name": "Sklearn_Logistic_Regression_Basic_1.ipynb",
      "provenance": [],
      "authorship_tag": "ABX9TyMWLgOePqiqiqkDccSW7CiM",
      "include_colab_link": true
    },
    "kernelspec": {
      "name": "python3",
      "display_name": "Python 3"
    }
  },
  "cells": [
    {
      "cell_type": "markdown",
      "metadata": {
        "id": "view-in-github",
        "colab_type": "text"
      },
      "source": [
        "<a href=\"https://colab.research.google.com/github/euguroglu/Machine-Learning-Projects/blob/master/Sklearn_Logistic_Regression_Basic_1.ipynb\" target=\"_parent\"><img src=\"https://colab.research.google.com/assets/colab-badge.svg\" alt=\"Open In Colab\"/></a>"
      ]
    },
    {
      "cell_type": "markdown",
      "metadata": {
        "id": "UM7tbBSndk1M",
        "colab_type": "text"
      },
      "source": [
        "## Importing libraries"
      ]
    },
    {
      "cell_type": "code",
      "metadata": {
        "id": "vBUOUit5V2zH",
        "colab_type": "code",
        "colab": {}
      },
      "source": [
        "from sklearn.linear_model import LogisticRegression\n",
        "import numpy as np"
      ],
      "execution_count": 5,
      "outputs": []
    },
    {
      "cell_type": "markdown",
      "metadata": {
        "id": "CZPRk8mudoBz",
        "colab_type": "text"
      },
      "source": [
        "## Data Preperation"
      ]
    },
    {
      "cell_type": "code",
      "metadata": {
        "id": "Je0Ny-4ea7X3",
        "colab_type": "code",
        "colab": {}
      },
      "source": [
        "dataset = [[-2.0011, 0],\n",
        "           [-1.4654, 0],\n",
        "           [0.0965, 0],\n",
        "           [1.3881, 0],\n",
        "           [3.0641, 0],\n",
        "           [7.6275, 1],\n",
        "           [5.3324, 1],\n",
        "           [6.9225, 1],\n",
        "           [8.6754, 1],\n",
        "           [7.6737, 1]]"
      ],
      "execution_count": 3,
      "outputs": []
    },
    {
      "cell_type": "code",
      "metadata": {
        "id": "80OTEAWaahKF",
        "colab_type": "code",
        "colab": {
          "base_uri": "https://localhost:8080/",
          "height": 187
        },
        "outputId": "6b1c2248-9c13-4511-930c-8ada8f9d8702"
      },
      "source": [
        "dataset"
      ],
      "execution_count": 4,
      "outputs": [
        {
          "output_type": "execute_result",
          "data": {
            "text/plain": [
              "[[-2.0011, 0],\n",
              " [-1.4654, 0],\n",
              " [0.0965, 0],\n",
              " [1.3881, 0],\n",
              " [3.0641, 0],\n",
              " [7.6275, 1],\n",
              " [5.3324, 1],\n",
              " [6.9225, 1],\n",
              " [8.6754, 1],\n",
              " [7.6737, 1]]"
            ]
          },
          "metadata": {
            "tags": []
          },
          "execution_count": 4
        }
      ]
    },
    {
      "cell_type": "code",
      "metadata": {
        "id": "s7fRgZNjak4x",
        "colab_type": "code",
        "colab": {}
      },
      "source": [
        "X = np.array(dataset)[:,0:1]\n",
        "y = np.array(dataset)[:,1]"
      ],
      "execution_count": 14,
      "outputs": []
    },
    {
      "cell_type": "code",
      "metadata": {
        "id": "x5gT1MUhbGU7",
        "colab_type": "code",
        "colab": {
          "base_uri": "https://localhost:8080/",
          "height": 187
        },
        "outputId": "b2df9bb5-86e5-4c5e-c506-3777897fd1aa"
      },
      "source": [
        "X"
      ],
      "execution_count": 15,
      "outputs": [
        {
          "output_type": "execute_result",
          "data": {
            "text/plain": [
              "array([[-2.0011],\n",
              "       [-1.4654],\n",
              "       [ 0.0965],\n",
              "       [ 1.3881],\n",
              "       [ 3.0641],\n",
              "       [ 7.6275],\n",
              "       [ 5.3324],\n",
              "       [ 6.9225],\n",
              "       [ 8.6754],\n",
              "       [ 7.6737]])"
            ]
          },
          "metadata": {
            "tags": []
          },
          "execution_count": 15
        }
      ]
    },
    {
      "cell_type": "code",
      "metadata": {
        "id": "9fTknbVJbK3x",
        "colab_type": "code",
        "colab": {
          "base_uri": "https://localhost:8080/",
          "height": 34
        },
        "outputId": "69d402f9-3237-4736-9fe3-f9e5ee8093b3"
      },
      "source": [
        "y"
      ],
      "execution_count": 8,
      "outputs": [
        {
          "output_type": "execute_result",
          "data": {
            "text/plain": [
              "array([0., 0., 0., 0., 0., 1., 1., 1., 1., 1.])"
            ]
          },
          "metadata": {
            "tags": []
          },
          "execution_count": 8
        }
      ]
    },
    {
      "cell_type": "markdown",
      "metadata": {
        "id": "eyLltQNbdrWE",
        "colab_type": "text"
      },
      "source": [
        "## Logistic Regression"
      ]
    },
    {
      "cell_type": "code",
      "metadata": {
        "id": "TyH6UIPxbLY5",
        "colab_type": "code",
        "colab": {}
      },
      "source": [
        "model = LogisticRegression()"
      ],
      "execution_count": 11,
      "outputs": []
    },
    {
      "cell_type": "code",
      "metadata": {
        "id": "CCh2DbS4bsEq",
        "colab_type": "code",
        "colab": {
          "base_uri": "https://localhost:8080/",
          "height": 102
        },
        "outputId": "a62b0d9b-e4c8-4d33-c63d-c4ed3b2f39de"
      },
      "source": [
        "model.fit(X,y)"
      ],
      "execution_count": 16,
      "outputs": [
        {
          "output_type": "execute_result",
          "data": {
            "text/plain": [
              "LogisticRegression(C=1.0, class_weight=None, dual=False, fit_intercept=True,\n",
              "                   intercept_scaling=1, l1_ratio=None, max_iter=100,\n",
              "                   multi_class='auto', n_jobs=None, penalty='l2',\n",
              "                   random_state=None, solver='lbfgs', tol=0.0001, verbose=0,\n",
              "                   warm_start=False)"
            ]
          },
          "metadata": {
            "tags": []
          },
          "execution_count": 16
        }
      ]
    },
    {
      "cell_type": "markdown",
      "metadata": {
        "id": "JF7_HF4rdvGu",
        "colab_type": "text"
      },
      "source": [
        "## Prediction"
      ]
    },
    {
      "cell_type": "code",
      "metadata": {
        "id": "p-xH_4p2bu5a",
        "colab_type": "code",
        "colab": {
          "base_uri": "https://localhost:8080/",
          "height": 34
        },
        "outputId": "2ba39323-2024-4a5e-a533-2a98e17c9668"
      },
      "source": [
        "model.predict(X)"
      ],
      "execution_count": 17,
      "outputs": [
        {
          "output_type": "execute_result",
          "data": {
            "text/plain": [
              "array([0., 0., 0., 0., 0., 1., 1., 1., 1., 1.])"
            ]
          },
          "metadata": {
            "tags": []
          },
          "execution_count": 17
        }
      ]
    },
    {
      "cell_type": "code",
      "metadata": {
        "id": "rGuV0mJrcBkJ",
        "colab_type": "code",
        "colab": {
          "base_uri": "https://localhost:8080/",
          "height": 187
        },
        "outputId": "47d7e326-9033-41e1-f0b4-9da21a0753a1"
      },
      "source": [
        "model.predict_proba(X)"
      ],
      "execution_count": 18,
      "outputs": [
        {
          "output_type": "execute_result",
          "data": {
            "text/plain": [
              "array([[0.99853453, 0.00146547],\n",
              "       [0.99740804, 0.00259196],\n",
              "       [0.98643844, 0.01356156],\n",
              "       [0.94830288, 0.05169712],\n",
              "       [0.75430207, 0.24569793],\n",
              "       [0.02307807, 0.97692193],\n",
              "       [0.21456501, 0.78543499],\n",
              "       [0.04771639, 0.95228361],\n",
              "       [0.00766657, 0.99233343],\n",
              "       [0.02199284, 0.97800716]])"
            ]
          },
          "metadata": {
            "tags": []
          },
          "execution_count": 18
        }
      ]
    }
  ]
}