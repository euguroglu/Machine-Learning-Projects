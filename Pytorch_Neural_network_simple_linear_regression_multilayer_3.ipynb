{
  "nbformat": 4,
  "nbformat_minor": 0,
  "metadata": {
    "colab": {
      "name": "Pytorch_Neural_network_simple_linear_regression_multilayer_3.ipynb",
      "provenance": [],
      "authorship_tag": "ABX9TyPro3P5/w8u+wNy+jRF71A4",
      "include_colab_link": true
    },
    "kernelspec": {
      "name": "python3",
      "display_name": "Python 3"
    }
  },
  "cells": [
    {
      "cell_type": "markdown",
      "metadata": {
        "id": "view-in-github",
        "colab_type": "text"
      },
      "source": [
        "<a href=\"https://colab.research.google.com/github/euguroglu/Machine-Learning-Projects/blob/master/Pytorch_Neural_network_simple_linear_regression_multilayer_3.ipynb\" target=\"_parent\"><img src=\"https://colab.research.google.com/assets/colab-badge.svg\" alt=\"Open In Colab\"/></a>"
      ]
    },
    {
      "cell_type": "markdown",
      "metadata": {
        "id": "jVE0ZDyBgVU0",
        "colab_type": "text"
      },
      "source": [
        "## Importing libraries"
      ]
    },
    {
      "cell_type": "code",
      "metadata": {
        "id": "iv7llVF35tCR",
        "colab_type": "code",
        "colab": {}
      },
      "source": [
        "import torch\n",
        "import numpy as np\n",
        "import matplotlib.pyplot as plt\n",
        "import torch.nn as nn\n",
        "import torch.nn.functional as F"
      ],
      "execution_count": 1,
      "outputs": []
    },
    {
      "cell_type": "markdown",
      "metadata": {
        "id": "8WDorJE-gZFH",
        "colab_type": "text"
      },
      "source": [
        "Defining a function to create data set"
      ]
    },
    {
      "cell_type": "code",
      "metadata": {
        "id": "_eJIlPeW6luX",
        "colab_type": "code",
        "colab": {}
      },
      "source": [
        "def function(x):\n",
        "  return 10*x**2 - 5*x - 0.5 + e"
      ],
      "execution_count": 2,
      "outputs": []
    },
    {
      "cell_type": "markdown",
      "metadata": {
        "id": "P8uAEWfEgcwi",
        "colab_type": "text"
      },
      "source": [
        "Adding noises"
      ]
    },
    {
      "cell_type": "code",
      "metadata": {
        "id": "0rlI88cQdKeO",
        "colab_type": "code",
        "colab": {}
      },
      "source": [
        "e = (torch.rand(100)).reshape(-1,1)"
      ],
      "execution_count": 3,
      "outputs": []
    },
    {
      "cell_type": "code",
      "metadata": {
        "id": "vcERnKS27MEX",
        "colab_type": "code",
        "colab": {}
      },
      "source": [
        "x_train = torch.rand(100).reshape(-1,1)\n",
        "x_train_square = x_train*x_train\n",
        "y_train = function(x_train).reshape(-1,1)\n",
        "x = torch.cat((x_train,x_train_square),1)"
      ],
      "execution_count": 4,
      "outputs": []
    },
    {
      "cell_type": "markdown",
      "metadata": {
        "id": "8dCDLtzcgj_H",
        "colab_type": "text"
      },
      "source": [
        "Visualize data"
      ]
    },
    {
      "cell_type": "code",
      "metadata": {
        "id": "OBuDsCJNd3uV",
        "colab_type": "code",
        "colab": {
          "base_uri": "https://localhost:8080/",
          "height": 279
        },
        "outputId": "2c823340-d590-4665-b1e5-d4bec0f76be9"
      },
      "source": [
        "plt.scatter(x_train,y_train,label='Train',color='blue')\n",
        "plt.ylabel('y')\n",
        "plt.xlabel('x')\n",
        "plt.legend(loc='upper left')\n",
        "plt.tight_layout\n",
        "plt.show()"
      ],
      "execution_count": 5,
      "outputs": [
        {
          "output_type": "display_data",
          "data": {
            "image/png": "[encoded data removed]",
            "text/plain": [
              "<Figure size 432x288 with 1 Axes>"
            ]
          },
          "metadata": {
            "tags": [],
            "needs_background": "light"
          }
        }
      ]
    },
    {
      "cell_type": "markdown",
      "metadata": {
        "id": "QElNrvupgmNi",
        "colab_type": "text"
      },
      "source": [
        "Creating single layer basic neural network"
      ]
    },
    {
      "cell_type": "code",
      "metadata": {
        "id": "IvvwAfetEqM1",
        "colab_type": "code",
        "colab": {}
      },
      "source": [
        "class Model(nn.Module):\n",
        "  def __init__(self,in_features,h1,h2,out_features):\n",
        "\n",
        "    super().__init__()\n",
        "    \n",
        "    self.fc1 = nn.Linear(in_features,h1)\n",
        "    self.fc2 = nn.Linear(h1,h2)\n",
        "    self.out = nn.Linear(h2,out_features)\n",
        "\n",
        "  def forward(self,x):\n",
        "\n",
        "    x = F.relu(self.fc1(x))\n",
        "    x = F.relu(self.fc2(x))\n",
        "    x = self.out(x)\n",
        "    return x"
      ],
      "execution_count": 6,
      "outputs": []
    },
    {
      "cell_type": "code",
      "metadata": {
        "id": "uQKvLoDQF2uQ",
        "colab_type": "code",
        "colab": {}
      },
      "source": [
        "model = Model(2,8,9,1)\n"
      ],
      "execution_count": 7,
      "outputs": []
    },
    {
      "cell_type": "markdown",
      "metadata": {
        "id": "ZNOTU7dphLWI",
        "colab_type": "text"
      },
      "source": [
        "Defining cost function and optimization method"
      ]
    },
    {
      "cell_type": "code",
      "metadata": {
        "id": "6PptjgD_FLzo",
        "colab_type": "code",
        "colab": {}
      },
      "source": [
        "criterion = nn.MSELoss()"
      ],
      "execution_count": 8,
      "outputs": []
    },
    {
      "cell_type": "code",
      "metadata": {
        "id": "viAD9ISIFNvf",
        "colab_type": "code",
        "colab": {}
      },
      "source": [
        "optimizer = torch.optim.SGD(model.parameters(),lr = 0.001)"
      ],
      "execution_count": 9,
      "outputs": []
    },
    {
      "cell_type": "markdown",
      "metadata": {
        "id": "DsyBpBJChQp8",
        "colab_type": "text"
      },
      "source": [
        "Training"
      ]
    },
    {
      "cell_type": "code",
      "metadata": {
        "id": "lIJcvO08FPmh",
        "colab_type": "code",
        "colab": {}
      },
      "source": [
        "epochs = 10000\n",
        "losses = []\n",
        "\n",
        "for i in range(epochs):\n",
        "\n",
        "  i = i + 1\n",
        "\n",
        "  y_pred = model.forward(x) # Predicting on the forward pass\n",
        "\n",
        "  loss = criterion(y_pred,y_train) #Calculating our loss\n",
        "\n",
        "  losses.append(loss) # Recording the error\n",
        "\n",
        "  print('epoch {} loss: {}'.format(i,loss.item()))\n",
        "\n",
        "  optimizer.zero_grad() #reseting the gradient\n",
        "\n",
        "  loss.backward()\n",
        "  optimizer.step()"
      ],
      "execution_count": null,
      "outputs": []
    },
    {
      "cell_type": "markdown",
      "metadata": {
        "id": "kaGNtzNIhUDV",
        "colab_type": "text"
      },
      "source": [
        "Optimization check"
      ]
    },
    {
      "cell_type": "code",
      "metadata": {
        "id": "-HgKdWvnGGjh",
        "colab_type": "code",
        "colab": {
          "base_uri": "https://localhost:8080/",
          "height": 296
        },
        "outputId": "655c875c-d220-4021-92c3-d8c577e99fbb"
      },
      "source": [
        "plt.plot(range(epochs),losses)\n",
        "plt.ylabel('MSE Loss')\n",
        "plt.xlabel('Epoch')"
      ],
      "execution_count": 11,
      "outputs": [
        {
          "output_type": "execute_result",
          "data": {
            "text/plain": [
              "Text(0.5, 0, 'Epoch')"
            ]
          },
          "metadata": {
            "tags": []
          },
          "execution_count": 11
        },
        {
          "output_type": "display_data",
          "data": {
            "image/png": "[encoded data removed]",
            "text/plain": [
              "<Figure size 432x288 with 1 Axes>"
            ]
          },
          "metadata": {
            "tags": [],
            "needs_background": "light"
          }
        }
      ]
    },
    {
      "cell_type": "markdown",
      "metadata": {
        "id": "bM9mh-TJhYNS",
        "colab_type": "text"
      },
      "source": [
        "Prediction and curve fitting"
      ]
    },
    {
      "cell_type": "code",
      "metadata": {
        "id": "nER9rNzybQ_z",
        "colab_type": "code",
        "colab": {}
      },
      "source": [
        "x_test = torch.linspace(0,1,100).reshape(-1,1)\n",
        "x_test_square = x_test*x_test\n",
        "#x_test_square = x_test*x_test\n",
        "x_test_torch = torch.cat((x_test,x_test_square),1)\n",
        "y_predicted = model.forward(x_test_torch)\n",
        "#xt = torch.cat((x_test,x_test_square),1)"
      ],
      "execution_count": 12,
      "outputs": []
    },
    {
      "cell_type": "code",
      "metadata": {
        "id": "RX-CXFYOf0Kq",
        "colab_type": "code",
        "colab": {
          "base_uri": "https://localhost:8080/",
          "height": 279
        },
        "outputId": "eaa6b9b4-177e-4980-d5c9-309cb3b021f1"
      },
      "source": [
        "plt.scatter(x_train,y_train,label='Train',color='blue')\n",
        "plt.plot(x_test,y_predicted.data.numpy(),'r')\n",
        "plt.ylabel('y')\n",
        "plt.xlabel('x')\n",
        "plt.legend(loc='upper left')\n",
        "plt.tight_layout\n",
        "plt.show()"
      ],
      "execution_count": 13,
      "outputs": [
        {
          "output_type": "display_data",
          "data": {
            "image/png": "[encoded data removed]",
            "text/plain": [
              "<Figure size 432x288 with 1 Axes>"
            ]
          },
          "metadata": {
            "tags": [],
            "needs_background": "light"
          }
        }
      ]
    },
    {
      "cell_type": "code",
      "metadata": {
        "id": "aVJxftR_rHVt",
        "colab_type": "code",
        "colab": {}
      },
      "source": [
        ""
      ],
      "execution_count": null,
      "outputs": []
    }
  ]
}