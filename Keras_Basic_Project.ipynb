{
  "nbformat": 4,
  "nbformat_minor": 0,
  "metadata": {
    "colab": {
      "name": "Keras_Basic_Project.ipynb",
      "provenance": [],
      "authorship_tag": "ABX9TyMCV5vKhKHQFiGhM0Ta3Ume",
      "include_colab_link": true
    },
    "kernelspec": {
      "name": "python3",
      "display_name": "Python 3"
    }
  },
  "cells": [
    {
      "cell_type": "markdown",
      "metadata": {
        "id": "view-in-github",
        "colab_type": "text"
      },
      "source": [
        "<a href=\"https://colab.research.google.com/github/euguroglu/Machine-Learning-Projects/blob/master/Keras_Basic_Project.ipynb\" target=\"_parent\"><img src=\"https://colab.research.google.com/assets/colab-badge.svg\" alt=\"Open In Colab\"/></a>"
      ]
    },
    {
      "cell_type": "markdown",
      "metadata": {
        "id": "qenVc05EJlHw",
        "colab_type": "text"
      },
      "source": [
        "## Defining tensorflow version"
      ]
    },
    {
      "cell_type": "code",
      "metadata": {
        "id": "cgEnWh7rHCof",
        "colab_type": "code",
        "colab": {}
      },
      "source": [
        "%tensorflow_version 2.x"
      ],
      "execution_count": 3,
      "outputs": []
    },
    {
      "cell_type": "markdown",
      "metadata": {
        "id": "Y9JxxrqgJqRr",
        "colab_type": "text"
      },
      "source": [
        "## Importing libraries"
      ]
    },
    {
      "cell_type": "code",
      "metadata": {
        "id": "ZWCWxFt7Hk9F",
        "colab_type": "code",
        "colab": {}
      },
      "source": [
        "from tensorflow.keras.models import Sequential\n",
        "from tensorflow.keras.layers import Dense, Activation\n",
        "from tensorflow.keras.optimizers import Adam\n",
        "from tensorflow.keras.models import model_from_json\n",
        "\n",
        "from matplotlib import pyplot as plt\n",
        "\n",
        "import numpy as np"
      ],
      "execution_count": 5,
      "outputs": []
    },
    {
      "cell_type": "markdown",
      "metadata": {
        "id": "42lfQ-7xJtPh",
        "colab_type": "text"
      },
      "source": [
        "## Creating simple function"
      ]
    },
    {
      "cell_type": "code",
      "metadata": {
        "id": "aiWCva5HIDAs",
        "colab_type": "code",
        "colab": {}
      },
      "source": [
        "def function(x):\n",
        "  return 10*x**2 - 5*x - 0.5"
      ],
      "execution_count": 6,
      "outputs": []
    },
    {
      "cell_type": "markdown",
      "metadata": {
        "id": "vVolgStkJyHL",
        "colab_type": "text"
      },
      "source": [
        "## Generating random data"
      ]
    },
    {
      "cell_type": "code",
      "metadata": {
        "id": "MWoMbbJJIMlK",
        "colab_type": "code",
        "colab": {}
      },
      "source": [
        "x_train = np.random.rand(10000)\n",
        "y_train = function(x_train)\n",
        "\n",
        "x_test = np.linspace(0,1,100)\n",
        "y_test = function(x_test)"
      ],
      "execution_count": 32,
      "outputs": []
    },
    {
      "cell_type": "markdown",
      "metadata": {
        "id": "PCBu1e1EJ2ui",
        "colab_type": "text"
      },
      "source": [
        "## Visualization"
      ]
    },
    {
      "cell_type": "code",
      "metadata": {
        "id": "08GVG7PSJ4iU",
        "colab_type": "code",
        "colab": {
          "base_uri": "https://localhost:8080/",
          "height": 279
        },
        "outputId": "74945c7b-6933-424e-d766-d556b74bfcaf"
      },
      "source": [
        "plt.scatter(x_train,y_train,label='Train',color='blue')\n",
        "plt.plot(x_test,y_test,label='Test',color='red',lw=3)\n",
        "plt.ylabel('y')\n",
        "plt.xlabel('x')\n",
        "plt.legend(loc='upper left')\n",
        "plt.tight_layout\n",
        "plt.show()"
      ],
      "execution_count": 33,
      "outputs": [
        {
          "output_type": "display_data",
          "data": {
            "image/png": "[encoded data removed]",
            "text/plain": [
              "<Figure size 432x288 with 1 Axes>"
            ]
          },
          "metadata": {
            "tags": [],
            "needs_background": "light"
          }
        }
      ]
    },
    {
      "cell_type": "markdown",
      "metadata": {
        "id": "CnlAn-OFKz6q",
        "colab_type": "text"
      },
      "source": [
        "## Define deep learning model"
      ]
    },
    {
      "cell_type": "code",
      "metadata": {
        "id": "_BX3PyAcKJF2",
        "colab_type": "code",
        "colab": {}
      },
      "source": [
        "model = Sequential()\n",
        "model.add(Dense(200,input_dim=1))\n",
        "model.add(Activation('sigmoid'))\n",
        "model.add(Dense(units=20))\n",
        "model.add(Activation('sigmoid'))\n",
        "model.add(Dense(units=1))"
      ],
      "execution_count": 88,
      "outputs": []
    },
    {
      "cell_type": "code",
      "metadata": {
        "id": "QtWKcrBtTCp7",
        "colab_type": "code",
        "colab": {}
      },
      "source": [
        "model.summary()"
      ],
      "execution_count": null,
      "outputs": []
    },
    {
      "cell_type": "markdown",
      "metadata": {
        "id": "Ht5tCw28LGoa",
        "colab_type": "text"
      },
      "source": [
        "## Compiling model"
      ]
    },
    {
      "cell_type": "code",
      "metadata": {
        "id": "mcGH0yAJLBpb",
        "colab_type": "code",
        "colab": {}
      },
      "source": [
        "model.compile(loss='mean_squared_error', optimizer=Adam())"
      ],
      "execution_count": 83,
      "outputs": []
    },
    {
      "cell_type": "markdown",
      "metadata": {
        "id": "0sfxwvu_LNDx",
        "colab_type": "text"
      },
      "source": [
        "## Training"
      ]
    },
    {
      "cell_type": "code",
      "metadata": {
        "id": "Soax0AfnLMt3",
        "colab_type": "code",
        "colab": {
          "base_uri": "https://localhost:8080/",
          "height": 377
        },
        "outputId": "1202b6a8-ba94-451b-d7e1-9365010a082d"
      },
      "source": [
        "history = model.fit(x_train, y_train, batch_size=50, epochs=10, verbose=1, validation_data=(x_test, y_test))"
      ],
      "execution_count": 84,
      "outputs": [
        {
          "output_type": "stream",
          "text": [
            "Epoch 1/10\n",
            "200/200 [==============================] - 0s 2ms/step - loss: 2.3202 - val_loss: 1.7156\n",
            "Epoch 2/10\n",
            "200/200 [==============================] - 0s 1ms/step - loss: 0.9339 - val_loss: 0.4491\n",
            "Epoch 3/10\n",
            "200/200 [==============================] - 0s 1ms/step - loss: 0.3687 - val_loss: 0.3354\n",
            "Epoch 4/10\n",
            "200/200 [==============================] - 0s 1ms/step - loss: 0.2877 - val_loss: 0.2586\n",
            "Epoch 5/10\n",
            "200/200 [==============================] - 0s 1ms/step - loss: 0.2133 - val_loss: 0.1922\n",
            "Epoch 6/10\n",
            "200/200 [==============================] - 0s 1ms/step - loss: 0.1435 - val_loss: 0.1172\n",
            "Epoch 7/10\n",
            "200/200 [==============================] - 0s 1ms/step - loss: 0.0949 - val_loss: 0.0849\n",
            "Epoch 8/10\n",
            "200/200 [==============================] - 0s 1ms/step - loss: 0.0656 - val_loss: 0.0548\n",
            "Epoch 9/10\n",
            "200/200 [==============================] - 0s 1ms/step - loss: 0.0449 - val_loss: 0.0434\n",
            "Epoch 10/10\n",
            "200/200 [==============================] - 0s 1ms/step - loss: 0.0341 - val_loss: 0.0301\n"
          ],
          "name": "stdout"
        }
      ]
    },
    {
      "cell_type": "markdown",
      "metadata": {
        "id": "8HtnaL6qOPlg",
        "colab_type": "text"
      },
      "source": [
        "## Cost values on train and validation"
      ]
    },
    {
      "cell_type": "code",
      "metadata": {
        "id": "jtVq1O_JOY13",
        "colab_type": "code",
        "colab": {
          "base_uri": "https://localhost:8080/",
          "height": 295
        },
        "outputId": "cbde0ca6-0dc7-4752-f370-92aa48ae2861"
      },
      "source": [
        "plt.plot(history.history['loss'])\n",
        "plt.plot(history.history['val_loss'])\n",
        "plt.title('Model loss')\n",
        "plt.ylabel('loss')\n",
        "plt.xlabel('Iteration')\n",
        "plt.legend(['Train','Test'],loc='best')\n",
        "plt.show()"
      ],
      "execution_count": 85,
      "outputs": [
        {
          "output_type": "display_data",
          "data": {
            "image/png": "[encoded data removed]",
            "text/plain": [
              "<Figure size 432x288 with 1 Axes>"
            ]
          },
          "metadata": {
            "tags": [],
            "needs_background": "light"
          }
        }
      ]
    },
    {
      "cell_type": "markdown",
      "metadata": {
        "id": "RYy-2kqaPN9d",
        "colab_type": "text"
      },
      "source": [
        "## Prediction"
      ]
    },
    {
      "cell_type": "code",
      "metadata": {
        "id": "Y-uAvtATOeaY",
        "colab_type": "code",
        "colab": {}
      },
      "source": [
        "y_predictions = model.predict(x_test)"
      ],
      "execution_count": 86,
      "outputs": []
    },
    {
      "cell_type": "code",
      "metadata": {
        "id": "JJckxEb3PjIr",
        "colab_type": "code",
        "colab": {
          "base_uri": "https://localhost:8080/",
          "height": 279
        },
        "outputId": "3f346e91-4384-4f50-fe4d-8cdcdcc1b0c4"
      },
      "source": [
        "plt.scatter(x_test, y_predictions, label='Predictions', color='blue')\n",
        "plt.plot(x_test, y_test, label='Test', color='red')\n",
        "plt.ylabel('y')\n",
        "plt.xlabel('x')\n",
        "plt.legend(loc='best')\n",
        "plt.show()"
      ],
      "execution_count": 87,
      "outputs": [
        {
          "output_type": "display_data",
          "data": {
            "image/png": "[encoded data removed]",
            "text/plain": [
              "<Figure size 432x288 with 1 Axes>"
            ]
          },
          "metadata": {
            "tags": [],
            "needs_background": "light"
          }
        }
      ]
    },
    {
      "cell_type": "markdown",
      "metadata": {
        "id": "eZBqChFSRtnd",
        "colab_type": "text"
      },
      "source": [
        "## Saving model into file"
      ]
    },
    {
      "cell_type": "code",
      "metadata": {
        "id": "btJs0MOUQTpF",
        "colab_type": "code",
        "colab": {}
      },
      "source": [
        "model_structure = model.to_json()\n",
        "with open(\"model.json\", \"w\") as json_file:\n",
        "    json_file.write(model_structure)\n",
        "model.save_weights(\"weights.h5\")"
      ],
      "execution_count": 59,
      "outputs": []
    },
    {
      "cell_type": "markdown",
      "metadata": {
        "id": "4HfRUNArRz59",
        "colab_type": "text"
      },
      "source": [
        "## Restoring file"
      ]
    },
    {
      "cell_type": "code",
      "metadata": {
        "id": "sC81HXt1R169",
        "colab_type": "code",
        "colab": {}
      },
      "source": [
        "with open('model.json', 'r') as json_file:\n",
        "    loaded_model_json = json_file.read()\n",
        "restored_model = model_from_json(loaded_model_json)\n",
        "restored_model.load_weights(\"weights.h5\")"
      ],
      "execution_count": 61,
      "outputs": []
    },
    {
      "cell_type": "markdown",
      "metadata": {
        "id": "mcX8__U4SBPq",
        "colab_type": "text"
      },
      "source": [
        "## Prediction with restored model"
      ]
    },
    {
      "cell_type": "code",
      "metadata": {
        "id": "VUymmulSSEBV",
        "colab_type": "code",
        "colab": {
          "base_uri": "https://localhost:8080/",
          "height": 279
        },
        "outputId": "cd9c1896-462e-4af3-c363-ae77b93a2e26"
      },
      "source": [
        "y_predictions = restored_model.predict(x_test, batch_size=1)\n",
        "\n",
        "plt.scatter(x_test, y_predictions, label='Predictions', color='blue')\n",
        "plt.plot(x_test, y_test, label='Test', color='red')\n",
        "plt.ylabel('y')\n",
        "plt.xlabel('x')\n",
        "plt.legend(loc='best')\n",
        "plt.show()"
      ],
      "execution_count": 63,
      "outputs": [
        {
          "output_type": "display_data",
          "data": {
            "image/png": "[encoded data removed]",
            "text/plain": [
              "<Figure size 432x288 with 1 Axes>"
            ]
          },
          "metadata": {
            "tags": [],
            "needs_background": "light"
          }
        }
      ]
    }
  ]
}