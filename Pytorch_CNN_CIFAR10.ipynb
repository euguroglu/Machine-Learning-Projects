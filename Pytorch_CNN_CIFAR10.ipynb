{
  "nbformat": 4,
  "nbformat_minor": 0,
  "metadata": {
    "colab": {
      "name": "Pytorch_CNN_CIFAR10.ipynb",
      "provenance": [],
      "authorship_tag": "ABX9TyN25O9VAL/NmBEC8LlW5Jg5",
      "include_colab_link": true
    },
    "kernelspec": {
      "name": "python3",
      "display_name": "Python 3"
    }
  },
  "cells": [
    {
      "cell_type": "markdown",
      "metadata": {
        "id": "view-in-github",
        "colab_type": "text"
      },
      "source": [
        "<a href=\"https://colab.research.google.com/github/euguroglu/Machine-Learning-Projects/blob/master/Pytorch_CNN_CIFAR10.ipynb\" target=\"_parent\"><img src=\"https://colab.research.google.com/assets/colab-badge.svg\" alt=\"Open In Colab\"/></a>"
      ]
    },
    {
      "cell_type": "markdown",
      "metadata": {
        "id": "1RrSc5i5tbw3",
        "colab_type": "text"
      },
      "source": [
        "## Importing libraries"
      ]
    },
    {
      "cell_type": "code",
      "metadata": {
        "id": "zR3FCBiic1pV",
        "colab_type": "code",
        "colab": {
          "base_uri": "https://localhost:8080/",
          "height": 51
        },
        "outputId": "63adf4df-1f65-4f3e-9182-a463ce1b7fa3"
      },
      "source": [
        "import torch\n",
        "import torch.nn as nn\n",
        "import torch.nn.functional as F\n",
        "from torch.utils.data import DataLoader\n",
        "from torchvision import datasets, transforms\n",
        "from torchvision.utils import make_grid\n",
        "import numpy as np\n",
        "import pandas as pd\n",
        "from sklearn.metrics import confusion_matrix\n",
        "import matplotlib.pyplot as plt\n",
        "import seaborn as sn"
      ],
      "execution_count": 59,
      "outputs": [
        {
          "output_type": "stream",
          "text": [
            "/usr/local/lib/python3.6/dist-packages/statsmodels/tools/_testing.py:19: FutureWarning: pandas.util.testing is deprecated. Use the functions in the public API at pandas.testing instead.\n",
            "  import pandas.util.testing as tm\n"
          ],
          "name": "stderr"
        }
      ]
    },
    {
      "cell_type": "markdown",
      "metadata": {
        "id": "CzYM94Awtg25",
        "colab_type": "text"
      },
      "source": [
        "## Data Loading"
      ]
    },
    {
      "cell_type": "code",
      "metadata": {
        "id": "lrfaD1dtenWQ",
        "colab_type": "code",
        "colab": {}
      },
      "source": [
        "transform = transforms.ToTensor()"
      ],
      "execution_count": 34,
      "outputs": []
    },
    {
      "cell_type": "code",
      "metadata": {
        "id": "NpugUYbNetoh",
        "colab_type": "code",
        "colab": {
          "base_uri": "https://localhost:8080/",
          "height": 34
        },
        "outputId": "f19bb787-de35-4492-995a-9fb7b1e0ebdf"
      },
      "source": [
        "train_Data = datasets.CIFAR10(root=' ',train=True,download=True,transform=transform)"
      ],
      "execution_count": 35,
      "outputs": [
        {
          "output_type": "stream",
          "text": [
            "Files already downloaded and verified\n"
          ],
          "name": "stdout"
        }
      ]
    },
    {
      "cell_type": "code",
      "metadata": {
        "id": "b09b__r2e1SI",
        "colab_type": "code",
        "colab": {
          "base_uri": "https://localhost:8080/",
          "height": 34
        },
        "outputId": "0c535ee6-3206-4f6f-bfad-f97c22c0834d"
      },
      "source": [
        "test_Data = datasets.CIFAR10(root=' ',train=False,download=True,transform=transform)"
      ],
      "execution_count": 36,
      "outputs": [
        {
          "output_type": "stream",
          "text": [
            "Files already downloaded and verified\n"
          ],
          "name": "stdout"
        }
      ]
    },
    {
      "cell_type": "code",
      "metadata": {
        "id": "bZ_36glxfjGK",
        "colab_type": "code",
        "colab": {
          "base_uri": "https://localhost:8080/",
          "height": 119
        },
        "outputId": "ff4e1364-932c-4d0e-9f22-8cfdc9ba92f2"
      },
      "source": [
        "train_Data"
      ],
      "execution_count": 37,
      "outputs": [
        {
          "output_type": "execute_result",
          "data": {
            "text/plain": [
              "Dataset CIFAR10\n",
              "    Number of datapoints: 50000\n",
              "    Root location:  \n",
              "    Split: Train\n",
              "    StandardTransform\n",
              "Transform: ToTensor()"
            ]
          },
          "metadata": {
            "tags": []
          },
          "execution_count": 37
        }
      ]
    },
    {
      "cell_type": "code",
      "metadata": {
        "id": "yYL89mlMfltQ",
        "colab_type": "code",
        "colab": {
          "base_uri": "https://localhost:8080/",
          "height": 119
        },
        "outputId": "16d087cc-0949-44a4-dd8c-aa42880be2f5"
      },
      "source": [
        "test_Data"
      ],
      "execution_count": 38,
      "outputs": [
        {
          "output_type": "execute_result",
          "data": {
            "text/plain": [
              "Dataset CIFAR10\n",
              "    Number of datapoints: 10000\n",
              "    Root location:  \n",
              "    Split: Test\n",
              "    StandardTransform\n",
              "Transform: ToTensor()"
            ]
          },
          "metadata": {
            "tags": []
          },
          "execution_count": 38
        }
      ]
    },
    {
      "cell_type": "code",
      "metadata": {
        "id": "TjfKqdG-fmuY",
        "colab_type": "code",
        "colab": {
          "base_uri": "https://localhost:8080/",
          "height": 34
        },
        "outputId": "51d83f7c-b1fc-444a-d684-3db116fff6e6"
      },
      "source": [
        "torch.manual_seed(101)"
      ],
      "execution_count": 39,
      "outputs": [
        {
          "output_type": "execute_result",
          "data": {
            "text/plain": [
              "<torch._C.Generator at 0x7f69433330c0>"
            ]
          },
          "metadata": {
            "tags": []
          },
          "execution_count": 39
        }
      ]
    },
    {
      "cell_type": "code",
      "metadata": {
        "id": "_8oW3Nf9frs_",
        "colab_type": "code",
        "colab": {}
      },
      "source": [
        "train_loader = DataLoader(train_Data,batch_size=10,shuffle=True)\n",
        "test_loader = DataLoader(test_Data,batch_size=10,shuffle=False)"
      ],
      "execution_count": 40,
      "outputs": []
    },
    {
      "cell_type": "code",
      "metadata": {
        "id": "hvQBtDBjf0yv",
        "colab_type": "code",
        "colab": {}
      },
      "source": [
        "class_names = ['plane', '  car', ' bird', '  cat', ' deer', '  dog', ' frog', 'horse', ' ship', 'truck']"
      ],
      "execution_count": 41,
      "outputs": []
    },
    {
      "cell_type": "code",
      "metadata": {
        "id": "sCUCJjW3gojk",
        "colab_type": "code",
        "colab": {}
      },
      "source": [
        "for images,labels in train_loader:\n",
        "  break"
      ],
      "execution_count": 42,
      "outputs": []
    },
    {
      "cell_type": "code",
      "metadata": {
        "id": "WfhP7A1fgtG4",
        "colab_type": "code",
        "colab": {
          "base_uri": "https://localhost:8080/",
          "height": 34
        },
        "outputId": "df251126-d112-4e9a-816d-49ec44783f54"
      },
      "source": [
        "labels"
      ],
      "execution_count": 43,
      "outputs": [
        {
          "output_type": "execute_result",
          "data": {
            "text/plain": [
              "tensor([3, 2, 0, 4, 9, 5, 1, 2, 4, 8])"
            ]
          },
          "metadata": {
            "tags": []
          },
          "execution_count": 43
        }
      ]
    },
    {
      "cell_type": "markdown",
      "metadata": {
        "id": "imR98svBtre6",
        "colab_type": "text"
      },
      "source": [
        "## Data visualization"
      ]
    },
    {
      "cell_type": "code",
      "metadata": {
        "id": "fx8dmfzUguFH",
        "colab_type": "code",
        "colab": {
          "base_uri": "https://localhost:8080/",
          "height": 319
        },
        "outputId": "03eed5f0-9035-4094-f540-156e81ad0284"
      },
      "source": [
        "np.set_printoptions(formatter=dict(int=lambda x: f'{x:5}'))\n",
        "\n",
        "print('Label:', labels.numpy())\n",
        "print('Class: ', *np.array([class_names[i] for i in labels]))\n",
        "\n",
        "im = make_grid(images,nrow=5)\n",
        "plt.figure(figsize=(10,4))\n",
        "plt.imshow(np.transpose(im.numpy(),(1,2,0)))"
      ],
      "execution_count": 44,
      "outputs": [
        {
          "output_type": "stream",
          "text": [
            "Label: [    3     2     0     4     9     5     1     2     4     8]\n",
            "Class:    cat  bird plane  deer truck   dog   car  bird  deer  ship\n"
          ],
          "name": "stdout"
        },
        {
          "output_type": "execute_result",
          "data": {
            "text/plain": [
              "<matplotlib.image.AxesImage at 0x7f68e3a7b1d0>"
            ]
          },
          "metadata": {
            "tags": []
          },
          "execution_count": 44
        },
        {
          "output_type": "display_data",
          "data": {
            "image/png": "[encoded data removed]",
            "text/plain": [
              "<Figure size 720x288 with 1 Axes>"
            ]
          },
          "metadata": {
            "tags": [],
            "needs_background": "light"
          }
        }
      ]
    },
    {
      "cell_type": "markdown",
      "metadata": {
        "id": "8kpMDmXItuzc",
        "colab_type": "text"
      },
      "source": [
        "## Convolutional Neural Network"
      ]
    },
    {
      "cell_type": "code",
      "metadata": {
        "id": "9sor_DCAg-lI",
        "colab_type": "code",
        "colab": {}
      },
      "source": [
        "class ConvolutionalNetwork(nn.Module):\n",
        "\n",
        "  def __init__(self):\n",
        "    super().__init__()\n",
        "    self.conv1 = nn.Conv2d(3,6,5,1) #Mnist data set i used (1,6,5,1) 1 was because mnish data is grayscale which is 1 channel but here in this data set we have rgb color which has 3 channel\n",
        "    self.conv2 = nn.Conv2d(6,16,3,1)\n",
        "    self.fc1 = nn.Linear(6*6*16,120) # 6*6 comes from --> 1 conv -->32 to 30 --> 1 pooling 30 to 15 --> 1 conv 15 to 13 --> 1 pooling 13 to 6,5 which is 6 \n",
        "    self.fc2 = nn.Linear(120,84)\n",
        "    self.fc3 = nn.Linear(84,10)\n",
        "  \n",
        "  def forward(self,X):\n",
        "    X = F.relu(self.conv1(X))\n",
        "    X = F.max_pool2d(X,2,2)\n",
        "    X = F.relu(self.conv2(X))\n",
        "    X = F.max_pool2d(X,2,2)\n",
        "    X = X.view(-1,6*6*16)\n",
        "    X = F.relu(self.fc1(X))\n",
        "    X = F.relu(self.fc2(X))\n",
        "    x = self.fc3(X)\n",
        "    return F.log_softmax(X,dim=1) "
      ],
      "execution_count": 45,
      "outputs": []
    },
    {
      "cell_type": "code",
      "metadata": {
        "id": "bJFfaruHlpnQ",
        "colab_type": "code",
        "colab": {
          "base_uri": "https://localhost:8080/",
          "height": 34
        },
        "outputId": "22f5732c-2305-4143-c757-7116197c1b16"
      },
      "source": [
        "torch.manual_seed(101)"
      ],
      "execution_count": 46,
      "outputs": [
        {
          "output_type": "execute_result",
          "data": {
            "text/plain": [
              "<torch._C.Generator at 0x7f69433330c0>"
            ]
          },
          "metadata": {
            "tags": []
          },
          "execution_count": 46
        }
      ]
    },
    {
      "cell_type": "code",
      "metadata": {
        "id": "zWqnrgG1lru2",
        "colab_type": "code",
        "colab": {}
      },
      "source": [
        "model = ConvolutionalNetwork()"
      ],
      "execution_count": 47,
      "outputs": []
    },
    {
      "cell_type": "markdown",
      "metadata": {
        "id": "jhIhKr1rt0A-",
        "colab_type": "text"
      },
      "source": [
        "## Checking model parameters"
      ]
    },
    {
      "cell_type": "code",
      "metadata": {
        "id": "lvDqlKe3lvp-",
        "colab_type": "code",
        "colab": {
          "base_uri": "https://localhost:8080/",
          "height": 187
        },
        "outputId": "82aed157-95b9-4023-f176-fa615be063e1"
      },
      "source": [
        "for param in model.parameters():\n",
        "  print(param.numel())"
      ],
      "execution_count": 48,
      "outputs": [
        {
          "output_type": "stream",
          "text": [
            "450\n",
            "6\n",
            "864\n",
            "16\n",
            "69120\n",
            "120\n",
            "10080\n",
            "84\n",
            "840\n",
            "10\n"
          ],
          "name": "stdout"
        }
      ]
    },
    {
      "cell_type": "markdown",
      "metadata": {
        "id": "GLMFAkF5t27i",
        "colab_type": "text"
      },
      "source": [
        "## Defining cost function and optimization"
      ]
    },
    {
      "cell_type": "code",
      "metadata": {
        "id": "yZdI54oKmUmP",
        "colab_type": "code",
        "colab": {}
      },
      "source": [
        "criterion = nn.CrossEntropyLoss()\n",
        "optimizer = torch.optim.Adam(model.parameters(),lr=0.001)"
      ],
      "execution_count": 49,
      "outputs": []
    },
    {
      "cell_type": "markdown",
      "metadata": {
        "id": "qYTlkQDVt6TW",
        "colab_type": "text"
      },
      "source": [
        "## Training"
      ]
    },
    {
      "cell_type": "code",
      "metadata": {
        "id": "Um90SOtNmojX",
        "colab_type": "code",
        "colab": {
          "base_uri": "https://localhost:8080/",
          "height": 1000
        },
        "outputId": "1341bbfb-4c9f-4cd5-8482-61c652a479c9"
      },
      "source": [
        "import time\n",
        "start_time = time.time()\n",
        "\n",
        "#Variables (Trackers)\n",
        "epochs = 15\n",
        "train_losses = []\n",
        "test_losses = []\n",
        "train_correct = []\n",
        "test_correct = []\n",
        "accuracy = []\n",
        "\n",
        "#For loops epochs\n",
        "for i in range(epochs):\n",
        "\n",
        "  trn_corr = 0\n",
        "  tst_corr = 0\n",
        "\n",
        "\n",
        "#Train\n",
        "  for b,(X_train,y_train) in enumerate(train_loader):\n",
        "    b = b + 1\n",
        "\n",
        "    y_pred = model(X_train) #not flattening (conv)\n",
        "    loss = criterion(y_pred,y_train)\n",
        "\n",
        "    predicted = torch.max(y_pred.data,1)[1]\n",
        "    batch_corr = (predicted == y_train).sum() # True:1 / False:0 sum\n",
        "    trn_corr = trn_corr + batch_corr\n",
        "\n",
        "    optimizer.zero_grad()\n",
        "    loss.backward()\n",
        "    optimizer.step()\n",
        "\n",
        "    if (b%1000 == 0):\n",
        "      print('Epoch: {} Batch: {} Loss: {} Accuracy: {}'.format(i,b,loss.item(),(trn_corr//(b/10))))\n",
        "      accuracy.append((trn_corr//(b/10)))\n",
        "  train_losses.append(loss)\n",
        "  train_correct.append(trn_corr)\n",
        "\n",
        "\n",
        "#Test\n",
        "\n",
        "  with torch.no_grad():\n",
        "    for b, (X_test,y_test) in enumerate(test_loader):\n",
        "\n",
        "      y_val = model(X_test)\n",
        "\n",
        "      predicted = torch.max(y_val.data,1)[1]\n",
        "      tst_corr = (predicted == y_test).sum()\n",
        "      \n",
        "  loss = criterion(y_val,y_test)\n",
        "  test_losses.append(loss)\n",
        "  test_correct.append(tst_corr)\n",
        "\n",
        "current_time = time.time()\n",
        "total = current_time - start_time\n",
        "print('Training took {}  minutes'.format(total/60))"
      ],
      "execution_count": 50,
      "outputs": [
        {
          "output_type": "stream",
          "text": [
            "Epoch: 0 Batch: 1000 Loss: 2.645181179046631 Accuracy: 18.0\n",
            "Epoch: 0 Batch: 2000 Loss: 3.3832290172576904 Accuracy: 22.0\n",
            "Epoch: 0 Batch: 3000 Loss: 3.5190982818603516 Accuracy: 26.0\n",
            "Epoch: 0 Batch: 4000 Loss: 4.348921775817871 Accuracy: 29.0\n",
            "Epoch: 0 Batch: 5000 Loss: 2.648527145385742 Accuracy: 31.0\n",
            "Epoch: 1 Batch: 1000 Loss: 2.05900502204895 Accuracy: 42.0\n",
            "Epoch: 1 Batch: 2000 Loss: 2.2507810592651367 Accuracy: 43.0\n",
            "Epoch: 1 Batch: 3000 Loss: 0.8783048391342163 Accuracy: 44.0\n",
            "Epoch: 1 Batch: 4000 Loss: 2.1360855102539062 Accuracy: 44.0\n",
            "Epoch: 1 Batch: 5000 Loss: 2.3622500896453857 Accuracy: 45.0\n",
            "Epoch: 2 Batch: 1000 Loss: 2.7016992568969727 Accuracy: 48.0\n",
            "Epoch: 2 Batch: 2000 Loss: 2.448794364929199 Accuracy: 48.0\n",
            "Epoch: 2 Batch: 3000 Loss: 2.629695415496826 Accuracy: 49.0\n",
            "Epoch: 2 Batch: 4000 Loss: 1.9897905588150024 Accuracy: 48.0\n",
            "Epoch: 2 Batch: 5000 Loss: 0.9714969396591187 Accuracy: 49.0\n",
            "Epoch: 3 Batch: 1000 Loss: 2.312952995300293 Accuracy: 50.0\n",
            "Epoch: 3 Batch: 2000 Loss: 2.204885959625244 Accuracy: 50.0\n",
            "Epoch: 3 Batch: 3000 Loss: 2.136153221130371 Accuracy: 50.0\n",
            "Epoch: 3 Batch: 4000 Loss: 1.2611035108566284 Accuracy: 50.0\n",
            "Epoch: 3 Batch: 5000 Loss: 1.6474456787109375 Accuracy: 51.0\n",
            "Epoch: 4 Batch: 1000 Loss: 2.009511709213257 Accuracy: 52.0\n",
            "Epoch: 4 Batch: 2000 Loss: 1.8813778162002563 Accuracy: 52.0\n",
            "Epoch: 4 Batch: 3000 Loss: 1.9541747570037842 Accuracy: 52.0\n",
            "Epoch: 4 Batch: 4000 Loss: 1.9047905206680298 Accuracy: 53.0\n",
            "Epoch: 4 Batch: 5000 Loss: 2.421077251434326 Accuracy: 52.0\n",
            "Epoch: 5 Batch: 1000 Loss: 1.2975728511810303 Accuracy: 54.0\n",
            "Epoch: 5 Batch: 2000 Loss: 0.277494341135025 Accuracy: 54.0\n",
            "Epoch: 5 Batch: 3000 Loss: 1.5373530387878418 Accuracy: 54.0\n",
            "Epoch: 5 Batch: 4000 Loss: 3.3378520011901855 Accuracy: 54.0\n",
            "Epoch: 5 Batch: 5000 Loss: 2.8221962451934814 Accuracy: 54.0\n",
            "Epoch: 6 Batch: 1000 Loss: 2.128084421157837 Accuracy: 55.0\n",
            "Epoch: 6 Batch: 2000 Loss: 1.5956995487213135 Accuracy: 56.0\n",
            "Epoch: 6 Batch: 3000 Loss: 0.9737436175346375 Accuracy: 55.0\n",
            "Epoch: 6 Batch: 4000 Loss: 2.4825263023376465 Accuracy: 55.0\n",
            "Epoch: 6 Batch: 5000 Loss: 1.2607595920562744 Accuracy: 55.0\n",
            "Epoch: 7 Batch: 1000 Loss: 1.0631366968154907 Accuracy: 57.0\n",
            "Epoch: 7 Batch: 2000 Loss: 2.6623597145080566 Accuracy: 57.0\n",
            "Epoch: 7 Batch: 3000 Loss: 2.1870718002319336 Accuracy: 56.0\n",
            "Epoch: 7 Batch: 4000 Loss: 2.5871851444244385 Accuracy: 56.0\n",
            "Epoch: 7 Batch: 5000 Loss: 2.7366750240325928 Accuracy: 56.0\n",
            "Epoch: 8 Batch: 1000 Loss: 1.5947327613830566 Accuracy: 59.0\n",
            "Epoch: 8 Batch: 2000 Loss: 1.488175630569458 Accuracy: 58.0\n",
            "Epoch: 8 Batch: 3000 Loss: 0.8610078692436218 Accuracy: 58.0\n",
            "Epoch: 8 Batch: 4000 Loss: 3.246070384979248 Accuracy: 57.0\n",
            "Epoch: 8 Batch: 5000 Loss: 0.8687822222709656 Accuracy: 57.0\n",
            "Epoch: 9 Batch: 1000 Loss: 1.142364501953125 Accuracy: 58.0\n",
            "Epoch: 9 Batch: 2000 Loss: 1.258247971534729 Accuracy: 58.0\n",
            "Epoch: 9 Batch: 3000 Loss: 1.8882105350494385 Accuracy: 58.0\n",
            "Epoch: 9 Batch: 4000 Loss: 2.960456371307373 Accuracy: 58.0\n",
            "Epoch: 9 Batch: 5000 Loss: 2.9007232189178467 Accuracy: 58.0\n",
            "Epoch: 10 Batch: 1000 Loss: 1.5117689371109009 Accuracy: 59.0\n",
            "Epoch: 10 Batch: 2000 Loss: 1.6668545007705688 Accuracy: 59.0\n",
            "Epoch: 10 Batch: 3000 Loss: 2.1357908248901367 Accuracy: 59.0\n",
            "Epoch: 10 Batch: 4000 Loss: 1.7758630514144897 Accuracy: 59.0\n",
            "Epoch: 10 Batch: 5000 Loss: 1.0468084812164307 Accuracy: 59.0\n",
            "Epoch: 11 Batch: 1000 Loss: 1.9871299266815186 Accuracy: 60.0\n",
            "Epoch: 11 Batch: 2000 Loss: 1.315852403640747 Accuracy: 60.0\n",
            "Epoch: 11 Batch: 3000 Loss: 1.377639889717102 Accuracy: 60.0\n",
            "Epoch: 11 Batch: 4000 Loss: 1.2775403261184692 Accuracy: 60.0\n",
            "Epoch: 11 Batch: 5000 Loss: 0.9907832145690918 Accuracy: 60.0\n",
            "Epoch: 12 Batch: 1000 Loss: 0.8964101672172546 Accuracy: 61.0\n",
            "Epoch: 12 Batch: 2000 Loss: 1.0388472080230713 Accuracy: 60.0\n",
            "Epoch: 12 Batch: 3000 Loss: 2.8382534980773926 Accuracy: 60.0\n",
            "Epoch: 12 Batch: 4000 Loss: 1.7290794849395752 Accuracy: 60.0\n",
            "Epoch: 12 Batch: 5000 Loss: 2.7117600440979004 Accuracy: 60.0\n",
            "Epoch: 13 Batch: 1000 Loss: 1.4402230978012085 Accuracy: 62.0\n",
            "Epoch: 13 Batch: 2000 Loss: 1.9280763864517212 Accuracy: 61.0\n",
            "Epoch: 13 Batch: 3000 Loss: 2.306720018386841 Accuracy: 61.0\n",
            "Epoch: 13 Batch: 4000 Loss: 1.5110889673233032 Accuracy: 61.0\n",
            "Epoch: 13 Batch: 5000 Loss: 2.1403048038482666 Accuracy: 61.0\n",
            "Epoch: 14 Batch: 1000 Loss: 2.3256185054779053 Accuracy: 62.0\n",
            "Epoch: 14 Batch: 2000 Loss: 1.6926017999649048 Accuracy: 62.0\n",
            "Epoch: 14 Batch: 3000 Loss: 1.5431290864944458 Accuracy: 62.0\n",
            "Epoch: 14 Batch: 4000 Loss: 1.7721707820892334 Accuracy: 61.0\n",
            "Epoch: 14 Batch: 5000 Loss: 1.2311115264892578 Accuracy: 61.0\n",
            "Training took 9.488130712509156  minutes\n"
          ],
          "name": "stdout"
        }
      ]
    },
    {
      "cell_type": "markdown",
      "metadata": {
        "id": "2afr7Btpt9Cx",
        "colab_type": "text"
      },
      "source": [
        "## Saving model"
      ]
    },
    {
      "cell_type": "code",
      "metadata": {
        "id": "k7L2PL_eq-9F",
        "colab_type": "code",
        "colab": {}
      },
      "source": [
        "torch.save(model.state_dict(),'myCıfarmodel.pt')"
      ],
      "execution_count": 52,
      "outputs": []
    },
    {
      "cell_type": "markdown",
      "metadata": {
        "id": "yYSFkFwEt_WN",
        "colab_type": "text"
      },
      "source": [
        "## Results"
      ]
    },
    {
      "cell_type": "code",
      "metadata": {
        "id": "Fk7O6kKlrOi0",
        "colab_type": "code",
        "colab": {
          "base_uri": "https://localhost:8080/",
          "height": 281
        },
        "outputId": "da41f70f-bb36-463e-eea2-7b6e58352da9"
      },
      "source": [
        "plt.plot(train_losses,label='Train loss')\n",
        "plt.plot(test_losses,label='Validation loss')\n",
        "plt.title('Loss at epoch')\n",
        "plt.legend()\n",
        "plt.show()"
      ],
      "execution_count": 53,
      "outputs": [
        {
          "output_type": "display_data",
          "data": {
            "image/png": "[encoded data removed]",
            "text/plain": [
              "<Figure size 432x288 with 1 Axes>"
            ]
          },
          "metadata": {
            "tags": [],
            "needs_background": "light"
          }
        }
      ]
    },
    {
      "cell_type": "code",
      "metadata": {
        "id": "01EsA67JrY6g",
        "colab_type": "code",
        "colab": {
          "base_uri": "https://localhost:8080/",
          "height": 282
        },
        "outputId": "69a41b1e-0d34-43e0-86b1-2de9802ac7fe"
      },
      "source": [
        "plt.plot(range(75),accuracy) # Accuracy per batch"
      ],
      "execution_count": 55,
      "outputs": [
        {
          "output_type": "execute_result",
          "data": {
            "text/plain": [
              "[<matplotlib.lines.Line2D at 0x7f68e1f83518>]"
            ]
          },
          "metadata": {
            "tags": []
          },
          "execution_count": 55
        },
        {
          "output_type": "display_data",
          "data": {
            "image/png": "[encoded data removed]",
            "text/plain": [
              "<Figure size 432x288 with 1 Axes>"
            ]
          },
          "metadata": {
            "tags": [],
            "needs_background": "light"
          }
        }
      ]
    },
    {
      "cell_type": "code",
      "metadata": {
        "id": "OdIpTTcurovU",
        "colab_type": "code",
        "colab": {
          "base_uri": "https://localhost:8080/",
          "height": 34
        },
        "outputId": "8f206396-58d7-47bf-f2b5-c6d129fbceae"
      },
      "source": [
        "print(test_correct)"
      ],
      "execution_count": 56,
      "outputs": [
        {
          "output_type": "stream",
          "text": [
            "[tensor(2), tensor(2), tensor(2), tensor(3), tensor(2), tensor(3), tensor(2), tensor(4), tensor(3), tensor(3), tensor(3), tensor(3), tensor(2), tensor(3), tensor(3)]\n"
          ],
          "name": "stdout"
        }
      ]
    },
    {
      "cell_type": "markdown",
      "metadata": {
        "id": "8gdpMSXMuDBW",
        "colab_type": "text"
      },
      "source": [
        "## Validation on test set and confusion matrix"
      ]
    },
    {
      "cell_type": "code",
      "metadata": {
        "id": "CgQNN9Syrsne",
        "colab_type": "code",
        "colab": {
          "base_uri": "https://localhost:8080/",
          "height": 388
        },
        "outputId": "9bafebc8-0fa6-4db5-feab-0b9f2470c2c1"
      },
      "source": [
        "# Create a loader for the entire the test set\n",
        "test_load_all = DataLoader(test_Data, batch_size=10000, shuffle=False)\n",
        "\n",
        "with torch.no_grad():\n",
        "    correct = 0\n",
        "    for X_test, y_test in test_load_all:\n",
        "        y_val = model(X_test)\n",
        "        predicted = torch.max(y_val,1)[1]\n",
        "        correct += (predicted == y_test).sum()\n",
        "\n",
        "arr = confusion_matrix(y_test.view(-1), predicted.view(-1))\n",
        "df_cm = pd.DataFrame(arr, class_names, class_names)\n",
        "plt.figure(figsize = (9,6))\n",
        "sn.heatmap(df_cm, annot=True, fmt=\"d\", cmap='BuGn')\n",
        "plt.xlabel(\"prediction\")\n",
        "plt.ylabel(\"label (ground truth)\")\n",
        "plt.show();"
      ],
      "execution_count": 60,
      "outputs": [
        {
          "output_type": "display_data",
          "data": {
            "image/png": "[encoded data removed]",
            "text/plain": [
              "<Figure size 648x432 with 2 Axes>"
            ]
          },
          "metadata": {
            "tags": [],
            "needs_background": "light"
          }
        }
      ]
    }
  ]
}