{
  "nbformat": 4,
  "nbformat_minor": 0,
  "metadata": {
    "colab": {
      "name": "Linear_Regression_Gradient_Descent.ipynb",
      "provenance": [],
      "authorship_tag": "ABX9TyO2Ts0kESW9A51oM2Gh1A8r",
      "include_colab_link": true
    },
    "kernelspec": {
      "name": "python3",
      "display_name": "Python 3"
    }
  },
  "cells": [
    {
      "cell_type": "markdown",
      "metadata": {
        "id": "view-in-github",
        "colab_type": "text"
      },
      "source": [
        "<a href=\"https://colab.research.google.com/github/euguroglu/Machine-Learning-Projects/blob/master/Linear_Regression_Gradient_Descent.ipynb\" target=\"_parent\"><img src=\"https://colab.research.google.com/assets/colab-badge.svg\" alt=\"Open In Colab\"/></a>"
      ]
    },
    {
      "cell_type": "markdown",
      "metadata": {
        "id": "_08EaDYyYLv9",
        "colab_type": "text"
      },
      "source": [
        "## Andrew NG Machine learning course Assigment 1 Python Solution"
      ]
    },
    {
      "cell_type": "markdown",
      "metadata": {
        "id": "BZqf41EcYgig",
        "colab_type": "text"
      },
      "source": [
        "## Loading Data"
      ]
    },
    {
      "cell_type": "code",
      "metadata": {
        "id": "8SsgLO6mUvkY",
        "colab_type": "code",
        "colab": {}
      },
      "source": [
        "import math\n",
        "import numpy as np\n",
        "from matplotlib import pyplot as plt"
      ],
      "execution_count": 2,
      "outputs": []
    },
    {
      "cell_type": "code",
      "metadata": {
        "id": "FyfqrqNxU-ZC",
        "colab_type": "code",
        "colab": {}
      },
      "source": [
        "from google.colab import files\n",
        "uploaded = files.upload()\n",
        "data = np.loadtxt(\"ex1data1.txt\",delimiter=\",\")\n",
        "data"
      ],
      "execution_count": null,
      "outputs": []
    },
    {
      "cell_type": "markdown",
      "metadata": {
        "id": "cA1P2XGBYl1S",
        "colab_type": "text"
      },
      "source": [
        "## Visualization"
      ]
    },
    {
      "cell_type": "code",
      "metadata": {
        "id": "CB35TFpBVNHC",
        "colab_type": "code",
        "colab": {
          "base_uri": "https://localhost:8080/",
          "height": 280
        },
        "outputId": "fdd52dd8-81f0-44d8-a4cd-7192330396ef"
      },
      "source": [
        "x = data[:,0]\n",
        "y = data[:,1]\n",
        "plt.scatter(x,y,color='blue')\n",
        "plt.xlabel('Population of City in 10,000s')\n",
        "plt.ylabel('Profit in $10,000s')\n",
        "plt.show()"
      ],
      "execution_count": 4,
      "outputs": [
        {
          "output_type": "display_data",
          "data": {
            "image/png": "[encoded data removed]",
            "text/plain": [
              "<Figure size 432x288 with 1 Axes>"
            ]
          },
          "metadata": {
            "tags": [],
            "needs_background": "light"
          }
        }
      ]
    },
    {
      "cell_type": "markdown",
      "metadata": {
        "id": "a1wKurKGVPUS",
        "colab_type": "text"
      },
      "source": [
        "## Gradient Descent"
      ]
    },
    {
      "cell_type": "markdown",
      "metadata": {
        "id": "g52K6qzNYxSX",
        "colab_type": "text"
      },
      "source": [
        "Sample and Target Matrix reshaping and adding second feauture as 1"
      ]
    },
    {
      "cell_type": "code",
      "metadata": {
        "id": "w3qeRwmgVRbL",
        "colab_type": "code",
        "colab": {}
      },
      "source": [
        "x_matrix = x.reshape((-1,1))\n",
        "y = y.reshape((-1,1))\n",
        "ones = np.ones((len(x),1))\n",
        "X = np.append(x_matrix,ones,axis=1)\n",
        "X"
      ],
      "execution_count": null,
      "outputs": []
    },
    {
      "cell_type": "markdown",
      "metadata": {
        "id": "DMPKiPGUZCS6",
        "colab_type": "text"
      },
      "source": [
        "Cost Function (Vectorized implementation)  $\\ J=1/(2m) $$\\sum_{i=1}^m(h_\\theta(x^i)-y^i)^2$"
      ]
    },
    {
      "cell_type": "code",
      "metadata": {
        "id": "2-9IO35PWa9v",
        "colab_type": "code",
        "colab": {}
      },
      "source": [
        "def compute_cost(X,y,theta):\n",
        "  m = len(y)\n",
        "  return  (1/(2*m))*np.sum(np.square((X.dot(theta))-y))\n",
        "\n",
        "\n"
      ],
      "execution_count": 6,
      "outputs": []
    },
    {
      "cell_type": "markdown",
      "metadata": {
        "id": "dZ_MiNk8ZGS3",
        "colab_type": "text"
      },
      "source": [
        "Gradient Function (Vectorized Implementation) $\\ h_\\theta(x)=\\theta_0+\\theta_1x_1$"
      ]
    },
    {
      "cell_type": "code",
      "metadata": {
        "id": "TXZ7L-ZjbzPY",
        "colab_type": "code",
        "colab": {}
      },
      "source": [
        "def gradient(X,y,theta,alpha,iteration):\n",
        "  m=len(y)\n",
        "  cost=[]\n",
        "  for i in range(iteration):\n",
        "    theta = theta - ((alpha/m) * (X.T.dot((np.subtract(X.dot(theta),y)))))\n",
        "    cost.append(compute_cost(X,y,theta))\n",
        "  return theta,cost\n"
      ],
      "execution_count": 7,
      "outputs": []
    },
    {
      "cell_type": "markdown",
      "metadata": {
        "id": "PNQa63faZtnr",
        "colab_type": "text"
      },
      "source": [
        "Initialize theta and iteration"
      ]
    },
    {
      "cell_type": "code",
      "metadata": {
        "id": "G2_XojI7icoh",
        "colab_type": "code",
        "colab": {}
      },
      "source": [
        "theta = np.array([[0],[0]])\n",
        "(new_theta,last_cost) = gradient(X,y,theta,0.01,1500)"
      ],
      "execution_count": 8,
      "outputs": []
    },
    {
      "cell_type": "markdown",
      "metadata": {
        "id": "Q_03BPpaaMPk",
        "colab_type": "text"
      },
      "source": [
        "Checking results"
      ]
    },
    {
      "cell_type": "code",
      "metadata": {
        "id": "IRrHV6pZkU4n",
        "colab_type": "code",
        "colab": {
          "base_uri": "https://localhost:8080/",
          "height": 312
        },
        "outputId": "52406a0d-dbfc-4264-e66b-914f16e797a1"
      },
      "source": [
        "plt.plot(range(1500), last_cost)\n",
        "plt.ylabel('Cost')\n",
        "plt.xlabel('Iteration')\n",
        "plt.title('Cost versus Iteration')"
      ],
      "execution_count": 17,
      "outputs": [
        {
          "output_type": "execute_result",
          "data": {
            "text/plain": [
              "Text(0.5, 1.0, 'Cost versus Iteration')"
            ]
          },
          "metadata": {
            "tags": []
          },
          "execution_count": 17
        },
        {
          "output_type": "display_data",
          "data": {
            "image/png": "[encoded data removed]",
            "text/plain": [
              "<Figure size 432x288 with 1 Axes>"
            ]
          },
          "metadata": {
            "tags": [],
            "needs_background": "light"
          }
        }
      ]
    },
    {
      "cell_type": "code",
      "metadata": {
        "id": "o8fEItQDy0NK",
        "colab_type": "code",
        "colab": {
          "base_uri": "https://localhost:8080/",
          "height": 51
        },
        "outputId": "cd0e286b-04b5-4f9f-9fda-e30f62580846"
      },
      "source": [
        "new_theta"
      ],
      "execution_count": 18,
      "outputs": [
        {
          "output_type": "execute_result",
          "data": {
            "text/plain": [
              "array([[ 1.16636235],\n",
              "       [-3.63029144]])"
            ]
          },
          "metadata": {
            "tags": []
          },
          "execution_count": 18
        }
      ]
    },
    {
      "cell_type": "markdown",
      "metadata": {
        "id": "mJYfrhHFi5hs",
        "colab_type": "text"
      },
      "source": [
        "Calculation profit where the city population is 70.000, and result is around 45.000$"
      ]
    },
    {
      "cell_type": "code",
      "metadata": {
        "id": "PCIBEk9Axr07",
        "colab_type": "code",
        "colab": {
          "base_uri": "https://localhost:8080/",
          "height": 34
        },
        "outputId": "73d9977d-5e2b-44b6-8157-b383c9edee93"
      },
      "source": [
        "(np.array([7,1])).dot(new_theta)"
      ],
      "execution_count": 16,
      "outputs": [
        {
          "output_type": "execute_result",
          "data": {
            "text/plain": [
              "array([4.53424501])"
            ]
          },
          "metadata": {
            "tags": []
          },
          "execution_count": 16
        }
      ]
    },
    {
      "cell_type": "code",
      "metadata": {
        "id": "GVRTgENMrtyg",
        "colab_type": "code",
        "colab": {
          "base_uri": "https://localhost:8080/",
          "height": 295
        },
        "outputId": "dcaae924-cb76-48df-e0b0-d298ff2d99f6"
      },
      "source": [
        "x_points = [5, 22.5]\n",
        "y_points = [new_theta[0]*x + new_theta[1] for x in x_points]\n",
        "plt.scatter(x, y, color='red')\n",
        "plt.plot(x_points, y_points)\n",
        "plt.xlabel('Population of City in 10,000s')\n",
        "plt.ylabel('Profit in $10,000s')\n",
        "plt.title('Function fitting')\n",
        "plt.show()"
      ],
      "execution_count": 23,
      "outputs": [
        {
          "output_type": "display_data",
          "data": {
            "image/png": "[encoded data removed]",
            "text/plain": [
              "<Figure size 432x288 with 1 Axes>"
            ]
          },
          "metadata": {
            "tags": [],
            "needs_background": "light"
          }
        }
      ]
    }
  ]
}