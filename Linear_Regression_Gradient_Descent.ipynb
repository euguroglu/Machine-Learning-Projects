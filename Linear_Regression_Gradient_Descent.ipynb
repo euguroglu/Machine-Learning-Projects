{
  "nbformat": 4,
  "nbformat_minor": 0,
  "metadata": {
    "colab": {
      "name": "Linear_Regression_Gradient_Descent.ipynb",
      "provenance": [],
      "authorship_tag": "ABX9TyPDehHd5YXjcWUMhgWRwRbc",
      "include_colab_link": true
    },
    "kernelspec": {
      "name": "python3",
      "display_name": "Python 3"
    }
  },
  "cells": [
    {
      "cell_type": "markdown",
      "metadata": {
        "id": "view-in-github",
        "colab_type": "text"
      },
      "source": [
        "<a href=\"https://colab.research.google.com/github/euguroglu/Machine-Learning-Projects/blob/master/Linear_Regression_Gradient_Descent.ipynb\" target=\"_parent\"><img src=\"https://colab.research.google.com/assets/colab-badge.svg\" alt=\"Open In Colab\"/></a>"
      ]
    },
    {
      "cell_type": "code",
      "metadata": {
        "id": "8SsgLO6mUvkY",
        "colab_type": "code",
        "colab": {}
      },
      "source": [
        "import math\n",
        "import numpy as np\n",
        "from matplotlib import pyplot as plt"
      ],
      "execution_count": 13,
      "outputs": []
    },
    {
      "cell_type": "code",
      "metadata": {
        "id": "FyfqrqNxU-ZC",
        "colab_type": "code",
        "colab": {}
      },
      "source": [
        "from google.colab import files\n",
        "uploaded = files.upload()\n",
        "data = np.loadtxt(\"ex1data1.txt\",delimiter=\",\")\n",
        "data"
      ],
      "execution_count": null,
      "outputs": []
    },
    {
      "cell_type": "code",
      "metadata": {
        "id": "CB35TFpBVNHC",
        "colab_type": "code",
        "colab": {
          "base_uri": "https://localhost:8080/",
          "height": 280
        },
        "outputId": "2c7326ee-c170-4ea6-a68a-68628ecc4e96"
      },
      "source": [
        "x = data[:,0]\n",
        "y = data[:,1]\n",
        "plt.scatter(x,y,color='blue')\n",
        "plt.xlabel('Population of City in 10,000s')\n",
        "plt.ylabel('Profit in $10,000s')\n",
        "plt.show()"
      ],
      "execution_count": 5,
      "outputs": [
        {
          "output_type": "display_data",
          "data": {
            "image/png": "[encoded data removed]",
            "text/plain": [
              "<Figure size 432x288 with 1 Axes>"
            ]
          },
          "metadata": {
            "tags": [],
            "needs_background": "light"
          }
        }
      ]
    },
    {
      "cell_type": "markdown",
      "metadata": {
        "id": "a1wKurKGVPUS",
        "colab_type": "text"
      },
      "source": [
        "## Gradient Descent"
      ]
    },
    {
      "cell_type": "code",
      "metadata": {
        "id": "w3qeRwmgVRbL",
        "colab_type": "code",
        "colab": {}
      },
      "source": [
        "x_matrix = x.reshape((-1,1))\n",
        "ones = np.ones((len(x),1))\n",
        "X = np.append(x_matrix,ones,axis=1)\n",
        "X"
      ],
      "execution_count": null,
      "outputs": []
    },
    {
      "cell_type": "code",
      "metadata": {
        "id": "2-9IO35PWa9v",
        "colab_type": "code",
        "colab": {}
      },
      "source": [
        "def compute_cost(X,y,theta):\n",
        "  m = len(y)\n",
        "  return  (1/(2*m))*np.sum(np.square((X.dot(theta))-y))\n",
        "\n",
        "\n"
      ],
      "execution_count": 53,
      "outputs": []
    },
    {
      "cell_type": "code",
      "metadata": {
        "id": "TXZ7L-ZjbzPY",
        "colab_type": "code",
        "colab": {}
      },
      "source": [
        "def gradient(X,y,theta,alpha,iteration):\n",
        "  m=len(y)\n",
        "  cost=[]\n",
        "  for i in range(iteration):\n",
        "    theta = theta - (alpha/m) * (X.T.dot((X.dot(theta)-y)))\n",
        "    cost.append(compute_cost(X,y,theta))\n",
        "  return theta,cost\n"
      ],
      "execution_count": 54,
      "outputs": []
    },
    {
      "cell_type": "code",
      "metadata": {
        "id": "G2_XojI7icoh",
        "colab_type": "code",
        "colab": {}
      },
      "source": [
        "theta = np.array([[0],[0]])\n",
        "(new_theta,last_cost) = gradient(X,y,theta,0.01,1500)"
      ],
      "execution_count": 55,
      "outputs": []
    },
    {
      "cell_type": "code",
      "metadata": {
        "id": "PtOSrj-tkN_v",
        "colab_type": "code",
        "colab": {
          "base_uri": "https://localhost:8080/",
          "height": 34
        },
        "outputId": "e97787ed-7786-441f-fa93-f6fa646dd8e0"
      },
      "source": [
        "last_cost[500]"
      ],
      "execution_count": 56,
      "outputs": [
        {
          "output_type": "execute_result",
          "data": {
            "text/plain": [
              "91.05713811926246"
            ]
          },
          "metadata": {
            "tags": []
          },
          "execution_count": 56
        }
      ]
    },
    {
      "cell_type": "code",
      "metadata": {
        "id": "IRrHV6pZkU4n",
        "colab_type": "code",
        "colab": {
          "base_uri": "https://localhost:8080/",
          "height": 282
        },
        "outputId": "f83573bc-d667-4660-f3d3-dcd8b9c4b25b"
      },
      "source": [
        "plt.plot(range(1500), last_cost)"
      ],
      "execution_count": 57,
      "outputs": [
        {
          "output_type": "execute_result",
          "data": {
            "text/plain": [
              "[<matplotlib.lines.Line2D at 0x7f4db36ad7b8>]"
            ]
          },
          "metadata": {
            "tags": []
          },
          "execution_count": 57
        },
        {
          "output_type": "display_data",
          "data": {
            "image/png": "[encoded data removed]",
            "text/plain": [
              "<Figure size 432x288 with 1 Axes>"
            ]
          },
          "metadata": {
            "tags": [],
            "needs_background": "light"
          }
        }
      ]
    },
    {
      "cell_type": "code",
      "metadata": {
        "id": "x4IBn622kx7C",
        "colab_type": "code",
        "colab": {}
      },
      "source": [
        ""
      ],
      "execution_count": null,
      "outputs": []
    }
  ]
}