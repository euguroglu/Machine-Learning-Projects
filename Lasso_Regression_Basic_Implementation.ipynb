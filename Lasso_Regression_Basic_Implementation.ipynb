{
  "nbformat": 4,
  "nbformat_minor": 0,
  "metadata": {
    "colab": {
      "name": "Lasso_Regression_Basic_Implementation.ipynb",
      "provenance": [],
      "authorship_tag": "ABX9TyMn/blSBWjItBJrTP43dRTF",
      "include_colab_link": true
    },
    "kernelspec": {
      "name": "python3",
      "display_name": "Python 3"
    }
  },
  "cells": [
    {
      "cell_type": "markdown",
      "metadata": {
        "id": "view-in-github",
        "colab_type": "text"
      },
      "source": [
        "<a href=\"https://colab.research.google.com/github/euguroglu/Machine-Learning-Projects/blob/master/Lasso_Regression_Basic_Implementation.ipynb\" target=\"_parent\"><img src=\"https://colab.research.google.com/assets/colab-badge.svg\" alt=\"Open In Colab\"/></a>"
      ]
    },
    {
      "cell_type": "markdown",
      "metadata": {
        "id": "BcJ5pZpjUheO",
        "colab_type": "text"
      },
      "source": [
        "## Importing libraries"
      ]
    },
    {
      "cell_type": "code",
      "metadata": {
        "id": "OpuXysmxQ9M4",
        "colab_type": "code",
        "colab": {}
      },
      "source": [
        "from sklearn.linear_model import Lasso\n",
        "import numpy as np\n",
        "import matplotlib.pyplot as plt\n",
        "import seaborn as sns\n",
        "sns.set_style('whitegrid')\n",
        "import pandas as pd"
      ],
      "execution_count": 11,
      "outputs": []
    },
    {
      "cell_type": "code",
      "metadata": {
        "id": "ZE_IevUTTjiy",
        "colab_type": "code",
        "colab": {}
      },
      "source": [
        "np.random.seed(42) # Fixing random variable\n",
        "n_samples = 100\n",
        "rng = np.random.randn(n_samples) * 10\n",
        "y_gen = 0.5 * rng + 2 * np.random.randn(n_samples)"
      ],
      "execution_count": 12,
      "outputs": []
    },
    {
      "cell_type": "code",
      "metadata": {
        "id": "CGIo5AkVUPKJ",
        "colab_type": "code",
        "colab": {}
      },
      "source": [
        "idx = rng.argmax()\n",
        "y_gen[idx] = 200\n",
        "idx = rng.argmin()\n",
        "y_gen[idx] = -200"
      ],
      "execution_count": 13,
      "outputs": []
    },
    {
      "cell_type": "markdown",
      "metadata": {
        "id": "2BQkcpuEWaxP",
        "colab_type": "text"
      },
      "source": [
        "## Lasso Regression"
      ]
    },
    {
      "cell_type": "code",
      "metadata": {
        "id": "QRDrQBP7Tams",
        "colab_type": "code",
        "colab": {
          "base_uri": "https://localhost:8080/",
          "height": 500
        },
        "outputId": "1ade6fc5-c6e4-4431-c62f-3c021d4b2963"
      },
      "source": [
        "lasso_mod = Lasso(alpha=0.4, normalize=True)\n",
        "lasso_mod.fit(rng.reshape(-1, 1), y_gen)\n",
        "lasso_model_pred = lasso_mod.predict(rng.reshape(-1,1))\n",
        "\n",
        "plt.figure(figsize=(10,8));\n",
        "plt.scatter(rng, y_gen);\n",
        "plt.plot(rng, lasso_model_pred);\n",
        "print(\"Coefficient Estimate: \", lasso_mod.coef_)"
      ],
      "execution_count": 14,
      "outputs": [
        {
          "output_type": "stream",
          "text": [
            "Coefficient Estimate:  [1.06289489]\n"
          ],
          "name": "stdout"
        },
        {
          "output_type": "display_data",
          "data": {
            "image/png": "[encoded data removed]",
            "text/plain": [
              "<Figure size 720x576 with 1 Axes>"
            ]
          },
          "metadata": {
            "tags": []
          }
        }
      ]
    }
  ]
}