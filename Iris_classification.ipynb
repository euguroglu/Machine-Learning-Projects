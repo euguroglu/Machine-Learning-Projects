{
  "nbformat": 4,
  "nbformat_minor": 0,
  "metadata": {
    "colab": {
      "name": "Iris_classification",
      "provenance": [],
      "authorship_tag": "ABX9TyNDm9lKPVN6PamXLdMMsPgU",
      "include_colab_link": true
    },
    "kernelspec": {
      "name": "python3",
      "display_name": "Python 3"
    }
  },
  "cells": [
    {
      "cell_type": "markdown",
      "metadata": {
        "id": "view-in-github",
        "colab_type": "text"
      },
      "source": [
        "<a href=\"https://colab.research.google.com/github/euguroglu/Machine-Learning-Projects/blob/master/Iris_classification.ipynb\" target=\"_parent\"><img src=\"https://colab.research.google.com/assets/colab-badge.svg\" alt=\"Open In Colab\"/></a>"
      ]
    },
    {
      "cell_type": "markdown",
      "metadata": {
        "id": "pl5jWjQP4jqO",
        "colab_type": "text"
      },
      "source": [
        "# Iris Data Visualization"
      ]
    },
    {
      "cell_type": "code",
      "metadata": {
        "id": "SZVqo_UZIgLO",
        "colab_type": "code",
        "colab": {}
      },
      "source": [
        "from sklearn import datasets\n",
        "import matplotlib.pyplot as plt\n",
        "import math"
      ],
      "execution_count": null,
      "outputs": []
    },
    {
      "cell_type": "code",
      "metadata": {
        "id": "aU5rzhKZwjhv",
        "colab_type": "code",
        "colab": {}
      },
      "source": [
        "iris = datasets.load_iris()\n",
        "print(iris.DESCR)"
      ],
      "execution_count": null,
      "outputs": []
    },
    {
      "cell_type": "code",
      "metadata": {
        "id": "Gzkp2P3ow0Lj",
        "colab_type": "code",
        "colab": {}
      },
      "source": [
        "iris.data\n",
        "iris.target"
      ],
      "execution_count": null,
      "outputs": []
    },
    {
      "cell_type": "code",
      "metadata": {
        "id": "tY31kR4Pw1Eu",
        "colab_type": "code",
        "colab": {}
      },
      "source": [
        "# Select all rows and only first two columns (sepal length/width)\n",
        "X = iris.data[:, :2]\n",
        "# Target will be used to plot samples in different colors for different species\n",
        "Y = iris.target\n",
        "plt.scatter(X[:,0], X[:,1], c=Y)\n",
        "plt.xlabel('Sepal Length (cm)')\n",
        "plt.ylabel('Sepal Width (cm)')\n",
        "plt.title('Sepal size distribution')"
      ],
      "execution_count": null,
      "outputs": []
    },
    {
      "cell_type": "code",
      "metadata": {
        "id": "D1B-URT8xTUJ",
        "colab_type": "code",
        "colab": {
          "base_uri": "https://localhost:8080/",
          "height": 312
        },
        "outputId": "6672777c-72d8-4356-cfa1-9850bf1870f3"
      },
      "source": [
        "# Select all rows and only colums 2 to 4 (petal length/width)\n",
        "Z = iris.data[:,2:4]\n",
        "# Target will be used to plot samples in different colors for different species\n",
        "Y = iris.target\n",
        "plt.scatter(Z[:,0], Z[:,1], c=Y)\n",
        "plt.xlabel('Sepal Length (cm)')\n",
        "plt.ylabel('Sepal Width (cm)')\n",
        "plt.title('Sepal size distribution')\n"
      ],
      "execution_count": null,
      "outputs": [
        {
          "output_type": "execute_result",
          "data": {
            "text/plain": [
              "Text(0.5, 1.0, 'Sepal size distribution')"
            ]
          },
          "metadata": {
            "tags": []
          },
          "execution_count": 12
        },
        {
          "output_type": "display_data",
          "data": {
            "image/png": "[encoded data removed]",
            "text/plain": [
              "<Figure size 432x288 with 1 Axes>"
            ]
          },
          "metadata": {
            "tags": [],
            "needs_background": "light"
          }
        }
      ]
    },
    {
      "cell_type": "markdown",
      "metadata": {
        "id": "7V4mCfUp4uDL",
        "colab_type": "text"
      },
      "source": [
        "# Sigmoid Activation Function"
      ]
    },
    {
      "cell_type": "code",
      "metadata": {
        "id": "wKjrJNZ94LzQ",
        "colab_type": "code",
        "colab": {}
      },
      "source": [
        "def sigmoid(z):\n",
        "  return 1/(1+math.exp(-z))"
      ],
      "execution_count": null,
      "outputs": []
    },
    {
      "cell_type": "markdown",
      "metadata": {
        "id": "P3Y7UxkNLyBI",
        "colab_type": "text"
      },
      "source": [
        "## Cost function"
      ]
    },
    {
      "cell_type": "code",
      "metadata": {
        "id": "fh7X4lXaLxIV",
        "colab_type": "code",
        "colab": {}
      },
      "source": [
        "def loss(y_train, y_predicted):\n",
        "  return -(y_train * math.log(y_predicted) + (1.0 - y_train) * math.log(1 - y_predicted))"
      ],
      "execution_count": null,
      "outputs": []
    },
    {
      "cell_type": "markdown",
      "metadata": {
        "id": "lu0jX6Df5_0V",
        "colab_type": "text"
      },
      "source": [
        "# Prediction Function"
      ]
    },
    {
      "cell_type": "code",
      "metadata": {
        "id": "PuTvu7XZ4Ur0",
        "colab_type": "code",
        "colab": {}
      },
      "source": [
        "def predic(sample):\n",
        "  result = 0\n",
        "  for i in range(len(sample)):\n",
        "    result = result + weights[i]*sample[i]\n",
        "\n",
        "  result = result + bias\n",
        "  return sigmoid(result)"
      ],
      "execution_count": 23,
      "outputs": []
    },
    {
      "cell_type": "markdown",
      "metadata": {
        "id": "4qTFjT-sIAFW",
        "colab_type": "text"
      },
      "source": [
        "## Back Propagation"
      ]
    },
    {
      "cell_type": "code",
      "metadata": {
        "id": "zryWgg-5IBJH",
        "colab_type": "code",
        "colab": {}
      },
      "source": [
        "num_features = iris.data.shape[1]\n",
        "\n",
        "def train_one_epoch(x_train_samples, y_train_samples):\n",
        "  cost = 0\n",
        "  dw = [0]*num_features\n",
        "  db = 0\n",
        "\n",
        "  global bias, weights\n",
        "\n",
        "  m=len(x_train_samples)\n",
        "  for i in range(m):\n",
        "    x_sample = x_train_samples[i]\n",
        "    y_sample = y_train_samples[i]\n",
        "    predicted = predict(x_sample)\n",
        "    cost = cost + loss(y_sample,predicted)\n",
        "\n",
        "    dz = predicted - y_train_samples\n",
        "\n",
        "    for j in range(len(weights)):\n",
        "      dw[j] = dw[j] + x_sample[j]*dz\n",
        "    db = db + dz\n",
        "  \n",
        "  cost = cost /m\n",
        "  db = db /m\n",
        "  bias = bias - learning_rate*db\n",
        "  for j in range(len(weights)):\n",
        "    dw[j] = weights[j] - learning_rate*dw[j]\n",
        "  \n",
        "  return cost"
      ],
      "execution_count": 22,
      "outputs": []
    }
  ]
}