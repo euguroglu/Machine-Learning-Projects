{
  "nbformat": 4,
  "nbformat_minor": 0,
  "metadata": {
    "colab": {
      "name": "Pytorch_Neural_Network_Iris_Classification.ipynb",
      "provenance": [],
      "authorship_tag": "ABX9TyMGeuBD1D7NbMVvOuLj/xYo",
      "include_colab_link": true
    },
    "kernelspec": {
      "name": "python3",
      "display_name": "Python 3"
    }
  },
  "cells": [
    {
      "cell_type": "markdown",
      "metadata": {
        "id": "view-in-github",
        "colab_type": "text"
      },
      "source": [
        "<a href=\"https://colab.research.google.com/github/euguroglu/Machine-Learning-Projects/blob/master/Pytorch_Neural_Network_Iris_Classification.ipynb\" target=\"_parent\"><img src=\"https://colab.research.google.com/assets/colab-badge.svg\" alt=\"Open In Colab\"/></a>"
      ]
    },
    {
      "cell_type": "markdown",
      "metadata": {
        "id": "ClkojWL65DvG",
        "colab_type": "text"
      },
      "source": [
        "## Importing libraries"
      ]
    },
    {
      "cell_type": "code",
      "metadata": {
        "id": "4pGEbSJRx6iX",
        "colab_type": "code",
        "colab": {}
      },
      "source": [
        "import torch\n",
        "import torch.nn as nn\n",
        "import torch.nn.functional as F\n",
        "import pandas as pd\n",
        "import matplotlib.pyplot as plt\n",
        "from sklearn.model_selection import train_test_split"
      ],
      "execution_count": 14,
      "outputs": []
    },
    {
      "cell_type": "markdown",
      "metadata": {
        "id": "fPKUsVJB5HpE",
        "colab_type": "text"
      },
      "source": [
        "## Neural Network Design"
      ]
    },
    {
      "cell_type": "code",
      "metadata": {
        "id": "bqqsVUQWyKMB",
        "colab_type": "code",
        "colab": {}
      },
      "source": [
        "class Model(nn.Module):\n",
        "\n",
        "  def __init__(self,in_features=4,h1=8,h2=9,out_features=3):\n",
        "    # how many layers?\n",
        "    super().__init__()\n",
        "    self.fc1 = nn.Linear(in_features,h1)\n",
        "    self.fc2 = nn.Linear(h1,h2)\n",
        "    self.out = nn.Linear(h2,out_features)\n",
        "\n",
        "    #input layer(4 feature) --> h1(N)--> h2(N) --> output(3 classes)\n",
        "    \n",
        "  def forward(self,x):\n",
        "    x = F.relu(self.fc1(x))\n",
        "    x = F.relu(self.fc2(x))\n",
        "    x = self.out(x)\n",
        "    return x\n"
      ],
      "execution_count": 2,
      "outputs": []
    },
    {
      "cell_type": "code",
      "metadata": {
        "id": "4FSCsJbg42Fl",
        "colab_type": "code",
        "colab": {}
      },
      "source": [
        "torch.manual_seed(32)\n",
        "model = Model()"
      ],
      "execution_count": 3,
      "outputs": []
    },
    {
      "cell_type": "markdown",
      "metadata": {
        "id": "wsB6-ri18Pwt",
        "colab_type": "text"
      },
      "source": [
        "Importing Data as dataframe"
      ]
    },
    {
      "cell_type": "code",
      "metadata": {
        "id": "pzLWvYcG4_6s",
        "colab_type": "code",
        "colab": {}
      },
      "source": [
        "df = pd.read_csv('iris.csv')"
      ],
      "execution_count": 6,
      "outputs": []
    },
    {
      "cell_type": "code",
      "metadata": {
        "id": "FFHl7wi18OcU",
        "colab_type": "code",
        "colab": {
          "base_uri": "https://localhost:8080/",
          "height": 204
        },
        "outputId": "e5a6124a-355b-4335-e8d0-6d3f18f9889e"
      },
      "source": [
        "df.head()"
      ],
      "execution_count": 7,
      "outputs": [
        {
          "output_type": "execute_result",
          "data": {
            "text/html": [
              "<div>\n",
              "<style scoped>\n",
              "    .dataframe tbody tr th:only-of-type {\n",
              "        vertical-align: middle;\n",
              "    }\n",
              "\n",
              "    .dataframe tbody tr th {\n",
              "        vertical-align: top;\n",
              "    }\n",
              "\n",
              "    .dataframe thead th {\n",
              "        text-align: right;\n",
              "    }\n",
              "</style>\n",
              "<table border=\"1\" class=\"dataframe\">\n",
              "  <thead>\n",
              "    <tr style=\"text-align: right;\">\n",
              "      <th></th>\n",
              "      <th>sepal length (cm)</th>\n",
              "      <th>sepal width (cm)</th>\n",
              "      <th>petal length (cm)</th>\n",
              "      <th>petal width (cm)</th>\n",
              "      <th>target</th>\n",
              "    </tr>\n",
              "  </thead>\n",
              "  <tbody>\n",
              "    <tr>\n",
              "      <th>0</th>\n",
              "      <td>5.1</td>\n",
              "      <td>3.5</td>\n",
              "      <td>1.4</td>\n",
              "      <td>0.2</td>\n",
              "      <td>0.0</td>\n",
              "    </tr>\n",
              "    <tr>\n",
              "      <th>1</th>\n",
              "      <td>4.9</td>\n",
              "      <td>3.0</td>\n",
              "      <td>1.4</td>\n",
              "      <td>0.2</td>\n",
              "      <td>0.0</td>\n",
              "    </tr>\n",
              "    <tr>\n",
              "      <th>2</th>\n",
              "      <td>4.7</td>\n",
              "      <td>3.2</td>\n",
              "      <td>1.3</td>\n",
              "      <td>0.2</td>\n",
              "      <td>0.0</td>\n",
              "    </tr>\n",
              "    <tr>\n",
              "      <th>3</th>\n",
              "      <td>4.6</td>\n",
              "      <td>3.1</td>\n",
              "      <td>1.5</td>\n",
              "      <td>0.2</td>\n",
              "      <td>0.0</td>\n",
              "    </tr>\n",
              "    <tr>\n",
              "      <th>4</th>\n",
              "      <td>5.0</td>\n",
              "      <td>3.6</td>\n",
              "      <td>1.4</td>\n",
              "      <td>0.2</td>\n",
              "      <td>0.0</td>\n",
              "    </tr>\n",
              "  </tbody>\n",
              "</table>\n",
              "</div>"
            ],
            "text/plain": [
              "   sepal length (cm)  sepal width (cm)  ...  petal width (cm)  target\n",
              "0                5.1               3.5  ...               0.2     0.0\n",
              "1                4.9               3.0  ...               0.2     0.0\n",
              "2                4.7               3.2  ...               0.2     0.0\n",
              "3                4.6               3.1  ...               0.2     0.0\n",
              "4                5.0               3.6  ...               0.2     0.0\n",
              "\n",
              "[5 rows x 5 columns]"
            ]
          },
          "metadata": {
            "tags": []
          },
          "execution_count": 7
        }
      ]
    },
    {
      "cell_type": "code",
      "metadata": {
        "id": "AB2oXZQk8Umd",
        "colab_type": "code",
        "colab": {
          "base_uri": "https://localhost:8080/",
          "height": 204
        },
        "outputId": "d1a7a5d4-54f9-43eb-f53a-4b4114241d09"
      },
      "source": [
        "df.tail()"
      ],
      "execution_count": 8,
      "outputs": [
        {
          "output_type": "execute_result",
          "data": {
            "text/html": [
              "<div>\n",
              "<style scoped>\n",
              "    .dataframe tbody tr th:only-of-type {\n",
              "        vertical-align: middle;\n",
              "    }\n",
              "\n",
              "    .dataframe tbody tr th {\n",
              "        vertical-align: top;\n",
              "    }\n",
              "\n",
              "    .dataframe thead th {\n",
              "        text-align: right;\n",
              "    }\n",
              "</style>\n",
              "<table border=\"1\" class=\"dataframe\">\n",
              "  <thead>\n",
              "    <tr style=\"text-align: right;\">\n",
              "      <th></th>\n",
              "      <th>sepal length (cm)</th>\n",
              "      <th>sepal width (cm)</th>\n",
              "      <th>petal length (cm)</th>\n",
              "      <th>petal width (cm)</th>\n",
              "      <th>target</th>\n",
              "    </tr>\n",
              "  </thead>\n",
              "  <tbody>\n",
              "    <tr>\n",
              "      <th>145</th>\n",
              "      <td>6.7</td>\n",
              "      <td>3.0</td>\n",
              "      <td>5.2</td>\n",
              "      <td>2.3</td>\n",
              "      <td>2.0</td>\n",
              "    </tr>\n",
              "    <tr>\n",
              "      <th>146</th>\n",
              "      <td>6.3</td>\n",
              "      <td>2.5</td>\n",
              "      <td>5.0</td>\n",
              "      <td>1.9</td>\n",
              "      <td>2.0</td>\n",
              "    </tr>\n",
              "    <tr>\n",
              "      <th>147</th>\n",
              "      <td>6.5</td>\n",
              "      <td>3.0</td>\n",
              "      <td>5.2</td>\n",
              "      <td>2.0</td>\n",
              "      <td>2.0</td>\n",
              "    </tr>\n",
              "    <tr>\n",
              "      <th>148</th>\n",
              "      <td>6.2</td>\n",
              "      <td>3.4</td>\n",
              "      <td>5.4</td>\n",
              "      <td>2.3</td>\n",
              "      <td>2.0</td>\n",
              "    </tr>\n",
              "    <tr>\n",
              "      <th>149</th>\n",
              "      <td>5.9</td>\n",
              "      <td>3.0</td>\n",
              "      <td>5.1</td>\n",
              "      <td>1.8</td>\n",
              "      <td>2.0</td>\n",
              "    </tr>\n",
              "  </tbody>\n",
              "</table>\n",
              "</div>"
            ],
            "text/plain": [
              "     sepal length (cm)  sepal width (cm)  ...  petal width (cm)  target\n",
              "145                6.7               3.0  ...               2.3     2.0\n",
              "146                6.3               2.5  ...               1.9     2.0\n",
              "147                6.5               3.0  ...               2.0     2.0\n",
              "148                6.2               3.4  ...               2.3     2.0\n",
              "149                5.9               3.0  ...               1.8     2.0\n",
              "\n",
              "[5 rows x 5 columns]"
            ]
          },
          "metadata": {
            "tags": []
          },
          "execution_count": 8
        }
      ]
    },
    {
      "cell_type": "markdown",
      "metadata": {
        "id": "WfeFbILD8njx",
        "colab_type": "text"
      },
      "source": [
        "## Visualization"
      ]
    },
    {
      "cell_type": "code",
      "metadata": {
        "id": "F8HayWUt8ayd",
        "colab_type": "code",
        "colab": {
          "base_uri": "https://localhost:8080/",
          "height": 521
        },
        "outputId": "826811d8-5b9a-44cc-efb4-c19c61f4a2ec"
      },
      "source": [
        "fig, axes = plt.subplots(nrows=2, ncols=2, figsize=(10,7))\n",
        "fig.tight_layout()\n",
        "\n",
        "plots = [(0,1),(2,3),(0,2),(1,3)]\n",
        "colors = ['b', 'r', 'g']\n",
        "labels = ['Iris setosa','Iris virginica','Iris versicolor']\n",
        "\n",
        "for i, ax in enumerate(axes.flat):\n",
        "    for j in range(3):\n",
        "        x = df.columns[plots[i][0]]\n",
        "        y = df.columns[plots[i][1]]\n",
        "        ax.scatter(df[df['target']==j][x], df[df['target']==j][y], color=colors[j])\n",
        "        ax.set(xlabel=x, ylabel=y)\n",
        "\n",
        "fig.legend(labels=labels, loc=3, bbox_to_anchor=(1.0,0.85))\n",
        "plt.show()"
      ],
      "execution_count": 9,
      "outputs": [
        {
          "output_type": "display_data",
          "data": {
            "image/png": "[encoded data removed]",
            "text/plain": [
              "<Figure size 720x504 with 4 Axes>"
            ]
          },
          "metadata": {
            "tags": [],
            "needs_background": "light"
          }
        }
      ]
    },
    {
      "cell_type": "markdown",
      "metadata": {
        "id": "ud5MHSdI9RTt",
        "colab_type": "text"
      },
      "source": [
        "## Data Preperation"
      ]
    },
    {
      "cell_type": "code",
      "metadata": {
        "id": "oHiKGL9p9Erm",
        "colab_type": "code",
        "colab": {}
      },
      "source": [
        "X = df.drop('target',axis=1)\n",
        "y = df['target']"
      ],
      "execution_count": 11,
      "outputs": []
    },
    {
      "cell_type": "markdown",
      "metadata": {
        "id": "mQfppfT59bBk",
        "colab_type": "text"
      },
      "source": [
        "To be able to convert data to tensor we need to first convert them into numpy arrays as like below:"
      ]
    },
    {
      "cell_type": "code",
      "metadata": {
        "id": "2Idw5JWs9Xek",
        "colab_type": "code",
        "colab": {}
      },
      "source": [
        "X = X.values\n",
        "y = y.values"
      ],
      "execution_count": 13,
      "outputs": []
    },
    {
      "cell_type": "code",
      "metadata": {
        "id": "06t1Ciyx9rbm",
        "colab_type": "code",
        "colab": {}
      },
      "source": [
        "X_train, X_test, y_train, y_test = train_test_split(X,y,test_size=0.2,random_state=33) #random state is just an arbitrary number to match split size with anyone who will use same code"
      ],
      "execution_count": 16,
      "outputs": []
    },
    {
      "cell_type": "code",
      "metadata": {
        "id": "biNfYODD-X8V",
        "colab_type": "code",
        "colab": {}
      },
      "source": [
        "X_train = torch.FloatTensor(X_train)\n",
        "X_test = torch.FloatTensor(X_test)"
      ],
      "execution_count": 17,
      "outputs": []
    },
    {
      "cell_type": "code",
      "metadata": {
        "id": "MbxDMiAe-v-8",
        "colab_type": "code",
        "colab": {}
      },
      "source": [
        "y_train = torch.LongTensor(y_train) #Used longtensor because we want targets as integers"
      ],
      "execution_count": 18,
      "outputs": []
    },
    {
      "cell_type": "code",
      "metadata": {
        "id": "gU7VQaSl-79d",
        "colab_type": "code",
        "colab": {}
      },
      "source": [
        "y_test = torch.LongTensor(y_test)"
      ],
      "execution_count": 19,
      "outputs": []
    },
    {
      "cell_type": "code",
      "metadata": {
        "id": "Q7w28pYs_Ati",
        "colab_type": "code",
        "colab": {}
      },
      "source": [
        "criterion = nn.CrossEntropyLoss()\n",
        "\n",
        "optimizer = torch.optim.Adam(model.parameters(),lr=0.01)"
      ],
      "execution_count": 20,
      "outputs": []
    },
    {
      "cell_type": "code",
      "metadata": {
        "id": "OChbzbLr_ShM",
        "colab_type": "code",
        "colab": {
          "base_uri": "https://localhost:8080/",
          "height": 187
        },
        "outputId": "599c2690-cc9a-4e1c-ea62-814855757c5e"
      },
      "source": [
        "epochs = 100\n",
        "losses = []\n",
        "\n",
        "for i in range(epochs):\n",
        "\n",
        "  # forward and get a prediction\n",
        "  y_pred = model.forward(X_train)\n",
        "  # calculate loss/error\n",
        "  loss = criterion(y_pred,y_train)\n",
        "  losses.append(loss)\n",
        "  if i%10==0:\n",
        "    print('Epoch: {} and Loss: {}'.format(i,loss))\n",
        "  #Backpropagation\n",
        "  optimizer.zero_grad()\n",
        "  loss.backward()\n",
        "  optimizer.step()"
      ],
      "execution_count": 21,
      "outputs": [
        {
          "output_type": "stream",
          "text": [
            "Epoch: 0 and Loss: 1.1507115364074707\n",
            "Epoch: 10 and Loss: 0.9377315044403076\n",
            "Epoch: 20 and Loss: 0.7798256278038025\n",
            "Epoch: 30 and Loss: 0.6099401712417603\n",
            "Epoch: 40 and Loss: 0.40079933404922485\n",
            "Epoch: 50 and Loss: 0.25436317920684814\n",
            "Epoch: 60 and Loss: 0.15053053200244904\n",
            "Epoch: 70 and Loss: 0.10086943209171295\n",
            "Epoch: 80 and Loss: 0.08128313720226288\n",
            "Epoch: 90 and Loss: 0.07231426984071732\n"
          ],
          "name": "stdout"
        }
      ]
    },
    {
      "cell_type": "code",
      "metadata": {
        "id": "kE3WR6_oBXNv",
        "colab_type": "code",
        "colab": {
          "base_uri": "https://localhost:8080/",
          "height": 299
        },
        "outputId": "1631613e-0968-403b-c5f0-d17ff6348792"
      },
      "source": [
        "plt.plot(range(epochs),losses)\n",
        "plt.ylabel('Loss')\n",
        "plt.xlabel('Epoch')"
      ],
      "execution_count": 22,
      "outputs": [
        {
          "output_type": "execute_result",
          "data": {
            "text/plain": [
              "Text(0.5, 0, 'Epoch')"
            ]
          },
          "metadata": {
            "tags": []
          },
          "execution_count": 22
        },
        {
          "output_type": "display_data",
          "data": {
            "image/png": "[encoded data removed]",
            "text/plain": [
              "<Figure size 432x288 with 1 Axes>"
            ]
          },
          "metadata": {
            "tags": [],
            "needs_background": "light"
          }
        }
      ]
    },
    {
      "cell_type": "markdown",
      "metadata": {
        "id": "Blw5BVEBCuOe",
        "colab_type": "text"
      },
      "source": [
        "Attention that 'with torch.no_grad()' is very important command to say pytorch there is no optimization required on test evaluation phase"
      ]
    },
    {
      "cell_type": "code",
      "metadata": {
        "id": "lyNTxGPnCSiZ",
        "colab_type": "code",
        "colab": {}
      },
      "source": [
        "with torch.no_grad(): \n",
        "  y_eval = model.forward(X_test)\n",
        "  loss = criterion(y_eval,y_test)"
      ],
      "execution_count": 24,
      "outputs": []
    },
    {
      "cell_type": "code",
      "metadata": {
        "id": "r2Ob-OVeDOUr",
        "colab_type": "code",
        "colab": {
          "base_uri": "https://localhost:8080/",
          "height": 34
        },
        "outputId": "cbb86e5b-dd72-46cf-eb72-23c56cbff70f"
      },
      "source": [
        "loss"
      ],
      "execution_count": 25,
      "outputs": [
        {
          "output_type": "execute_result",
          "data": {
            "text/plain": [
              "tensor(0.0581)"
            ]
          },
          "metadata": {
            "tags": []
          },
          "execution_count": 25
        }
      ]
    },
    {
      "cell_type": "markdown",
      "metadata": {
        "id": "B7QLI8XUHMuO",
        "colab_type": "text"
      },
      "source": [
        "## Prediction and evaluation on test data"
      ]
    },
    {
      "cell_type": "code",
      "metadata": {
        "id": "zE9HqMq_EGjb",
        "colab_type": "code",
        "colab": {
          "base_uri": "https://localhost:8080/",
          "height": 544
        },
        "outputId": "5ed0b7c5-2f95-4d0a-802a-9325569bce9c"
      },
      "source": [
        "correct = 0\n",
        "with torch.no_grad():\n",
        "\n",
        "  for i,data in enumerate(X_test):\n",
        "\n",
        "    y_val = model.forward(data)\n",
        "\n",
        "    print('{}: {} belonging class: {}'.format(i+1,str(y_val),y_test[i]))\n",
        "\n",
        "    if y_val.argmax().item() == y_test[i]:\n",
        "      correct = correct + 1\n",
        "\n",
        "print('We got {} number correct'.format(correct))"
      ],
      "execution_count": 29,
      "outputs": [
        {
          "output_type": "stream",
          "text": [
            "1: tensor([-2.1252,  4.8064, -0.8628]) belonging class: 1\n",
            "2: tensor([-1.7985,  5.3098, -1.5449]) belonging class: 1\n",
            "3: tensor([  6.3542,   0.8438, -10.0541]) belonging class: 0\n",
            "4: tensor([-3.9123,  4.5958,  1.1693]) belonging class: 1\n",
            "5: tensor([-7.4713,  3.2021,  5.7853]) belonging class: 2\n",
            "6: tensor([-10.4976,   1.6459,   9.6297]) belonging class: 2\n",
            "7: tensor([  6.3201,   0.9917, -10.1532]) belonging class: 0\n",
            "8: tensor([  7.0468,   0.7059, -10.9137]) belonging class: 0\n",
            "9: tensor([-7.2061,  3.3477,  5.3565]) belonging class: 2\n",
            "10: tensor([-9.3960,  2.5759,  8.1033]) belonging class: 2\n",
            "11: tensor([-9.8807,  2.3475,  8.7141]) belonging class: 2\n",
            "12: tensor([ 6.2748,  0.6655, -9.7613]) belonging class: 0\n",
            "13: tensor([-9.3142,  2.1880,  8.1947]) belonging class: 2\n",
            "14: tensor([-3.7803,  4.5050,  1.0752]) belonging class: 1\n",
            "15: tensor([-7.8657,  3.0117,  6.2303]) belonging class: 2\n",
            "16: tensor([-1.8867,  5.1572, -1.3345]) belonging class: 1\n",
            "17: tensor([-5.7006,  3.5030,  3.6696]) belonging class: 2\n",
            "18: tensor([  7.1789,   0.7369, -11.1350]) belonging class: 0\n",
            "19: tensor([-3.2944,  4.7931,  0.3475]) belonging class: 1\n",
            "20: tensor([-7.7665,  3.7629,  5.7095]) belonging class: 2\n",
            "21: tensor([  6.6499,   0.7889, -10.4252]) belonging class: 0\n",
            "22: tensor([  7.4357,   0.8918, -11.6600]) belonging class: 0\n",
            "23: tensor([-9.7584,  2.1744,  8.6654]) belonging class: 2\n",
            "24: tensor([  6.5770,   0.7421, -10.2733]) belonging class: 0\n",
            "25: tensor([-7.4144,  2.8719,  5.9445]) belonging class: 2\n",
            "26: tensor([-6.1551,  3.4030,  4.2300]) belonging class: 2\n",
            "27: tensor([-3.1634,  4.7460,  0.2703]) belonging class: 1\n",
            "28: tensor([-1.5446,  4.9031, -1.5557]) belonging class: 1\n",
            "29: tensor([-7.4335,  3.1101,  5.7350]) belonging class: 2\n",
            "30: tensor([-6.7037,  3.1187,  4.9595]) belonging class: 2\n",
            "We got 30 number correct\n"
          ],
          "name": "stdout"
        }
      ]
    },
    {
      "cell_type": "markdown",
      "metadata": {
        "id": "waT3TCG8IycQ",
        "colab_type": "text"
      },
      "source": [
        "## Saving model (Just weights and biases)"
      ]
    },
    {
      "cell_type": "code",
      "metadata": {
        "id": "14CI07qxIz2d",
        "colab_type": "code",
        "colab": {}
      },
      "source": [
        "torch.save(model.state_dict(),'my_iris_model.pt')"
      ],
      "execution_count": 31,
      "outputs": []
    },
    {
      "cell_type": "markdown",
      "metadata": {
        "id": "Uv556UNCJk7C",
        "colab_type": "text"
      },
      "source": [
        "## Creating existing model from pt file"
      ]
    },
    {
      "cell_type": "code",
      "metadata": {
        "id": "USff1gnKJpNH",
        "colab_type": "code",
        "colab": {
          "base_uri": "https://localhost:8080/",
          "height": 34
        },
        "outputId": "4194fa06-878b-43cf-9fcb-83e5ee91cbff"
      },
      "source": [
        "new_model = Model()\n",
        "new_model.load_state_dict(torch.load('my_iris_model.pt'))"
      ],
      "execution_count": 32,
      "outputs": [
        {
          "output_type": "execute_result",
          "data": {
            "text/plain": [
              "<All keys matched successfully>"
            ]
          },
          "metadata": {
            "tags": []
          },
          "execution_count": 32
        }
      ]
    },
    {
      "cell_type": "markdown",
      "metadata": {
        "id": "c20jQg-MJ2sQ",
        "colab_type": "text"
      },
      "source": [
        "## Checking loaded model"
      ]
    },
    {
      "cell_type": "code",
      "metadata": {
        "id": "8mu-xpL5J4p7",
        "colab_type": "code",
        "colab": {
          "base_uri": "https://localhost:8080/",
          "height": 102
        },
        "outputId": "1d169db4-b989-4033-a031-1f0d1ee642b7"
      },
      "source": [
        "new_model.eval()"
      ],
      "execution_count": 34,
      "outputs": [
        {
          "output_type": "execute_result",
          "data": {
            "text/plain": [
              "Model(\n",
              "  (fc1): Linear(in_features=4, out_features=8, bias=True)\n",
              "  (fc2): Linear(in_features=8, out_features=9, bias=True)\n",
              "  (out): Linear(in_features=9, out_features=3, bias=True)\n",
              ")"
            ]
          },
          "metadata": {
            "tags": []
          },
          "execution_count": 34
        }
      ]
    },
    {
      "cell_type": "markdown",
      "metadata": {
        "id": "aiMi2KjkKOum",
        "colab_type": "text"
      },
      "source": [
        "## Saving model (Whole model including network)"
      ]
    },
    {
      "cell_type": "code",
      "metadata": {
        "id": "wc5viIHTJ6Nr",
        "colab_type": "code",
        "colab": {}
      },
      "source": [
        "torch.save(model,'my_iris_model_whole.pt')"
      ],
      "execution_count": 35,
      "outputs": []
    },
    {
      "cell_type": "markdown",
      "metadata": {
        "id": "LS_Un8ufKlFS",
        "colab_type": "text"
      },
      "source": [
        "## Evaluation on completely new data"
      ]
    },
    {
      "cell_type": "code",
      "metadata": {
        "id": "YWX6aOdPKnz8",
        "colab_type": "code",
        "colab": {}
      },
      "source": [
        "new_iris = torch.tensor([5.6,3.7,2.2,0.5])"
      ],
      "execution_count": 39,
      "outputs": []
    },
    {
      "cell_type": "code",
      "metadata": {
        "id": "3bItTr_GK_9n",
        "colab_type": "code",
        "colab": {
          "base_uri": "https://localhost:8080/",
          "height": 521
        },
        "outputId": "94fb2cbe-211f-4cf2-bbbd-e98efd843a11"
      },
      "source": [
        "fig, axes = plt.subplots(nrows=2, ncols=2, figsize=(10,7))\n",
        "fig.tight_layout()\n",
        "\n",
        "plots = [(0,1),(2,3),(0,2),(1,3)]\n",
        "colors = ['b', 'r', 'g']\n",
        "labels = ['Iris setosa','Iris virginica','Iris versicolor']\n",
        "\n",
        "for i, ax in enumerate(axes.flat):\n",
        "    for j in range(3):\n",
        "        x = df.columns[plots[i][0]]\n",
        "        y = df.columns[plots[i][1]]\n",
        "        ax.scatter(df[df['target']==j][x], df[df['target']==j][y], color=colors[j])\n",
        "        ax.set(xlabel=x, ylabel=y)\n",
        "      \n",
        "    ax.scatter(new_iris[plots[i][0]],new_iris[plots[i][1]],color='y')\n",
        "\n",
        "fig.legend(labels=labels, loc=3, bbox_to_anchor=(1.0,0.85))\n",
        "plt.show()"
      ],
      "execution_count": 40,
      "outputs": [
        {
          "output_type": "display_data",
          "data": {
            "image/png": "[encoded data removed]",
            "text/plain": [
              "<Figure size 720x504 with 4 Axes>"
            ]
          },
          "metadata": {
            "tags": [],
            "needs_background": "light"
          }
        }
      ]
    },
    {
      "cell_type": "code",
      "metadata": {
        "id": "jqnvHm4YLlZx",
        "colab_type": "code",
        "colab": {
          "base_uri": "https://localhost:8080/",
          "height": 51
        },
        "outputId": "3f751279-a3ba-4889-851e-c37bf0ec0d04"
      },
      "source": [
        "with torch.no_grad():\n",
        "  print(new_model(new_iris))\n",
        "  print(new_model(new_iris).argmax().item())"
      ],
      "execution_count": 46,
      "outputs": [
        {
          "output_type": "stream",
          "text": [
            "tensor([  5.9522,   1.5596, -10.0054])\n",
            "0\n"
          ],
          "name": "stdout"
        }
      ]
    },
    {
      "cell_type": "code",
      "metadata": {
        "id": "rD33hZz7MCLP",
        "colab_type": "code",
        "colab": {}
      },
      "source": [
        ""
      ],
      "execution_count": null,
      "outputs": []
    }
  ]
}