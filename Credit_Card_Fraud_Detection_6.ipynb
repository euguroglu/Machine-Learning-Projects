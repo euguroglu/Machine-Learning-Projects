{
 "cells": [
  {
   "cell_type": "code",
   "execution_count": 1,
   "metadata": {},
   "outputs": [],
   "source": [
    "import numpy as np # linear algebra\n",
    "import pandas as pd # data processing, CSV file I/O (e.g. pd.read_csv)\n",
    "import seaborn as sns\n",
    "import matplotlib.pyplot as plt\n",
    "from sklearn.feature_selection import SelectKBest\n",
    "from sklearn import preprocessing\n",
    "from sklearn import metrics\n",
    "from sklearn.feature_selection import chi2\n",
    "from sklearn.model_selection import train_test_split\n",
    "from sklearn.ensemble import RandomForestClassifier\n",
    "from sklearn.metrics import accuracy_score,confusion_matrix,classification_report\n",
    "from imblearn.over_sampling import RandomOverSampler\n",
    "from sklearn.model_selection import RandomizedSearchCV, GridSearchCV\n",
    "from sklearn.linear_model import LogisticRegression\n",
    "from sklearn.naive_bayes import GaussianNB\n",
    "from sklearn import tree\n",
    "from sklearn.ensemble import AdaBoostClassifier\n",
    "from sklearn.metrics import precision_score, recall_score, accuracy_score\n",
    "from sklearn.ensemble import RandomForestClassifier, VotingClassifier\n",
    "from sklearn.svm import SVC\n",
    "from sklearn.neighbors import KNeighborsClassifier\n",
    "from sklearn.tree import DecisionTreeClassifier\n",
    "from sklearn.model_selection import StratifiedKFold\n",
    "from sklearn.model_selection import cross_val_score\n",
    "#Over Sampling and under sampling libraries\n",
    "from imblearn.over_sampling import SMOTE\n",
    "from imblearn.under_sampling import RandomUnderSampler\n",
    "from imblearn.pipeline import Pipeline\n",
    "import warnings\n",
    "warnings.filterwarnings(\"ignore\");"
   ]
  },
  {
   "cell_type": "code",
   "execution_count": 2,
   "metadata": {},
   "outputs": [],
   "source": [
    "# Train Dataset"
   ]
  },
  {
   "cell_type": "code",
   "execution_count": 3,
   "metadata": {},
   "outputs": [],
   "source": [
    "df = pd.read_csv('datasets/train.csv')\n",
    "df['label'] = df['label'].astype(int)\n",
    "df = df.drop(columns=['day','transaction_id','card'])\n",
    "df['time'] = pd.to_timedelta(df['time']).dt.total_seconds()"
   ]
  },
  {
   "cell_type": "code",
   "execution_count": 4,
   "metadata": {},
   "outputs": [],
   "source": [
    "# Test Dataset"
   ]
  },
  {
   "cell_type": "code",
   "execution_count": 11,
   "metadata": {},
   "outputs": [],
   "source": [
    "df2 = pd.read_csv('datasets/test.csv')\n",
    "df2['label'] = df2['label'].astype(int)\n",
    "df2 = df2.drop(columns=['day','transaction_id','card'])\n",
    "df2['time'] = pd.to_timedelta(df2['time']).dt.total_seconds()\n",
    "X_test = df2.drop(columns='label')\n",
    "y_test = df2['label']\n",
    "#scaler = preprocessing.StandardScaler().fit(x_test)\n",
    "#X_test = scaler.transform(x_test)\n",
    "#X_test = pd.DataFrame(X_test)"
   ]
  },
  {
   "cell_type": "code",
   "execution_count": 6,
   "metadata": {},
   "outputs": [],
   "source": [
    "X = df.drop('label',axis=1)\n",
    "#scaler = preprocessing.StandardScaler().fit(X)\n",
    "#X = scaler.transform(X)\n",
    "#X = pd.DataFrame(X)\n",
    "y = df['label']\n"
   ]
  },
  {
   "cell_type": "code",
   "execution_count": 138,
   "metadata": {},
   "outputs": [],
   "source": [
    "# Over-sampling followed by under-sampling"
   ]
  },
  {
   "cell_type": "code",
   "execution_count": 25,
   "metadata": {},
   "outputs": [],
   "source": [
    "from imblearn.combine import SMOTETomek\n",
    "smt = SMOTETomek(sampling_strategy='auto')\n",
    "X_smt, y_smt = smt.fit_sample(X, y)"
   ]
  },
  {
   "cell_type": "code",
   "execution_count": 7,
   "metadata": {},
   "outputs": [],
   "source": [
    "X_train, X_val, y_train, y_val = train_test_split(X, y, test_size=0.2, random_state=42)"
   ]
  },
  {
   "cell_type": "code",
   "execution_count": 139,
   "metadata": {},
   "outputs": [],
   "source": [
    "# Logistic Regression"
   ]
  },
  {
   "cell_type": "code",
   "execution_count": 33,
   "metadata": {},
   "outputs": [
    {
     "name": "stdout",
     "output_type": "stream",
     "text": [
      "Confusion Matrix:\n",
      " [[258249  60297]\n",
      " [ 31325 286890]]\n",
      "Accuracy:\n",
      " 0.8561124189452558\n",
      "Precision:\n",
      " 0.8263270226131739\n",
      "Recall:\n",
      " 0.9015602658579891\n",
      "AUC:\n",
      " 0.9323963565868675\n"
     ]
    },
    {
     "data": {
      "image/png": "[encoded data removed]",
      "text/plain": [
       "<Figure size 432x288 with 1 Axes>"
      ]
     },
     "metadata": {
      "needs_background": "light"
     },
     "output_type": "display_data"
    }
   ],
   "source": [
    "logreg=LogisticRegression()\n",
    "logreg.fit(X_train,y_train)\n",
    "y_logreg=logreg.predict(X_val)\n",
    "y_logreg_prob=logreg.predict_proba(X_val)[:,1]\n",
    "\n",
    "#Performance metrics evaluation\n",
    "print(\"Confusion Matrix:\\n\",metrics.confusion_matrix(y_val,y_logreg))\n",
    "print(\"Accuracy:\\n\",metrics.accuracy_score(y_val,y_logreg))\n",
    "print(\"Precision:\\n\",metrics.precision_score(y_val,y_logreg))\n",
    "print(\"Recall:\\n\",metrics.recall_score(y_val,y_logreg))\n",
    "print(\"AUC:\\n\",metrics.roc_auc_score(y_val,y_logreg_prob))\n",
    "auc=metrics.roc_auc_score(y_val,y_logreg_prob)\n",
    "\n",
    "#plotting the ROC curve\n",
    "fpr,tpr,thresholds=metrics.roc_curve(y_val,y_logreg_prob)\n",
    "plt.plot(fpr,tpr,'b', label='AUC = %0.2f'% auc)\n",
    "plt.plot([0,1],[0,1],'r-.')\n",
    "plt.xlim([-0.2,1.2])\n",
    "plt.ylim([-0.2,1.2])\n",
    "plt.title('Receiver Operating Characteristic\\nLogistic Regression')\n",
    "plt.legend(loc='lower right')\n",
    "plt.ylabel('True Positive Rate')\n",
    "plt.xlabel('False Positive Rate')\n",
    "plt.show()"
   ]
  },
  {
   "cell_type": "code",
   "execution_count": 36,
   "metadata": {},
   "outputs": [],
   "source": [
    "y_logreg_test=logreg.predict(X_test)"
   ]
  },
  {
   "cell_type": "code",
   "execution_count": 37,
   "metadata": {},
   "outputs": [],
   "source": [
    "y_logreg_prob = logreg.predict_proba(X_test)[:,1]"
   ]
  },
  {
   "cell_type": "code",
   "execution_count": 649,
   "metadata": {},
   "outputs": [],
   "source": [
    "threshold = 0.98"
   ]
  },
  {
   "cell_type": "code",
   "execution_count": 650,
   "metadata": {},
   "outputs": [],
   "source": [
    "prob_thresh = (y_logreg_prob>=threshold).astype('int')"
   ]
  },
  {
   "cell_type": "code",
   "execution_count": 651,
   "metadata": {},
   "outputs": [
    {
     "data": {
      "text/plain": [
       "array([[801808,    864],\n",
       "       [   626,     24]], dtype=int64)"
      ]
     },
     "execution_count": 651,
     "metadata": {},
     "output_type": "execute_result"
    }
   ],
   "source": [
    "CM_2_Thresh = confusion_matrix(y_test,prob_thresh)\n",
    "CM_2_Thresh"
   ]
  },
  {
   "cell_type": "code",
   "execution_count": 652,
   "metadata": {},
   "outputs": [],
   "source": [
    "TN = CM_2_Thresh[0,0]\n",
    "FP = CM_2_Thresh[0,1]\n",
    "FN = CM_2_Thresh[1,0]\n",
    "TP = CM_2_Thresh[1,1]"
   ]
  },
  {
   "cell_type": "code",
   "execution_count": 653,
   "metadata": {},
   "outputs": [
    {
     "data": {
      "text/plain": [
       "0.036923076923076927"
      ]
     },
     "execution_count": 653,
     "metadata": {},
     "output_type": "execute_result"
    }
   ],
   "source": [
    "DR = TP / (TP + FN)\n",
    "DR"
   ]
  },
  {
   "cell_type": "code",
   "execution_count": 654,
   "metadata": {},
   "outputs": [
    {
     "data": {
      "text/plain": [
       "36.0"
      ]
     },
     "execution_count": 654,
     "metadata": {},
     "output_type": "execute_result"
    }
   ],
   "source": [
    "FPR = FP / TP\n",
    "FPR"
   ]
  },
  {
   "cell_type": "code",
   "execution_count": 655,
   "metadata": {},
   "outputs": [],
   "source": [
    "DR_list = []\n",
    "FPR_list = []\n",
    "for i in range(len(thresh)):\n",
    "    threshold = thresh[i]\n",
    "    prob_thresh_knc = prob_thresh = (y_logreg_prob>=threshold).astype('int')\n",
    "    CM_2_Thresh = confusion_matrix(y_test,prob_thresh)\n",
    "    TN = CM_2_Thresh[0,0]\n",
    "    FP = CM_2_Thresh[0,1]\n",
    "    FN = CM_2_Thresh[1,0]\n",
    "    TP = CM_2_Thresh[1,1]\n",
    "    DR = TP / (TP + FN)\n",
    "    FPR = FP / TP\n",
    "    DR_list.append(DR)\n",
    "    FPR_list.append(FPR)"
   ]
  },
  {
   "cell_type": "code",
   "execution_count": 659,
   "metadata": {},
   "outputs": [
    {
     "data": {
      "image/png": "[encoded data removed]",
      "text/plain": [
       "<Figure size 432x288 with 1 Axes>"
      ]
     },
     "metadata": {
      "needs_background": "light"
     },
     "output_type": "display_data"
    }
   ],
   "source": [
    "plt.plot(DR_list,FPR_list)\n",
    "plt.xlabel('DR')\n",
    "plt.ylabel('FPR')\n",
    "plt.title('DR-FPR Logistic Regression')\n",
    "plt.axhline(y=35, color='r', linestyle='-')\n",
    "plt.show()"
   ]
  },
  {
   "cell_type": "code",
   "execution_count": 345,
   "metadata": {},
   "outputs": [],
   "source": [
    "#Hyper parameter tuning"
   ]
  },
  {
   "cell_type": "code",
   "execution_count": 233,
   "metadata": {},
   "outputs": [],
   "source": [
    "log_reg_params = {\"penalty\": ['l1', 'l2'], 'C': [0.001, 0.01, 0.1, 1, 10, 100, 1000]}"
   ]
  },
  {
   "cell_type": "code",
   "execution_count": 234,
   "metadata": {},
   "outputs": [],
   "source": [
    "grid_log_reg = GridSearchCV(logreg, log_reg_params)"
   ]
  },
  {
   "cell_type": "code",
   "execution_count": 235,
   "metadata": {},
   "outputs": [
    {
     "data": {
      "text/plain": [
       "GridSearchCV(estimator=LogisticRegression(),\n",
       "             param_grid={'C': [0.001, 0.01, 0.1, 1, 10, 100, 1000],\n",
       "                         'penalty': ['l1', 'l2']})"
      ]
     },
     "execution_count": 235,
     "metadata": {},
     "output_type": "execute_result"
    }
   ],
   "source": [
    "grid_log_reg.fit(X_train, y_train)"
   ]
  },
  {
   "cell_type": "code",
   "execution_count": 289,
   "metadata": {},
   "outputs": [],
   "source": [
    "tuned_log = grid_log_reg.predict(X_test)"
   ]
  },
  {
   "cell_type": "code",
   "execution_count": 290,
   "metadata": {},
   "outputs": [],
   "source": [
    "tuned_log_prob = grid_log_reg.predict_proba(X_test)[:,1]"
   ]
  },
  {
   "cell_type": "code",
   "execution_count": 328,
   "metadata": {},
   "outputs": [],
   "source": [
    "threshold = 0.97"
   ]
  },
  {
   "cell_type": "code",
   "execution_count": 329,
   "metadata": {},
   "outputs": [],
   "source": [
    "prob_thresh_tuned_log = (tuned_log_prob>=threshold).astype('int')"
   ]
  },
  {
   "cell_type": "code",
   "execution_count": 330,
   "metadata": {},
   "outputs": [
    {
     "data": {
      "text/plain": [
       "array([[800809,   1863],\n",
       "       [   625,     25]], dtype=int64)"
      ]
     },
     "execution_count": 330,
     "metadata": {},
     "output_type": "execute_result"
    }
   ],
   "source": [
    "CM_2_Thresh = confusion_matrix(y_test,prob_thresh_tuned_log )\n",
    "CM_2_Thresh"
   ]
  },
  {
   "cell_type": "code",
   "execution_count": 331,
   "metadata": {},
   "outputs": [],
   "source": [
    "TN = CM_2_Thresh[0,0]\n",
    "FP = CM_2_Thresh[0,1]\n",
    "FN = CM_2_Thresh[1,0]\n",
    "TP = CM_2_Thresh[1,1]"
   ]
  },
  {
   "cell_type": "code",
   "execution_count": 332,
   "metadata": {},
   "outputs": [
    {
     "data": {
      "text/plain": [
       "0.038461538461538464"
      ]
     },
     "execution_count": 332,
     "metadata": {},
     "output_type": "execute_result"
    }
   ],
   "source": [
    "DR = TP / (TP + FN)\n",
    "DR"
   ]
  },
  {
   "cell_type": "code",
   "execution_count": 327,
   "metadata": {},
   "outputs": [
    {
     "data": {
      "text/plain": [
       "33.1"
      ]
     },
     "execution_count": 327,
     "metadata": {},
     "output_type": "execute_result"
    }
   ],
   "source": [
    "FPR = FP / TP\n",
    "FPR"
   ]
  },
  {
   "cell_type": "code",
   "execution_count": 8,
   "metadata": {},
   "outputs": [
    {
     "data": {
      "text/html": [
       "<div>\n",
       "<style scoped>\n",
       "    .dataframe tbody tr th:only-of-type {\n",
       "        vertical-align: middle;\n",
       "    }\n",
       "\n",
       "    .dataframe tbody tr th {\n",
       "        vertical-align: top;\n",
       "    }\n",
       "\n",
       "    .dataframe thead th {\n",
       "        text-align: right;\n",
       "    }\n",
       "</style>\n",
       "<table border=\"1\" class=\"dataframe\">\n",
       "  <thead>\n",
       "    <tr style=\"text-align: right;\">\n",
       "      <th></th>\n",
       "      <th>time</th>\n",
       "      <th>amount</th>\n",
       "      <th>feature0</th>\n",
       "      <th>feature1</th>\n",
       "      <th>feature2</th>\n",
       "      <th>feature3</th>\n",
       "      <th>feature4</th>\n",
       "      <th>feature5</th>\n",
       "      <th>feature6</th>\n",
       "      <th>feature7</th>\n",
       "      <th>...</th>\n",
       "      <th>feature14</th>\n",
       "      <th>feature15</th>\n",
       "      <th>feature16</th>\n",
       "      <th>feature17</th>\n",
       "      <th>feature18</th>\n",
       "      <th>feature19</th>\n",
       "      <th>feature20</th>\n",
       "      <th>feature21</th>\n",
       "      <th>feature22</th>\n",
       "      <th>feature23</th>\n",
       "    </tr>\n",
       "  </thead>\n",
       "  <tbody>\n",
       "    <tr>\n",
       "      <th>532338</th>\n",
       "      <td>25473.0</td>\n",
       "      <td>200.70</td>\n",
       "      <td>-436.905041</td>\n",
       "      <td>634.329870</td>\n",
       "      <td>287.048719</td>\n",
       "      <td>-267.363913</td>\n",
       "      <td>-7.422934</td>\n",
       "      <td>49.041834</td>\n",
       "      <td>5.022581</td>\n",
       "      <td>4.297685</td>\n",
       "      <td>...</td>\n",
       "      <td>0.285447</td>\n",
       "      <td>0.269248</td>\n",
       "      <td>-0.410195</td>\n",
       "      <td>0.173407</td>\n",
       "      <td>0.254647</td>\n",
       "      <td>-0.000617</td>\n",
       "      <td>-0.003367</td>\n",
       "      <td>-0.004594</td>\n",
       "      <td>0.001135</td>\n",
       "      <td>0.000008</td>\n",
       "    </tr>\n",
       "    <tr>\n",
       "      <th>1023184</th>\n",
       "      <td>24848.0</td>\n",
       "      <td>19.50</td>\n",
       "      <td>-438.670844</td>\n",
       "      <td>644.710083</td>\n",
       "      <td>44.716115</td>\n",
       "      <td>-281.690473</td>\n",
       "      <td>-10.758717</td>\n",
       "      <td>51.384352</td>\n",
       "      <td>5.376517</td>\n",
       "      <td>3.974912</td>\n",
       "      <td>...</td>\n",
       "      <td>-0.477185</td>\n",
       "      <td>-0.322675</td>\n",
       "      <td>-0.389151</td>\n",
       "      <td>0.188269</td>\n",
       "      <td>0.248545</td>\n",
       "      <td>-0.012672</td>\n",
       "      <td>0.021323</td>\n",
       "      <td>-0.001303</td>\n",
       "      <td>0.001047</td>\n",
       "      <td>-0.000007</td>\n",
       "    </tr>\n",
       "    <tr>\n",
       "      <th>1056562</th>\n",
       "      <td>28002.0</td>\n",
       "      <td>3741.70</td>\n",
       "      <td>-429.045514</td>\n",
       "      <td>758.942271</td>\n",
       "      <td>99.127839</td>\n",
       "      <td>155.737653</td>\n",
       "      <td>7.762233</td>\n",
       "      <td>-11.313801</td>\n",
       "      <td>-3.518685</td>\n",
       "      <td>4.140258</td>\n",
       "      <td>...</td>\n",
       "      <td>-0.479494</td>\n",
       "      <td>-0.140368</td>\n",
       "      <td>0.175470</td>\n",
       "      <td>-0.006218</td>\n",
       "      <td>-0.020992</td>\n",
       "      <td>-0.009291</td>\n",
       "      <td>-0.012191</td>\n",
       "      <td>-0.000073</td>\n",
       "      <td>-0.023281</td>\n",
       "      <td>-0.000014</td>\n",
       "    </tr>\n",
       "    <tr>\n",
       "      <th>721920</th>\n",
       "      <td>30422.0</td>\n",
       "      <td>119.00</td>\n",
       "      <td>-418.922464</td>\n",
       "      <td>-321.245301</td>\n",
       "      <td>-521.829166</td>\n",
       "      <td>-94.585608</td>\n",
       "      <td>-110.403846</td>\n",
       "      <td>-61.105304</td>\n",
       "      <td>-3.434306</td>\n",
       "      <td>3.021532</td>\n",
       "      <td>...</td>\n",
       "      <td>-0.137674</td>\n",
       "      <td>-0.546866</td>\n",
       "      <td>-0.034542</td>\n",
       "      <td>-0.806804</td>\n",
       "      <td>0.017229</td>\n",
       "      <td>0.131375</td>\n",
       "      <td>-0.055138</td>\n",
       "      <td>-0.001806</td>\n",
       "      <td>0.001889</td>\n",
       "      <td>-0.000357</td>\n",
       "    </tr>\n",
       "    <tr>\n",
       "      <th>1479919</th>\n",
       "      <td>69788.0</td>\n",
       "      <td>230.00</td>\n",
       "      <td>-439.797892</td>\n",
       "      <td>752.603107</td>\n",
       "      <td>246.685200</td>\n",
       "      <td>164.492684</td>\n",
       "      <td>9.769944</td>\n",
       "      <td>-12.794531</td>\n",
       "      <td>-3.787629</td>\n",
       "      <td>-15.661775</td>\n",
       "      <td>...</td>\n",
       "      <td>0.257025</td>\n",
       "      <td>0.408549</td>\n",
       "      <td>0.160642</td>\n",
       "      <td>-0.026461</td>\n",
       "      <td>-0.021480</td>\n",
       "      <td>-0.001222</td>\n",
       "      <td>-0.032480</td>\n",
       "      <td>0.000109</td>\n",
       "      <td>-0.022572</td>\n",
       "      <td>-0.000006</td>\n",
       "    </tr>\n",
       "    <tr>\n",
       "      <th>...</th>\n",
       "      <td>...</td>\n",
       "      <td>...</td>\n",
       "      <td>...</td>\n",
       "      <td>...</td>\n",
       "      <td>...</td>\n",
       "      <td>...</td>\n",
       "      <td>...</td>\n",
       "      <td>...</td>\n",
       "      <td>...</td>\n",
       "      <td>...</td>\n",
       "      <td>...</td>\n",
       "      <td>...</td>\n",
       "      <td>...</td>\n",
       "      <td>...</td>\n",
       "      <td>...</td>\n",
       "      <td>...</td>\n",
       "      <td>...</td>\n",
       "      <td>...</td>\n",
       "      <td>...</td>\n",
       "      <td>...</td>\n",
       "      <td>...</td>\n",
       "    </tr>\n",
       "    <tr>\n",
       "      <th>259178</th>\n",
       "      <td>60658.0</td>\n",
       "      <td>58.24</td>\n",
       "      <td>-431.678256</td>\n",
       "      <td>-310.864113</td>\n",
       "      <td>-339.903649</td>\n",
       "      <td>49.953036</td>\n",
       "      <td>98.235894</td>\n",
       "      <td>-17.631681</td>\n",
       "      <td>-13.069288</td>\n",
       "      <td>-16.748434</td>\n",
       "      <td>...</td>\n",
       "      <td>-0.570372</td>\n",
       "      <td>0.089825</td>\n",
       "      <td>-0.098985</td>\n",
       "      <td>0.127622</td>\n",
       "      <td>0.054059</td>\n",
       "      <td>-0.046157</td>\n",
       "      <td>-0.118513</td>\n",
       "      <td>-0.012466</td>\n",
       "      <td>-0.006549</td>\n",
       "      <td>-0.000034</td>\n",
       "    </tr>\n",
       "    <tr>\n",
       "      <th>1414414</th>\n",
       "      <td>51363.0</td>\n",
       "      <td>18.50</td>\n",
       "      <td>-433.961939</td>\n",
       "      <td>-388.178175</td>\n",
       "      <td>47.259224</td>\n",
       "      <td>-107.314573</td>\n",
       "      <td>117.333848</td>\n",
       "      <td>-80.424735</td>\n",
       "      <td>-12.885994</td>\n",
       "      <td>3.638977</td>\n",
       "      <td>...</td>\n",
       "      <td>-0.987987</td>\n",
       "      <td>0.574118</td>\n",
       "      <td>-0.392383</td>\n",
       "      <td>-0.078016</td>\n",
       "      <td>0.530378</td>\n",
       "      <td>-0.037333</td>\n",
       "      <td>-0.078139</td>\n",
       "      <td>-0.003783</td>\n",
       "      <td>0.001643</td>\n",
       "      <td>-0.000016</td>\n",
       "    </tr>\n",
       "    <tr>\n",
       "      <th>131932</th>\n",
       "      <td>24039.0</td>\n",
       "      <td>46.90</td>\n",
       "      <td>-440.660650</td>\n",
       "      <td>644.791155</td>\n",
       "      <td>42.711718</td>\n",
       "      <td>-281.803192</td>\n",
       "      <td>-10.787255</td>\n",
       "      <td>51.402581</td>\n",
       "      <td>5.379253</td>\n",
       "      <td>3.972306</td>\n",
       "      <td>...</td>\n",
       "      <td>-0.476981</td>\n",
       "      <td>-0.322828</td>\n",
       "      <td>-0.389044</td>\n",
       "      <td>0.188275</td>\n",
       "      <td>0.248524</td>\n",
       "      <td>-0.012698</td>\n",
       "      <td>0.021429</td>\n",
       "      <td>-0.001335</td>\n",
       "      <td>-0.022996</td>\n",
       "      <td>-0.000020</td>\n",
       "    </tr>\n",
       "    <tr>\n",
       "      <th>671155</th>\n",
       "      <td>48089.0</td>\n",
       "      <td>1158.30</td>\n",
       "      <td>-422.498177</td>\n",
       "      <td>748.383111</td>\n",
       "      <td>-251.007645</td>\n",
       "      <td>-0.619649</td>\n",
       "      <td>41.382954</td>\n",
       "      <td>-165.860871</td>\n",
       "      <td>-4.978320</td>\n",
       "      <td>4.021065</td>\n",
       "      <td>...</td>\n",
       "      <td>0.483985</td>\n",
       "      <td>0.364253</td>\n",
       "      <td>0.290485</td>\n",
       "      <td>-0.054880</td>\n",
       "      <td>-0.096350</td>\n",
       "      <td>0.080098</td>\n",
       "      <td>0.029868</td>\n",
       "      <td>0.004313</td>\n",
       "      <td>0.004728</td>\n",
       "      <td>0.000024</td>\n",
       "    </tr>\n",
       "    <tr>\n",
       "      <th>121958</th>\n",
       "      <td>81619.0</td>\n",
       "      <td>1439.82</td>\n",
       "      <td>-435.874071</td>\n",
       "      <td>-319.577839</td>\n",
       "      <td>-10.585477</td>\n",
       "      <td>-132.537306</td>\n",
       "      <td>124.713904</td>\n",
       "      <td>-79.732636</td>\n",
       "      <td>-12.281012</td>\n",
       "      <td>3.570744</td>\n",
       "      <td>...</td>\n",
       "      <td>0.265845</td>\n",
       "      <td>0.631403</td>\n",
       "      <td>0.244381</td>\n",
       "      <td>1.664097</td>\n",
       "      <td>0.403282</td>\n",
       "      <td>-0.175852</td>\n",
       "      <td>-0.038447</td>\n",
       "      <td>-0.001193</td>\n",
       "      <td>-0.022495</td>\n",
       "      <td>0.000025</td>\n",
       "    </tr>\n",
       "  </tbody>\n",
       "</table>\n",
       "<p>1274476 rows × 26 columns</p>\n",
       "</div>"
      ],
      "text/plain": [
       "            time   amount    feature0    feature1    feature2    feature3  \\\n",
       "532338   25473.0   200.70 -436.905041  634.329870  287.048719 -267.363913   \n",
       "1023184  24848.0    19.50 -438.670844  644.710083   44.716115 -281.690473   \n",
       "1056562  28002.0  3741.70 -429.045514  758.942271   99.127839  155.737653   \n",
       "721920   30422.0   119.00 -418.922464 -321.245301 -521.829166  -94.585608   \n",
       "1479919  69788.0   230.00 -439.797892  752.603107  246.685200  164.492684   \n",
       "...          ...      ...         ...         ...         ...         ...   \n",
       "259178   60658.0    58.24 -431.678256 -310.864113 -339.903649   49.953036   \n",
       "1414414  51363.0    18.50 -433.961939 -388.178175   47.259224 -107.314573   \n",
       "131932   24039.0    46.90 -440.660650  644.791155   42.711718 -281.803192   \n",
       "671155   48089.0  1158.30 -422.498177  748.383111 -251.007645   -0.619649   \n",
       "121958   81619.0  1439.82 -435.874071 -319.577839  -10.585477 -132.537306   \n",
       "\n",
       "           feature4    feature5   feature6   feature7  ...  feature14  \\\n",
       "532338    -7.422934   49.041834   5.022581   4.297685  ...   0.285447   \n",
       "1023184  -10.758717   51.384352   5.376517   3.974912  ...  -0.477185   \n",
       "1056562    7.762233  -11.313801  -3.518685   4.140258  ...  -0.479494   \n",
       "721920  -110.403846  -61.105304  -3.434306   3.021532  ...  -0.137674   \n",
       "1479919    9.769944  -12.794531  -3.787629 -15.661775  ...   0.257025   \n",
       "...             ...         ...        ...        ...  ...        ...   \n",
       "259178    98.235894  -17.631681 -13.069288 -16.748434  ...  -0.570372   \n",
       "1414414  117.333848  -80.424735 -12.885994   3.638977  ...  -0.987987   \n",
       "131932   -10.787255   51.402581   5.379253   3.972306  ...  -0.476981   \n",
       "671155    41.382954 -165.860871  -4.978320   4.021065  ...   0.483985   \n",
       "121958   124.713904  -79.732636 -12.281012   3.570744  ...   0.265845   \n",
       "\n",
       "         feature15  feature16  feature17  feature18  feature19  feature20  \\\n",
       "532338    0.269248  -0.410195   0.173407   0.254647  -0.000617  -0.003367   \n",
       "1023184  -0.322675  -0.389151   0.188269   0.248545  -0.012672   0.021323   \n",
       "1056562  -0.140368   0.175470  -0.006218  -0.020992  -0.009291  -0.012191   \n",
       "721920   -0.546866  -0.034542  -0.806804   0.017229   0.131375  -0.055138   \n",
       "1479919   0.408549   0.160642  -0.026461  -0.021480  -0.001222  -0.032480   \n",
       "...            ...        ...        ...        ...        ...        ...   \n",
       "259178    0.089825  -0.098985   0.127622   0.054059  -0.046157  -0.118513   \n",
       "1414414   0.574118  -0.392383  -0.078016   0.530378  -0.037333  -0.078139   \n",
       "131932   -0.322828  -0.389044   0.188275   0.248524  -0.012698   0.021429   \n",
       "671155    0.364253   0.290485  -0.054880  -0.096350   0.080098   0.029868   \n",
       "121958    0.631403   0.244381   1.664097   0.403282  -0.175852  -0.038447   \n",
       "\n",
       "         feature21  feature22  feature23  \n",
       "532338   -0.004594   0.001135   0.000008  \n",
       "1023184  -0.001303   0.001047  -0.000007  \n",
       "1056562  -0.000073  -0.023281  -0.000014  \n",
       "721920   -0.001806   0.001889  -0.000357  \n",
       "1479919   0.000109  -0.022572  -0.000006  \n",
       "...            ...        ...        ...  \n",
       "259178   -0.012466  -0.006549  -0.000034  \n",
       "1414414  -0.003783   0.001643  -0.000016  \n",
       "131932   -0.001335  -0.022996  -0.000020  \n",
       "671155    0.004313   0.004728   0.000024  \n",
       "121958   -0.001193  -0.022495   0.000025  \n",
       "\n",
       "[1274476 rows x 26 columns]"
      ]
     },
     "execution_count": 8,
     "metadata": {},
     "output_type": "execute_result"
    }
   ],
   "source": [
    "X_train"
   ]
  },
  {
   "cell_type": "code",
   "execution_count": 9,
   "metadata": {},
   "outputs": [
    {
     "name": "stdout",
     "output_type": "stream",
     "text": [
      "Confusion Matrix:\n",
      " [[318359     14]\n",
      " [    36    211]]\n",
      "Accuracy:\n",
      " 0.9998430732534053\n",
      "Precision:\n",
      " 0.9377777777777778\n",
      "Recall:\n",
      " 0.854251012145749\n",
      "AUC:\n",
      " 0.9608032711255562\n"
     ]
    },
    {
     "data": {
      "image/png": "[encoded data removed]",
      "text/plain": [
       "<Figure size 432x288 with 1 Axes>"
      ]
     },
     "metadata": {
      "needs_background": "light"
     },
     "output_type": "display_data"
    }
   ],
   "source": [
    "#Random Forest with 'entropy' criterion\n",
    "from sklearn.ensemble import RandomForestClassifier\n",
    "\n",
    "rf2=RandomForestClassifier(criterion='entropy',random_state=3)\n",
    "rf2.fit(X_train,y_train)\n",
    "y_rf2=rf2.predict(X_val)\n",
    "y_rf_prob2=rf2.predict_proba(X_val)[:,1]\n",
    "\n",
    "#Performance metrics evaluation\n",
    "print(\"Confusion Matrix:\\n\",metrics.confusion_matrix(y_val,y_rf2))\n",
    "print(\"Accuracy:\\n\",metrics.accuracy_score(y_val,y_rf2))\n",
    "print(\"Precision:\\n\",metrics.precision_score(y_val,y_rf2))\n",
    "print(\"Recall:\\n\",metrics.recall_score(y_val,y_rf2))\n",
    "print(\"AUC:\\n\",metrics.roc_auc_score(y_val,y_rf_prob2))\n",
    "auc=metrics.roc_auc_score(y_val,y_rf_prob2)\n",
    "\n",
    "#plotting the ROC curve\n",
    "fpr,tpr,thresholds=metrics.roc_curve(y_val,y_rf_prob2)\n",
    "plt.plot(fpr,tpr,'b', label='AUC = %0.2f'% auc)\n",
    "plt.plot([0,1],[0,1],'r-.')\n",
    "plt.xlim([-0.2,1.2])\n",
    "plt.ylim([-0.2,1.2])\n",
    "plt.title('Receiver Operating Characteristic\\nRandom Forest')\n",
    "plt.legend(loc='lower right')\n",
    "plt.ylabel('True Positive Rate')\n",
    "plt.xlabel('False Positive Rate')\n",
    "plt.show()"
   ]
  },
  {
   "cell_type": "code",
   "execution_count": 13,
   "metadata": {},
   "outputs": [],
   "source": [
    "y_rf_test2 =rf2.predict(X_test)"
   ]
  },
  {
   "cell_type": "code",
   "execution_count": 14,
   "metadata": {},
   "outputs": [],
   "source": [
    "y_rf_prob = rf2.predict_proba(X_test)[:,1]"
   ]
  },
  {
   "cell_type": "code",
   "execution_count": 18,
   "metadata": {},
   "outputs": [],
   "source": [
    "DR_list = []\n",
    "FPR_list = []\n",
    "for i in range(len(thresh)):\n",
    "    threshold = thresh[i]\n",
    "    prob_thresh_rf = (y_rf_prob>=threshold).astype('int')\n",
    "    CM_2_Thresh = confusion_matrix(y_test,prob_thresh_rf )\n",
    "    TN = CM_2_Thresh[0,0]\n",
    "    FP = CM_2_Thresh[0,1]\n",
    "    FN = CM_2_Thresh[1,0]\n",
    "    TP = CM_2_Thresh[1,1]\n",
    "    DR = TP / (TP + FN)\n",
    "    FPR = FP / TP\n",
    "    DR_list.append(DR)\n",
    "    FPR_list.append(FPR)"
   ]
  },
  {
   "cell_type": "code",
   "execution_count": 135,
   "metadata": {},
   "outputs": [
    {
     "data": {
      "text/plain": [
       "array([[787869,  14803],\n",
       "       [   355,    295]], dtype=int64)"
      ]
     },
     "execution_count": 135,
     "metadata": {},
     "output_type": "execute_result"
    }
   ],
   "source": [
    "CM_2_Thresh"
   ]
  },
  {
   "cell_type": "code",
   "execution_count": 19,
   "metadata": {},
   "outputs": [
    {
     "data": {
      "image/png": "[encoded data removed]",
      "text/plain": [
       "<Figure size 432x288 with 1 Axes>"
      ]
     },
     "metadata": {
      "needs_background": "light"
     },
     "output_type": "display_data"
    }
   ],
   "source": [
    "plt.plot(DR_list,FPR_list)\n",
    "plt.xlabel('DR')\n",
    "plt.ylabel('FPR')\n",
    "plt.title('DR-FPR Graph Random Forest(Entropy)')\n",
    "plt.axhline(y=35, color='r', linestyle='-')\n",
    "plt.show()"
   ]
  },
  {
   "cell_type": "code",
   "execution_count": 132,
   "metadata": {},
   "outputs": [
    {
     "data": {
      "text/plain": [
       "[1.0,\n",
       " 0.45384615384615384,\n",
       " 0.3323076923076923,\n",
       " 0.2815384615384615,\n",
       " 0.24923076923076923,\n",
       " 0.2246153846153846,\n",
       " 0.19692307692307692,\n",
       " 0.18615384615384614,\n",
       " 0.18153846153846154,\n",
       " 0.1723076923076923,\n",
       " 0.17076923076923076,\n",
       " 0.16307692307692306,\n",
       " 0.1523076923076923,\n",
       " 0.14,\n",
       " 0.13846153846153847,\n",
       " 0.13692307692307693,\n",
       " 0.13076923076923078,\n",
       " 0.12923076923076923,\n",
       " 0.12615384615384614,\n",
       " 0.12461538461538461,\n",
       " 0.12461538461538461,\n",
       " 0.12461538461538461,\n",
       " 0.12461538461538461,\n",
       " 0.12307692307692308,\n",
       " 0.12,\n",
       " 0.11384615384615385,\n",
       " 0.11076923076923077,\n",
       " 0.10923076923076923,\n",
       " 0.10923076923076923,\n",
       " 0.10923076923076923,\n",
       " 0.10615384615384615,\n",
       " 0.10615384615384615,\n",
       " 0.10615384615384615,\n",
       " 0.10615384615384615,\n",
       " 0.10615384615384615,\n",
       " 0.10615384615384615,\n",
       " 0.10615384615384615,\n",
       " 0.10615384615384615,\n",
       " 0.10615384615384615,\n",
       " 0.10615384615384615,\n",
       " 0.10615384615384615,\n",
       " 0.10615384615384615,\n",
       " 0.10615384615384615,\n",
       " 0.10615384615384615,\n",
       " 0.10615384615384615,\n",
       " 0.10615384615384615,\n",
       " 0.10615384615384615,\n",
       " 0.10307692307692308,\n",
       " 0.10307692307692308,\n",
       " 0.10307692307692308,\n",
       " 0.10307692307692308,\n",
       " 0.10307692307692308,\n",
       " 0.10307692307692308,\n",
       " 0.10307692307692308,\n",
       " 0.1,\n",
       " 0.09538461538461539,\n",
       " 0.09538461538461539,\n",
       " 0.09230769230769231,\n",
       " 0.09230769230769231,\n",
       " 0.09230769230769231,\n",
       " 0.09076923076923077,\n",
       " 0.0876923076923077,\n",
       " 0.0876923076923077,\n",
       " 0.08615384615384615,\n",
       " 0.08307692307692308,\n",
       " 0.07538461538461538,\n",
       " 0.06923076923076923,\n",
       " 0.06923076923076923,\n",
       " 0.06461538461538462,\n",
       " 0.06307692307692307,\n",
       " 0.06153846153846154,\n",
       " 0.06153846153846154,\n",
       " 0.06,\n",
       " 0.05846153846153846,\n",
       " 0.05846153846153846,\n",
       " 0.05692307692307692,\n",
       " 0.05692307692307692,\n",
       " 0.055384615384615386,\n",
       " 0.055384615384615386,\n",
       " 0.055384615384615386,\n",
       " 0.052307692307692305,\n",
       " 0.05076923076923077,\n",
       " 0.043076923076923075,\n",
       " 0.043076923076923075,\n",
       " 0.043076923076923075,\n",
       " 0.04153846153846154,\n",
       " 0.038461538461538464,\n",
       " 0.03538461538461538,\n",
       " 0.03538461538461538,\n",
       " 0.033846153846153845,\n",
       " 0.02923076923076923,\n",
       " 0.027692307692307693,\n",
       " 0.027692307692307693,\n",
       " 0.024615384615384615,\n",
       " 0.02,\n",
       " 0.018461538461538463,\n",
       " 0.018461538461538463,\n",
       " 0.016923076923076923,\n",
       " 0.015384615384615385,\n",
       " 0.012307692307692308]"
      ]
     },
     "execution_count": 132,
     "metadata": {},
     "output_type": "execute_result"
    }
   ],
   "source": [
    "DR_list"
   ]
  },
  {
   "cell_type": "code",
   "execution_count": 133,
   "metadata": {},
   "outputs": [
    {
     "data": {
      "text/plain": [
       "[1234.88,\n",
       " 50.047457627118646,\n",
       " 25.537037037037038,\n",
       " 17.51366120218579,\n",
       " 13.358024691358025,\n",
       " 10.89041095890411,\n",
       " 9.3671875,\n",
       " 8.140495867768594,\n",
       " 6.822033898305085,\n",
       " 6.258928571428571,\n",
       " 5.531531531531532,\n",
       " 5.132075471698113,\n",
       " 4.828282828282828,\n",
       " 4.549450549450549,\n",
       " 4.0777777777777775,\n",
       " 3.404494382022472,\n",
       " 3.2588235294117647,\n",
       " 3.107142857142857,\n",
       " 3.0,\n",
       " 2.8271604938271606,\n",
       " 2.654320987654321,\n",
       " 2.506172839506173,\n",
       " 2.3333333333333335,\n",
       " 2.2,\n",
       " 2.128205128205128,\n",
       " 2.135135135135135,\n",
       " 2.111111111111111,\n",
       " 2.0422535211267605,\n",
       " 1.943661971830986,\n",
       " 1.8169014084507042,\n",
       " 1.7246376811594204,\n",
       " 1.681159420289855,\n",
       " 1.6376811594202898,\n",
       " 1.536231884057971,\n",
       " 1.434782608695652,\n",
       " 1.3333333333333333,\n",
       " 1.318840579710145,\n",
       " 1.2753623188405796,\n",
       " 1.2463768115942029,\n",
       " 1.1594202898550725,\n",
       " 1.1304347826086956,\n",
       " 1.0,\n",
       " 1.0,\n",
       " 0.9710144927536232,\n",
       " 0.9420289855072463,\n",
       " 0.8840579710144928,\n",
       " 0.855072463768116,\n",
       " 0.8507462686567164,\n",
       " 0.8507462686567164,\n",
       " 0.8507462686567164,\n",
       " 0.7611940298507462,\n",
       " 0.7313432835820896,\n",
       " 0.7164179104477612,\n",
       " 0.6268656716417911,\n",
       " 0.6153846153846154,\n",
       " 0.5967741935483871,\n",
       " 0.5483870967741935,\n",
       " 0.4166666666666667,\n",
       " 0.4166666666666667,\n",
       " 0.4,\n",
       " 0.3898305084745763,\n",
       " 0.40350877192982454,\n",
       " 0.38596491228070173,\n",
       " 0.375,\n",
       " 0.3333333333333333,\n",
       " 0.3469387755102041,\n",
       " 0.35555555555555557,\n",
       " 0.3333333333333333,\n",
       " 0.3333333333333333,\n",
       " 0.3170731707317073,\n",
       " 0.325,\n",
       " 0.325,\n",
       " 0.2564102564102564,\n",
       " 0.23684210526315788,\n",
       " 0.23684210526315788,\n",
       " 0.24324324324324326,\n",
       " 0.1891891891891892,\n",
       " 0.19444444444444445,\n",
       " 0.16666666666666666,\n",
       " 0.16666666666666666,\n",
       " 0.17647058823529413,\n",
       " 0.18181818181818182,\n",
       " 0.17857142857142858,\n",
       " 0.17857142857142858,\n",
       " 0.17857142857142858,\n",
       " 0.18518518518518517,\n",
       " 0.2,\n",
       " 0.17391304347826086,\n",
       " 0.17391304347826086,\n",
       " 0.13636363636363635,\n",
       " 0.15789473684210525,\n",
       " 0.16666666666666666,\n",
       " 0.16666666666666666,\n",
       " 0.1875,\n",
       " 0.23076923076923078,\n",
       " 0.25,\n",
       " 0.25,\n",
       " 0.2727272727272727,\n",
       " 0.3,\n",
       " 0.0]"
      ]
     },
     "execution_count": 133,
     "metadata": {},
     "output_type": "execute_result"
    }
   ],
   "source": [
    "FPR_list"
   ]
  },
  {
   "cell_type": "code",
   "execution_count": 20,
   "metadata": {},
   "outputs": [
    {
     "data": {
      "text/plain": [
       "array([[802672,      0],\n",
       "       [   642,      8]], dtype=int64)"
      ]
     },
     "execution_count": 20,
     "metadata": {},
     "output_type": "execute_result"
    }
   ],
   "source": [
    "CM_2_Thresh"
   ]
  },
  {
   "cell_type": "code",
   "execution_count": 630,
   "metadata": {},
   "outputs": [
    {
     "data": {
      "text/plain": [
       "[<matplotlib.lines.Line2D at 0x1fbb8a85760>]"
      ]
     },
     "execution_count": 630,
     "metadata": {},
     "output_type": "execute_result"
    },
    {
     "data": {
      "image/png": "[encoded data removed]",
      "text/plain": [
       "<Figure size 432x288 with 2 Axes>"
      ]
     },
     "metadata": {
      "needs_background": "light"
     },
     "output_type": "display_data"
    }
   ],
   "source": [
    "fig = plt.figure()\n",
    "ax1 = fig.add_subplot(111)\n",
    "ax2 = ax1.twiny()\n",
    "\n",
    "ax1.plot(DR_list,FPR_list)"
   ]
  },
  {
   "cell_type": "code",
   "execution_count": 17,
   "metadata": {},
   "outputs": [
    {
     "data": {
      "text/plain": [
       "array([0.  , 0.01, 0.02, 0.03, 0.04, 0.05, 0.06, 0.07, 0.08, 0.09, 0.1 ,\n",
       "       0.11, 0.12, 0.13, 0.14, 0.15, 0.16, 0.17, 0.18, 0.19, 0.2 , 0.21,\n",
       "       0.22, 0.23, 0.24, 0.25, 0.26, 0.27, 0.28, 0.29, 0.3 , 0.31, 0.32,\n",
       "       0.33, 0.34, 0.35, 0.36, 0.37, 0.38, 0.39, 0.4 , 0.41, 0.42, 0.43,\n",
       "       0.44, 0.45, 0.46, 0.47, 0.48, 0.49, 0.5 , 0.51, 0.52, 0.53, 0.54,\n",
       "       0.55, 0.56, 0.57, 0.58, 0.59, 0.6 , 0.61, 0.62, 0.63, 0.64, 0.65,\n",
       "       0.66, 0.67, 0.68, 0.69, 0.7 , 0.71, 0.72, 0.73, 0.74, 0.75, 0.76,\n",
       "       0.77, 0.78, 0.79, 0.8 , 0.81, 0.82, 0.83, 0.84, 0.85, 0.86, 0.87,\n",
       "       0.88, 0.89, 0.9 , 0.91, 0.92, 0.93, 0.94, 0.95, 0.96, 0.97, 0.98,\n",
       "       0.99])"
      ]
     },
     "execution_count": 17,
     "metadata": {},
     "output_type": "execute_result"
    }
   ],
   "source": [
    "thresh"
   ]
  },
  {
   "cell_type": "code",
   "execution_count": 624,
   "metadata": {},
   "outputs": [
    {
     "data": {
      "text/plain": [
       "[1.0,\n",
       " 0.9461538461538461,\n",
       " 0.8938461538461538,\n",
       " 0.8015384615384615,\n",
       " 0.7261538461538461,\n",
       " 0.62,\n",
       " 0.5661538461538461,\n",
       " 0.5046153846153846,\n",
       " 0.4707692307692308,\n",
       " 0.4553846153846154,\n",
       " 0.42615384615384616,\n",
       " 0.4076923076923077,\n",
       " 0.38,\n",
       " 0.3476923076923077,\n",
       " 0.3261538461538461,\n",
       " 0.3046153846153846,\n",
       " 0.3,\n",
       " 0.27076923076923076,\n",
       " 0.2523076923076923,\n",
       " 0.23384615384615384,\n",
       " 0.22,\n",
       " 0.20923076923076922,\n",
       " 0.20307692307692307,\n",
       " 0.2,\n",
       " 0.1723076923076923,\n",
       " 0.1723076923076923,\n",
       " 0.1646153846153846,\n",
       " 0.14615384615384616,\n",
       " 0.14307692307692307,\n",
       " 0.12153846153846154,\n",
       " 0.11384615384615385,\n",
       " 0.11384615384615385,\n",
       " 0.09076923076923077,\n",
       " 0.08307692307692308,\n",
       " 0.08,\n",
       " 0.07076923076923076,\n",
       " 0.07076923076923076,\n",
       " 0.06923076923076923,\n",
       " 0.06769230769230769,\n",
       " 0.06461538461538462,\n",
       " 0.06153846153846154,\n",
       " 0.05692307692307692,\n",
       " 0.05692307692307692,\n",
       " 0.05692307692307692,\n",
       " 0.055384615384615386,\n",
       " 0.046153846153846156,\n",
       " 0.043076923076923075,\n",
       " 0.03538461538461538,\n",
       " 0.03538461538461538,\n",
       " 0.03230769230769231,\n",
       " 0.03076923076923077,\n",
       " 0.03076923076923077,\n",
       " 0.027692307692307693,\n",
       " 0.018461538461538463,\n",
       " 0.015384615384615385,\n",
       " 0.015384615384615385,\n",
       " 0.013846153846153847,\n",
       " 0.009230769230769232,\n",
       " 0.009230769230769232,\n",
       " 0.009230769230769232,\n",
       " 0.009230769230769232,\n",
       " 0.009230769230769232,\n",
       " 0.007692307692307693,\n",
       " 0.007692307692307693,\n",
       " 0.004615384615384616,\n",
       " 0.004615384615384616,\n",
       " 0.004615384615384616,\n",
       " 0.004615384615384616,\n",
       " 0.004615384615384616,\n",
       " 0.004615384615384616,\n",
       " 0.004615384615384616,\n",
       " 0.004615384615384616,\n",
       " 0.004615384615384616,\n",
       " 0.004615384615384616,\n",
       " 0.004615384615384616,\n",
       " 0.004615384615384616,\n",
       " 0.004615384615384616,\n",
       " 0.004615384615384616,\n",
       " 0.004615384615384616,\n",
       " 0.004615384615384616,\n",
       " 0.004615384615384616,\n",
       " 0.004615384615384616,\n",
       " 0.004615384615384616,\n",
       " 0.004615384615384616,\n",
       " 0.004615384615384616,\n",
       " 0.004615384615384616,\n",
       " 0.003076923076923077,\n",
       " 0.003076923076923077,\n",
       " 0.0015384615384615385,\n",
       " 0.0015384615384615385,\n",
       " 0.0,\n",
       " 0.0,\n",
       " 0.0,\n",
       " 0.0,\n",
       " 0.0,\n",
       " 0.0,\n",
       " 0.0,\n",
       " 0.0,\n",
       " 0.0,\n",
       " 0.0]"
      ]
     },
     "execution_count": 624,
     "metadata": {},
     "output_type": "execute_result"
    }
   ],
   "source": [
    "DR_list"
   ]
  },
  {
   "cell_type": "code",
   "execution_count": 16,
   "metadata": {},
   "outputs": [],
   "source": [
    "thresh = np.arange(0,1,0.01)"
   ]
  },
  {
   "cell_type": "code",
   "execution_count": 613,
   "metadata": {},
   "outputs": [
    {
     "data": {
      "text/plain": [
       "0.0"
      ]
     },
     "execution_count": 613,
     "metadata": {},
     "output_type": "execute_result"
    }
   ],
   "source": [
    "thresh[0]"
   ]
  },
  {
   "cell_type": "code",
   "execution_count": 181,
   "metadata": {},
   "outputs": [],
   "source": [
    "threshold = 0.02"
   ]
  },
  {
   "cell_type": "code",
   "execution_count": 182,
   "metadata": {},
   "outputs": [],
   "source": [
    "prob_thresh_rf = (y_rf_prob>=threshold).astype('int')"
   ]
  },
  {
   "cell_type": "code",
   "execution_count": 183,
   "metadata": {},
   "outputs": [
    {
     "data": {
      "text/plain": [
       "array([[797156,   5516],\n",
       "       [   434,    216]], dtype=int64)"
      ]
     },
     "execution_count": 183,
     "metadata": {},
     "output_type": "execute_result"
    }
   ],
   "source": [
    "CM_2_Thresh = confusion_matrix(y_test,prob_thresh_rf )\n",
    "CM_2_Thresh"
   ]
  },
  {
   "cell_type": "code",
   "execution_count": null,
   "metadata": {},
   "outputs": [],
   "source": []
  },
  {
   "cell_type": "code",
   "execution_count": 188,
   "metadata": {},
   "outputs": [
    {
     "data": {
      "text/plain": [
       "<AxesSubplot:>"
      ]
     },
     "execution_count": 188,
     "metadata": {},
     "output_type": "execute_result"
    },
    {
     "data": {
      "image/png": "[encoded data removed]",
      "text/plain": [
       "<Figure size 720x504 with 2 Axes>"
      ]
     },
     "metadata": {
      "needs_background": "light"
     },
     "output_type": "display_data"
    }
   ],
   "source": [
    "df_cm = pd.DataFrame(CM_2_Thresh, index = ['Actual 0','Actual 1'],\n",
    "                  columns = ['Predicted 0','Predicted 1'])\n",
    "plt.figure(figsize = (10,7))\n",
    "sns.heatmap(df_cm, annot=True,fmt=\".0f\")"
   ]
  },
  {
   "cell_type": "code",
   "execution_count": 185,
   "metadata": {},
   "outputs": [],
   "source": [
    "TN = CM_2_Thresh[0,0]\n",
    "FP = CM_2_Thresh[0,1]\n",
    "FN = CM_2_Thresh[1,0]\n",
    "TP = CM_2_Thresh[1,1]"
   ]
  },
  {
   "cell_type": "code",
   "execution_count": 186,
   "metadata": {},
   "outputs": [
    {
     "data": {
      "text/plain": [
       "0.3323076923076923"
      ]
     },
     "execution_count": 186,
     "metadata": {},
     "output_type": "execute_result"
    }
   ],
   "source": [
    "DR = TP / (TP + FN)\n",
    "DR"
   ]
  },
  {
   "cell_type": "code",
   "execution_count": 187,
   "metadata": {},
   "outputs": [
    {
     "data": {
      "text/plain": [
       "25.537037037037038"
      ]
     },
     "execution_count": 187,
     "metadata": {},
     "output_type": "execute_result"
    }
   ],
   "source": [
    "FPR = FP / TP\n",
    "FPR"
   ]
  },
  {
   "cell_type": "code",
   "execution_count": 192,
   "metadata": {},
   "outputs": [],
   "source": [
    "df3 = pd.read_csv('datasets/test.csv')"
   ]
  },
  {
   "cell_type": "code",
   "execution_count": 193,
   "metadata": {},
   "outputs": [],
   "source": [
    "id = df3['transaction_id']"
   ]
  },
  {
   "cell_type": "code",
   "execution_count": 194,
   "metadata": {},
   "outputs": [],
   "source": [
    "score = pd.Series(y_rf_prob)"
   ]
  },
  {
   "cell_type": "code",
   "execution_count": 195,
   "metadata": {},
   "outputs": [],
   "source": [
    "result = pd.concat([id,score],axis=1)"
   ]
  },
  {
   "cell_type": "code",
   "execution_count": 196,
   "metadata": {},
   "outputs": [],
   "source": [
    "result_df = pd.DataFrame(result)\n",
    "result_df.rename(columns={0:'score'},inplace=True)"
   ]
  },
  {
   "cell_type": "code",
   "execution_count": 197,
   "metadata": {},
   "outputs": [],
   "source": [
    "result_df.to_csv('result2.csv',index=False)"
   ]
  },
  {
   "cell_type": "code",
   "execution_count": 563,
   "metadata": {},
   "outputs": [
    {
     "name": "stdout",
     "output_type": "stream",
     "text": [
      "Confusion Matrix:\n",
      " [[317722    824]\n",
      " [     0 318215]]\n",
      "Accuracy:\n",
      " 0.9987059508983748\n",
      "Precision:\n",
      " 0.9974172436598661\n",
      "Recall:\n",
      " 1.0\n",
      "AUC:\n",
      " 0.9995510629481567\n"
     ]
    },
    {
     "data": {
      "image/png": "[encoded data removed]",
      "text/plain": [
       "<Figure size 432x288 with 1 Axes>"
      ]
     },
     "metadata": {
      "needs_background": "light"
     },
     "output_type": "display_data"
    }
   ],
   "source": [
    "#KNN\n",
    "\n",
    "knc=KNeighborsClassifier()\n",
    "knc.fit(X_train,y_train)\n",
    "y_knc=knc.predict(X_val)\n",
    "y_knc_prob2=knc.predict_proba(X_val)[:,1]\n",
    "\n",
    "#Performance metrics evaluation\n",
    "print(\"Confusion Matrix:\\n\",metrics.confusion_matrix(y_val,y_knc))\n",
    "print(\"Accuracy:\\n\",metrics.accuracy_score(y_val,y_knc))\n",
    "print(\"Precision:\\n\",metrics.precision_score(y_val,y_knc))\n",
    "print(\"Recall:\\n\",metrics.recall_score(y_val,y_knc))\n",
    "print(\"AUC:\\n\",metrics.roc_auc_score(y_val,y_knc_prob2))\n",
    "auc=metrics.roc_auc_score(y_val,y_knc_prob2)\n",
    "\n",
    "#plotting the ROC curve\n",
    "fpr,tpr,thresholds=metrics.roc_curve(y_val,y_knc_prob2)\n",
    "plt.plot(fpr,tpr,'b', label='AUC = %0.2f'% auc)\n",
    "plt.plot([0,1],[0,1],'r-.')\n",
    "plt.xlim([-0.2,1.2])\n",
    "plt.ylim([-0.2,1.2])\n",
    "plt.title('Receiver Operating Characteristic\\nRandom Forest')\n",
    "plt.legend(loc='lower right')\n",
    "plt.ylabel('True Positive Rate')\n",
    "plt.xlabel('False Positive Rate')\n",
    "plt.show()"
   ]
  },
  {
   "cell_type": "code",
   "execution_count": 361,
   "metadata": {},
   "outputs": [],
   "source": [
    "knc_test2 =knc.predict(X_test)"
   ]
  },
  {
   "cell_type": "code",
   "execution_count": 362,
   "metadata": {},
   "outputs": [],
   "source": [
    "knc_prob = knc.predict_proba(X_test)[:,1]"
   ]
  },
  {
   "cell_type": "code",
   "execution_count": 640,
   "metadata": {},
   "outputs": [],
   "source": [
    "threshold = 0.9"
   ]
  },
  {
   "cell_type": "code",
   "execution_count": 641,
   "metadata": {},
   "outputs": [],
   "source": [
    "prob_thresh_knc = (knc_prob>=threshold).astype('int')"
   ]
  },
  {
   "cell_type": "code",
   "execution_count": 642,
   "metadata": {},
   "outputs": [
    {
     "data": {
      "text/plain": [
       "array([[801609,   1063],\n",
       "       [   580,     70]], dtype=int64)"
      ]
     },
     "execution_count": 642,
     "metadata": {},
     "output_type": "execute_result"
    }
   ],
   "source": [
    "CM_2_Thresh = confusion_matrix(y_test,prob_thresh_knc )\n",
    "CM_2_Thresh"
   ]
  },
  {
   "cell_type": "code",
   "execution_count": 643,
   "metadata": {},
   "outputs": [],
   "source": [
    "TN = CM_2_Thresh[0,0]\n",
    "FP = CM_2_Thresh[0,1]\n",
    "FN = CM_2_Thresh[1,0]\n",
    "TP = CM_2_Thresh[1,1]"
   ]
  },
  {
   "cell_type": "code",
   "execution_count": 644,
   "metadata": {},
   "outputs": [
    {
     "data": {
      "text/plain": [
       "0.1076923076923077"
      ]
     },
     "execution_count": 644,
     "metadata": {},
     "output_type": "execute_result"
    }
   ],
   "source": [
    "DR = TP / (TP + FN)\n",
    "DR"
   ]
  },
  {
   "cell_type": "code",
   "execution_count": 645,
   "metadata": {},
   "outputs": [
    {
     "data": {
      "text/plain": [
       "15.185714285714285"
      ]
     },
     "execution_count": 645,
     "metadata": {},
     "output_type": "execute_result"
    }
   ],
   "source": [
    "FPR = FP / TP\n",
    "FPR"
   ]
  },
  {
   "cell_type": "code",
   "execution_count": 660,
   "metadata": {},
   "outputs": [],
   "source": [
    "DR_list = []\n",
    "FPR_list = []\n",
    "for i in range(len(thresh)):\n",
    "    threshold = thresh[i]\n",
    "    prob_thresh_knc = (knc_prob>=threshold).astype('int')\n",
    "    CM_2_Thresh = confusion_matrix(y_test,prob_thresh_knc )\n",
    "    TN = CM_2_Thresh[0,0]\n",
    "    FP = CM_2_Thresh[0,1]\n",
    "    FN = CM_2_Thresh[1,0]\n",
    "    TP = CM_2_Thresh[1,1]\n",
    "    DR = TP / (TP + FN)\n",
    "    FPR = FP / TP\n",
    "    DR_list.append(DR)\n",
    "    FPR_list.append(FPR)"
   ]
  },
  {
   "cell_type": "code",
   "execution_count": 661,
   "metadata": {},
   "outputs": [
    {
     "data": {
      "image/png": "[encoded data removed]",
      "text/plain": [
       "<Figure size 432x288 with 1 Axes>"
      ]
     },
     "metadata": {
      "needs_background": "light"
     },
     "output_type": "display_data"
    }
   ],
   "source": [
    "plt.plot(DR_list,FPR_list)\n",
    "plt.xlabel('DR')\n",
    "plt.ylabel('FPR')\n",
    "plt.title('DR-FPR KNN')\n",
    "plt.axhline(y=35, color='r', linestyle='-')\n",
    "plt.show()"
   ]
  },
  {
   "cell_type": "code",
   "execution_count": null,
   "metadata": {},
   "outputs": [],
   "source": []
  }
 ],
 "metadata": {
  "kernelspec": {
   "display_name": "Python 3",
   "language": "python",
   "name": "python3"
  },
  "language_info": {
   "codemirror_mode": {
    "name": "ipython",
    "version": 3
   },
   "file_extension": ".py",
   "mimetype": "text/x-python",
   "name": "python",
   "nbconvert_exporter": "python",
   "pygments_lexer": "ipython3",
   "version": "3.8.5"
  }
 },
 "nbformat": 4,
 "nbformat_minor": 4
}
