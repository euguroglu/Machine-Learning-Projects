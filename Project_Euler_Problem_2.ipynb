{
  "nbformat": 4,
  "nbformat_minor": 0,
  "metadata": {
    "colab": {
      "name": "Project_Euler_Problem_2.ipynb",
      "provenance": [],
      "authorship_tag": "ABX9TyOmcU3cWivUfvvoYq/UzFwF",
      "include_colab_link": true
    },
    "kernelspec": {
      "name": "python3",
      "display_name": "Python 3"
    }
  },
  "cells": [
    {
      "cell_type": "markdown",
      "metadata": {
        "id": "view-in-github",
        "colab_type": "text"
      },
      "source": [
        "<a href=\"https://colab.research.google.com/github/euguroglu/Machine-Learning-Projects/blob/master/Project_Euler_Problem_2.ipynb\" target=\"_parent\"><img src=\"https://colab.research.google.com/assets/colab-badge.svg\" alt=\"Open In Colab\"/></a>"
      ]
    },
    {
      "cell_type": "markdown",
      "metadata": {
        "id": "PWoo20_1XMRK",
        "colab_type": "text"
      },
      "source": [
        "## Even Fibonacci numbers"
      ]
    },
    {
      "cell_type": "code",
      "metadata": {
        "id": "j2C6WUpgMs_9",
        "colab_type": "code",
        "colab": {}
      },
      "source": [
        "def fibonacci_fun():\n",
        "  flist = [1,2]\n",
        "  flist_even = []\n",
        "  i=0\n",
        "  while (flist[i]+flist[i+1] <= 4000000):\n",
        "    flist.append((flist[i]+flist[i+1]))\n",
        "    i = i + 1\n",
        "  print(flist)\n",
        "  for j in flist:\n",
        "    if (j % 2 == 0):\n",
        "      flist_even.append(j)\n",
        "  print(flist_even)\n",
        "  return sum(flist_even)\n"
      ],
      "execution_count": 66,
      "outputs": []
    },
    {
      "cell_type": "code",
      "metadata": {
        "id": "JAgMk6VPXLYZ",
        "colab_type": "code",
        "colab": {
          "base_uri": "https://localhost:8080/",
          "height": 68
        },
        "outputId": "d2047ea1-83df-4347-b785-0db95a50620b"
      },
      "source": [
        "sum_flist_even = fibonacci_fun()\n",
        "print(sum_flist_even)"
      ],
      "execution_count": 67,
      "outputs": [
        {
          "output_type": "stream",
          "text": [
            "[1, 2, 3, 5, 8, 13, 21, 34, 55, 89, 144, 233, 377, 610, 987, 1597, 2584, 4181, 6765, 10946, 17711, 28657, 46368, 75025, 121393, 196418, 317811, 514229, 832040, 1346269, 2178309, 3524578]\n",
            "[2, 8, 34, 144, 610, 2584, 10946, 46368, 196418, 832040, 3524578]\n",
            "4613732\n"
          ],
          "name": "stdout"
        }
      ]
    },
    {
      "cell_type": "code",
      "metadata": {
        "id": "wbSy_WkVXWkT",
        "colab_type": "code",
        "colab": {}
      },
      "source": [
        ""
      ],
      "execution_count": null,
      "outputs": []
    },
    {
      "cell_type": "markdown",
      "metadata": {
        "id": "O0I7kGy6Xk_7",
        "colab_type": "text"
      },
      "source": [
        ""
      ]
    }
  ]
}