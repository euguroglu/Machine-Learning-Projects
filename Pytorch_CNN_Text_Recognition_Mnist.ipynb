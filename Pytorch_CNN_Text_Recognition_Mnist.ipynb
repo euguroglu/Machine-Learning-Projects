{
  "nbformat": 4,
  "nbformat_minor": 0,
  "metadata": {
    "colab": {
      "name": "Pytorch_CNN_Text_Recognition_Mnist.ipynb",
      "provenance": [],
      "authorship_tag": "ABX9TyP8Gqc2jULlneQD/kowd6tU",
      "include_colab_link": true
    },
    "kernelspec": {
      "name": "python3",
      "display_name": "Python 3"
    }
  },
  "cells": [
    {
      "cell_type": "markdown",
      "metadata": {
        "id": "view-in-github",
        "colab_type": "text"
      },
      "source": [
        "<a href=\"https://colab.research.google.com/github/euguroglu/Machine-Learning-Projects/blob/master/Pytorch_CNN_Text_Recognition_Mnist.ipynb\" target=\"_parent\"><img src=\"https://colab.research.google.com/assets/colab-badge.svg\" alt=\"Open In Colab\"/></a>"
      ]
    },
    {
      "cell_type": "markdown",
      "metadata": {
        "id": "BIRvkOV7ZevA",
        "colab_type": "text"
      },
      "source": [
        "## Importing libraries"
      ]
    },
    {
      "cell_type": "code",
      "metadata": {
        "id": "8xOBSJKez08A",
        "colab_type": "code",
        "colab": {}
      },
      "source": [
        "import torch\n",
        "import torch.nn as nn\n",
        "import torch.nn.functional as F\n",
        "from torch.utils.data import DataLoader\n",
        "from torchvision import datasets, transforms\n",
        "from torchvision.utils import make_grid\n",
        "import numpy as np\n",
        "import pandas as pd\n",
        "from sklearn.metrics import confusion_matrix\n",
        "import matplotlib.pyplot as plt\n"
      ],
      "execution_count": 82,
      "outputs": []
    },
    {
      "cell_type": "markdown",
      "metadata": {
        "id": "XpHYML8ZZjms",
        "colab_type": "text"
      },
      "source": [
        "## Data loading"
      ]
    },
    {
      "cell_type": "code",
      "metadata": {
        "id": "OUQKHP5PDvSP",
        "colab_type": "code",
        "colab": {}
      },
      "source": [
        "transform = transforms.ToTensor()"
      ],
      "execution_count": 83,
      "outputs": []
    },
    {
      "cell_type": "code",
      "metadata": {
        "id": "rRY1yCclD018",
        "colab_type": "code",
        "colab": {}
      },
      "source": [
        "train_data = datasets.MNIST(root='',train=True,download=True,transform=transform)"
      ],
      "execution_count": 84,
      "outputs": []
    },
    {
      "cell_type": "code",
      "metadata": {
        "id": "5rnTHiCED8Nc",
        "colab_type": "code",
        "colab": {}
      },
      "source": [
        "test_data = datasets.MNIST(root='',train=False,download=True,transform=transform)"
      ],
      "execution_count": 85,
      "outputs": []
    },
    {
      "cell_type": "code",
      "metadata": {
        "id": "qicvl_dVEMFV",
        "colab_type": "code",
        "colab": {
          "base_uri": "https://localhost:8080/",
          "height": 119
        },
        "outputId": "df73e1e1-1219-44de-a7ba-593bcf7338d6"
      },
      "source": [
        "train_data"
      ],
      "execution_count": 86,
      "outputs": [
        {
          "output_type": "execute_result",
          "data": {
            "text/plain": [
              "Dataset MNIST\n",
              "    Number of datapoints: 60000\n",
              "    Root location: \n",
              "    Split: Train\n",
              "    StandardTransform\n",
              "Transform: ToTensor()"
            ]
          },
          "metadata": {
            "tags": []
          },
          "execution_count": 86
        }
      ]
    },
    {
      "cell_type": "code",
      "metadata": {
        "id": "yE_SlueYENSd",
        "colab_type": "code",
        "colab": {
          "base_uri": "https://localhost:8080/",
          "height": 119
        },
        "outputId": "fba097d2-eb64-4d55-cac7-bbec4e2fc48c"
      },
      "source": [
        "test_data"
      ],
      "execution_count": 87,
      "outputs": [
        {
          "output_type": "execute_result",
          "data": {
            "text/plain": [
              "Dataset MNIST\n",
              "    Number of datapoints: 10000\n",
              "    Root location: \n",
              "    Split: Test\n",
              "    StandardTransform\n",
              "Transform: ToTensor()"
            ]
          },
          "metadata": {
            "tags": []
          },
          "execution_count": 87
        }
      ]
    },
    {
      "cell_type": "code",
      "metadata": {
        "id": "ArOz4HrMEO7F",
        "colab_type": "code",
        "colab": {}
      },
      "source": [
        "train_loader = DataLoader(train_data,batch_size=10,shuffle=True)\n",
        "test_loader = DataLoader(test_data,batch_size=10,shuffle=False)"
      ],
      "execution_count": 88,
      "outputs": []
    },
    {
      "cell_type": "markdown",
      "metadata": {
        "id": "-PgJy4YaE0tx",
        "colab_type": "text"
      },
      "source": [
        "## Demonstration of creating convolutional layer"
      ]
    },
    {
      "cell_type": "code",
      "metadata": {
        "id": "AotZQH7IEi4P",
        "colab_type": "code",
        "colab": {}
      },
      "source": [
        "conv1 = nn.Conv2d(1,6,3,1) # -----> 6 filters ---> pooling --> conv2\n",
        "# 1 color channel, 6 filters, 3x3 kernel , 1 stride\n",
        "conv2 = nn.Conv2d(6,16,3,1)\n",
        "# 6 input filters from conv1, 16 filters(arbitrary), 3x3 kernel, 1 stride"
      ],
      "execution_count": 89,
      "outputs": []
    },
    {
      "cell_type": "code",
      "metadata": {
        "id": "yYGJpKf5GE-1",
        "colab_type": "code",
        "colab": {
          "base_uri": "https://localhost:8080/",
          "height": 34
        },
        "outputId": "709c48c9-b9f2-4496-a50c-f00cf58f7418"
      },
      "source": [
        "for i, (X_train,y_train) in enumerate(train_data):\n",
        "  break\n",
        "\n",
        "X_train.shape "
      ],
      "execution_count": 90,
      "outputs": [
        {
          "output_type": "execute_result",
          "data": {
            "text/plain": [
              "torch.Size([1, 28, 28])"
            ]
          },
          "metadata": {
            "tags": []
          },
          "execution_count": 90
        }
      ]
    },
    {
      "cell_type": "markdown",
      "metadata": {
        "id": "c-2_aNDGGv3Y",
        "colab_type": "text"
      },
      "source": [
        "Transfrom X_train to 4d including batch size"
      ]
    },
    {
      "cell_type": "code",
      "metadata": {
        "id": "QCzsch00GUqM",
        "colab_type": "code",
        "colab": {}
      },
      "source": [
        "x = X_train.view(1,1,28,28)"
      ],
      "execution_count": 91,
      "outputs": []
    },
    {
      "cell_type": "code",
      "metadata": {
        "id": "dKBQ7vxQG2xT",
        "colab_type": "code",
        "colab": {
          "base_uri": "https://localhost:8080/",
          "height": 1000
        },
        "outputId": "d060f0a8-0899-4d73-fda0-fd8f6485e0c9"
      },
      "source": [
        "x"
      ],
      "execution_count": 92,
      "outputs": [
        {
          "output_type": "execute_result",
          "data": {
            "text/plain": [
              "tensor([[[[0.0000, 0.0000, 0.0000, 0.0000, 0.0000, 0.0000, 0.0000, 0.0000,\n",
              "           0.0000, 0.0000, 0.0000, 0.0000, 0.0000, 0.0000, 0.0000, 0.0000,\n",
              "           0.0000, 0.0000, 0.0000, 0.0000, 0.0000, 0.0000, 0.0000, 0.0000,\n",
              "           0.0000, 0.0000, 0.0000, 0.0000],\n",
              "          [0.0000, 0.0000, 0.0000, 0.0000, 0.0000, 0.0000, 0.0000, 0.0000,\n",
              "           0.0000, 0.0000, 0.0000, 0.0000, 0.0000, 0.0000, 0.0000, 0.0000,\n",
              "           0.0000, 0.0000, 0.0000, 0.0000, 0.0000, 0.0000, 0.0000, 0.0000,\n",
              "           0.0000, 0.0000, 0.0000, 0.0000],\n",
              "          [0.0000, 0.0000, 0.0000, 0.0000, 0.0000, 0.0000, 0.0000, 0.0000,\n",
              "           0.0000, 0.0000, 0.0000, 0.0000, 0.0000, 0.0000, 0.0000, 0.0000,\n",
              "           0.0000, 0.0000, 0.0000, 0.0000, 0.0000, 0.0000, 0.0000, 0.0000,\n",
              "           0.0000, 0.0000, 0.0000, 0.0000],\n",
              "          [0.0000, 0.0000, 0.0000, 0.0000, 0.0000, 0.0000, 0.0000, 0.0000,\n",
              "           0.0000, 0.0000, 0.0000, 0.0000, 0.0000, 0.0000, 0.0000, 0.0000,\n",
              "           0.0000, 0.0000, 0.0000, 0.0000, 0.0000, 0.0000, 0.0000, 0.0000,\n",
              "           0.0000, 0.0000, 0.0000, 0.0000],\n",
              "          [0.0000, 0.0000, 0.0000, 0.0000, 0.0000, 0.0000, 0.0000, 0.0000,\n",
              "           0.0000, 0.0000, 0.0000, 0.0000, 0.0000, 0.0000, 0.0000, 0.0000,\n",
              "           0.0000, 0.0000, 0.0000, 0.0000, 0.0000, 0.0000, 0.0000, 0.0000,\n",
              "           0.0000, 0.0000, 0.0000, 0.0000],\n",
              "          [0.0000, 0.0000, 0.0000, 0.0000, 0.0000, 0.0000, 0.0000, 0.0000,\n",
              "           0.0000, 0.0000, 0.0000, 0.0000, 0.0118, 0.0706, 0.0706, 0.0706,\n",
              "           0.4941, 0.5333, 0.6863, 0.1020, 0.6510, 1.0000, 0.9686, 0.4980,\n",
              "           0.0000, 0.0000, 0.0000, 0.0000],\n",
              "          [0.0000, 0.0000, 0.0000, 0.0000, 0.0000, 0.0000, 0.0000, 0.0000,\n",
              "           0.1176, 0.1412, 0.3686, 0.6039, 0.6667, 0.9922, 0.9922, 0.9922,\n",
              "           0.9922, 0.9922, 0.8824, 0.6745, 0.9922, 0.9490, 0.7647, 0.2510,\n",
              "           0.0000, 0.0000, 0.0000, 0.0000],\n",
              "          [0.0000, 0.0000, 0.0000, 0.0000, 0.0000, 0.0000, 0.0000, 0.1922,\n",
              "           0.9333, 0.9922, 0.9922, 0.9922, 0.9922, 0.9922, 0.9922, 0.9922,\n",
              "           0.9922, 0.9843, 0.3647, 0.3216, 0.3216, 0.2196, 0.1529, 0.0000,\n",
              "           0.0000, 0.0000, 0.0000, 0.0000],\n",
              "          [0.0000, 0.0000, 0.0000, 0.0000, 0.0000, 0.0000, 0.0000, 0.0706,\n",
              "           0.8588, 0.9922, 0.9922, 0.9922, 0.9922, 0.9922, 0.7765, 0.7137,\n",
              "           0.9686, 0.9451, 0.0000, 0.0000, 0.0000, 0.0000, 0.0000, 0.0000,\n",
              "           0.0000, 0.0000, 0.0000, 0.0000],\n",
              "          [0.0000, 0.0000, 0.0000, 0.0000, 0.0000, 0.0000, 0.0000, 0.0000,\n",
              "           0.3137, 0.6118, 0.4196, 0.9922, 0.9922, 0.8039, 0.0431, 0.0000,\n",
              "           0.1686, 0.6039, 0.0000, 0.0000, 0.0000, 0.0000, 0.0000, 0.0000,\n",
              "           0.0000, 0.0000, 0.0000, 0.0000],\n",
              "          [0.0000, 0.0000, 0.0000, 0.0000, 0.0000, 0.0000, 0.0000, 0.0000,\n",
              "           0.0000, 0.0549, 0.0039, 0.6039, 0.9922, 0.3529, 0.0000, 0.0000,\n",
              "           0.0000, 0.0000, 0.0000, 0.0000, 0.0000, 0.0000, 0.0000, 0.0000,\n",
              "           0.0000, 0.0000, 0.0000, 0.0000],\n",
              "          [0.0000, 0.0000, 0.0000, 0.0000, 0.0000, 0.0000, 0.0000, 0.0000,\n",
              "           0.0000, 0.0000, 0.0000, 0.5451, 0.9922, 0.7451, 0.0078, 0.0000,\n",
              "           0.0000, 0.0000, 0.0000, 0.0000, 0.0000, 0.0000, 0.0000, 0.0000,\n",
              "           0.0000, 0.0000, 0.0000, 0.0000],\n",
              "          [0.0000, 0.0000, 0.0000, 0.0000, 0.0000, 0.0000, 0.0000, 0.0000,\n",
              "           0.0000, 0.0000, 0.0000, 0.0431, 0.7451, 0.9922, 0.2745, 0.0000,\n",
              "           0.0000, 0.0000, 0.0000, 0.0000, 0.0000, 0.0000, 0.0000, 0.0000,\n",
              "           0.0000, 0.0000, 0.0000, 0.0000],\n",
              "          [0.0000, 0.0000, 0.0000, 0.0000, 0.0000, 0.0000, 0.0000, 0.0000,\n",
              "           0.0000, 0.0000, 0.0000, 0.0000, 0.1373, 0.9451, 0.8824, 0.6275,\n",
              "           0.4235, 0.0039, 0.0000, 0.0000, 0.0000, 0.0000, 0.0000, 0.0000,\n",
              "           0.0000, 0.0000, 0.0000, 0.0000],\n",
              "          [0.0000, 0.0000, 0.0000, 0.0000, 0.0000, 0.0000, 0.0000, 0.0000,\n",
              "           0.0000, 0.0000, 0.0000, 0.0000, 0.0000, 0.3176, 0.9412, 0.9922,\n",
              "           0.9922, 0.4667, 0.0980, 0.0000, 0.0000, 0.0000, 0.0000, 0.0000,\n",
              "           0.0000, 0.0000, 0.0000, 0.0000],\n",
              "          [0.0000, 0.0000, 0.0000, 0.0000, 0.0000, 0.0000, 0.0000, 0.0000,\n",
              "           0.0000, 0.0000, 0.0000, 0.0000, 0.0000, 0.0000, 0.1765, 0.7294,\n",
              "           0.9922, 0.9922, 0.5882, 0.1059, 0.0000, 0.0000, 0.0000, 0.0000,\n",
              "           0.0000, 0.0000, 0.0000, 0.0000],\n",
              "          [0.0000, 0.0000, 0.0000, 0.0000, 0.0000, 0.0000, 0.0000, 0.0000,\n",
              "           0.0000, 0.0000, 0.0000, 0.0000, 0.0000, 0.0000, 0.0000, 0.0627,\n",
              "           0.3647, 0.9882, 0.9922, 0.7333, 0.0000, 0.0000, 0.0000, 0.0000,\n",
              "           0.0000, 0.0000, 0.0000, 0.0000],\n",
              "          [0.0000, 0.0000, 0.0000, 0.0000, 0.0000, 0.0000, 0.0000, 0.0000,\n",
              "           0.0000, 0.0000, 0.0000, 0.0000, 0.0000, 0.0000, 0.0000, 0.0000,\n",
              "           0.0000, 0.9765, 0.9922, 0.9765, 0.2510, 0.0000, 0.0000, 0.0000,\n",
              "           0.0000, 0.0000, 0.0000, 0.0000],\n",
              "          [0.0000, 0.0000, 0.0000, 0.0000, 0.0000, 0.0000, 0.0000, 0.0000,\n",
              "           0.0000, 0.0000, 0.0000, 0.0000, 0.0000, 0.0000, 0.1804, 0.5098,\n",
              "           0.7176, 0.9922, 0.9922, 0.8118, 0.0078, 0.0000, 0.0000, 0.0000,\n",
              "           0.0000, 0.0000, 0.0000, 0.0000],\n",
              "          [0.0000, 0.0000, 0.0000, 0.0000, 0.0000, 0.0000, 0.0000, 0.0000,\n",
              "           0.0000, 0.0000, 0.0000, 0.0000, 0.1529, 0.5804, 0.8980, 0.9922,\n",
              "           0.9922, 0.9922, 0.9804, 0.7137, 0.0000, 0.0000, 0.0000, 0.0000,\n",
              "           0.0000, 0.0000, 0.0000, 0.0000],\n",
              "          [0.0000, 0.0000, 0.0000, 0.0000, 0.0000, 0.0000, 0.0000, 0.0000,\n",
              "           0.0000, 0.0000, 0.0941, 0.4471, 0.8667, 0.9922, 0.9922, 0.9922,\n",
              "           0.9922, 0.7882, 0.3059, 0.0000, 0.0000, 0.0000, 0.0000, 0.0000,\n",
              "           0.0000, 0.0000, 0.0000, 0.0000],\n",
              "          [0.0000, 0.0000, 0.0000, 0.0000, 0.0000, 0.0000, 0.0000, 0.0000,\n",
              "           0.0902, 0.2588, 0.8353, 0.9922, 0.9922, 0.9922, 0.9922, 0.7765,\n",
              "           0.3176, 0.0078, 0.0000, 0.0000, 0.0000, 0.0000, 0.0000, 0.0000,\n",
              "           0.0000, 0.0000, 0.0000, 0.0000],\n",
              "          [0.0000, 0.0000, 0.0000, 0.0000, 0.0000, 0.0000, 0.0706, 0.6706,\n",
              "           0.8588, 0.9922, 0.9922, 0.9922, 0.9922, 0.7647, 0.3137, 0.0353,\n",
              "           0.0000, 0.0000, 0.0000, 0.0000, 0.0000, 0.0000, 0.0000, 0.0000,\n",
              "           0.0000, 0.0000, 0.0000, 0.0000],\n",
              "          [0.0000, 0.0000, 0.0000, 0.0000, 0.2157, 0.6745, 0.8863, 0.9922,\n",
              "           0.9922, 0.9922, 0.9922, 0.9569, 0.5216, 0.0431, 0.0000, 0.0000,\n",
              "           0.0000, 0.0000, 0.0000, 0.0000, 0.0000, 0.0000, 0.0000, 0.0000,\n",
              "           0.0000, 0.0000, 0.0000, 0.0000],\n",
              "          [0.0000, 0.0000, 0.0000, 0.0000, 0.5333, 0.9922, 0.9922, 0.9922,\n",
              "           0.8314, 0.5294, 0.5176, 0.0627, 0.0000, 0.0000, 0.0000, 0.0000,\n",
              "           0.0000, 0.0000, 0.0000, 0.0000, 0.0000, 0.0000, 0.0000, 0.0000,\n",
              "           0.0000, 0.0000, 0.0000, 0.0000],\n",
              "          [0.0000, 0.0000, 0.0000, 0.0000, 0.0000, 0.0000, 0.0000, 0.0000,\n",
              "           0.0000, 0.0000, 0.0000, 0.0000, 0.0000, 0.0000, 0.0000, 0.0000,\n",
              "           0.0000, 0.0000, 0.0000, 0.0000, 0.0000, 0.0000, 0.0000, 0.0000,\n",
              "           0.0000, 0.0000, 0.0000, 0.0000],\n",
              "          [0.0000, 0.0000, 0.0000, 0.0000, 0.0000, 0.0000, 0.0000, 0.0000,\n",
              "           0.0000, 0.0000, 0.0000, 0.0000, 0.0000, 0.0000, 0.0000, 0.0000,\n",
              "           0.0000, 0.0000, 0.0000, 0.0000, 0.0000, 0.0000, 0.0000, 0.0000,\n",
              "           0.0000, 0.0000, 0.0000, 0.0000],\n",
              "          [0.0000, 0.0000, 0.0000, 0.0000, 0.0000, 0.0000, 0.0000, 0.0000,\n",
              "           0.0000, 0.0000, 0.0000, 0.0000, 0.0000, 0.0000, 0.0000, 0.0000,\n",
              "           0.0000, 0.0000, 0.0000, 0.0000, 0.0000, 0.0000, 0.0000, 0.0000,\n",
              "           0.0000, 0.0000, 0.0000, 0.0000]]]])"
            ]
          },
          "metadata": {
            "tags": []
          },
          "execution_count": 92
        }
      ]
    },
    {
      "cell_type": "code",
      "metadata": {
        "id": "3DFBqjE_G4rs",
        "colab_type": "code",
        "colab": {}
      },
      "source": [
        "x = F.relu(conv1(x))"
      ],
      "execution_count": 93,
      "outputs": []
    },
    {
      "cell_type": "code",
      "metadata": {
        "id": "GHttyjVOHFFM",
        "colab_type": "code",
        "colab": {
          "base_uri": "https://localhost:8080/",
          "height": 34
        },
        "outputId": "28902540-559b-425e-edb6-c56cf17c7080"
      },
      "source": [
        "x.shape # reduced to 26x26 because in conv layer we set padding=0 which results losing some information on the edge borders"
      ],
      "execution_count": 94,
      "outputs": [
        {
          "output_type": "execute_result",
          "data": {
            "text/plain": [
              "torch.Size([1, 6, 26, 26])"
            ]
          },
          "metadata": {
            "tags": []
          },
          "execution_count": 94
        }
      ]
    },
    {
      "cell_type": "code",
      "metadata": {
        "id": "f3gGxx1xHNoc",
        "colab_type": "code",
        "colab": {}
      },
      "source": [
        "x = F.max_pool2d(x,2,2) #2 kernel size, 2 stride"
      ],
      "execution_count": 95,
      "outputs": []
    },
    {
      "cell_type": "code",
      "metadata": {
        "id": "KrfosyjydqFf",
        "colab_type": "code",
        "colab": {
          "base_uri": "https://localhost:8080/",
          "height": 34
        },
        "outputId": "c3293a39-e5ff-4a78-f94f-de173b7e3c66"
      },
      "source": [
        "x.shape"
      ],
      "execution_count": 96,
      "outputs": [
        {
          "output_type": "execute_result",
          "data": {
            "text/plain": [
              "torch.Size([1, 6, 13, 13])"
            ]
          },
          "metadata": {
            "tags": []
          },
          "execution_count": 96
        }
      ]
    },
    {
      "cell_type": "code",
      "metadata": {
        "id": "8POV7rD-dqvr",
        "colab_type": "code",
        "colab": {}
      },
      "source": [
        "x = F.relu(conv2(x))"
      ],
      "execution_count": 97,
      "outputs": []
    },
    {
      "cell_type": "code",
      "metadata": {
        "id": "JZSQHDb-fCAT",
        "colab_type": "code",
        "colab": {
          "base_uri": "https://localhost:8080/",
          "height": 34
        },
        "outputId": "e2cea136-dfef-476d-b0a1-d0bb4d5aa0fb"
      },
      "source": [
        "x.shape"
      ],
      "execution_count": 98,
      "outputs": [
        {
          "output_type": "execute_result",
          "data": {
            "text/plain": [
              "torch.Size([1, 16, 11, 11])"
            ]
          },
          "metadata": {
            "tags": []
          },
          "execution_count": 98
        }
      ]
    },
    {
      "cell_type": "code",
      "metadata": {
        "id": "V_I1aeIvfChi",
        "colab_type": "code",
        "colab": {}
      },
      "source": [
        "x = F.max_pool2d(x,2,2)"
      ],
      "execution_count": 99,
      "outputs": []
    },
    {
      "cell_type": "code",
      "metadata": {
        "id": "-uuyrtenfIJL",
        "colab_type": "code",
        "colab": {
          "base_uri": "https://localhost:8080/",
          "height": 34
        },
        "outputId": "69314dc9-70bb-44dc-afba-0875012abc9c"
      },
      "source": [
        "x.shape"
      ],
      "execution_count": 100,
      "outputs": [
        {
          "output_type": "execute_result",
          "data": {
            "text/plain": [
              "torch.Size([1, 16, 5, 5])"
            ]
          },
          "metadata": {
            "tags": []
          },
          "execution_count": 100
        }
      ]
    },
    {
      "cell_type": "code",
      "metadata": {
        "id": "WsPw6VzgfJCi",
        "colab_type": "code",
        "colab": {
          "base_uri": "https://localhost:8080/",
          "height": 34
        },
        "outputId": "7d976a28-072f-4703-9a54-fd198b455eca"
      },
      "source": [
        "x.view(-1,16*5*5).shape"
      ],
      "execution_count": 101,
      "outputs": [
        {
          "output_type": "execute_result",
          "data": {
            "text/plain": [
              "torch.Size([1, 400])"
            ]
          },
          "metadata": {
            "tags": []
          },
          "execution_count": 101
        }
      ]
    },
    {
      "cell_type": "markdown",
      "metadata": {
        "id": "cnWgJg_0gA83",
        "colab_type": "text"
      },
      "source": [
        "## Creating CNN"
      ]
    },
    {
      "cell_type": "code",
      "metadata": {
        "id": "s2RHWlbkfuYr",
        "colab_type": "code",
        "colab": {}
      },
      "source": [
        "class ConvolutionalNetwork(nn.Module):\n",
        "\n",
        "  def __init__(self):\n",
        "    super().__init__()\n",
        "    self.conv1 = nn.Conv2d(1,6,3,1)\n",
        "    self.conv2 = nn.Conv2d(6,16,3,1)\n",
        "    self.fc1 = nn.Linear(5*5*16,120)\n",
        "    self.fc2 = nn.Linear(120,84)\n",
        "    self.fc3 = nn.Linear(84,10)\n",
        "\n",
        "  def forward(self,X):\n",
        "    X = F.relu(self.conv1(X))\n",
        "    X = F.max_pool2d(X,2,2)\n",
        "    X = F.relu(self.conv2(X))\n",
        "    X = F.max_pool2d(X,2,2)\n",
        "    X = X.view(-1,16*5*5)\n",
        "    X = F.relu(self.fc1(X))\n",
        "    X = F.relu(self.fc2(X))\n",
        "    X = self.fc3(X)\n",
        "    return F.log_softmax(X,dim=1)"
      ],
      "execution_count": 102,
      "outputs": []
    },
    {
      "cell_type": "code",
      "metadata": {
        "id": "cbRaMMhPjjXH",
        "colab_type": "code",
        "colab": {
          "base_uri": "https://localhost:8080/",
          "height": 34
        },
        "outputId": "d445a593-b32e-42d8-d455-71299bd40770"
      },
      "source": [
        "torch.manual_seed(42)"
      ],
      "execution_count": 103,
      "outputs": [
        {
          "output_type": "execute_result",
          "data": {
            "text/plain": [
              "<torch._C.Generator at 0x7fa689f900c0>"
            ]
          },
          "metadata": {
            "tags": []
          },
          "execution_count": 103
        }
      ]
    },
    {
      "cell_type": "code",
      "metadata": {
        "id": "fsGyXnhLjm2R",
        "colab_type": "code",
        "colab": {
          "base_uri": "https://localhost:8080/",
          "height": 136
        },
        "outputId": "e6f74e12-2063-4cb4-a21c-997b575755f3"
      },
      "source": [
        "model = ConvolutionalNetwork()\n",
        "model"
      ],
      "execution_count": 104,
      "outputs": [
        {
          "output_type": "execute_result",
          "data": {
            "text/plain": [
              "ConvolutionalNetwork(\n",
              "  (conv1): Conv2d(1, 6, kernel_size=(3, 3), stride=(1, 1))\n",
              "  (conv2): Conv2d(6, 16, kernel_size=(3, 3), stride=(1, 1))\n",
              "  (fc1): Linear(in_features=400, out_features=120, bias=True)\n",
              "  (fc2): Linear(in_features=120, out_features=84, bias=True)\n",
              "  (fc3): Linear(in_features=84, out_features=10, bias=True)\n",
              ")"
            ]
          },
          "metadata": {
            "tags": []
          },
          "execution_count": 104
        }
      ]
    },
    {
      "cell_type": "markdown",
      "metadata": {
        "id": "8aDelBwRj5EW",
        "colab_type": "text"
      },
      "source": [
        "## Checking how many parameters we got"
      ]
    },
    {
      "cell_type": "code",
      "metadata": {
        "id": "ssWWg4Wfjrpa",
        "colab_type": "code",
        "colab": {
          "base_uri": "https://localhost:8080/",
          "height": 187
        },
        "outputId": "698723ad-c724-4c62-9e13-251f593a0ea2"
      },
      "source": [
        "for param in model.parameters():\n",
        "  print(param.numel())"
      ],
      "execution_count": 105,
      "outputs": [
        {
          "output_type": "stream",
          "text": [
            "54\n",
            "6\n",
            "864\n",
            "16\n",
            "48000\n",
            "120\n",
            "10080\n",
            "84\n",
            "840\n",
            "10\n"
          ],
          "name": "stdout"
        }
      ]
    },
    {
      "cell_type": "markdown",
      "metadata": {
        "id": "TeeX05ZxZo1U",
        "colab_type": "text"
      },
      "source": [
        "## Defining cost function and optimization"
      ]
    },
    {
      "cell_type": "code",
      "metadata": {
        "id": "R0DdqJ8-kCFE",
        "colab_type": "code",
        "colab": {}
      },
      "source": [
        "criterion = nn.CrossEntropyLoss()\n",
        "optimizer = torch.optim.Adam(model.parameters(),lr=0.001)"
      ],
      "execution_count": 106,
      "outputs": []
    },
    {
      "cell_type": "markdown",
      "metadata": {
        "id": "ESvo-emuZtCC",
        "colab_type": "text"
      },
      "source": [
        "## Training"
      ]
    },
    {
      "cell_type": "code",
      "metadata": {
        "id": "HBmpRxPTkYih",
        "colab_type": "code",
        "colab": {
          "base_uri": "https://localhost:8080/",
          "height": 884
        },
        "outputId": "bf7d0a3e-0f3e-4f53-d0fb-9027693d5f18"
      },
      "source": [
        "import time\n",
        "start_time = time.time()\n",
        "\n",
        "#Variables (Trackers)\n",
        "epochs = 5\n",
        "train_losses = []\n",
        "test_losses = []\n",
        "train_correct = []\n",
        "test_correct = []\n",
        "accuracy = []\n",
        "\n",
        "#For loops epochs\n",
        "for i in range(epochs):\n",
        "\n",
        "  trn_corr = 0\n",
        "  tst_corr = 0\n",
        "\n",
        "\n",
        "#Train\n",
        "  for b,(X_train,y_train) in enumerate(train_loader):\n",
        "    b = b + 1\n",
        "\n",
        "    y_pred = model(X_train) #not flattening (conv)\n",
        "    loss = criterion(y_pred,y_train)\n",
        "\n",
        "    predicted = torch.max(y_pred.data,1)[1]\n",
        "    batch_corr = (predicted == y_train).sum() # True:1 / False:0 sum\n",
        "    trn_corr = trn_corr + batch_corr\n",
        "\n",
        "    optimizer.zero_grad()\n",
        "    loss.backward()\n",
        "    optimizer.step()\n",
        "\n",
        "    if (b%600 == 0):\n",
        "      print('Epoch: {} Batch: {} Loss: {} Accuracy: {}'.format(i,b,loss.item(),(trn_corr//(b/10))))\n",
        "      accuracy.append((trn_corr//(b/10)))\n",
        "  train_losses.append(loss)\n",
        "  train_correct.append(trn_corr)\n",
        "\n",
        "\n",
        "#Test\n",
        "\n",
        "  with torch.no_grad():\n",
        "    for b, (X_test,y_test) in enumerate(test_loader):\n",
        "\n",
        "      y_val = model(X_test)\n",
        "\n",
        "      predicted = torch.max(y_val.data,1)[1]\n",
        "      tst_corr = (predicted == y_test).sum()\n",
        "      \n",
        "  loss = criterion(y_val,y_test)\n",
        "  test_losses.append(loss)\n",
        "  test_correct.append(tst_corr)\n",
        "\n",
        "current_time = time.time()\n",
        "total = current_time - start_time\n",
        "print('Training took {}  minutes'.format(total/60))"
      ],
      "execution_count": 108,
      "outputs": [
        {
          "output_type": "stream",
          "text": [
            "Epoch: 0 Batch: 600 Loss: 0.19493621587753296 Accuracy: 78.0\n",
            "Epoch: 0 Batch: 1200 Loss: 0.660311222076416 Accuracy: 85.0\n",
            "Epoch: 0 Batch: 1800 Loss: 0.019781699404120445 Accuracy: 88.0\n",
            "Epoch: 0 Batch: 2400 Loss: 0.024787360802292824 Accuracy: 90.0\n",
            "Epoch: 0 Batch: 3000 Loss: 0.0068846167996525764 Accuracy: 91.0\n",
            "Epoch: 0 Batch: 3600 Loss: 0.010743791237473488 Accuracy: 92.0\n",
            "Epoch: 0 Batch: 4200 Loss: 0.06590835750102997 Accuracy: 93.0\n",
            "Epoch: 0 Batch: 4800 Loss: 0.008464288897812366 Accuracy: 93.0\n",
            "Epoch: 0 Batch: 5400 Loss: 0.0003218436904717237 Accuracy: 93.0\n",
            "Epoch: 0 Batch: 6000 Loss: 0.005068367812782526 Accuracy: 94.0\n",
            "Epoch: 1 Batch: 600 Loss: 0.022547639906406403 Accuracy: 98.0\n",
            "Epoch: 1 Batch: 1200 Loss: 0.23414397239685059 Accuracy: 97.0\n",
            "Epoch: 1 Batch: 1800 Loss: 0.14506083726882935 Accuracy: 97.0\n",
            "Epoch: 1 Batch: 2400 Loss: 0.0008040574612095952 Accuracy: 97.0\n",
            "Epoch: 1 Batch: 3000 Loss: 0.00028602249221876264 Accuracy: 97.0\n",
            "Epoch: 1 Batch: 3600 Loss: 0.21373359858989716 Accuracy: 97.0\n",
            "Epoch: 1 Batch: 4200 Loss: 0.03090762533247471 Accuracy: 97.0\n",
            "Epoch: 1 Batch: 4800 Loss: 0.2475525438785553 Accuracy: 97.0\n",
            "Epoch: 1 Batch: 5400 Loss: 0.0012232958106324077 Accuracy: 98.0\n",
            "Epoch: 1 Batch: 6000 Loss: 0.004490262363106012 Accuracy: 98.0\n",
            "Epoch: 2 Batch: 600 Loss: 0.011523697525262833 Accuracy: 98.0\n",
            "Epoch: 2 Batch: 1200 Loss: 0.0017067271983250976 Accuracy: 98.0\n",
            "Epoch: 2 Batch: 1800 Loss: 0.00016827172657940537 Accuracy: 98.0\n",
            "Epoch: 2 Batch: 2400 Loss: 0.004252977669239044 Accuracy: 98.0\n",
            "Epoch: 2 Batch: 3000 Loss: 0.10350559651851654 Accuracy: 98.0\n",
            "Epoch: 2 Batch: 3600 Loss: 9.327144653070718e-05 Accuracy: 98.0\n",
            "Epoch: 2 Batch: 4200 Loss: 0.0009700182126834989 Accuracy: 98.0\n",
            "Epoch: 2 Batch: 4800 Loss: 0.0010646635200828314 Accuracy: 98.0\n",
            "Epoch: 2 Batch: 5400 Loss: 0.0010195693466812372 Accuracy: 98.0\n",
            "Epoch: 2 Batch: 6000 Loss: 0.00039569917134940624 Accuracy: 98.0\n",
            "Epoch: 3 Batch: 600 Loss: 0.00811714492738247 Accuracy: 98.0\n",
            "Epoch: 3 Batch: 1200 Loss: 0.0005089131882414222 Accuracy: 98.0\n",
            "Epoch: 3 Batch: 1800 Loss: 0.0012453736271709204 Accuracy: 98.0\n",
            "Epoch: 3 Batch: 2400 Loss: 0.00017560305423103273 Accuracy: 98.0\n",
            "Epoch: 3 Batch: 3000 Loss: 1.800008976715617e-05 Accuracy: 98.0\n",
            "Epoch: 3 Batch: 3600 Loss: 0.002461204770952463 Accuracy: 98.0\n",
            "Epoch: 3 Batch: 4200 Loss: 0.00016210658941417933 Accuracy: 98.0\n",
            "Epoch: 3 Batch: 4800 Loss: 0.001207768451422453 Accuracy: 98.0\n",
            "Epoch: 3 Batch: 5400 Loss: 0.0011263993801549077 Accuracy: 98.0\n",
            "Epoch: 3 Batch: 6000 Loss: 0.0009960748720914125 Accuracy: 98.0\n",
            "Epoch: 4 Batch: 600 Loss: 0.002626364817842841 Accuracy: 99.0\n",
            "Epoch: 4 Batch: 1200 Loss: 0.15043818950653076 Accuracy: 99.0\n",
            "Epoch: 4 Batch: 1800 Loss: 0.005962188355624676 Accuracy: 99.0\n",
            "Epoch: 4 Batch: 2400 Loss: 9.083631994144525e-06 Accuracy: 99.0\n",
            "Epoch: 4 Batch: 3000 Loss: 0.0010904029477387667 Accuracy: 99.0\n",
            "Epoch: 4 Batch: 3600 Loss: 0.0008884886046871543 Accuracy: 99.0\n",
            "Epoch: 4 Batch: 4200 Loss: 0.0003093685954809189 Accuracy: 99.0\n",
            "Epoch: 4 Batch: 4800 Loss: 0.0001687919721007347 Accuracy: 99.0\n",
            "Epoch: 4 Batch: 5400 Loss: 0.3547429144382477 Accuracy: 99.0\n",
            "Epoch: 4 Batch: 6000 Loss: 0.0013320641592144966 Accuracy: 99.0\n",
            "Training took 3.299413712819417  minutes\n"
          ],
          "name": "stdout"
        }
      ]
    },
    {
      "cell_type": "markdown",
      "metadata": {
        "id": "E9J0Xi9LZvVb",
        "colab_type": "text"
      },
      "source": [
        "## Result"
      ]
    },
    {
      "cell_type": "code",
      "metadata": {
        "id": "NsFSdphwRbsT",
        "colab_type": "code",
        "colab": {
          "base_uri": "https://localhost:8080/",
          "height": 281
        },
        "outputId": "db1469df-19aa-4ab4-f189-c431350f9f94"
      },
      "source": [
        "plt.plot(train_losses,label='Train loss')\n",
        "plt.plot(test_losses,label='Validation loss')\n",
        "plt.title('Loss at epoch')\n",
        "plt.legend()\n",
        "plt.show()"
      ],
      "execution_count": 109,
      "outputs": [
        {
          "output_type": "display_data",
          "data": {
            "image/png": "[encoded data removed]",
            "text/plain": [
              "<Figure size 432x288 with 1 Axes>"
            ]
          },
          "metadata": {
            "tags": [],
            "needs_background": "light"
          }
        }
      ]
    },
    {
      "cell_type": "code",
      "metadata": {
        "id": "GtSjtH-cRdh6",
        "colab_type": "code",
        "colab": {
          "base_uri": "https://localhost:8080/",
          "height": 286
        },
        "outputId": "8de8101e-307a-493c-e7ce-22a4d1b5dac1"
      },
      "source": [
        "plt.plot(range(50),accuracy) # Accuracy per batch"
      ],
      "execution_count": 113,
      "outputs": [
        {
          "output_type": "execute_result",
          "data": {
            "text/plain": [
              "[<matplotlib.lines.Line2D at 0x7fa62859bda0>]"
            ]
          },
          "metadata": {
            "tags": []
          },
          "execution_count": 113
        },
        {
          "output_type": "display_data",
          "data": {
            "image/png": "[encoded data removed]",
            "text/plain": [
              "<Figure size 432x288 with 1 Axes>"
            ]
          },
          "metadata": {
            "tags": [],
            "needs_background": "light"
          }
        }
      ]
    },
    {
      "cell_type": "markdown",
      "metadata": {
        "id": "QGViktx6Zyjz",
        "colab_type": "text"
      },
      "source": [
        "## Evaluation with test data"
      ]
    },
    {
      "cell_type": "code",
      "metadata": {
        "id": "vp24B2yOV4GS",
        "colab_type": "code",
        "colab": {}
      },
      "source": [
        "test_load_all = DataLoader(test_data,batch_size=10000,shuffle=False)"
      ],
      "execution_count": 114,
      "outputs": []
    },
    {
      "cell_type": "code",
      "metadata": {
        "id": "Sg22Fd-qXQrp",
        "colab_type": "code",
        "colab": {}
      },
      "source": [
        "with torch.no_grad():\n",
        "  correct = 0\n",
        "  for X_test,y_test in test_load_all:\n",
        "    y_val = model(X_test)\n",
        "    predicted = torch.max(y_val,1)[1]\n",
        "    correct = correct +(predicted == y_test).sum()"
      ],
      "execution_count": 115,
      "outputs": []
    },
    {
      "cell_type": "code",
      "metadata": {
        "id": "yr3tPG8yXt0Q",
        "colab_type": "code",
        "colab": {
          "base_uri": "https://localhost:8080/",
          "height": 34
        },
        "outputId": "d27da318-cf01-40bd-c391-72d5def289f2"
      },
      "source": [
        "correct.item()/len(test_data)*100"
      ],
      "execution_count": 118,
      "outputs": [
        {
          "output_type": "execute_result",
          "data": {
            "text/plain": [
              "98.85000000000001"
            ]
          },
          "metadata": {
            "tags": []
          },
          "execution_count": 118
        }
      ]
    },
    {
      "cell_type": "markdown",
      "metadata": {
        "id": "_2ojp0G-Z2Kp",
        "colab_type": "text"
      },
      "source": [
        "## Confusion Matrix"
      ]
    },
    {
      "cell_type": "code",
      "metadata": {
        "id": "4_wIPuExXwox",
        "colab_type": "code",
        "colab": {
          "base_uri": "https://localhost:8080/",
          "height": 221
        },
        "outputId": "c25470d5-8ce7-4470-adc4-728dcde231f8"
      },
      "source": [
        "# print a row of values for reference\n",
        "np.set_printoptions(formatter=dict(int=lambda x: f'{x:4}'))\n",
        "print(np.arange(10).reshape(1,10))\n",
        "print()\n",
        "\n",
        "# print the confusion matrix\n",
        "print(confusion_matrix(predicted.view(-1), y_test.view(-1)))"
      ],
      "execution_count": 119,
      "outputs": [
        {
          "output_type": "stream",
          "text": [
            "[[   0    1    2    3    4    5    6    7    8    9]]\n",
            "\n",
            "[[ 979    0    0    0    0    1    2    2    7    1]\n",
            " [   0 1126    3    0    0    0    3    2    0    1]\n",
            " [   0    0 1020    0    0    0    0   13    3    0]\n",
            " [   0    2    1 1007    0    6    0    3    2    3]\n",
            " [   0    0    2    0  973    0    1    0    0    5]\n",
            " [   0    2    0    2    0  879    1    0    0    6]\n",
            " [   0    1    0    0    2    1  950    0    0    0]\n",
            " [   0    1    6    1    0    0    0 1004    0    4]\n",
            " [   1    3    0    0    0    3    1    1  960    2]\n",
            " [   0    0    0    0    7    2    0    3    2  987]]\n"
          ],
          "name": "stdout"
        }
      ]
    },
    {
      "cell_type": "markdown",
      "metadata": {
        "id": "093B0G00Z58N",
        "colab_type": "text"
      },
      "source": [
        "## Checking the model with completely new data"
      ]
    },
    {
      "cell_type": "code",
      "metadata": {
        "id": "WbMH9E5PYmy5",
        "colab_type": "code",
        "colab": {
          "base_uri": "https://localhost:8080/",
          "height": 282
        },
        "outputId": "8ed697af-092d-4bb8-a520-54052446d2d3"
      },
      "source": [
        "plt.imshow(test_data[2019][0].reshape(28,28))"
      ],
      "execution_count": 122,
      "outputs": [
        {
          "output_type": "execute_result",
          "data": {
            "text/plain": [
              "<matplotlib.image.AxesImage at 0x7fa628527f98>"
            ]
          },
          "metadata": {
            "tags": []
          },
          "execution_count": 122
        },
        {
          "output_type": "display_data",
          "data": {
            "image/png": "[encoded data removed]",
            "text/plain": [
              "<Figure size 432x288 with 1 Axes>"
            ]
          },
          "metadata": {
            "tags": [],
            "needs_background": "light"
          }
        }
      ]
    },
    {
      "cell_type": "code",
      "metadata": {
        "id": "v5-DC5MpYrx4",
        "colab_type": "code",
        "colab": {}
      },
      "source": [
        "model.eval()\n",
        "with torch.no_grad():\n",
        "  new_prediction = model(test_data[2019][0].view(1,1,28,28))"
      ],
      "execution_count": 123,
      "outputs": []
    },
    {
      "cell_type": "code",
      "metadata": {
        "id": "QEpZqDL-ZM_Z",
        "colab_type": "code",
        "colab": {
          "base_uri": "https://localhost:8080/",
          "height": 34
        },
        "outputId": "64395704-741d-4932-a7a7-049ac0d02ffd"
      },
      "source": [
        "new_prediction.argmax()"
      ],
      "execution_count": 125,
      "outputs": [
        {
          "output_type": "execute_result",
          "data": {
            "text/plain": [
              "tensor(9)"
            ]
          },
          "metadata": {
            "tags": []
          },
          "execution_count": 125
        }
      ]
    },
    {
      "cell_type": "code",
      "metadata": {
        "id": "OuB89jGqZNvh",
        "colab_type": "code",
        "colab": {}
      },
      "source": [
        ""
      ],
      "execution_count": null,
      "outputs": []
    }
  ]
}