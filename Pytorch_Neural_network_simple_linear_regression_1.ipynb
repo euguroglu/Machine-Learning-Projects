{
  "nbformat": 4,
  "nbformat_minor": 0,
  "metadata": {
    "colab": {
      "name": "Pytorch_Neural_network_simple_linear_regression_1.ipynb",
      "provenance": [],
      "authorship_tag": "ABX9TyPeEPC1GQkFg8nwqrV0+TOD",
      "include_colab_link": true
    },
    "kernelspec": {
      "name": "python3",
      "display_name": "Python 3"
    }
  },
  "cells": [
    {
      "cell_type": "markdown",
      "metadata": {
        "id": "view-in-github",
        "colab_type": "text"
      },
      "source": [
        "<a href=\"https://colab.research.google.com/github/euguroglu/Machine-Learning-Projects/blob/master/Pytorch_Neural_network_simple_linear_regression_1.ipynb\" target=\"_parent\"><img src=\"https://colab.research.google.com/assets/colab-badge.svg\" alt=\"Open In Colab\"/></a>"
      ]
    },
    {
      "cell_type": "markdown",
      "metadata": {
        "id": "LnSi30lzgXTg",
        "colab_type": "text"
      },
      "source": [
        "## Importing Libraries"
      ]
    },
    {
      "cell_type": "code",
      "metadata": {
        "id": "xTf9VUd9y5BP",
        "colab_type": "code",
        "colab": {}
      },
      "source": [
        "import torch\n",
        "import numpy as np\n",
        "import matplotlib.pyplot as plt\n",
        "import torch.nn as nn"
      ],
      "execution_count": 1,
      "outputs": []
    },
    {
      "cell_type": "markdown",
      "metadata": {
        "id": "zAArYK-ngbUb",
        "colab_type": "text"
      },
      "source": [
        "Defining random X values"
      ]
    },
    {
      "cell_type": "code",
      "metadata": {
        "id": "FCrVI8l2zAdq",
        "colab_type": "code",
        "colab": {}
      },
      "source": [
        "X = torch.linspace(1,50,50).reshape(-1,1)"
      ],
      "execution_count": 3,
      "outputs": []
    },
    {
      "cell_type": "markdown",
      "metadata": {
        "id": "GA3bBNdk01BO",
        "colab_type": "text"
      },
      "source": [
        "Defining Noise 'e'"
      ]
    },
    {
      "cell_type": "code",
      "metadata": {
        "id": "MMbKwY5rzJpO",
        "colab_type": "code",
        "colab": {}
      },
      "source": [
        "torch.manual_seed(71)\n",
        "e = torch.randint(-8,9,(50,1),dtype=torch.float)"
      ],
      "execution_count": 4,
      "outputs": []
    },
    {
      "cell_type": "code",
      "metadata": {
        "id": "rRgKpnAiznIf",
        "colab_type": "code",
        "colab": {}
      },
      "source": [
        "e"
      ],
      "execution_count": null,
      "outputs": []
    },
    {
      "cell_type": "markdown",
      "metadata": {
        "id": "ft_MoooSge5S",
        "colab_type": "text"
      },
      "source": [
        "Defining linear equation to create linear like scatter to fit our model later"
      ]
    },
    {
      "cell_type": "code",
      "metadata": {
        "id": "4awzljr5z7TI",
        "colab_type": "code",
        "colab": {}
      },
      "source": [
        "y = 2*X + 1  + e"
      ],
      "execution_count": 6,
      "outputs": []
    },
    {
      "cell_type": "code",
      "metadata": {
        "id": "HRWTsJD20KBz",
        "colab_type": "code",
        "colab": {
          "base_uri": "https://localhost:8080/",
          "height": 34
        },
        "outputId": "47d4990b-efbf-424c-f640-66988e5ccff7"
      },
      "source": [
        "y.shape"
      ],
      "execution_count": 7,
      "outputs": [
        {
          "output_type": "execute_result",
          "data": {
            "text/plain": [
              "torch.Size([50, 1])"
            ]
          },
          "metadata": {
            "tags": []
          },
          "execution_count": 7
        }
      ]
    },
    {
      "cell_type": "markdown",
      "metadata": {
        "id": "HG-Ve69X0ON4",
        "colab_type": "text"
      },
      "source": [
        "Being able plot tensor values we need to conver them to numpy array"
      ]
    },
    {
      "cell_type": "code",
      "metadata": {
        "id": "WdsI3u8z0LEu",
        "colab_type": "code",
        "colab": {
          "base_uri": "https://localhost:8080/",
          "height": 282
        },
        "outputId": "f311b149-bf2e-498c-ec5f-5f82009e44aa"
      },
      "source": [
        "plt.scatter(X.numpy(),y.numpy())"
      ],
      "execution_count": 8,
      "outputs": [
        {
          "output_type": "execute_result",
          "data": {
            "text/plain": [
              "<matplotlib.collections.PathCollection at 0x7f158bd35a58>"
            ]
          },
          "metadata": {
            "tags": []
          },
          "execution_count": 8
        },
        {
          "output_type": "display_data",
          "data": {
            "image/png": "[encoded data removed]",
            "text/plain": [
              "<Figure size 432x288 with 1 Axes>"
            ]
          },
          "metadata": {
            "tags": [],
            "needs_background": "light"
          }
        }
      ]
    },
    {
      "cell_type": "code",
      "metadata": {
        "id": "DEwEqEMP0UI_",
        "colab_type": "code",
        "colab": {
          "base_uri": "https://localhost:8080/",
          "height": 85
        },
        "outputId": "2a9eaf53-57b1-43e0-f16c-3e30d15ca316"
      },
      "source": [
        "torch.manual_seed(59)\n",
        "\n",
        "model = nn.Linear(in_features=1,out_features=1)\n",
        "\n",
        "print(model.weight)\n",
        "print(model.bias)"
      ],
      "execution_count": 9,
      "outputs": [
        {
          "output_type": "stream",
          "text": [
            "Parameter containing:\n",
            "tensor([[0.1060]], requires_grad=True)\n",
            "Parameter containing:\n",
            "tensor([0.9638], requires_grad=True)\n"
          ],
          "name": "stdout"
        }
      ]
    },
    {
      "cell_type": "markdown",
      "metadata": {
        "id": "JPlmJvQegn13",
        "colab_type": "text"
      },
      "source": [
        "## Creating Simple Neural Network"
      ]
    },
    {
      "cell_type": "code",
      "metadata": {
        "id": "rlrEA_rOHKTe",
        "colab_type": "code",
        "colab": {}
      },
      "source": [
        "class Model(nn.Module):\n",
        "  def __init__(self,in_features,out_features):\n",
        "\n",
        "    super().__init__()\n",
        "    self.linear = nn.Linear(in_features,out_features)\n",
        "  def forward(self,x):\n",
        "    y_pred = self.linear(x)\n",
        "    return y_pred"
      ],
      "execution_count": 10,
      "outputs": []
    },
    {
      "cell_type": "code",
      "metadata": {
        "id": "hkq6Qtq5MiV_",
        "colab_type": "code",
        "colab": {
          "base_uri": "https://localhost:8080/",
          "height": 85
        },
        "outputId": "dea86282-b8cd-4de6-c85a-a22c828bc737"
      },
      "source": [
        "torch.manual_seed(59)\n",
        "\n",
        "model = Model(1,1)\n",
        "\n",
        "print(model.linear.weight)\n",
        "print(model.linear.bias)"
      ],
      "execution_count": 11,
      "outputs": [
        {
          "output_type": "stream",
          "text": [
            "Parameter containing:\n",
            "tensor([[0.1060]], requires_grad=True)\n",
            "Parameter containing:\n",
            "tensor([0.9638], requires_grad=True)\n"
          ],
          "name": "stdout"
        }
      ]
    },
    {
      "cell_type": "markdown",
      "metadata": {
        "id": "jAM8L8_vWw3g",
        "colab_type": "text"
      },
      "source": [
        "## How to name model parameter"
      ]
    },
    {
      "cell_type": "code",
      "metadata": {
        "id": "xq9Ce0myV6lq",
        "colab_type": "code",
        "colab": {
          "base_uri": "https://localhost:8080/",
          "height": 51
        },
        "outputId": "d12bbb2d-d2b5-429d-fda1-a8c73cf0cc52"
      },
      "source": [
        "for name,param in model.named_parameters(): #model.named.parameters() comes from nn.module which we've inherited to our model\n",
        "  print(name, '\\t', param.item())"
      ],
      "execution_count": 12,
      "outputs": [
        {
          "output_type": "stream",
          "text": [
            "linear.weight \t 0.10597813129425049\n",
            "linear.bias \t 0.9637961387634277\n"
          ],
          "name": "stdout"
        }
      ]
    },
    {
      "cell_type": "markdown",
      "metadata": {
        "id": "wyk7RlfUXrtQ",
        "colab_type": "text"
      },
      "source": [
        "## Randomly checking model performance with initial parameters"
      ]
    },
    {
      "cell_type": "markdown",
      "metadata": {
        "id": "_rASsk9RXy4y",
        "colab_type": "text"
      },
      "source": [
        "Expected performance is poor one since model did not learn anything yet."
      ]
    },
    {
      "cell_type": "code",
      "metadata": {
        "id": "AF4qXPe6W-XK",
        "colab_type": "code",
        "colab": {
          "base_uri": "https://localhost:8080/",
          "height": 34
        },
        "outputId": "5ac6c1d8-e9ce-4a73-c93f-5c348527077e"
      },
      "source": [
        "x = torch.tensor([2.]) \n",
        "print(model.forward(x))"
      ],
      "execution_count": 13,
      "outputs": [
        {
          "output_type": "stream",
          "text": [
            "tensor([1.1758], grad_fn=<AddBackward0>)\n"
          ],
          "name": "stdout"
        }
      ]
    },
    {
      "cell_type": "code",
      "metadata": {
        "id": "2nrzUc8kX5Ws",
        "colab_type": "code",
        "colab": {}
      },
      "source": [
        "x1 = np.linspace(0.0,50.0,50)"
      ],
      "execution_count": 14,
      "outputs": []
    },
    {
      "cell_type": "code",
      "metadata": {
        "id": "HIXWmv9ZX84b",
        "colab_type": "code",
        "colab": {}
      },
      "source": [
        "w1 = 0.1059\n",
        "b1 = 0.9637\n",
        "\n",
        "y1 = w1*x1 + b1"
      ],
      "execution_count": 15,
      "outputs": []
    },
    {
      "cell_type": "code",
      "metadata": {
        "id": "YW-nRG2KYUa2",
        "colab_type": "code",
        "colab": {
          "base_uri": "https://localhost:8080/",
          "height": 187
        },
        "outputId": "c3a38979-6dcc-42b4-dd63-159ac6f0d979"
      },
      "source": [
        "y1"
      ],
      "execution_count": 16,
      "outputs": [
        {
          "output_type": "execute_result",
          "data": {
            "text/plain": [
              "array([0.9637    , 1.07176122, 1.17982245, 1.28788367, 1.3959449 ,\n",
              "       1.50400612, 1.61206735, 1.72012857, 1.8281898 , 1.93625102,\n",
              "       2.04431224, 2.15237347, 2.26043469, 2.36849592, 2.47655714,\n",
              "       2.58461837, 2.69267959, 2.80074082, 2.90880204, 3.01686327,\n",
              "       3.12492449, 3.23298571, 3.34104694, 3.44910816, 3.55716939,\n",
              "       3.66523061, 3.77329184, 3.88135306, 3.98941429, 4.09747551,\n",
              "       4.20553673, 4.31359796, 4.42165918, 4.52972041, 4.63778163,\n",
              "       4.74584286, 4.85390408, 4.96196531, 5.07002653, 5.17808776,\n",
              "       5.28614898, 5.3942102 , 5.50227143, 5.61033265, 5.71839388,\n",
              "       5.8264551 , 5.93451633, 6.04257755, 6.15063878, 6.2587    ])"
            ]
          },
          "metadata": {
            "tags": []
          },
          "execution_count": 16
        }
      ]
    },
    {
      "cell_type": "code",
      "metadata": {
        "id": "pGMYLhqJYXNa",
        "colab_type": "code",
        "colab": {
          "base_uri": "https://localhost:8080/",
          "height": 282
        },
        "outputId": "6d2b6c09-45ee-40ce-b9a7-4f55fd6a6e76"
      },
      "source": [
        "plt.scatter(X.numpy(),y.numpy())\n",
        "plt.plot(x1,y1,'r')"
      ],
      "execution_count": 17,
      "outputs": [
        {
          "output_type": "execute_result",
          "data": {
            "text/plain": [
              "[<matplotlib.lines.Line2D at 0x7f158bd11390>]"
            ]
          },
          "metadata": {
            "tags": []
          },
          "execution_count": 17
        },
        {
          "output_type": "display_data",
          "data": {
            "image/png": "[encoded data removed]",
            "text/plain": [
              "<Figure size 432x288 with 1 Axes>"
            ]
          },
          "metadata": {
            "tags": [],
            "needs_background": "light"
          }
        }
      ]
    },
    {
      "cell_type": "markdown",
      "metadata": {
        "id": "UhY6_Oikg0QW",
        "colab_type": "text"
      },
      "source": [
        "Defining criterion of the cost calculation"
      ]
    },
    {
      "cell_type": "code",
      "metadata": {
        "id": "EHTlgfmiYaAb",
        "colab_type": "code",
        "colab": {}
      },
      "source": [
        "criterion = nn.MSELoss()"
      ],
      "execution_count": 18,
      "outputs": []
    },
    {
      "cell_type": "markdown",
      "metadata": {
        "id": "vm6R6f0cg2C_",
        "colab_type": "text"
      },
      "source": [
        "Defining optimization method"
      ]
    },
    {
      "cell_type": "code",
      "metadata": {
        "id": "KPJlV73FZGT2",
        "colab_type": "code",
        "colab": {}
      },
      "source": [
        "optimizer = torch.optim.SGD(model.parameters(),lr = 0.001)"
      ],
      "execution_count": 19,
      "outputs": []
    },
    {
      "cell_type": "markdown",
      "metadata": {
        "id": "Tn81gaXCg5zD",
        "colab_type": "text"
      },
      "source": [
        "## Training"
      ]
    },
    {
      "cell_type": "code",
      "metadata": {
        "id": "SimhvskPZe8i",
        "colab_type": "code",
        "colab": {
          "base_uri": "https://localhost:8080/",
          "height": 867
        },
        "outputId": "8cc8294a-5cf0-4778-def3-28e9f5f824c3"
      },
      "source": [
        "epochs = 50\n",
        "losses = []\n",
        "\n",
        "for i in range(epochs):\n",
        "\n",
        "  i = i + 1\n",
        "\n",
        "  y_pred = model.forward(X) # Predicting on the forward pass\n",
        "\n",
        "  loss = criterion(y_pred,y) #Calculating our loss\n",
        "\n",
        "  losses.append(loss) # Recording the error\n",
        "\n",
        "  print('epoch {} loss: {} weight: {} bias: {}'.format(i,loss.item(),model.linear.weight.item(),model.linear.bias.item()))\n",
        "\n",
        "  optimizer.zero_grad() #reseting the gradient\n",
        "\n",
        "  loss.backward()\n",
        "  optimizer.step()"
      ],
      "execution_count": 20,
      "outputs": [
        {
          "output_type": "stream",
          "text": [
            "epoch 1 loss: 3057.216796875 weight: 0.10597813129425049 bias: 0.9637961387634277\n",
            "epoch 2 loss: 1588.53076171875 weight: 3.334900140762329 bias: 1.0604636669158936\n",
            "epoch 3 loss: 830.2999267578125 weight: 1.014832854270935 bias: 0.9922628402709961\n",
            "epoch 4 loss: 438.8521423339844 weight: 2.6817994117736816 bias: 1.0425218343734741\n",
            "epoch 5 loss: 236.76144409179688 weight: 1.4840213060379028 bias: 1.0076650381088257\n",
            "epoch 6 loss: 132.4291229248047 weight: 2.3446059226989746 bias: 1.0339646339416504\n",
            "epoch 7 loss: 78.56573486328125 weight: 1.7262253761291504 bias: 1.0163217782974243\n",
            "epoch 8 loss: 50.75775909423828 weight: 2.170504093170166 bias: 1.0302516222000122\n",
            "epoch 9 loss: 36.4012336730957 weight: 1.8512457609176636 bias: 1.0214954614639282\n",
            "epoch 10 loss: 28.98923110961914 weight: 2.0806007385253906 bias: 1.029038906097412\n",
            "epoch 11 loss: 25.16238784790039 weight: 1.9157683849334717 bias: 1.0248701572418213\n",
            "epoch 12 loss: 23.186473846435547 weight: 2.034165620803833 bias: 1.0291162729263306\n",
            "epoch 13 loss: 22.166122436523438 weight: 1.9490584135055542 bias: 1.027315616607666\n",
            "epoch 14 loss: 21.639110565185547 weight: 2.010172128677368 bias: 1.0298590660095215\n",
            "epoch 15 loss: 21.366769790649414 weight: 1.9662237167358398 bias: 1.0292805433273315\n",
            "epoch 16 loss: 21.225919723510742 weight: 1.997764229774475 bias: 1.030944585800171\n",
            "epoch 17 loss: 21.152944564819336 weight: 1.9750648736953735 bias: 1.0309966802597046\n",
            "epoch 18 loss: 21.115013122558594 weight: 1.991337537765503 bias: 1.032206416130066\n",
            "epoch 19 loss: 21.09518051147461 weight: 1.9796085357666016 bias: 1.0325838327407837\n",
            "epoch 20 loss: 21.084684371948242 weight: 1.9879988431930542 bias: 1.0335586071014404\n",
            "epoch 21 loss: 21.07901382446289 weight: 1.981933355331421 bias: 1.034103512763977\n",
            "epoch 22 loss: 21.075830459594727 weight: 1.9862544536590576 bias: 1.034956693649292\n",
            "epoch 23 loss: 21.07394027709961 weight: 1.9831126928329468 bias: 1.0355877876281738\n",
            "epoch 24 loss: 21.072702407836914 weight: 1.9853330850601196 bias: 1.0363779067993164\n",
            "epoch 25 loss: 21.071819305419922 weight: 1.9837009906768799 bias: 1.037053108215332\n",
            "epoch 26 loss: 21.07110595703125 weight: 1.9848365783691406 bias: 1.037810206413269\n",
            "epoch 27 loss: 21.070484161376953 weight: 1.9839837551116943 bias: 1.0385079383850098\n",
            "epoch 28 loss: 21.069913864135742 weight: 1.9845597743988037 bias: 1.039247751235962\n",
            "epoch 29 loss: 21.06937026977539 weight: 1.9841090440750122 bias: 1.0399566888809204\n",
            "epoch 30 loss: 21.068838119506836 weight: 1.9843961000442505 bias: 1.0406872034072876\n",
            "epoch 31 loss: 21.068307876586914 weight: 1.984152913093567 bias: 1.0414016246795654\n",
            "epoch 32 loss: 21.067781448364258 weight: 1.9842908382415771 bias: 1.042127013206482\n",
            "epoch 33 loss: 21.0672664642334 weight: 1.9841549396514893 bias: 1.0428439378738403\n",
            "epoch 34 loss: 21.066740036010742 weight: 1.9842157363891602 bias: 1.043566346168518\n",
            "epoch 35 loss: 21.066225051879883 weight: 1.9841355085372925 bias: 1.0442842245101929\n",
            "epoch 36 loss: 21.065706253051758 weight: 1.9841564893722534 bias: 1.0450047254562378\n",
            "epoch 37 loss: 21.065185546875 weight: 1.9841045141220093 bias: 1.0457227230072021\n",
            "epoch 38 loss: 21.06467056274414 weight: 1.9841052293777466 bias: 1.046441912651062\n",
            "epoch 39 loss: 21.064157485961914 weight: 1.9840680360794067 bias: 1.0471596717834473\n",
            "epoch 40 loss: 21.063640594482422 weight: 1.984058141708374 bias: 1.0478779077529907\n",
            "epoch 41 loss: 21.063121795654297 weight: 1.984028697013855 bias: 1.0485951900482178\n",
            "epoch 42 loss: 21.062604904174805 weight: 1.9840131998062134 bias: 1.0493125915527344\n",
            "epoch 43 loss: 21.062095642089844 weight: 1.98398756980896 bias: 1.0500292778015137\n",
            "epoch 44 loss: 21.061574935913086 weight: 1.9839695692062378 bias: 1.0507458448410034\n",
            "epoch 45 loss: 21.061071395874023 weight: 1.9839458465576172 bias: 1.051461935043335\n",
            "epoch 46 loss: 21.06055450439453 weight: 1.9839262962341309 bias: 1.0521777868270874\n",
            "epoch 47 loss: 21.060043334960938 weight: 1.9839037656784058 bias: 1.0528931617736816\n",
            "epoch 48 loss: 21.059534072875977 weight: 1.9838833808898926 bias: 1.0536082983016968\n",
            "epoch 49 loss: 21.05901527404785 weight: 1.9838614463806152 bias: 1.0543230772018433\n",
            "epoch 50 loss: 21.058507919311523 weight: 1.9838409423828125 bias: 1.055037498474121\n"
          ],
          "name": "stdout"
        }
      ]
    },
    {
      "cell_type": "markdown",
      "metadata": {
        "id": "8gK6OG_Qg8LW",
        "colab_type": "text"
      },
      "source": [
        "## Result"
      ]
    },
    {
      "cell_type": "code",
      "metadata": {
        "id": "sN6scW_Nfiij",
        "colab_type": "code",
        "colab": {
          "base_uri": "https://localhost:8080/",
          "height": 296
        },
        "outputId": "011a1b0f-d356-4ed3-be96-cf8ac65cc9a9"
      },
      "source": [
        "plt.plot(range(epochs),losses)\n",
        "plt.ylabel('MSE Loss')\n",
        "plt.xlabel('Epoch')"
      ],
      "execution_count": 21,
      "outputs": [
        {
          "output_type": "execute_result",
          "data": {
            "text/plain": [
              "Text(0.5, 0, 'Epoch')"
            ]
          },
          "metadata": {
            "tags": []
          },
          "execution_count": 21
        },
        {
          "output_type": "display_data",
          "data": {
            "image/png": "[encoded data removed]",
            "text/plain": [
              "<Figure size 432x288 with 1 Axes>"
            ]
          },
          "metadata": {
            "tags": [],
            "needs_background": "light"
          }
        }
      ]
    },
    {
      "cell_type": "markdown",
      "metadata": {
        "id": "A3jEZrtcg-TA",
        "colab_type": "text"
      },
      "source": [
        "## Prediction and curve fitting"
      ]
    },
    {
      "cell_type": "code",
      "metadata": {
        "id": "SbRu9iy9fxjQ",
        "colab_type": "code",
        "colab": {}
      },
      "source": [
        "x = np.linspace(0.0,50.0,50)\n",
        "current_weight = model.linear.weight.item()\n",
        "current_bias = model.linear.weight.item()\n",
        "predicted_y = current_weight*x + current_bias"
      ],
      "execution_count": 22,
      "outputs": []
    },
    {
      "cell_type": "code",
      "metadata": {
        "id": "OsGxcpBSgFTb",
        "colab_type": "code",
        "colab": {
          "base_uri": "https://localhost:8080/",
          "height": 282
        },
        "outputId": "e3cce8ad-7caf-4cc4-ca45-b4c7d6c73bcd"
      },
      "source": [
        "plt.scatter(X.numpy(),y.numpy())\n",
        "plt.plot(x,predicted_y,'r')"
      ],
      "execution_count": 23,
      "outputs": [
        {
          "output_type": "execute_result",
          "data": {
            "text/plain": [
              "[<matplotlib.lines.Line2D at 0x7f158b7d5f98>]"
            ]
          },
          "metadata": {
            "tags": []
          },
          "execution_count": 23
        },
        {
          "output_type": "display_data",
          "data": {
            "image/png": "[encoded data removed]",
            "text/plain": [
              "<Figure size 432x288 with 1 Axes>"
            ]
          },
          "metadata": {
            "tags": [],
            "needs_background": "light"
          }
        }
      ]
    }
  ]
}