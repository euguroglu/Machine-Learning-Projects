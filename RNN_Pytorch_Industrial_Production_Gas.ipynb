{
  "nbformat": 4,
  "nbformat_minor": 0,
  "metadata": {
    "kernelspec": {
      "display_name": "Python 3",
      "language": "python",
      "name": "python3"
    },
    "language_info": {
      "codemirror_mode": {
        "name": "ipython",
        "version": 3
      },
      "file_extension": ".py",
      "mimetype": "text/x-python",
      "name": "python",
      "nbconvert_exporter": "python",
      "pygments_lexer": "ipython3",
      "version": "3.7.3"
    },
    "colab": {
      "name": "RNN_Pytorch_Industrial_Production_Gas.ipynb",
      "provenance": [],
      "include_colab_link": true
    }
  },
  "cells": [
    {
      "cell_type": "markdown",
      "metadata": {
        "id": "view-in-github",
        "colab_type": "text"
      },
      "source": [
        "<a href=\"https://colab.research.google.com/github/euguroglu/Machine-Learning-Projects/blob/master/RNN_Pytorch_Industrial_Production_Gas.ipynb\" target=\"_parent\"><img src=\"https://colab.research.google.com/assets/colab-badge.svg\" alt=\"Open In Colab\"/></a>"
      ]
    },
    {
      "cell_type": "markdown",
      "metadata": {
        "id": "s4rQvBPHo4Nw",
        "colab_type": "text"
      },
      "source": [
        "## Importing libraries"
      ]
    },
    {
      "cell_type": "code",
      "metadata": {
        "id": "t_Wi5Iy5aKLS",
        "colab_type": "code",
        "colab": {
          "base_uri": "https://localhost:8080/",
          "height": 246
        },
        "outputId": "3f2f6829-6525-46a9-f57a-e863d1c06bf4"
      },
      "source": [
        "import torch\n",
        "import torch.nn as nn\n",
        "from sklearn.preprocessing import MinMaxScaler\n",
        "\n",
        "import numpy as np\n",
        "import pandas as pd\n",
        "import matplotlib.pyplot as plt\n",
        "%matplotlib inline\n",
        "\n",
        "from pandas.plotting import register_matplotlib_converters\n",
        "register_matplotlib_converters()\n",
        "\n",
        "df = pd.read_csv('Energy_Production.csv',index_col=0,parse_dates=True)\n",
        "df.dropna(inplace=True)\n",
        "print(len(df))\n",
        "df.head()"
      ],
      "execution_count": 2,
      "outputs": [
        {
          "output_type": "stream",
          "text": [
            "325\n"
          ],
          "name": "stdout"
        },
        {
          "output_type": "execute_result",
          "data": {
            "text/html": [
              "<div>\n",
              "<style scoped>\n",
              "    .dataframe tbody tr th:only-of-type {\n",
              "        vertical-align: middle;\n",
              "    }\n",
              "\n",
              "    .dataframe tbody tr th {\n",
              "        vertical-align: top;\n",
              "    }\n",
              "\n",
              "    .dataframe thead th {\n",
              "        text-align: right;\n",
              "    }\n",
              "</style>\n",
              "<table border=\"1\" class=\"dataframe\">\n",
              "  <thead>\n",
              "    <tr style=\"text-align: right;\">\n",
              "      <th></th>\n",
              "      <th>IPG2211A2N</th>\n",
              "    </tr>\n",
              "    <tr>\n",
              "      <th>DATE</th>\n",
              "      <th></th>\n",
              "    </tr>\n",
              "  </thead>\n",
              "  <tbody>\n",
              "    <tr>\n",
              "      <th>1992-01-01</th>\n",
              "      <td>85.5560</td>\n",
              "    </tr>\n",
              "    <tr>\n",
              "      <th>1992-02-01</th>\n",
              "      <td>80.4178</td>\n",
              "    </tr>\n",
              "    <tr>\n",
              "      <th>1992-03-01</th>\n",
              "      <td>74.7390</td>\n",
              "    </tr>\n",
              "    <tr>\n",
              "      <th>1992-04-01</th>\n",
              "      <td>69.8367</td>\n",
              "    </tr>\n",
              "    <tr>\n",
              "      <th>1992-05-01</th>\n",
              "      <td>67.3781</td>\n",
              "    </tr>\n",
              "  </tbody>\n",
              "</table>\n",
              "</div>"
            ],
            "text/plain": [
              "            IPG2211A2N\n",
              "DATE                  \n",
              "1992-01-01     85.5560\n",
              "1992-02-01     80.4178\n",
              "1992-03-01     74.7390\n",
              "1992-04-01     69.8367\n",
              "1992-05-01     67.3781"
            ]
          },
          "metadata": {
            "tags": []
          },
          "execution_count": 2
        }
      ]
    },
    {
      "cell_type": "markdown",
      "metadata": {
        "id": "Pc8O8TIho7a_",
        "colab_type": "text"
      },
      "source": [
        "## Data visualization"
      ]
    },
    {
      "cell_type": "code",
      "metadata": {
        "id": "HV3xbykoaKLa",
        "colab_type": "code",
        "colab": {
          "base_uri": "https://localhost:8080/",
          "height": 281
        },
        "outputId": "ad733680-10c5-4ad2-a97f-32f5a113008e"
      },
      "source": [
        "plt.figure(figsize=(12,4))\n",
        "plt.title('Industrial Production Index for Electricity and Gas Utilities')\n",
        "plt.ylabel('Index 2012=100, Not Seasonally Adjusted')\n",
        "plt.grid(True)\n",
        "plt.autoscale(axis='x',tight=True)\n",
        "plt.plot(df['IPG2211A2N'])\n",
        "plt.show()"
      ],
      "execution_count": 4,
      "outputs": [
        {
          "output_type": "display_data",
          "data": {
            "image/png": "[encoded data removed]",
            "text/plain": [
              "<Figure size 864x288 with 1 Axes>"
            ]
          },
          "metadata": {
            "tags": [],
            "needs_background": "light"
          }
        }
      ]
    },
    {
      "cell_type": "markdown",
      "metadata": {
        "id": "3XgqWRbZaKLd",
        "colab_type": "text"
      },
      "source": [
        "## 1. Divide the data into train and test sets\n",
        "Working with a window_size of 12, divide the dataset into a sequence of 313 training records (including the window), and a test set of 12 records."
      ]
    },
    {
      "cell_type": "code",
      "metadata": {
        "id": "R1I_dqNnaKLd",
        "colab_type": "code",
        "colab": {}
      },
      "source": [
        "\n",
        "y = df['IPG2211A2N'].values.astype(float)\n",
        "\n",
        "test_size = 12\n",
        "window_size = 12\n",
        "\n",
        "train_set = y[:-test_size]\n",
        "test_set = y[-test_size:]"
      ],
      "execution_count": 5,
      "outputs": []
    },
    {
      "cell_type": "code",
      "metadata": {
        "id": "U7hjiJVDaKLg",
        "colab_type": "code",
        "colab": {
          "base_uri": "https://localhost:8080/",
          "height": 54
        },
        "outputId": "57bba534-2415-4b15-fa0b-9482ad8e5d33"
      },
      "source": [
        "# Run the code below to check your results:\n",
        "print(f'Train: {len(train_set)}')\n",
        "print(f'Test:  {len(test_set)}')"
      ],
      "execution_count": 6,
      "outputs": [
        {
          "output_type": "stream",
          "text": [
            "Train: 313\n",
            "Test:  12\n"
          ],
          "name": "stdout"
        }
      ]
    },
    {
      "cell_type": "markdown",
      "metadata": {
        "id": "0L5EAW_JaKLo",
        "colab_type": "text"
      },
      "source": [
        "## 2. Normalize the training set\n",
        "Feature scale the training set to fit within the range [-1,1]."
      ]
    },
    {
      "cell_type": "code",
      "metadata": {
        "id": "_7Ow0rGQaKLo",
        "colab_type": "code",
        "colab": {}
      },
      "source": [
        "scaler = MinMaxScaler(feature_range=(-1, 1))\n",
        "scaler.fit(train_set.reshape(-1,1))\n",
        "train_norm = scaler.transform(train_set.reshape(-1,1))"
      ],
      "execution_count": 7,
      "outputs": []
    },
    {
      "cell_type": "code",
      "metadata": {
        "id": "LmfqEfkvaKLr",
        "colab_type": "code",
        "colab": {
          "base_uri": "https://localhost:8080/",
          "height": 54
        },
        "outputId": "42515d00-c728-4d3e-ad0a-e32008f822aa"
      },
      "source": [
        "# Run the code below to check your results:\n",
        "print(f'First item, original: {train_set[0]}')\n",
        "print(f'First item, scaled:  {train_norm[0]}')"
      ],
      "execution_count": 8,
      "outputs": [
        {
          "output_type": "stream",
          "text": [
            "First item, original: 85.556\n",
            "First item, scaled:  [-0.4091274]\n"
          ],
          "name": "stdout"
        }
      ]
    },
    {
      "cell_type": "markdown",
      "metadata": {
        "id": "BpTUaILnaKLw",
        "colab_type": "text"
      },
      "source": [
        "## 3. Prepare data for LSTM\n",
        "Prepare the list of windowed sequence/label tuples to be fed into an LSTM model."
      ]
    },
    {
      "cell_type": "code",
      "metadata": {
        "id": "Ucqkt5O1aKLw",
        "colab_type": "code",
        "colab": {}
      },
      "source": [
        "train_norm = torch.FloatTensor(train_norm).view(-1)\n",
        "\n",
        "def input_data(seq,ws):\n",
        "    out = []\n",
        "    L = len(seq)\n",
        "    for i in range(L-ws):\n",
        "        window = seq[i:i+ws]\n",
        "        label = seq[i+ws:i+ws+1]\n",
        "        out.append((window,label))\n",
        "    return out"
      ],
      "execution_count": 9,
      "outputs": []
    },
    {
      "cell_type": "code",
      "metadata": {
        "id": "H-iBLEacaKLz",
        "colab_type": "code",
        "colab": {}
      },
      "source": [
        "train_data = input_data(train_norm,window_size)"
      ],
      "execution_count": 10,
      "outputs": []
    },
    {
      "cell_type": "code",
      "metadata": {
        "id": "1sPoFkPwaKL1",
        "colab_type": "code",
        "colab": {
          "base_uri": "https://localhost:8080/",
          "height": 35
        },
        "outputId": "d420f70d-869e-4a9b-caea-ed568e04e0da"
      },
      "source": [
        "print(f'Train_data: {len(train_data)}')  # should equal 301"
      ],
      "execution_count": 11,
      "outputs": [
        {
          "output_type": "stream",
          "text": [
            "Train_data: 301\n"
          ],
          "name": "stdout"
        }
      ]
    },
    {
      "cell_type": "markdown",
      "metadata": {
        "id": "bfd-FyZyaKL6",
        "colab_type": "text"
      },
      "source": [
        "## 4. Define the model\n",
        "Design a model that has a (1,64) LSTM layer and a (64,1) fully-connected linear layer. Be sure to initialize $h_0$ and $c_0$, and return only the last predicted value."
      ]
    },
    {
      "cell_type": "code",
      "metadata": {
        "id": "vZ0MBVm7aKL6",
        "colab_type": "code",
        "colab": {}
      },
      "source": [
        "class LSTM(nn.Module):\n",
        "\n",
        "  def __init__(self,input_size=1,hidden_size=64,out_size=1):\n",
        "\n",
        "    super().__init__()\n",
        "    self.hidden_size = hidden_size\n",
        "    self.lstm = nn.LSTM(input_size,hidden_size)\n",
        "    self.linear = nn.Linear(hidden_size,out_size)\n",
        "    self.hidden = (torch.zeros(1,1,hidden_size),torch.zeros(1,1,hidden_size))\n",
        "\n",
        "  def forward(self,seq):\n",
        "\n",
        "    lstm_out,self.hidden = self.lstm(seq.view(len(seq),1,-1),self.hidden)\n",
        "    pred = self.linear(lstm_out.view(len(seq),-1))\n",
        "\n",
        "    return pred[-1]"
      ],
      "execution_count": 36,
      "outputs": []
    },
    {
      "cell_type": "code",
      "metadata": {
        "id": "Nb-uMVzfaKL8",
        "colab_type": "code",
        "colab": {
          "base_uri": "https://localhost:8080/",
          "height": 90
        },
        "outputId": "e60b8bbc-bbab-4a4f-b114-acc217e22978"
      },
      "source": [
        "torch.manual_seed(101)\n",
        "model = LSTM()\n",
        "model"
      ],
      "execution_count": 37,
      "outputs": [
        {
          "output_type": "execute_result",
          "data": {
            "text/plain": [
              "LSTM(\n",
              "  (lstm): LSTM(1, 64)\n",
              "  (linear): Linear(in_features=64, out_features=1, bias=True)\n",
              ")"
            ]
          },
          "metadata": {
            "tags": []
          },
          "execution_count": 37
        }
      ]
    },
    {
      "cell_type": "markdown",
      "metadata": {
        "id": "lVrqA3MsaKMC",
        "colab_type": "text"
      },
      "source": [
        "## 5. Define loss and optimization functions\n",
        "Define a loss function called \"criterion\" and an optimizer called \"optimizer\".<br>\n",
        "You can use any functions you want, although we used MSELoss and Adam (learning rate of 0.001) respectively."
      ]
    },
    {
      "cell_type": "code",
      "metadata": {
        "id": "eUgvMkTEaKMC",
        "colab_type": "code",
        "colab": {}
      },
      "source": [
        "criterion = nn.MSELoss()\n",
        "optimizer = torch.optim.Adam(model.parameters(),lr=0.001)"
      ],
      "execution_count": 38,
      "outputs": []
    },
    {
      "cell_type": "markdown",
      "metadata": {
        "id": "Txbao_k7aKMH",
        "colab_type": "text"
      },
      "source": [
        "### 6. Train the model\n",
        "Don't worry about tracking loss values, displaying results, or validating the test set. Just train the model through 50 epochs. We'll evaluate the trained model in the next step.<br>\n",
        "OPTIONAL: print something after each epoch to indicate training progress."
      ]
    },
    {
      "cell_type": "code",
      "metadata": {
        "id": "iymVASttaKMI",
        "colab_type": "code",
        "colab": {
          "base_uri": "https://localhost:8080/",
          "height": 945
        },
        "outputId": "b53753cf-3c3c-4d45-9dd2-9b0e31d535a5"
      },
      "source": [
        "epochs = 50\n",
        "\n",
        "import time\n",
        "start_time = time.time()\n",
        "\n",
        "for i in range(epochs):\n",
        "  for seq,y_train in train_data:\n",
        "    optimizer.zero_grad()\n",
        "    model.hidden = (torch.zeros(1,1,model.hidden_size),torch.zeros(1,1,model.hidden_size))\n",
        "\n",
        "    y_pred = model(seq)\n",
        "\n",
        "    loss = criterion(y_pred,y_train)\n",
        "    loss.backward()\n",
        "    optimizer.step()\n",
        "\n",
        "  print('Epoch: {} Loss: {}'.format(i,loss))\n",
        "\n",
        "total_time = time.time() - start_time\n",
        "print(total_time/60)"
      ],
      "execution_count": 39,
      "outputs": [
        {
          "output_type": "stream",
          "text": [
            "Epoch: 0 Loss: 0.7314830422401428\n",
            "Epoch: 1 Loss: 0.32224392890930176\n",
            "Epoch: 2 Loss: 0.24065648019313812\n",
            "Epoch: 3 Loss: 0.2275601625442505\n",
            "Epoch: 4 Loss: 0.2115359902381897\n",
            "Epoch: 5 Loss: 0.19906578958034515\n",
            "Epoch: 6 Loss: 0.19067460298538208\n",
            "Epoch: 7 Loss: 0.18480707705020905\n",
            "Epoch: 8 Loss: 0.1796238124370575\n",
            "Epoch: 9 Loss: 0.174419566988945\n",
            "Epoch: 10 Loss: 0.16898852586746216\n",
            "Epoch: 11 Loss: 0.16325688362121582\n",
            "Epoch: 12 Loss: 0.15732835233211517\n",
            "Epoch: 13 Loss: 0.1513940840959549\n",
            "Epoch: 14 Loss: 0.14566262066364288\n",
            "Epoch: 15 Loss: 0.14030809700489044\n",
            "Epoch: 16 Loss: 0.13544121384620667\n",
            "Epoch: 17 Loss: 0.1311032474040985\n",
            "Epoch: 18 Loss: 0.12727928161621094\n",
            "Epoch: 19 Loss: 0.12391797453165054\n",
            "Epoch: 20 Loss: 0.12095394730567932\n",
            "Epoch: 21 Loss: 0.11832569539546967\n",
            "Epoch: 22 Loss: 0.11598344147205353\n",
            "Epoch: 23 Loss: 0.11389030516147614\n",
            "Epoch: 24 Loss: 0.11202088743448257\n",
            "Epoch: 25 Loss: 0.11036178469657898\n",
            "Epoch: 26 Loss: 0.10891450196504593\n",
            "Epoch: 27 Loss: 0.10769789665937424\n",
            "Epoch: 28 Loss: 0.10674412548542023\n",
            "Epoch: 29 Loss: 0.10608404874801636\n",
            "Epoch: 30 Loss: 0.10575974732637405\n",
            "Epoch: 31 Loss: 0.10588430613279343\n",
            "Epoch: 32 Loss: 0.1065322756767273\n",
            "Epoch: 33 Loss: 0.1074918657541275\n",
            "Epoch: 34 Loss: 0.10844672471284866\n",
            "Epoch: 35 Loss: 0.10924806445837021\n",
            "Epoch: 36 Loss: 0.1098710224032402\n",
            "Epoch: 37 Loss: 0.11033082008361816\n",
            "Epoch: 38 Loss: 0.11065158247947693\n",
            "Epoch: 39 Loss: 0.11085934937000275\n",
            "Epoch: 40 Loss: 0.11097928881645203\n",
            "Epoch: 41 Loss: 0.11103541404008865\n",
            "Epoch: 42 Loss: 0.11104708909988403\n",
            "Epoch: 43 Loss: 0.11102842539548874\n",
            "Epoch: 44 Loss: 0.11098659783601761\n",
            "Epoch: 45 Loss: 0.11092250794172287\n",
            "Epoch: 46 Loss: 0.11083541810512543\n",
            "Epoch: 47 Loss: 0.11072741448879242\n",
            "Epoch: 48 Loss: 0.11060357093811035\n",
            "Epoch: 49 Loss: 0.11046711355447769\n",
            "0.7306396921475729\n"
          ],
          "name": "stdout"
        }
      ]
    },
    {
      "cell_type": "code",
      "metadata": {
        "id": "F8h5Rc4xgvmG",
        "colab_type": "code",
        "colab": {
          "base_uri": "https://localhost:8080/",
          "height": 1000
        },
        "outputId": "dc4b347d-21de-42b0-9167-bc42b34901ed"
      },
      "source": [
        "train_data"
      ],
      "execution_count": 40,
      "outputs": [
        {
          "output_type": "execute_result",
          "data": {
            "text/plain": [
              "[(tensor([-0.4091, -0.5761, -0.7607, -0.9201, -1.0000, -0.8686, -0.6636, -0.6944,\n",
              "          -0.8313, -0.9396, -0.7939, -0.4343]), tensor([-0.3223])),\n",
              " (tensor([-0.5761, -0.7607, -0.9201, -1.0000, -0.8686, -0.6636, -0.6944, -0.8313,\n",
              "          -0.9396, -0.7939, -0.4343, -0.3223]),\n",
              "  tensor([-0.4340])),\n",
              " (tensor([-0.7607, -0.9201, -1.0000, -0.8686, -0.6636, -0.6944, -0.8313, -0.9396,\n",
              "          -0.7939, -0.4343, -0.3223, -0.4340]), tensor([-0.5999])),\n",
              " (tensor([-0.9201, -1.0000, -0.8686, -0.6636, -0.6944, -0.8313, -0.9396, -0.7939,\n",
              "          -0.4343, -0.3223, -0.4340, -0.5999]), tensor([-0.8734])),\n",
              " (tensor([-1.0000, -0.8686, -0.6636, -0.6944, -0.8313, -0.9396, -0.7939, -0.4343,\n",
              "          -0.3223, -0.4340, -0.5999, -0.8734]), tensor([-0.9827])),\n",
              " (tensor([-0.8686, -0.6636, -0.6944, -0.8313, -0.9396, -0.7939, -0.4343, -0.3223,\n",
              "          -0.4340, -0.5999, -0.8734, -0.9827]), tensor([-0.7669])),\n",
              " (tensor([-0.6636, -0.6944, -0.8313, -0.9396, -0.7939, -0.4343, -0.3223, -0.4340,\n",
              "          -0.5999, -0.8734, -0.9827, -0.7669]), tensor([-0.5138])),\n",
              " (tensor([-0.6944, -0.8313, -0.9396, -0.7939, -0.4343, -0.3223, -0.4340, -0.5999,\n",
              "          -0.8734, -0.9827, -0.7669, -0.5138]), tensor([-0.5153])),\n",
              " (tensor([-0.8313, -0.9396, -0.7939, -0.4343, -0.3223, -0.4340, -0.5999, -0.8734,\n",
              "          -0.9827, -0.7669, -0.5138, -0.5153]), tensor([-0.7577])),\n",
              " (tensor([-0.9396, -0.7939, -0.4343, -0.3223, -0.4340, -0.5999, -0.8734, -0.9827,\n",
              "          -0.7669, -0.5138, -0.5153, -0.7577]), tensor([-0.9188])),\n",
              " (tensor([-0.7939, -0.4343, -0.3223, -0.4340, -0.5999, -0.8734, -0.9827, -0.7669,\n",
              "          -0.5138, -0.5153, -0.7577, -0.9188]), tensor([-0.7643])),\n",
              " (tensor([-0.4343, -0.3223, -0.4340, -0.5999, -0.8734, -0.9827, -0.7669, -0.5138,\n",
              "          -0.5153, -0.7577, -0.9188, -0.7643]), tensor([-0.4445])),\n",
              " (tensor([-0.3223, -0.4340, -0.5999, -0.8734, -0.9827, -0.7669, -0.5138, -0.5153,\n",
              "          -0.7577, -0.9188, -0.7643, -0.4445]), tensor([-0.1216])),\n",
              " (tensor([-0.4340, -0.5999, -0.8734, -0.9827, -0.7669, -0.5138, -0.5153, -0.7577,\n",
              "          -0.9188, -0.7643, -0.4445, -0.1216]), tensor([-0.3490])),\n",
              " (tensor([-0.5999, -0.8734, -0.9827, -0.7669, -0.5138, -0.5153, -0.7577, -0.9188,\n",
              "          -0.7643, -0.4445, -0.1216, -0.3490]), tensor([-0.6068])),\n",
              " (tensor([-0.8734, -0.9827, -0.7669, -0.5138, -0.5153, -0.7577, -0.9188, -0.7643,\n",
              "          -0.4445, -0.1216, -0.3490, -0.6068]), tensor([-0.8764])),\n",
              " (tensor([-0.9827, -0.7669, -0.5138, -0.5153, -0.7577, -0.9188, -0.7643, -0.4445,\n",
              "          -0.1216, -0.3490, -0.6068, -0.8764]), tensor([-0.9280])),\n",
              " (tensor([-0.7669, -0.5138, -0.5153, -0.7577, -0.9188, -0.7643, -0.4445, -0.1216,\n",
              "          -0.3490, -0.6068, -0.8764, -0.9280]), tensor([-0.6483])),\n",
              " (tensor([-0.5138, -0.5153, -0.7577, -0.9188, -0.7643, -0.4445, -0.1216, -0.3490,\n",
              "          -0.6068, -0.8764, -0.9280, -0.6483]), tensor([-0.4750])),\n",
              " (tensor([-0.5153, -0.7577, -0.9188, -0.7643, -0.4445, -0.1216, -0.3490, -0.6068,\n",
              "          -0.8764, -0.9280, -0.6483, -0.4750]), tensor([-0.5204])),\n",
              " (tensor([-0.7577, -0.9188, -0.7643, -0.4445, -0.1216, -0.3490, -0.6068, -0.8764,\n",
              "          -0.9280, -0.6483, -0.4750, -0.5204]), tensor([-0.7224])),\n",
              " (tensor([-0.9188, -0.7643, -0.4445, -0.1216, -0.3490, -0.6068, -0.8764, -0.9280,\n",
              "          -0.6483, -0.4750, -0.5204, -0.7224]), tensor([-0.8667])),\n",
              " (tensor([-0.7643, -0.4445, -0.1216, -0.3490, -0.6068, -0.8764, -0.9280, -0.6483,\n",
              "          -0.4750, -0.5204, -0.7224, -0.8667]), tensor([-0.7368])),\n",
              " (tensor([-0.4445, -0.1216, -0.3490, -0.6068, -0.8764, -0.9280, -0.6483, -0.4750,\n",
              "          -0.5204, -0.7224, -0.8667, -0.7368]), tensor([-0.4247])),\n",
              " (tensor([-0.1216, -0.3490, -0.6068, -0.8764, -0.9280, -0.6483, -0.4750, -0.5204,\n",
              "          -0.7224, -0.8667, -0.7368, -0.4247]), tensor([-0.1756])),\n",
              " (tensor([-0.3490, -0.6068, -0.8764, -0.9280, -0.6483, -0.4750, -0.5204, -0.7224,\n",
              "          -0.8667, -0.7368, -0.4247, -0.1756]), tensor([-0.3405])),\n",
              " (tensor([-0.6068, -0.8764, -0.9280, -0.6483, -0.4750, -0.5204, -0.7224, -0.8667,\n",
              "          -0.7368, -0.4247, -0.1756, -0.3405]), tensor([-0.5403])),\n",
              " (tensor([-0.8764, -0.9280, -0.6483, -0.4750, -0.5204, -0.7224, -0.8667, -0.7368,\n",
              "          -0.4247, -0.1756, -0.3405, -0.5403]), tensor([-0.7833])),\n",
              " (tensor([-0.9280, -0.6483, -0.4750, -0.5204, -0.7224, -0.8667, -0.7368, -0.4247,\n",
              "          -0.1756, -0.3405, -0.5403, -0.7833]), tensor([-0.8010])),\n",
              " (tensor([-0.6483, -0.4750, -0.5204, -0.7224, -0.8667, -0.7368, -0.4247, -0.1756,\n",
              "          -0.3405, -0.5403, -0.7833, -0.8010]), tensor([-0.6368])),\n",
              " (tensor([-0.4750, -0.5204, -0.7224, -0.8667, -0.7368, -0.4247, -0.1756, -0.3405,\n",
              "          -0.5403, -0.7833, -0.8010, -0.6368]), tensor([-0.3868])),\n",
              " (tensor([-0.5204, -0.7224, -0.8667, -0.7368, -0.4247, -0.1756, -0.3405, -0.5403,\n",
              "          -0.7833, -0.8010, -0.6368, -0.3868]), tensor([-0.2710])),\n",
              " (tensor([-0.7224, -0.8667, -0.7368, -0.4247, -0.1756, -0.3405, -0.5403, -0.7833,\n",
              "          -0.8010, -0.6368, -0.3868, -0.2710]), tensor([-0.6305])),\n",
              " (tensor([-0.8667, -0.7368, -0.4247, -0.1756, -0.3405, -0.5403, -0.7833, -0.8010,\n",
              "          -0.6368, -0.3868, -0.2710, -0.6305]), tensor([-0.7869])),\n",
              " (tensor([-0.7368, -0.4247, -0.1756, -0.3405, -0.5403, -0.7833, -0.8010, -0.6368,\n",
              "          -0.3868, -0.2710, -0.6305, -0.7869]), tensor([-0.5933])),\n",
              " (tensor([-0.4247, -0.1756, -0.3405, -0.5403, -0.7833, -0.8010, -0.6368, -0.3868,\n",
              "          -0.2710, -0.6305, -0.7869, -0.5933]), tensor([-0.2291])),\n",
              " (tensor([-0.1756, -0.3405, -0.5403, -0.7833, -0.8010, -0.6368, -0.3868, -0.2710,\n",
              "          -0.6305, -0.7869, -0.5933, -0.2291]), tensor([0.0366])),\n",
              " (tensor([-0.3405, -0.5403, -0.7833, -0.8010, -0.6368, -0.3868, -0.2710, -0.6305,\n",
              "          -0.7869, -0.5933, -0.2291,  0.0366]), tensor([-0.1617])),\n",
              " (tensor([-0.5403, -0.7833, -0.8010, -0.6368, -0.3868, -0.2710, -0.6305, -0.7869,\n",
              "          -0.5933, -0.2291,  0.0366, -0.1617]), tensor([-0.3554])),\n",
              " (tensor([-0.7833, -0.8010, -0.6368, -0.3868, -0.2710, -0.6305, -0.7869, -0.5933,\n",
              "          -0.2291,  0.0366, -0.1617, -0.3554]), tensor([-0.6719])),\n",
              " (tensor([-0.8010, -0.6368, -0.3868, -0.2710, -0.6305, -0.7869, -0.5933, -0.2291,\n",
              "           0.0366, -0.1617, -0.3554, -0.6719]), tensor([-0.6894])),\n",
              " (tensor([-0.6368, -0.3868, -0.2710, -0.6305, -0.7869, -0.5933, -0.2291,  0.0366,\n",
              "          -0.1617, -0.3554, -0.6719, -0.6894]), tensor([-0.5184])),\n",
              " (tensor([-0.3868, -0.2710, -0.6305, -0.7869, -0.5933, -0.2291,  0.0366, -0.1617,\n",
              "          -0.3554, -0.6719, -0.6894, -0.5184]), tensor([-0.3872])),\n",
              " (tensor([-0.2710, -0.6305, -0.7869, -0.5933, -0.2291,  0.0366, -0.1617, -0.3554,\n",
              "          -0.6719, -0.6894, -0.5184, -0.3872]), tensor([-0.3679])),\n",
              " (tensor([-0.6305, -0.7869, -0.5933, -0.2291,  0.0366, -0.1617, -0.3554, -0.6719,\n",
              "          -0.6894, -0.5184, -0.3872, -0.3679]), tensor([-0.6078])),\n",
              " (tensor([-0.7869, -0.5933, -0.2291,  0.0366, -0.1617, -0.3554, -0.6719, -0.6894,\n",
              "          -0.5184, -0.3872, -0.3679, -0.6078]), tensor([-0.7551])),\n",
              " (tensor([-0.5933, -0.2291,  0.0366, -0.1617, -0.3554, -0.6719, -0.6894, -0.5184,\n",
              "          -0.3872, -0.3679, -0.6078, -0.7551]), tensor([-0.5475])),\n",
              " (tensor([-0.2291,  0.0366, -0.1617, -0.3554, -0.6719, -0.6894, -0.5184, -0.3872,\n",
              "          -0.3679, -0.6078, -0.7551, -0.5475]), tensor([-0.2402])),\n",
              " (tensor([ 0.0366, -0.1617, -0.3554, -0.6719, -0.6894, -0.5184, -0.3872, -0.3679,\n",
              "          -0.6078, -0.7551, -0.5475, -0.2402]), tensor([0.0197])),\n",
              " (tensor([-0.1617, -0.3554, -0.6719, -0.6894, -0.5184, -0.3872, -0.3679, -0.6078,\n",
              "          -0.7551, -0.5475, -0.2402,  0.0197]), tensor([-0.2631])),\n",
              " (tensor([-0.3554, -0.6719, -0.6894, -0.5184, -0.3872, -0.3679, -0.6078, -0.7551,\n",
              "          -0.5475, -0.2402,  0.0197, -0.2631]), tensor([-0.4835])),\n",
              " (tensor([-0.6719, -0.6894, -0.5184, -0.3872, -0.3679, -0.6078, -0.7551, -0.5475,\n",
              "          -0.2402,  0.0197, -0.2631, -0.4835]), tensor([-0.7074])),\n",
              " (tensor([-0.6894, -0.5184, -0.3872, -0.3679, -0.6078, -0.7551, -0.5475, -0.2402,\n",
              "           0.0197, -0.2631, -0.4835, -0.7074]), tensor([-0.7822])),\n",
              " (tensor([-0.5184, -0.3872, -0.3679, -0.6078, -0.7551, -0.5475, -0.2402,  0.0197,\n",
              "          -0.2631, -0.4835, -0.7074, -0.7822]), tensor([-0.5893])),\n",
              " (tensor([-0.3872, -0.3679, -0.6078, -0.7551, -0.5475, -0.2402,  0.0197, -0.2631,\n",
              "          -0.4835, -0.7074, -0.7822, -0.5893]), tensor([-0.3064])),\n",
              " (tensor([-0.3679, -0.6078, -0.7551, -0.5475, -0.2402,  0.0197, -0.2631, -0.4835,\n",
              "          -0.7074, -0.7822, -0.5893, -0.3064]), tensor([-0.3281])),\n",
              " (tensor([-0.6078, -0.7551, -0.5475, -0.2402,  0.0197, -0.2631, -0.4835, -0.7074,\n",
              "          -0.7822, -0.5893, -0.3064, -0.3281]), tensor([-0.5189])),\n",
              " (tensor([-0.7551, -0.5475, -0.2402,  0.0197, -0.2631, -0.4835, -0.7074, -0.7822,\n",
              "          -0.5893, -0.3064, -0.3281, -0.5189]), tensor([-0.6636])),\n",
              " (tensor([-0.5475, -0.2402,  0.0197, -0.2631, -0.4835, -0.7074, -0.7822, -0.5893,\n",
              "          -0.3064, -0.3281, -0.5189, -0.6636]), tensor([-0.5156])),\n",
              " (tensor([-0.2402,  0.0197, -0.2631, -0.4835, -0.7074, -0.7822, -0.5893, -0.3064,\n",
              "          -0.3281, -0.5189, -0.6636, -0.5156]), tensor([-0.1879])),\n",
              " (tensor([ 0.0197, -0.2631, -0.4835, -0.7074, -0.7822, -0.5893, -0.3064, -0.3281,\n",
              "          -0.5189, -0.6636, -0.5156, -0.1879]), tensor([-0.0999])),\n",
              " (tensor([-0.2631, -0.4835, -0.7074, -0.7822, -0.5893, -0.3064, -0.3281, -0.5189,\n",
              "          -0.6636, -0.5156, -0.1879, -0.0999]), tensor([-0.3270])),\n",
              " (tensor([-0.4835, -0.7074, -0.7822, -0.5893, -0.3064, -0.3281, -0.5189, -0.6636,\n",
              "          -0.5156, -0.1879, -0.0999, -0.3270]), tensor([-0.3683])),\n",
              " (tensor([-0.7074, -0.7822, -0.5893, -0.3064, -0.3281, -0.5189, -0.6636, -0.5156,\n",
              "          -0.1879, -0.0999, -0.3270, -0.3683]), tensor([-0.6878])),\n",
              " (tensor([-0.7822, -0.5893, -0.3064, -0.3281, -0.5189, -0.6636, -0.5156, -0.1879,\n",
              "          -0.0999, -0.3270, -0.3683, -0.6878]), tensor([-0.6461])),\n",
              " (tensor([-0.5893, -0.3064, -0.3281, -0.5189, -0.6636, -0.5156, -0.1879, -0.0999,\n",
              "          -0.3270, -0.3683, -0.6878, -0.6461]), tensor([-0.3715])),\n",
              " (tensor([-0.3064, -0.3281, -0.5189, -0.6636, -0.5156, -0.1879, -0.0999, -0.3270,\n",
              "          -0.3683, -0.6878, -0.6461, -0.3715]), tensor([-0.1312])),\n",
              " (tensor([-0.3281, -0.5189, -0.6636, -0.5156, -0.1879, -0.0999, -0.3270, -0.3683,\n",
              "          -0.6878, -0.6461, -0.3715, -0.1312]), tensor([-0.1413])),\n",
              " (tensor([-0.5189, -0.6636, -0.5156, -0.1879, -0.0999, -0.3270, -0.3683, -0.6878,\n",
              "          -0.6461, -0.3715, -0.1312, -0.1413]), tensor([-0.3365])),\n",
              " (tensor([-0.6636, -0.5156, -0.1879, -0.0999, -0.3270, -0.3683, -0.6878, -0.6461,\n",
              "          -0.3715, -0.1312, -0.1413, -0.3365]), tensor([-0.5790])),\n",
              " (tensor([-0.5156, -0.1879, -0.0999, -0.3270, -0.3683, -0.6878, -0.6461, -0.3715,\n",
              "          -0.1312, -0.1413, -0.3365, -0.5790]), tensor([-0.5353])),\n",
              " (tensor([-0.1879, -0.0999, -0.3270, -0.3683, -0.6878, -0.6461, -0.3715, -0.1312,\n",
              "          -0.1413, -0.3365, -0.5790, -0.5353]), tensor([-0.2011])),\n",
              " (tensor([-0.0999, -0.3270, -0.3683, -0.6878, -0.6461, -0.3715, -0.1312, -0.1413,\n",
              "          -0.3365, -0.5790, -0.5353, -0.2011]), tensor([0.1399])),\n",
              " (tensor([-0.3270, -0.3683, -0.6878, -0.6461, -0.3715, -0.1312, -0.1413, -0.3365,\n",
              "          -0.5790, -0.5353, -0.2011,  0.1399]), tensor([-0.2170])),\n",
              " (tensor([-0.3683, -0.6878, -0.6461, -0.3715, -0.1312, -0.1413, -0.3365, -0.5790,\n",
              "          -0.5353, -0.2011,  0.1399, -0.2170]), tensor([-0.2314])),\n",
              " (tensor([-0.6878, -0.6461, -0.3715, -0.1312, -0.1413, -0.3365, -0.5790, -0.5353,\n",
              "          -0.2011,  0.1399, -0.2170, -0.2314]), tensor([-0.5654])),\n",
              " (tensor([-0.6461, -0.3715, -0.1312, -0.1413, -0.3365, -0.5790, -0.5353, -0.2011,\n",
              "           0.1399, -0.2170, -0.2314, -0.5654]), tensor([-0.6015])),\n",
              " (tensor([-0.3715, -0.1312, -0.1413, -0.3365, -0.5790, -0.5353, -0.2011,  0.1399,\n",
              "          -0.2170, -0.2314, -0.5654, -0.6015]), tensor([-0.3258])),\n",
              " (tensor([-0.1312, -0.1413, -0.3365, -0.5790, -0.5353, -0.2011,  0.1399, -0.2170,\n",
              "          -0.2314, -0.5654, -0.6015, -0.3258]), tensor([-0.0119])),\n",
              " (tensor([-0.1413, -0.3365, -0.5790, -0.5353, -0.2011,  0.1399, -0.2170, -0.2314,\n",
              "          -0.5654, -0.6015, -0.3258, -0.0119]), tensor([-0.0468])),\n",
              " (tensor([-0.3365, -0.5790, -0.5353, -0.2011,  0.1399, -0.2170, -0.2314, -0.5654,\n",
              "          -0.6015, -0.3258, -0.0119, -0.0468]), tensor([-0.3463])),\n",
              " (tensor([-0.5790, -0.5353, -0.2011,  0.1399, -0.2170, -0.2314, -0.5654, -0.6015,\n",
              "          -0.3258, -0.0119, -0.0468, -0.3463]), tensor([-0.5616])),\n",
              " (tensor([-0.5353, -0.2011,  0.1399, -0.2170, -0.2314, -0.5654, -0.6015, -0.3258,\n",
              "          -0.0119, -0.0468, -0.3463, -0.5616]), tensor([-0.5104])),\n",
              " (tensor([-0.2011,  0.1399, -0.2170, -0.2314, -0.5654, -0.6015, -0.3258, -0.0119,\n",
              "          -0.0468, -0.3463, -0.5616, -0.5104]), tensor([-0.1095])),\n",
              " (tensor([ 0.1399, -0.2170, -0.2314, -0.5654, -0.6015, -0.3258, -0.0119, -0.0468,\n",
              "          -0.3463, -0.5616, -0.5104, -0.1095]), tensor([0.1415])),\n",
              " (tensor([-0.2170, -0.2314, -0.5654, -0.6015, -0.3258, -0.0119, -0.0468, -0.3463,\n",
              "          -0.5616, -0.5104, -0.1095,  0.1415]), tensor([-0.1177])),\n",
              " (tensor([-0.2314, -0.5654, -0.6015, -0.3258, -0.0119, -0.0468, -0.3463, -0.5616,\n",
              "          -0.5104, -0.1095,  0.1415, -0.1177]), tensor([-0.3184])),\n",
              " (tensor([-0.5654, -0.6015, -0.3258, -0.0119, -0.0468, -0.3463, -0.5616, -0.5104,\n",
              "          -0.1095,  0.1415, -0.1177, -0.3184]), tensor([-0.5356])),\n",
              " (tensor([-0.6015, -0.3258, -0.0119, -0.0468, -0.3463, -0.5616, -0.5104, -0.1095,\n",
              "           0.1415, -0.1177, -0.3184, -0.5356]), tensor([-0.4362])),\n",
              " (tensor([-0.3258, -0.0119, -0.0468, -0.3463, -0.5616, -0.5104, -0.1095,  0.1415,\n",
              "          -0.1177, -0.3184, -0.5356, -0.4362]), tensor([-0.2215])),\n",
              " (tensor([-0.0119, -0.0468, -0.3463, -0.5616, -0.5104, -0.1095,  0.1415, -0.1177,\n",
              "          -0.3184, -0.5356, -0.4362, -0.2215]), tensor([-0.0599])),\n",
              " (tensor([-0.0468, -0.3463, -0.5616, -0.5104, -0.1095,  0.1415, -0.1177, -0.3184,\n",
              "          -0.5356, -0.4362, -0.2215, -0.0599]), tensor([0.0498])),\n",
              " (tensor([-0.3463, -0.5616, -0.5104, -0.1095,  0.1415, -0.1177, -0.3184, -0.5356,\n",
              "          -0.4362, -0.2215, -0.0599,  0.0498]), tensor([-0.2337])),\n",
              " (tensor([-0.5616, -0.5104, -0.1095,  0.1415, -0.1177, -0.3184, -0.5356, -0.4362,\n",
              "          -0.2215, -0.0599,  0.0498, -0.2337]), tensor([-0.4799])),\n",
              " (tensor([-0.5104, -0.1095,  0.1415, -0.1177, -0.3184, -0.5356, -0.4362, -0.2215,\n",
              "          -0.0599,  0.0498, -0.2337, -0.4799]), tensor([-0.3217])),\n",
              " (tensor([-0.1095,  0.1415, -0.1177, -0.3184, -0.5356, -0.4362, -0.2215, -0.0599,\n",
              "           0.0498, -0.2337, -0.4799, -0.3217]), tensor([0.1478])),\n",
              " (tensor([ 0.1415, -0.1177, -0.3184, -0.5356, -0.4362, -0.2215, -0.0599,  0.0498,\n",
              "          -0.2337, -0.4799, -0.3217,  0.1478]), tensor([0.3640])),\n",
              " (tensor([-0.1177, -0.3184, -0.5356, -0.4362, -0.2215, -0.0599,  0.0498, -0.2337,\n",
              "          -0.4799, -0.3217,  0.1478,  0.3640]), tensor([-0.0243])),\n",
              " (tensor([-0.3184, -0.5356, -0.4362, -0.2215, -0.0599,  0.0498, -0.2337, -0.4799,\n",
              "          -0.3217,  0.1478,  0.3640, -0.0243]), tensor([-0.1653])),\n",
              " (tensor([-0.5356, -0.4362, -0.2215, -0.0599,  0.0498, -0.2337, -0.4799, -0.3217,\n",
              "           0.1478,  0.3640, -0.0243, -0.1653]), tensor([-0.4879])),\n",
              " (tensor([-0.4362, -0.2215, -0.0599,  0.0498, -0.2337, -0.4799, -0.3217,  0.1478,\n",
              "           0.3640, -0.0243, -0.1653, -0.4879]), tensor([-0.4993])),\n",
              " (tensor([-0.2215, -0.0599,  0.0498, -0.2337, -0.4799, -0.3217,  0.1478,  0.3640,\n",
              "          -0.0243, -0.1653, -0.4879, -0.4993]), tensor([-0.2431])),\n",
              " (tensor([-0.0599,  0.0498, -0.2337, -0.4799, -0.3217,  0.1478,  0.3640, -0.0243,\n",
              "          -0.1653, -0.4879, -0.4993, -0.2431]), tensor([-0.0590])),\n",
              " (tensor([ 0.0498, -0.2337, -0.4799, -0.3217,  0.1478,  0.3640, -0.0243, -0.1653,\n",
              "          -0.4879, -0.4993, -0.2431, -0.0590]), tensor([0.0543])),\n",
              " (tensor([-0.2337, -0.4799, -0.3217,  0.1478,  0.3640, -0.0243, -0.1653, -0.4879,\n",
              "          -0.4993, -0.2431, -0.0590,  0.0543]), tensor([-0.3130])),\n",
              " (tensor([-0.4799, -0.3217,  0.1478,  0.3640, -0.0243, -0.1653, -0.4879, -0.4993,\n",
              "          -0.2431, -0.0590,  0.0543, -0.3130]), tensor([-0.4954])),\n",
              " (tensor([-0.3217,  0.1478,  0.3640, -0.0243, -0.1653, -0.4879, -0.4993, -0.2431,\n",
              "          -0.0590,  0.0543, -0.3130, -0.4954]), tensor([-0.4875])),\n",
              " (tensor([ 0.1478,  0.3640, -0.0243, -0.1653, -0.4879, -0.4993, -0.2431, -0.0590,\n",
              "           0.0543, -0.3130, -0.4954, -0.4875]), tensor([-0.1581])),\n",
              " (tensor([ 0.3640, -0.0243, -0.1653, -0.4879, -0.4993, -0.2431, -0.0590,  0.0543,\n",
              "          -0.3130, -0.4954, -0.4875, -0.1581]), tensor([0.1664])),\n",
              " (tensor([-0.0243, -0.1653, -0.4879, -0.4993, -0.2431, -0.0590,  0.0543, -0.3130,\n",
              "          -0.4954, -0.4875, -0.1581,  0.1664]), tensor([-0.0872])),\n",
              " (tensor([-0.1653, -0.4879, -0.4993, -0.2431, -0.0590,  0.0543, -0.3130, -0.4954,\n",
              "          -0.4875, -0.1581,  0.1664, -0.0872]), tensor([-0.1506])),\n",
              " (tensor([-0.4879, -0.4993, -0.2431, -0.0590,  0.0543, -0.3130, -0.4954, -0.4875,\n",
              "          -0.1581,  0.1664, -0.0872, -0.1506]), tensor([-0.3930])),\n",
              " (tensor([-0.4993, -0.2431, -0.0590,  0.0543, -0.3130, -0.4954, -0.4875, -0.1581,\n",
              "           0.1664, -0.0872, -0.1506, -0.3930]), tensor([-0.4108])),\n",
              " (tensor([-0.2431, -0.0590,  0.0543, -0.3130, -0.4954, -0.4875, -0.1581,  0.1664,\n",
              "          -0.0872, -0.1506, -0.3930, -0.4108]), tensor([-0.1514])),\n",
              " (tensor([-0.0590,  0.0543, -0.3130, -0.4954, -0.4875, -0.1581,  0.1664, -0.0872,\n",
              "          -0.1506, -0.3930, -0.4108, -0.1514]), tensor([0.1479])),\n",
              " (tensor([ 0.0543, -0.3130, -0.4954, -0.4875, -0.1581,  0.1664, -0.0872, -0.1506,\n",
              "          -0.3930, -0.4108, -0.1514,  0.1479]), tensor([0.1225])),\n",
              " (tensor([-0.3130, -0.4954, -0.4875, -0.1581,  0.1664, -0.0872, -0.1506, -0.3930,\n",
              "          -0.4108, -0.1514,  0.1479,  0.1225]), tensor([-0.1489])),\n",
              " (tensor([-0.4954, -0.4875, -0.1581,  0.1664, -0.0872, -0.1506, -0.3930, -0.4108,\n",
              "          -0.1514,  0.1479,  0.1225, -0.1489]), tensor([-0.3580])),\n",
              " (tensor([-0.4875, -0.1581,  0.1664, -0.0872, -0.1506, -0.3930, -0.4108, -0.1514,\n",
              "           0.1479,  0.1225, -0.1489, -0.3580]), tensor([-0.3035])),\n",
              " (tensor([-0.1581,  0.1664, -0.0872, -0.1506, -0.3930, -0.4108, -0.1514,  0.1479,\n",
              "           0.1225, -0.1489, -0.3580, -0.3035]), tensor([0.0943])),\n",
              " (tensor([ 0.1664, -0.0872, -0.1506, -0.3930, -0.4108, -0.1514,  0.1479,  0.1225,\n",
              "          -0.1489, -0.3580, -0.3035,  0.0943]), tensor([0.3994])),\n",
              " (tensor([-0.0872, -0.1506, -0.3930, -0.4108, -0.1514,  0.1479,  0.1225, -0.1489,\n",
              "          -0.3580, -0.3035,  0.0943,  0.3994]), tensor([0.1931])),\n",
              " (tensor([-0.1506, -0.3930, -0.4108, -0.1514,  0.1479,  0.1225, -0.1489, -0.3580,\n",
              "          -0.3035,  0.0943,  0.3994,  0.1931]), tensor([-0.1086])),\n",
              " (tensor([-0.3930, -0.4108, -0.1514,  0.1479,  0.1225, -0.1489, -0.3580, -0.3035,\n",
              "           0.0943,  0.3994,  0.1931, -0.1086]), tensor([-0.4170])),\n",
              " (tensor([-0.4108, -0.1514,  0.1479,  0.1225, -0.1489, -0.3580, -0.3035,  0.0943,\n",
              "           0.3994,  0.1931, -0.1086, -0.4170]), tensor([-0.4031])),\n",
              " (tensor([-0.1514,  0.1479,  0.1225, -0.1489, -0.3580, -0.3035,  0.0943,  0.3994,\n",
              "           0.1931, -0.1086, -0.4170, -0.4031]), tensor([-0.2202])),\n",
              " (tensor([ 0.1479,  0.1225, -0.1489, -0.3580, -0.3035,  0.0943,  0.3994,  0.1931,\n",
              "          -0.1086, -0.4170, -0.4031, -0.2202]), tensor([0.1424])),\n",
              " (tensor([ 0.1225, -0.1489, -0.3580, -0.3035,  0.0943,  0.3994,  0.1931, -0.1086,\n",
              "          -0.4170, -0.4031, -0.2202,  0.1424]), tensor([0.2155])),\n",
              " (tensor([-0.1489, -0.3580, -0.3035,  0.0943,  0.3994,  0.1931, -0.1086, -0.4170,\n",
              "          -0.4031, -0.2202,  0.1424,  0.2155]), tensor([-0.1612])),\n",
              " (tensor([-0.3580, -0.3035,  0.0943,  0.3994,  0.1931, -0.1086, -0.4170, -0.4031,\n",
              "          -0.2202,  0.1424,  0.2155, -0.1612]), tensor([-0.3702])),\n",
              " (tensor([-0.3035,  0.0943,  0.3994,  0.1931, -0.1086, -0.4170, -0.4031, -0.2202,\n",
              "           0.1424,  0.2155, -0.1612, -0.3702]), tensor([-0.3028])),\n",
              " (tensor([ 0.0943,  0.3994,  0.1931, -0.1086, -0.4170, -0.4031, -0.2202,  0.1424,\n",
              "           0.2155, -0.1612, -0.3702, -0.3028]), tensor([0.1844])),\n",
              " (tensor([ 0.3994,  0.1931, -0.1086, -0.4170, -0.4031, -0.2202,  0.1424,  0.2155,\n",
              "          -0.1612, -0.3702, -0.3028,  0.1844]), tensor([0.5153])),\n",
              " (tensor([ 0.1931, -0.1086, -0.4170, -0.4031, -0.2202,  0.1424,  0.2155, -0.1612,\n",
              "          -0.3702, -0.3028,  0.1844,  0.5153]), tensor([0.2696])),\n",
              " (tensor([-0.1086, -0.4170, -0.4031, -0.2202,  0.1424,  0.2155, -0.1612, -0.3702,\n",
              "          -0.3028,  0.1844,  0.5153,  0.2696]), tensor([-0.0806])),\n",
              " (tensor([-0.4170, -0.4031, -0.2202,  0.1424,  0.2155, -0.1612, -0.3702, -0.3028,\n",
              "           0.1844,  0.5153,  0.2696, -0.0806]), tensor([-0.3627])),\n",
              " (tensor([-0.4031, -0.2202,  0.1424,  0.2155, -0.1612, -0.3702, -0.3028,  0.1844,\n",
              "           0.5153,  0.2696, -0.0806, -0.3627]), tensor([-0.2866])),\n",
              " (tensor([-0.2202,  0.1424,  0.2155, -0.1612, -0.3702, -0.3028,  0.1844,  0.5153,\n",
              "           0.2696, -0.0806, -0.3627, -0.2866]), tensor([-0.0758])),\n",
              " (tensor([ 0.1424,  0.2155, -0.1612, -0.3702, -0.3028,  0.1844,  0.5153,  0.2696,\n",
              "          -0.0806, -0.3627, -0.2866, -0.0758]), tensor([0.1287])),\n",
              " (tensor([ 0.2155, -0.1612, -0.3702, -0.3028,  0.1844,  0.5153,  0.2696, -0.0806,\n",
              "          -0.3627, -0.2866, -0.0758,  0.1287]), tensor([0.0766])),\n",
              " (tensor([-0.1612, -0.3702, -0.3028,  0.1844,  0.5153,  0.2696, -0.0806, -0.3627,\n",
              "          -0.2866, -0.0758,  0.1287,  0.0766]), tensor([-0.1249])),\n",
              " (tensor([-0.3702, -0.3028,  0.1844,  0.5153,  0.2696, -0.0806, -0.3627, -0.2866,\n",
              "          -0.0758,  0.1287,  0.0766, -0.1249]), tensor([-0.3371])),\n",
              " (tensor([-0.3028,  0.1844,  0.5153,  0.2696, -0.0806, -0.3627, -0.2866, -0.0758,\n",
              "           0.1287,  0.0766, -0.1249, -0.3371]), tensor([-0.2702])),\n",
              " (tensor([ 0.1844,  0.5153,  0.2696, -0.0806, -0.3627, -0.2866, -0.0758,  0.1287,\n",
              "           0.0766, -0.1249, -0.3371, -0.2702]), tensor([0.2547])),\n",
              " (tensor([ 0.5153,  0.2696, -0.0806, -0.3627, -0.2866, -0.0758,  0.1287,  0.0766,\n",
              "          -0.1249, -0.3371, -0.2702,  0.2547]), tensor([0.4325])),\n",
              " (tensor([ 0.2696, -0.0806, -0.3627, -0.2866, -0.0758,  0.1287,  0.0766, -0.1249,\n",
              "          -0.3371, -0.2702,  0.2547,  0.4325]), tensor([0.1238])),\n",
              " (tensor([-0.0806, -0.3627, -0.2866, -0.0758,  0.1287,  0.0766, -0.1249, -0.3371,\n",
              "          -0.2702,  0.2547,  0.4325,  0.1238]), tensor([0.0354])),\n",
              " (tensor([-0.3627, -0.2866, -0.0758,  0.1287,  0.0766, -0.1249, -0.3371, -0.2702,\n",
              "           0.2547,  0.4325,  0.1238,  0.0354]), tensor([-0.3726])),\n",
              " (tensor([-0.2866, -0.0758,  0.1287,  0.0766, -0.1249, -0.3371, -0.2702,  0.2547,\n",
              "           0.4325,  0.1238,  0.0354, -0.3726]), tensor([-0.3499])),\n",
              " (tensor([-0.0758,  0.1287,  0.0766, -0.1249, -0.3371, -0.2702,  0.2547,  0.4325,\n",
              "           0.1238,  0.0354, -0.3726, -0.3499]), tensor([0.0519])),\n",
              " (tensor([ 0.1287,  0.0766, -0.1249, -0.3371, -0.2702,  0.2547,  0.4325,  0.1238,\n",
              "           0.0354, -0.3726, -0.3499,  0.0519]), tensor([0.3464])),\n",
              " (tensor([ 0.0766, -0.1249, -0.3371, -0.2702,  0.2547,  0.4325,  0.1238,  0.0354,\n",
              "          -0.3726, -0.3499,  0.0519,  0.3464]), tensor([0.3851])),\n",
              " (tensor([-0.1249, -0.3371, -0.2702,  0.2547,  0.4325,  0.1238,  0.0354, -0.3726,\n",
              "          -0.3499,  0.0519,  0.3464,  0.3851]), tensor([0.0460])),\n",
              " (tensor([-0.3371, -0.2702,  0.2547,  0.4325,  0.1238,  0.0354, -0.3726, -0.3499,\n",
              "           0.0519,  0.3464,  0.3851,  0.0460]), tensor([-0.2592])),\n",
              " (tensor([-0.2702,  0.2547,  0.4325,  0.1238,  0.0354, -0.3726, -0.3499,  0.0519,\n",
              "           0.3464,  0.3851,  0.0460, -0.2592]), tensor([-0.2442])),\n",
              " (tensor([ 0.2547,  0.4325,  0.1238,  0.0354, -0.3726, -0.3499,  0.0519,  0.3464,\n",
              "           0.3851,  0.0460, -0.2592, -0.2442]), tensor([0.3366])),\n",
              " (tensor([ 0.4325,  0.1238,  0.0354, -0.3726, -0.3499,  0.0519,  0.3464,  0.3851,\n",
              "           0.0460, -0.2592, -0.2442,  0.3366]), tensor([0.2168])),\n",
              " (tensor([ 0.1238,  0.0354, -0.3726, -0.3499,  0.0519,  0.3464,  0.3851,  0.0460,\n",
              "          -0.2592, -0.2442,  0.3366,  0.2168]), tensor([0.1134])),\n",
              " (tensor([ 0.0354, -0.3726, -0.3499,  0.0519,  0.3464,  0.3851,  0.0460, -0.2592,\n",
              "          -0.2442,  0.3366,  0.2168,  0.1134]), tensor([0.0179])),\n",
              " (tensor([-0.3726, -0.3499,  0.0519,  0.3464,  0.3851,  0.0460, -0.2592, -0.2442,\n",
              "           0.3366,  0.2168,  0.1134,  0.0179]), tensor([-0.3393])),\n",
              " (tensor([-0.3499,  0.0519,  0.3464,  0.3851,  0.0460, -0.2592, -0.2442,  0.3366,\n",
              "           0.2168,  0.1134,  0.0179, -0.3393]), tensor([-0.2569])),\n",
              " (tensor([ 0.0519,  0.3464,  0.3851,  0.0460, -0.2592, -0.2442,  0.3366,  0.2168,\n",
              "           0.1134,  0.0179, -0.3393, -0.2569]), tensor([0.0858])),\n",
              " (tensor([ 0.3464,  0.3851,  0.0460, -0.2592, -0.2442,  0.3366,  0.2168,  0.1134,\n",
              "           0.0179, -0.3393, -0.2569,  0.0858]), tensor([0.4299])),\n",
              " (tensor([ 0.3851,  0.0460, -0.2592, -0.2442,  0.3366,  0.2168,  0.1134,  0.0179,\n",
              "          -0.3393, -0.2569,  0.0858,  0.4299]), tensor([0.4501])),\n",
              " (tensor([ 0.0460, -0.2592, -0.2442,  0.3366,  0.2168,  0.1134,  0.0179, -0.3393,\n",
              "          -0.2569,  0.0858,  0.4299,  0.4501]), tensor([-0.0657])),\n",
              " (tensor([-0.2592, -0.2442,  0.3366,  0.2168,  0.1134,  0.0179, -0.3393, -0.2569,\n",
              "           0.0858,  0.4299,  0.4501, -0.0657]), tensor([-0.2423])),\n",
              " (tensor([-0.2442,  0.3366,  0.2168,  0.1134,  0.0179, -0.3393, -0.2569,  0.0858,\n",
              "           0.4299,  0.4501, -0.0657, -0.2423]), tensor([-0.1804])),\n",
              " (tensor([ 0.3366,  0.2168,  0.1134,  0.0179, -0.3393, -0.2569,  0.0858,  0.4299,\n",
              "           0.4501, -0.0657, -0.2423, -0.1804]), tensor([0.1698])),\n",
              " (tensor([ 0.2168,  0.1134,  0.0179, -0.3393, -0.2569,  0.0858,  0.4299,  0.4501,\n",
              "          -0.0657, -0.2423, -0.1804,  0.1698]), tensor([0.4630])),\n",
              " (tensor([ 0.1134,  0.0179, -0.3393, -0.2569,  0.0858,  0.4299,  0.4501, -0.0657,\n",
              "          -0.2423, -0.1804,  0.1698,  0.4630]), tensor([0.4547])),\n",
              " (tensor([ 0.0179, -0.3393, -0.2569,  0.0858,  0.4299,  0.4501, -0.0657, -0.2423,\n",
              "          -0.1804,  0.1698,  0.4630,  0.4547]), tensor([0.0431])),\n",
              " (tensor([-0.3393, -0.2569,  0.0858,  0.4299,  0.4501, -0.0657, -0.2423, -0.1804,\n",
              "           0.1698,  0.4630,  0.4547,  0.0431]), tensor([-0.2307])),\n",
              " (tensor([-0.2569,  0.0858,  0.4299,  0.4501, -0.0657, -0.2423, -0.1804,  0.1698,\n",
              "           0.4630,  0.4547,  0.0431, -0.2307]), tensor([-0.1899])),\n",
              " (tensor([ 0.0858,  0.4299,  0.4501, -0.0657, -0.2423, -0.1804,  0.1698,  0.4630,\n",
              "           0.4547,  0.0431, -0.2307, -0.1899]), tensor([0.1014])),\n",
              " (tensor([ 0.4299,  0.4501, -0.0657, -0.2423, -0.1804,  0.1698,  0.4630,  0.4547,\n",
              "           0.0431, -0.2307, -0.1899,  0.1014]), tensor([0.3183])),\n",
              " (tensor([ 0.4501, -0.0657, -0.2423, -0.1804,  0.1698,  0.4630,  0.4547,  0.0431,\n",
              "          -0.2307, -0.1899,  0.1014,  0.3183]), tensor([0.5318])),\n",
              " (tensor([-0.0657, -0.2423, -0.1804,  0.1698,  0.4630,  0.4547,  0.0431, -0.2307,\n",
              "          -0.1899,  0.1014,  0.3183,  0.5318]), tensor([0.1208])),\n",
              " (tensor([-0.2423, -0.1804,  0.1698,  0.4630,  0.4547,  0.0431, -0.2307, -0.1899,\n",
              "           0.1014,  0.3183,  0.5318,  0.1208]), tensor([-0.1580])),\n",
              " (tensor([-0.1804,  0.1698,  0.4630,  0.4547,  0.0431, -0.2307, -0.1899,  0.1014,\n",
              "           0.3183,  0.5318,  0.1208, -0.1580]), tensor([-0.1299])),\n",
              " (tensor([ 0.1698,  0.4630,  0.4547,  0.0431, -0.2307, -0.1899,  0.1014,  0.3183,\n",
              "           0.5318,  0.1208, -0.1580, -0.1299]), tensor([0.2892])),\n",
              " (tensor([ 0.4630,  0.4547,  0.0431, -0.2307, -0.1899,  0.1014,  0.3183,  0.5318,\n",
              "           0.1208, -0.1580, -0.1299,  0.2892]), tensor([0.5534])),\n",
              " (tensor([ 0.4547,  0.0431, -0.2307, -0.1899,  0.1014,  0.3183,  0.5318,  0.1208,\n",
              "          -0.1580, -0.1299,  0.2892,  0.5534]), tensor([0.3373])),\n",
              " (tensor([ 0.0431, -0.2307, -0.1899,  0.1014,  0.3183,  0.5318,  0.1208, -0.1580,\n",
              "          -0.1299,  0.2892,  0.5534,  0.3373]), tensor([0.0834])),\n",
              " (tensor([-0.2307, -0.1899,  0.1014,  0.3183,  0.5318,  0.1208, -0.1580, -0.1299,\n",
              "           0.2892,  0.5534,  0.3373,  0.0834]), tensor([-0.2254])),\n",
              " (tensor([-0.1899,  0.1014,  0.3183,  0.5318,  0.1208, -0.1580, -0.1299,  0.2892,\n",
              "           0.5534,  0.3373,  0.0834, -0.2254]), tensor([-0.2178])),\n",
              " (tensor([ 0.1014,  0.3183,  0.5318,  0.1208, -0.1580, -0.1299,  0.2892,  0.5534,\n",
              "           0.3373,  0.0834, -0.2254, -0.2178]), tensor([0.1961])),\n",
              " (tensor([ 0.3183,  0.5318,  0.1208, -0.1580, -0.1299,  0.2892,  0.5534,  0.3373,\n",
              "           0.0834, -0.2254, -0.2178,  0.1961]), tensor([0.4205])),\n",
              " (tensor([ 0.5318,  0.1208, -0.1580, -0.1299,  0.2892,  0.5534,  0.3373,  0.0834,\n",
              "          -0.2254, -0.2178,  0.1961,  0.4205]), tensor([0.3170])),\n",
              " (tensor([ 0.1208, -0.1580, -0.1299,  0.2892,  0.5534,  0.3373,  0.0834, -0.2254,\n",
              "          -0.2178,  0.1961,  0.4205,  0.3170]), tensor([-0.0043])),\n",
              " (tensor([-0.1580, -0.1299,  0.2892,  0.5534,  0.3373,  0.0834, -0.2254, -0.2178,\n",
              "           0.1961,  0.4205,  0.3170, -0.0043]), tensor([-0.2244])),\n",
              " (tensor([-0.1299,  0.2892,  0.5534,  0.3373,  0.0834, -0.2254, -0.2178,  0.1961,\n",
              "           0.4205,  0.3170, -0.0043, -0.2244]), tensor([-0.1336])),\n",
              " (tensor([ 0.2892,  0.5534,  0.3373,  0.0834, -0.2254, -0.2178,  0.1961,  0.4205,\n",
              "           0.3170, -0.0043, -0.2244, -0.1336]), tensor([0.3743])),\n",
              " (tensor([ 0.5534,  0.3373,  0.0834, -0.2254, -0.2178,  0.1961,  0.4205,  0.3170,\n",
              "          -0.0043, -0.2244, -0.1336,  0.3743]), tensor([0.6163])),\n",
              " (tensor([ 0.3373,  0.0834, -0.2254, -0.2178,  0.1961,  0.4205,  0.3170, -0.0043,\n",
              "          -0.2244, -0.1336,  0.3743,  0.6163]), tensor([0.2118])),\n",
              " (tensor([ 0.0834, -0.2254, -0.2178,  0.1961,  0.4205,  0.3170, -0.0043, -0.2244,\n",
              "          -0.1336,  0.3743,  0.6163,  0.2118]), tensor([-0.0045])),\n",
              " (tensor([-0.2254, -0.2178,  0.1961,  0.4205,  0.3170, -0.0043, -0.2244, -0.1336,\n",
              "           0.3743,  0.6163,  0.2118, -0.0045]), tensor([-0.3192])),\n",
              " (tensor([-0.2178,  0.1961,  0.4205,  0.3170, -0.0043, -0.2244, -0.1336,  0.3743,\n",
              "           0.6163,  0.2118, -0.0045, -0.3192]), tensor([-0.3385])),\n",
              " (tensor([ 0.1961,  0.4205,  0.3170, -0.0043, -0.2244, -0.1336,  0.3743,  0.6163,\n",
              "           0.2118, -0.0045, -0.3192, -0.3385]), tensor([-0.0191])),\n",
              " (tensor([ 0.4205,  0.3170, -0.0043, -0.2244, -0.1336,  0.3743,  0.6163,  0.2118,\n",
              "          -0.0045, -0.3192, -0.3385, -0.0191]), tensor([0.1958])),\n",
              " (tensor([ 0.3170, -0.0043, -0.2244, -0.1336,  0.3743,  0.6163,  0.2118, -0.0045,\n",
              "          -0.3192, -0.3385, -0.0191,  0.1958]), tensor([0.2556])),\n",
              " (tensor([-0.0043, -0.2244, -0.1336,  0.3743,  0.6163,  0.2118, -0.0045, -0.3192,\n",
              "          -0.3385, -0.0191,  0.1958,  0.2556]), tensor([-0.0991])),\n",
              " (tensor([-0.2244, -0.1336,  0.3743,  0.6163,  0.2118, -0.0045, -0.3192, -0.3385,\n",
              "          -0.0191,  0.1958,  0.2556, -0.0991]), tensor([-0.2848])),\n",
              " (tensor([-0.1336,  0.3743,  0.6163,  0.2118, -0.0045, -0.3192, -0.3385, -0.0191,\n",
              "           0.1958,  0.2556, -0.0991, -0.2848]), tensor([-0.2823])),\n",
              " (tensor([ 0.3743,  0.6163,  0.2118, -0.0045, -0.3192, -0.3385, -0.0191,  0.1958,\n",
              "           0.2556, -0.0991, -0.2848, -0.2823]), tensor([0.4140])),\n",
              " (tensor([ 0.6163,  0.2118, -0.0045, -0.3192, -0.3385, -0.0191,  0.1958,  0.2556,\n",
              "          -0.0991, -0.2848, -0.2823,  0.4140]), tensor([0.6860])),\n",
              " (tensor([ 0.2118, -0.0045, -0.3192, -0.3385, -0.0191,  0.1958,  0.2556, -0.0991,\n",
              "          -0.2848, -0.2823,  0.4140,  0.6860]), tensor([0.4099])),\n",
              " (tensor([-0.0045, -0.3192, -0.3385, -0.0191,  0.1958,  0.2556, -0.0991, -0.2848,\n",
              "          -0.2823,  0.4140,  0.6860,  0.4099]), tensor([0.0065])),\n",
              " (tensor([-0.3192, -0.3385, -0.0191,  0.1958,  0.2556, -0.0991, -0.2848, -0.2823,\n",
              "           0.4140,  0.6860,  0.4099,  0.0065]), tensor([-0.3862])),\n",
              " (tensor([-0.3385, -0.0191,  0.1958,  0.2556, -0.0991, -0.2848, -0.2823,  0.4140,\n",
              "           0.6860,  0.4099,  0.0065, -0.3862]), tensor([-0.2372])),\n",
              " (tensor([-0.0191,  0.1958,  0.2556, -0.0991, -0.2848, -0.2823,  0.4140,  0.6860,\n",
              "           0.4099,  0.0065, -0.3862, -0.2372]), tensor([0.2059])),\n",
              " (tensor([ 0.1958,  0.2556, -0.0991, -0.2848, -0.2823,  0.4140,  0.6860,  0.4099,\n",
              "           0.0065, -0.3862, -0.2372,  0.2059]), tensor([0.4874])),\n",
              " (tensor([ 0.2556, -0.0991, -0.2848, -0.2823,  0.4140,  0.6860,  0.4099,  0.0065,\n",
              "          -0.3862, -0.2372,  0.2059,  0.4874]), tensor([0.4912])),\n",
              " (tensor([-0.0991, -0.2848, -0.2823,  0.4140,  0.6860,  0.4099,  0.0065, -0.3862,\n",
              "          -0.2372,  0.2059,  0.4874,  0.4912]), tensor([0.0713])),\n",
              " (tensor([-0.2848, -0.2823,  0.4140,  0.6860,  0.4099,  0.0065, -0.3862, -0.2372,\n",
              "           0.2059,  0.4874,  0.4912,  0.0713]), tensor([-0.2951])),\n",
              " (tensor([-0.2823,  0.4140,  0.6860,  0.4099,  0.0065, -0.3862, -0.2372,  0.2059,\n",
              "           0.4874,  0.4912,  0.0713, -0.2951]), tensor([-0.1725])),\n",
              " (tensor([ 0.4140,  0.6860,  0.4099,  0.0065, -0.3862, -0.2372,  0.2059,  0.4874,\n",
              "           0.4912,  0.0713, -0.2951, -0.1725]), tensor([0.5329])),\n",
              " (tensor([ 0.6860,  0.4099,  0.0065, -0.3862, -0.2372,  0.2059,  0.4874,  0.4912,\n",
              "           0.0713, -0.2951, -0.1725,  0.5329]), tensor([0.7023])),\n",
              " (tensor([ 0.4099,  0.0065, -0.3862, -0.2372,  0.2059,  0.4874,  0.4912,  0.0713,\n",
              "          -0.2951, -0.1725,  0.5329,  0.7023]), tensor([0.3040])),\n",
              " (tensor([ 0.0065, -0.3862, -0.2372,  0.2059,  0.4874,  0.4912,  0.0713, -0.2951,\n",
              "          -0.1725,  0.5329,  0.7023,  0.3040]), tensor([0.0339])),\n",
              " (tensor([-0.3862, -0.2372,  0.2059,  0.4874,  0.4912,  0.0713, -0.2951, -0.1725,\n",
              "           0.5329,  0.7023,  0.3040,  0.0339]), tensor([-0.2856])),\n",
              " (tensor([-0.2372,  0.2059,  0.4874,  0.4912,  0.0713, -0.2951, -0.1725,  0.5329,\n",
              "           0.7023,  0.3040,  0.0339, -0.2856]), tensor([-0.2617])),\n",
              " (tensor([ 0.2059,  0.4874,  0.4912,  0.0713, -0.2951, -0.1725,  0.5329,  0.7023,\n",
              "           0.3040,  0.0339, -0.2856, -0.2617]), tensor([0.1555])),\n",
              " (tensor([ 0.4874,  0.4912,  0.0713, -0.2951, -0.1725,  0.5329,  0.7023,  0.3040,\n",
              "           0.0339, -0.2856, -0.2617,  0.1555]), tensor([0.5458])),\n",
              " (tensor([ 0.4912,  0.0713, -0.2951, -0.1725,  0.5329,  0.7023,  0.3040,  0.0339,\n",
              "          -0.2856, -0.2617,  0.1555,  0.5458]), tensor([0.5078])),\n",
              " (tensor([ 0.0713, -0.2951, -0.1725,  0.5329,  0.7023,  0.3040,  0.0339, -0.2856,\n",
              "          -0.2617,  0.1555,  0.5458,  0.5078]), tensor([0.0468])),\n",
              " (tensor([-0.2951, -0.1725,  0.5329,  0.7023,  0.3040,  0.0339, -0.2856, -0.2617,\n",
              "           0.1555,  0.5458,  0.5078,  0.0468]), tensor([-0.2541])),\n",
              " (tensor([-0.1725,  0.5329,  0.7023,  0.3040,  0.0339, -0.2856, -0.2617,  0.1555,\n",
              "           0.5458,  0.5078,  0.0468, -0.2541]), tensor([-0.1428])),\n",
              " (tensor([ 0.5329,  0.7023,  0.3040,  0.0339, -0.2856, -0.2617,  0.1555,  0.5458,\n",
              "           0.5078,  0.0468, -0.2541, -0.1428]), tensor([0.2987])),\n",
              " (tensor([ 0.7023,  0.3040,  0.0339, -0.2856, -0.2617,  0.1555,  0.5458,  0.5078,\n",
              "           0.0468, -0.2541, -0.1428,  0.2987]), tensor([0.4451])),\n",
              " (tensor([ 0.3040,  0.0339, -0.2856, -0.2617,  0.1555,  0.5458,  0.5078,  0.0468,\n",
              "          -0.2541, -0.1428,  0.2987,  0.4451]), tensor([0.1690])),\n",
              " (tensor([ 0.0339, -0.2856, -0.2617,  0.1555,  0.5458,  0.5078,  0.0468, -0.2541,\n",
              "          -0.1428,  0.2987,  0.4451,  0.1690]), tensor([-0.1540])),\n",
              " (tensor([-0.2856, -0.2617,  0.1555,  0.5458,  0.5078,  0.0468, -0.2541, -0.1428,\n",
              "           0.2987,  0.4451,  0.1690, -0.1540]), tensor([-0.3474])),\n",
              " (tensor([-0.2617,  0.1555,  0.5458,  0.5078,  0.0468, -0.2541, -0.1428,  0.2987,\n",
              "           0.4451,  0.1690, -0.1540, -0.3474]), tensor([-0.1746])),\n",
              " (tensor([ 0.1555,  0.5458,  0.5078,  0.0468, -0.2541, -0.1428,  0.2987,  0.4451,\n",
              "           0.1690, -0.1540, -0.3474, -0.1746]), tensor([0.1008])),\n",
              " (tensor([ 0.5458,  0.5078,  0.0468, -0.2541, -0.1428,  0.2987,  0.4451,  0.1690,\n",
              "          -0.1540, -0.3474, -0.1746,  0.1008]), tensor([0.4955])),\n",
              " (tensor([ 0.5078,  0.0468, -0.2541, -0.1428,  0.2987,  0.4451,  0.1690, -0.1540,\n",
              "          -0.3474, -0.1746,  0.1008,  0.4955]), tensor([0.3909])),\n",
              " (tensor([ 0.0468, -0.2541, -0.1428,  0.2987,  0.4451,  0.1690, -0.1540, -0.3474,\n",
              "          -0.1746,  0.1008,  0.4955,  0.3909]), tensor([-0.0403])),\n",
              " (tensor([-0.2541, -0.1428,  0.2987,  0.4451,  0.1690, -0.1540, -0.3474, -0.1746,\n",
              "           0.1008,  0.4955,  0.3909, -0.0403]), tensor([-0.2562])),\n",
              " (tensor([-0.1428,  0.2987,  0.4451,  0.1690, -0.1540, -0.3474, -0.1746,  0.1008,\n",
              "           0.4955,  0.3909, -0.0403, -0.2562]), tensor([-0.1278])),\n",
              " (tensor([ 0.2987,  0.4451,  0.1690, -0.1540, -0.3474, -0.1746,  0.1008,  0.4955,\n",
              "           0.3909, -0.0403, -0.2562, -0.1278]), tensor([0.2236])),\n",
              " (tensor([ 0.4451,  0.1690, -0.1540, -0.3474, -0.1746,  0.1008,  0.4955,  0.3909,\n",
              "          -0.0403, -0.2562, -0.1278,  0.2236]), tensor([0.5555])),\n",
              " (tensor([ 0.1690, -0.1540, -0.3474, -0.1746,  0.1008,  0.4955,  0.3909, -0.0403,\n",
              "          -0.2562, -0.1278,  0.2236,  0.5555]), tensor([0.2701])),\n",
              " (tensor([-0.1540, -0.3474, -0.1746,  0.1008,  0.4955,  0.3909, -0.0403, -0.2562,\n",
              "          -0.1278,  0.2236,  0.5555,  0.2701]), tensor([0.1472])),\n",
              " (tensor([-0.3474, -0.1746,  0.1008,  0.4955,  0.3909, -0.0403, -0.2562, -0.1278,\n",
              "           0.2236,  0.5555,  0.2701,  0.1472]), tensor([-0.2447])),\n",
              " (tensor([-0.1746,  0.1008,  0.4955,  0.3909, -0.0403, -0.2562, -0.1278,  0.2236,\n",
              "           0.5555,  0.2701,  0.1472, -0.2447]), tensor([-0.2419])),\n",
              " (tensor([ 0.1008,  0.4955,  0.3909, -0.0403, -0.2562, -0.1278,  0.2236,  0.5555,\n",
              "           0.2701,  0.1472, -0.2447, -0.2419]), tensor([0.0819])),\n",
              " (tensor([ 0.4955,  0.3909, -0.0403, -0.2562, -0.1278,  0.2236,  0.5555,  0.2701,\n",
              "           0.1472, -0.2447, -0.2419,  0.0819]), tensor([0.3971])),\n",
              " (tensor([ 0.3909, -0.0403, -0.2562, -0.1278,  0.2236,  0.5555,  0.2701,  0.1472,\n",
              "          -0.2447, -0.2419,  0.0819,  0.3971]), tensor([0.3342])),\n",
              " (tensor([-0.0403, -0.2562, -0.1278,  0.2236,  0.5555,  0.2701,  0.1472, -0.2447,\n",
              "          -0.2419,  0.0819,  0.3971,  0.3342]), tensor([0.0390])),\n",
              " (tensor([-0.2562, -0.1278,  0.2236,  0.5555,  0.2701,  0.1472, -0.2447, -0.2419,\n",
              "           0.0819,  0.3971,  0.3342,  0.0390]), tensor([-0.2105])),\n",
              " (tensor([-0.1278,  0.2236,  0.5555,  0.2701,  0.1472, -0.2447, -0.2419,  0.0819,\n",
              "           0.3971,  0.3342,  0.0390, -0.2105]), tensor([-0.0376])),\n",
              " (tensor([ 0.2236,  0.5555,  0.2701,  0.1472, -0.2447, -0.2419,  0.0819,  0.3971,\n",
              "           0.3342,  0.0390, -0.2105, -0.0376]), tensor([0.4942])),\n",
              " (tensor([ 0.5555,  0.2701,  0.1472, -0.2447, -0.2419,  0.0819,  0.3971,  0.3342,\n",
              "           0.0390, -0.2105, -0.0376,  0.4942]), tensor([0.8412])),\n",
              " (tensor([ 0.2701,  0.1472, -0.2447, -0.2419,  0.0819,  0.3971,  0.3342,  0.0390,\n",
              "          -0.2105, -0.0376,  0.4942,  0.8412]), tensor([0.4725])),\n",
              " (tensor([ 0.1472, -0.2447, -0.2419,  0.0819,  0.3971,  0.3342,  0.0390, -0.2105,\n",
              "          -0.0376,  0.4942,  0.8412,  0.4725]), tensor([0.2039])),\n",
              " (tensor([-0.2447, -0.2419,  0.0819,  0.3971,  0.3342,  0.0390, -0.2105, -0.0376,\n",
              "           0.4942,  0.8412,  0.4725,  0.2039]), tensor([-0.2711])),\n",
              " (tensor([-0.2419,  0.0819,  0.3971,  0.3342,  0.0390, -0.2105, -0.0376,  0.4942,\n",
              "           0.8412,  0.4725,  0.2039, -0.2711]), tensor([-0.2042])),\n",
              " (tensor([ 0.0819,  0.3971,  0.3342,  0.0390, -0.2105, -0.0376,  0.4942,  0.8412,\n",
              "           0.4725,  0.2039, -0.2711, -0.2042]), tensor([0.1138])),\n",
              " (tensor([ 0.3971,  0.3342,  0.0390, -0.2105, -0.0376,  0.4942,  0.8412,  0.4725,\n",
              "           0.2039, -0.2711, -0.2042,  0.1138]), tensor([0.3410])),\n",
              " (tensor([ 0.3342,  0.0390, -0.2105, -0.0376,  0.4942,  0.8412,  0.4725,  0.2039,\n",
              "          -0.2711, -0.2042,  0.1138,  0.3410]), tensor([0.3331])),\n",
              " (tensor([ 0.0390, -0.2105, -0.0376,  0.4942,  0.8412,  0.4725,  0.2039, -0.2711,\n",
              "          -0.2042,  0.1138,  0.3410,  0.3331]), tensor([0.0742])),\n",
              " (tensor([-0.2105, -0.0376,  0.4942,  0.8412,  0.4725,  0.2039, -0.2711, -0.2042,\n",
              "           0.1138,  0.3410,  0.3331,  0.0742]), tensor([-0.1952])),\n",
              " (tensor([-0.0376,  0.4942,  0.8412,  0.4725,  0.2039, -0.2711, -0.2042,  0.1138,\n",
              "           0.3410,  0.3331,  0.0742, -0.1952]), tensor([0.0315])),\n",
              " (tensor([ 0.4942,  0.8412,  0.4725,  0.2039, -0.2711, -0.2042,  0.1138,  0.3410,\n",
              "           0.3331,  0.0742, -0.1952,  0.0315]), tensor([0.3522])),\n",
              " (tensor([ 0.8412,  0.4725,  0.2039, -0.2711, -0.2042,  0.1138,  0.3410,  0.3331,\n",
              "           0.0742, -0.1952,  0.0315,  0.3522]), tensor([0.7083])),\n",
              " (tensor([ 0.4725,  0.2039, -0.2711, -0.2042,  0.1138,  0.3410,  0.3331,  0.0742,\n",
              "          -0.1952,  0.0315,  0.3522,  0.7083]), tensor([0.5850])),\n",
              " (tensor([ 0.2039, -0.2711, -0.2042,  0.1138,  0.3410,  0.3331,  0.0742, -0.1952,\n",
              "           0.0315,  0.3522,  0.7083,  0.5850]), tensor([0.1911])),\n",
              " (tensor([-0.2711, -0.2042,  0.1138,  0.3410,  0.3331,  0.0742, -0.1952,  0.0315,\n",
              "           0.3522,  0.7083,  0.5850,  0.1911]), tensor([-0.2922])),\n",
              " (tensor([-0.2042,  0.1138,  0.3410,  0.3331,  0.0742, -0.1952,  0.0315,  0.3522,\n",
              "           0.7083,  0.5850,  0.1911, -0.2922]), tensor([-0.2421])),\n",
              " (tensor([ 0.1138,  0.3410,  0.3331,  0.0742, -0.1952,  0.0315,  0.3522,  0.7083,\n",
              "           0.5850,  0.1911, -0.2922, -0.2421]), tensor([0.1542])),\n",
              " (tensor([ 0.3410,  0.3331,  0.0742, -0.1952,  0.0315,  0.3522,  0.7083,  0.5850,\n",
              "           0.1911, -0.2922, -0.2421,  0.1542]), tensor([0.4499])),\n",
              " (tensor([ 0.3331,  0.0742, -0.1952,  0.0315,  0.3522,  0.7083,  0.5850,  0.1911,\n",
              "          -0.2922, -0.2421,  0.1542,  0.4499]), tensor([0.4103])),\n",
              " (tensor([ 0.0742, -0.1952,  0.0315,  0.3522,  0.7083,  0.5850,  0.1911, -0.2922,\n",
              "          -0.2421,  0.1542,  0.4499,  0.4103]), tensor([0.1189])),\n",
              " (tensor([-0.1952,  0.0315,  0.3522,  0.7083,  0.5850,  0.1911, -0.2922, -0.2421,\n",
              "           0.1542,  0.4499,  0.4103,  0.1189]), tensor([-0.2325])),\n",
              " (tensor([ 0.0315,  0.3522,  0.7083,  0.5850,  0.1911, -0.2922, -0.2421,  0.1542,\n",
              "           0.4499,  0.4103,  0.1189, -0.2325]), tensor([-0.1928])),\n",
              " (tensor([ 0.3522,  0.7083,  0.5850,  0.1911, -0.2922, -0.2421,  0.1542,  0.4499,\n",
              "           0.4103,  0.1189, -0.2325, -0.1928]), tensor([0.1359])),\n",
              " (tensor([ 0.7083,  0.5850,  0.1911, -0.2922, -0.2421,  0.1542,  0.4499,  0.4103,\n",
              "           0.1189, -0.2325, -0.1928,  0.1359]), tensor([0.6095])),\n",
              " (tensor([ 0.5850,  0.1911, -0.2922, -0.2421,  0.1542,  0.4499,  0.4103,  0.1189,\n",
              "          -0.2325, -0.1928,  0.1359,  0.6095]), tensor([0.2542])),\n",
              " (tensor([ 0.1911, -0.2922, -0.2421,  0.1542,  0.4499,  0.4103,  0.1189, -0.2325,\n",
              "          -0.1928,  0.1359,  0.6095,  0.2542]), tensor([-0.1271])),\n",
              " (tensor([-0.2922, -0.2421,  0.1542,  0.4499,  0.4103,  0.1189, -0.2325, -0.1928,\n",
              "           0.1359,  0.6095,  0.2542, -0.1271]), tensor([-0.3244])),\n",
              " (tensor([-0.2421,  0.1542,  0.4499,  0.4103,  0.1189, -0.2325, -0.1928,  0.1359,\n",
              "           0.6095,  0.2542, -0.1271, -0.3244]), tensor([-0.2819])),\n",
              " (tensor([ 0.1542,  0.4499,  0.4103,  0.1189, -0.2325, -0.1928,  0.1359,  0.6095,\n",
              "           0.2542, -0.1271, -0.3244, -0.2819]), tensor([0.1717])),\n",
              " (tensor([ 0.4499,  0.4103,  0.1189, -0.2325, -0.1928,  0.1359,  0.6095,  0.2542,\n",
              "          -0.1271, -0.3244, -0.2819,  0.1717]), tensor([0.5218])),\n",
              " (tensor([ 0.4103,  0.1189, -0.2325, -0.1928,  0.1359,  0.6095,  0.2542, -0.1271,\n",
              "          -0.3244, -0.2819,  0.1717,  0.5218]), tensor([0.5643])),\n",
              " (tensor([ 0.1189, -0.2325, -0.1928,  0.1359,  0.6095,  0.2542, -0.1271, -0.3244,\n",
              "          -0.2819,  0.1717,  0.5218,  0.5643]), tensor([0.1332])),\n",
              " (tensor([-0.2325, -0.1928,  0.1359,  0.6095,  0.2542, -0.1271, -0.3244, -0.2819,\n",
              "           0.1717,  0.5218,  0.5643,  0.1332]), tensor([-0.2370])),\n",
              " (tensor([-0.1928,  0.1359,  0.6095,  0.2542, -0.1271, -0.3244, -0.2819,  0.1717,\n",
              "           0.5218,  0.5643,  0.1332, -0.2370]), tensor([-0.1801])),\n",
              " (tensor([ 0.1359,  0.6095,  0.2542, -0.1271, -0.3244, -0.2819,  0.1717,  0.5218,\n",
              "           0.5643,  0.1332, -0.2370, -0.1801]), tensor([0.5162])),\n",
              " (tensor([ 0.6095,  0.2542, -0.1271, -0.3244, -0.2819,  0.1717,  0.5218,  0.5643,\n",
              "           0.1332, -0.2370, -0.1801,  0.5162]), tensor([0.5959])),\n",
              " (tensor([ 0.2542, -0.1271, -0.3244, -0.2819,  0.1717,  0.5218,  0.5643,  0.1332,\n",
              "          -0.2370, -0.1801,  0.5162,  0.5959]), tensor([0.0454])),\n",
              " (tensor([-0.1271, -0.3244, -0.2819,  0.1717,  0.5218,  0.5643,  0.1332, -0.2370,\n",
              "          -0.1801,  0.5162,  0.5959,  0.0454]), tensor([0.0931])),\n",
              " (tensor([-0.3244, -0.2819,  0.1717,  0.5218,  0.5643,  0.1332, -0.2370, -0.1801,\n",
              "           0.5162,  0.5959,  0.0454,  0.0931]), tensor([-0.3610])),\n",
              " (tensor([-0.2819,  0.1717,  0.5218,  0.5643,  0.1332, -0.2370, -0.1801,  0.5162,\n",
              "           0.5959,  0.0454,  0.0931, -0.3610]), tensor([-0.2530])),\n",
              " (tensor([ 0.1717,  0.5218,  0.5643,  0.1332, -0.2370, -0.1801,  0.5162,  0.5959,\n",
              "           0.0454,  0.0931, -0.3610, -0.2530]), tensor([0.0747])),\n",
              " (tensor([ 0.5218,  0.5643,  0.1332, -0.2370, -0.1801,  0.5162,  0.5959,  0.0454,\n",
              "           0.0931, -0.3610, -0.2530,  0.0747]), tensor([0.4256])),\n",
              " (tensor([ 0.5643,  0.1332, -0.2370, -0.1801,  0.5162,  0.5959,  0.0454,  0.0931,\n",
              "          -0.3610, -0.2530,  0.0747,  0.4256]), tensor([0.3126])),\n",
              " (tensor([ 0.1332, -0.2370, -0.1801,  0.5162,  0.5959,  0.0454,  0.0931, -0.3610,\n",
              "          -0.2530,  0.0747,  0.4256,  0.3126]), tensor([-0.0345])),\n",
              " (tensor([-0.2370, -0.1801,  0.5162,  0.5959,  0.0454,  0.0931, -0.3610, -0.2530,\n",
              "           0.0747,  0.4256,  0.3126, -0.0345]), tensor([-0.1898])),\n",
              " (tensor([-0.1801,  0.5162,  0.5959,  0.0454,  0.0931, -0.3610, -0.2530,  0.0747,\n",
              "           0.4256,  0.3126, -0.0345, -0.1898]), tensor([-0.0137])),\n",
              " (tensor([ 0.5162,  0.5959,  0.0454,  0.0931, -0.3610, -0.2530,  0.0747,  0.4256,\n",
              "           0.3126, -0.0345, -0.1898, -0.0137]), tensor([0.6207])),\n",
              " (tensor([ 0.5959,  0.0454,  0.0931, -0.3610, -0.2530,  0.0747,  0.4256,  0.3126,\n",
              "          -0.0345, -0.1898, -0.0137,  0.6207]), tensor([1.]))]"
            ]
          },
          "metadata": {
            "tags": []
          },
          "execution_count": 40
        }
      ]
    },
    {
      "cell_type": "markdown",
      "metadata": {
        "id": "Ggfp9SzRaKMM",
        "colab_type": "text"
      },
      "source": [
        "### 9. Evaluate the model using the test set\n",
        "Be sure to re-initialize the hidden parameters $h_0$ and $c_0$ before running the model."
      ]
    },
    {
      "cell_type": "code",
      "metadata": {
        "id": "vjMPf9VxaKMN",
        "colab_type": "code",
        "colab": {}
      },
      "source": [
        "future = 12\n",
        "preds = train_norm[-window_size:].tolist()\n",
        "\n",
        "model.eval()\n",
        "\n",
        "for i in range(future):\n",
        "  seq = torch.FloatTensor(preds[-window_size:])\n",
        "  with torch.no_grad():\n",
        "\n",
        "    model.hidden = (torch.zeros(1,1,model.hidden_size),torch.zeros(1,1,model.hidden_size))\n",
        "\n",
        "    preds.append(model(seq).item()) "
      ],
      "execution_count": 41,
      "outputs": []
    },
    {
      "cell_type": "code",
      "metadata": {
        "id": "Qt8dLIN8aKMP",
        "colab_type": "code",
        "colab": {
          "base_uri": "https://localhost:8080/",
          "height": 235
        },
        "outputId": "a836bf5c-28ca-451d-e448-0e1a6f844337"
      },
      "source": [
        "# Run the code below to check your results:\n",
        "preds[window_size:]"
      ],
      "execution_count": 42,
      "outputs": [
        {
          "output_type": "execute_result",
          "data": {
            "text/plain": [
              "[0.2540278434753418,\n",
              " -0.002775155007839203,\n",
              " -0.34294819831848145,\n",
              " -0.21167579293251038,\n",
              " 0.23918873071670532,\n",
              " 0.48914825916290283,\n",
              " 0.24707987904548645,\n",
              " -0.08662215620279312,\n",
              " -0.25781765580177307,\n",
              " 0.02258601039648056,\n",
              " 0.5441880822181702,\n",
              " 0.6110795736312866]"
            ]
          },
          "metadata": {
            "tags": []
          },
          "execution_count": 42
        }
      ]
    },
    {
      "cell_type": "markdown",
      "metadata": {
        "id": "3v5195Z9aKMU",
        "colab_type": "text"
      },
      "source": [
        "## 10. Inverse transform the predicted values\n",
        "Rescale the predicted values up to the original test set range."
      ]
    },
    {
      "cell_type": "code",
      "metadata": {
        "id": "tKFegzr6aKMU",
        "colab_type": "code",
        "colab": {}
      },
      "source": [
        "\n",
        "true_predictions = scaler.inverse_transform(np.array(preds[window_size:]).reshape(-1,1))"
      ],
      "execution_count": 43,
      "outputs": []
    },
    {
      "cell_type": "code",
      "metadata": {
        "id": "ktG7TPkWaKMX",
        "colab_type": "code",
        "colab": {
          "base_uri": "https://localhost:8080/",
          "height": 235
        },
        "outputId": "36fa7dd4-b087-42e5-cd0a-a1283b24be1c"
      },
      "source": [
        "\n",
        "true_predictions"
      ],
      "execution_count": 44,
      "outputs": [
        {
          "output_type": "execute_result",
          "data": {
            "text/plain": [
              "array([[105.95763959],\n",
              "       [ 98.05722374],\n",
              "       [ 87.59197015],\n",
              "       [ 91.63050007],\n",
              "       [105.50112171],\n",
              "       [113.19100162],\n",
              "       [105.74388894],\n",
              "       [ 95.47771268],\n",
              "       [ 90.21096873],\n",
              "       [ 98.83744732],\n",
              "       [114.88427426],\n",
              "       [116.94215754]])"
            ]
          },
          "metadata": {
            "tags": []
          },
          "execution_count": 44
        }
      ]
    },
    {
      "cell_type": "markdown",
      "metadata": {
        "id": "A0m9eoTvaKMb",
        "colab_type": "text"
      },
      "source": [
        "## BONUS EXERCISE: Plot the result\n",
        "Plot the true_predictions values together with the original data. Remember to create a range of datetime values for the predicted data."
      ]
    },
    {
      "cell_type": "code",
      "metadata": {
        "id": "Yf3yjncAaKMd",
        "colab_type": "code",
        "colab": {}
      },
      "source": [
        "df.index\n",
        "x = np.arange('2018-02-01','2019-02-01',dtype='datetime64[M]')"
      ],
      "execution_count": 46,
      "outputs": []
    },
    {
      "cell_type": "code",
      "metadata": {
        "id": "48A3wXfroNGt",
        "colab_type": "code",
        "colab": {
          "base_uri": "https://localhost:8080/",
          "height": 72
        },
        "outputId": "eb017832-6b0c-4e7b-b64b-de6428568684"
      },
      "source": [
        "x"
      ],
      "execution_count": 47,
      "outputs": [
        {
          "output_type": "execute_result",
          "data": {
            "text/plain": [
              "array(['2018-02', '2018-03', '2018-04', '2018-05', '2018-06', '2018-07',\n",
              "       '2018-08', '2018-09', '2018-10', '2018-11', '2018-12', '2019-01'],\n",
              "      dtype='datetime64[M]')"
            ]
          },
          "metadata": {
            "tags": []
          },
          "execution_count": 47
        }
      ]
    },
    {
      "cell_type": "code",
      "metadata": {
        "id": "3DG6OLGiaKMf",
        "colab_type": "code",
        "colab": {
          "base_uri": "https://localhost:8080/",
          "height": 281
        },
        "outputId": "a604aae1-2877-4660-95aa-928696e14b62"
      },
      "source": [
        "plt.figure(figsize=(12,4))\n",
        "plt.title('Industrial Production Index for Electricity and Gas Utilities')\n",
        "plt.ylabel('Index 2012=100, Not Seasonally Adjusted')\n",
        "plt.grid(True)\n",
        "plt.autoscale(axis='x',tight=True)\n",
        "plt.plot(df['IPG2211A2N'])\n",
        "plt.plot(x,true_predictions)\n",
        "plt.show()"
      ],
      "execution_count": 50,
      "outputs": [
        {
          "output_type": "display_data",
          "data": {
            "image/png": "[encoded data removed]",
            "text/plain": [
              "<Figure size 864x288 with 1 Axes>"
            ]
          },
          "metadata": {
            "tags": [],
            "needs_background": "light"
          }
        }
      ]
    },
    {
      "cell_type": "code",
      "metadata": {
        "id": "MKa07sofaKMk",
        "colab_type": "code",
        "colab": {
          "base_uri": "https://localhost:8080/",
          "height": 265
        },
        "outputId": "70be1d86-952d-4718-abbc-2d60affe2efe"
      },
      "source": [
        "plt.plot(df['IPG2211A2N']['2017-01-01':])\n",
        "plt.plot(x,true_predictions)\n",
        "plt.autoscale(axis='x',tight=True)\n",
        "plt.show()"
      ],
      "execution_count": 52,
      "outputs": [
        {
          "output_type": "display_data",
          "data": {
            "image/png": "[encoded data removed]",
            "text/plain": [
              "<Figure size 432x288 with 1 Axes>"
            ]
          },
          "metadata": {
            "tags": [],
            "needs_background": "light"
          }
        }
      ]
    }
  ]
}